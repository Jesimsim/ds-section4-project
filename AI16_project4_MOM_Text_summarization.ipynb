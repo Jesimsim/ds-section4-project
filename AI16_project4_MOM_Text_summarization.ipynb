{
  "cells": [
    {
      "cell_type": "markdown",
      "source": [
        "#  회의록 요약문 생성 모델\n",
        "\n",
        "- TextRank와 KoBART 모델을 사용하여 녹취된 회의록에 대한 요약문을 생성하는 Text Summarization Project입니다.\n"
      ],
      "metadata": {
        "id": "P-7Mk_YiNiGx"
      }
    },
    {
      "cell_type": "markdown",
      "source": [
        "## **0. Package**\n",
        "- Package_processing : kss(문장분리기)\n",
        "- Package_TextRank : lovit/Textrank\n",
        "- c.f. KoBART 패키지는 하단"
      ],
      "metadata": {
        "id": "5j0Xi7kFIMso"
      }
    },
    {
      "cell_type": "markdown",
      "source": [
        "### **Package_processing**"
      ],
      "metadata": {
        "id": "qCcU1ZsbbYOa"
      }
    },
    {
      "cell_type": "code",
      "source": [
        "# Install kss to preprocess (Sentence seperation) #5분\n",
        "!pip install kss"
      ],
      "metadata": {
        "id": "mS3wlsr4y0Ux"
      },
      "execution_count": null,
      "outputs": []
    },
    {
      "cell_type": "markdown",
      "source": [
        "### **Package_TextRank**"
      ],
      "metadata": {
        "id": "Dp1ozapaYsI5"
      }
    },
    {
      "cell_type": "code",
      "source": [
        "# Install a Package for TextRank\n",
        "!pip install konlpy\n",
        "!pip install git+https://github.com/lovit/textrank.git\n",
        "\n",
        "!git clone https://github.com/lovit/textrank.git"
      ],
      "metadata": {
        "id": "YNQy2_qVy1J3"
      },
      "execution_count": null,
      "outputs": []
    },
    {
      "cell_type": "markdown",
      "source": [
        "## **1. Data Load & Processing**"
      ],
      "metadata": {
        "id": "z29DaKigD2pw"
      }
    },
    {
      "cell_type": "code",
      "source": [
        "# Connect Google Drive to Colab\n",
        "from google.colab import drive\n",
        "drive.mount('/content/drive')\n",
        "%cd /content/drive/MyDrive/project4/RawData"
      ],
      "metadata": {
        "id": "hgYzbKjLuuTf",
        "colab": {
          "base_uri": "https://localhost:8080/"
        },
        "outputId": "90c0fd28-0ba9-42d2-8a4b-c3b36f2212f2"
      },
      "execution_count": null,
      "outputs": [
        {
          "output_type": "stream",
          "name": "stdout",
          "text": [
            "Drive already mounted at /content/drive; to attempt to forcibly remount, call drive.mount(\"/content/drive\", force_remount=True).\n",
            "/content/drive/MyDrive/project4/RawData\n"
          ]
        }
      ]
    },
    {
      "cell_type": "code",
      "execution_count": null,
      "metadata": {
        "id": "wa1lHDCY7p06"
      },
      "outputs": [],
      "source": [
        "import json\n",
        "\n",
        "with open(\"train.json\", \"r\") as st_json:\n",
        "    sents = json.load(st_json)"
      ]
    },
    {
      "cell_type": "markdown",
      "source": [
        "#### **Data info**"
      ],
      "metadata": {
        "id": "xhbwUFG7aHW8"
      }
    },
    {
      "cell_type": "code",
      "execution_count": null,
      "metadata": {
        "colab": {
          "base_uri": "https://localhost:8080/"
        },
        "id": "w9H_nbSP8mgP",
        "outputId": "336aba00-8078-4717-ef12-f372b5c816da"
      },
      "outputs": [
        {
          "output_type": "execute_result",
          "data": {
            "text/plain": [
              "{'id': 1000,\n",
              " 'title': '제207회 완주군의회(임시회) 제 1 차 본회의회의록',\n",
              " 'region': '완주',\n",
              " 'num_agenda': 4,\n",
              " 'context': {'AGENDA_1': {'0': '의석을 정돈하여 주시기 바랍니다. 성원이 되었으므로 제207회 완주군의회 임시회 제1차 본회의 개의를 선포합니다. 먼저 의사팀장으로부터 의회 관련 사항에 대한 보고가 있겠습니다. 의사팀장은 보고하여 주시기 바랍니다.',\n",
              "   '1': '의사팀장 이은미 입니다. 의회관련 사항을 보고 드리겠습니다. 먼저 제207회 완주군의회 임시회 소집경위를 보고 드리겠습니다. 지방자치법 제45조 제2항의 규정에 의거 서남용 의원님 외 4인의 의원님으로부터 임시회 집회 요구가 있어 지난 8월6일 집회 공고를 하고 오늘 집회를 갖게 되었습니다. 다음은 의안접수 및 회부사항입니다. 먼저 의원발의 안건입니다. 완주군의회 의원 의정활동비등 지급에 관한 조례 일부개정 조례안, 완주군 향토문화유산 보호 및 관리 조례안, 완주군 싸움소 육성 지원에 관한 조례안 등 총 3건으로, 해당 상임의원회로 회부 하였습니다. 다음은 완주군수로부터 제출된 안건입니다. 삼례문화예술촌 설치 및 운영조례 일부개정 조례안 등 총 40건으로 해당 상임의원회로 회부하였습니다. 자세한 내용은 배부해 드린 유인물을 참조하여 주시기 바랍니다. 이상 보고를 마치겠습니다.'},\n",
              "  'AGENDA_2': {'0': '의사팀장 수고하셨습니다. 먼저 의사일정 제1항 제207회 완주군의회 임시회 회기 결정의 건을 상정합니다. 제207회 완주군의회 임시회 회기 결정의 건에 대하여는 서남용 의원님 외 4인의 의원님이 발의한대로 8월 26일부터 9월 4일까지 10일간의 회기를 결정하고자 합니다. 의원 여러분 이의 있으십니까?',\n",
              "   '1': '(『없습니다』하는 의원 있음)',\n",
              "   '2': '이의가 없으므로 가결되었음을 선포합니다.'},\n",
              "  'AGENDA_3': {'0': '다음은 의사일정 제2항 제207회 완주군의회 임시회 회의록 서명의원 선출의 건을 상정합니다. 회의록 서명의원으로는 최등원 의원님과 박웅배 의원님을 선출하고자 하는데 의원여러분 이의 있습니까?',\n",
              "   '1': '(『없습니다』하는 의원 있음)',\n",
              "   '2': '이의가 없으므로 가결되었음을 선포합니다. 그럼 두 분 의원님께서는 본 회기동안 수고하여 주시기 바랍니다.'},\n",
              "  'AGENDA_4': {'0': '다음은 의사일정 제3항 본회의 휴회의 건을 상정합니다. 상임의원회 의정활동을 위하여 8월 27일부터 9월 3일까지 8일간 본회를 휴회 하고자 합니다. 의원여러분 이의 있으십니까?',\n",
              "   '1': '(『없습니다』하는 의원 있음)',\n",
              "   '2': '이의가 없으므로 가결되었음을 선포합니다. 이상으로 제207회 완주군의회 임시회 제1차 본회의를 마치겠습니다. 다음 제2차 본회의는 9월 4일 오전 10시에 개의하겠습니다. 의원여러분 수고 많으셨습니다. 산회를 선포합니다.'}},\n",
              " 'label': {'AGENDA_1': {'evidence': {'0': ['의석을 정돈하여 주시기 바랍니다.',\n",
              "     '성원이 되었으므로 제207회 완주군의회 임시회 제1차 본회의 개의를 선포합니다.']},\n",
              "   'summary': '제207회 완주군의회 임시회 제1차 본회의 개의 선포.'},\n",
              "  'AGENDA_2': {'evidence': {'0': ['먼저 의사일정 제1항 제207회 완주군의회 임시회 회기 결정의 건을 상정합니다.',\n",
              "     '제207회 완주군의회 임시회 회기 결정의 건에 대하여는 서남용 의원님 외 4인의 의원님이 발의한대로 8월 26일부터 9월 4일까지 10일간의 회기를 결정하고자 합니다.',\n",
              "     '의원 여러분 이의 있으십니까?'],\n",
              "    '2': ['이의가 없으므로 가결되었음을 선포합니다.']},\n",
              "   'summary': '제207회 완주군의회 임시회 회기는 8월 26일부터 9월 4일까지 10일간으로 가결됨.'},\n",
              "  'AGENDA_3': {'evidence': {'0': ['다음은 의사일정 제2항 제207회 완주군의회 임시회 회의록 서명의원 선출의 건을 상정합니다.',\n",
              "     '회의록 서명의원으로는 최등원 의원님과 박웅배 의원님을 선출하고자 하는데 의원여러분 이의 있습니까?'],\n",
              "    '2': ['이의가 없으므로 가결되었음을 선포합니다.']},\n",
              "   'summary': '제207회 완주군의회 임시회 회의록 서명의원으로 최등원 의원과 박웅배 의원이 선출됨.'},\n",
              "  'AGENDA_4': {'evidence': {'0': ['다음은 의사일정 제3항 본회의 휴회의 건을 상정합니다.',\n",
              "     '상임의원회 의정활동을 위하여 8월 27일부터 9월 3일까지 8일간 본회를 휴회 하고자 합니다.',\n",
              "     '의원여러분 이의 있으십니까?'],\n",
              "    '2': ['이의가 없으므로 가결되었음을 선포합니다.', '다음 제2차 본회의는 9월 4일 오전 10시에 개의하겠습니다.']},\n",
              "   'summary': '8월 27일부터 9월 3일까지 8일간 휴회가 가결됨. 제2차 본회의는 9월 4일 오전 10시에 개의.'}}}"
            ]
          },
          "metadata": {},
          "execution_count": 3
        }
      ],
      "source": [
        "# See the Data\n",
        "sents[0]"
      ]
    },
    {
      "cell_type": "code",
      "source": [
        "# Total\n",
        "len(sents)"
      ],
      "metadata": {
        "colab": {
          "base_uri": "https://localhost:8080/"
        },
        "id": "KrS2u29REI6q",
        "outputId": "fcdaaa07-29bc-4b9d-87f4-3fc7139714f2"
      },
      "execution_count": null,
      "outputs": [
        {
          "output_type": "execute_result",
          "data": {
            "text/plain": [
              "463"
            ]
          },
          "metadata": {},
          "execution_count": 5
        }
      ]
    },
    {
      "cell_type": "code",
      "source": [
        "# Data Format\n",
        "sents[0]['context']['AGENDA_1'].values()"
      ],
      "metadata": {
        "colab": {
          "base_uri": "https://localhost:8080/"
        },
        "id": "0In7f4sTE6ON",
        "outputId": "483a4b97-adf8-466b-9b52-7ce579c62e7e"
      },
      "execution_count": null,
      "outputs": [
        {
          "output_type": "execute_result",
          "data": {
            "text/plain": [
              "dict_values(['의석을 정돈하여 주시기 바랍니다. 성원이 되었으므로 제207회 완주군의회 임시회 제1차 본회의 개의를 선포합니다. 먼저 의사팀장으로부터 의회 관련 사항에 대한 보고가 있겠습니다. 의사팀장은 보고하여 주시기 바랍니다.', '의사팀장 이은미 입니다. 의회관련 사항을 보고 드리겠습니다. 먼저 제207회 완주군의회 임시회 소집경위를 보고 드리겠습니다. 지방자치법 제45조 제2항의 규정에 의거 서남용 의원님 외 4인의 의원님으로부터 임시회 집회 요구가 있어 지난 8월6일 집회 공고를 하고 오늘 집회를 갖게 되었습니다. 다음은 의안접수 및 회부사항입니다. 먼저 의원발의 안건입니다. 완주군의회 의원 의정활동비등 지급에 관한 조례 일부개정 조례안, 완주군 향토문화유산 보호 및 관리 조례안, 완주군 싸움소 육성 지원에 관한 조례안 등 총 3건으로, 해당 상임의원회로 회부 하였습니다. 다음은 완주군수로부터 제출된 안건입니다. 삼례문화예술촌 설치 및 운영조례 일부개정 조례안 등 총 40건으로 해당 상임의원회로 회부하였습니다. 자세한 내용은 배부해 드린 유인물을 참조하여 주시기 바랍니다. 이상 보고를 마치겠습니다.'])"
            ]
          },
          "metadata": {},
          "execution_count": 8
        }
      ]
    },
    {
      "cell_type": "markdown",
      "source": [
        "#### **Data Preprocessing**"
      ],
      "metadata": {
        "id": "UHsahG6FaKYP"
      }
    },
    {
      "cell_type": "code",
      "source": [
        "# Load the Data\n",
        "import pandas as pd\n",
        "\n",
        "df = pd.DataFrame(columns=['id','agenda','text', 'label']) #7초\n",
        "\n",
        "for i in range(len(sents)):\n",
        "  id = sents[i]['id']\n",
        "  agenda = list(sents[i]['context'].keys())\n",
        "  for j in agenda:\n",
        "    text = list(sents[i]['context'][j].values())\n",
        "    label = sents[i]['label'][j]['summary']\n",
        "    df = df.append({'id':id, 'agenda':j, 'text':text, 'label':label}, ignore_index=True)"
      ],
      "metadata": {
        "id": "f09NIuxNENYk"
      },
      "execution_count": null,
      "outputs": []
    },
    {
      "cell_type": "code",
      "source": [
        "df.tail()"
      ],
      "metadata": {
        "colab": {
          "base_uri": "https://localhost:8080/",
          "height": 337
        },
        "id": "neZAKNBtFpK_",
        "outputId": "dbc71888-6b99-419d-913f-1a96e88b9b24"
      },
      "execution_count": null,
      "outputs": [
        {
          "output_type": "execute_result",
          "data": {
            "text/plain": [
              "        id     agenda                                               text  \\\n",
              "2989  1462   AGENDA_6  [회계과장입니다. 회계과 소관 2020년도 주요 현안사업을 보고드리겠습니다. 보고드...   \n",
              "2990  1462   AGENDA_7  [민원과장 김후식입니다. 민원과 소관 2020년도 주요 현안사업 추진상황을 보고드리...   \n",
              "2991  1462   AGENDA_8  [경제과장 박세덕입니다. 경제과 2020년 주요 현안사업에 대하여 보고드리겠습니다....   \n",
              "2992  1462   AGENDA_9  [농정과장 김기연입니다. 농정과 소관 2020년도 하반기 주요 현안사업을 보고드리겠...   \n",
              "2993  1462  AGENDA_10  [축산식품과장 송요성입니다. 축산식품과 소관 2020년도 군정주요 현안사업을 보고드...   \n",
              "\n",
              "                                                  label  \n",
              "2989  음성읍행정복지센터 앞에 사유지 매입은 필요한 사업이기에 예산을 다시 반영해서라도 매...  \n",
              "2990  공공시설물 전산화 작업시에 사유시설과 같이 협력해서 처리할 수 있도록 할 것. 지적...  \n",
              "2991  용계리 지역의 땅꺼짐 현상에 대해 군 차원의 대처를 위한 고민을 해줄 것. 생극면 ...  \n",
              "2992  음성군에서 생산된 쌀이 진천으로 수매하는 현상이 발생하고 있는데 음성군 브랜드를 활...  \n",
              "2993  현재 저조한 길고양이 중성화사업에 적극행정을 취해줄 것. 친환경 로컬푸드 매장 조성...  "
            ],
            "text/html": [
              "\n",
              "  <div id=\"df-69bfb44b-8bb8-4d0f-92cf-6b373a295309\">\n",
              "    <div class=\"colab-df-container\">\n",
              "      <div>\n",
              "<style scoped>\n",
              "    .dataframe tbody tr th:only-of-type {\n",
              "        vertical-align: middle;\n",
              "    }\n",
              "\n",
              "    .dataframe tbody tr th {\n",
              "        vertical-align: top;\n",
              "    }\n",
              "\n",
              "    .dataframe thead th {\n",
              "        text-align: right;\n",
              "    }\n",
              "</style>\n",
              "<table border=\"1\" class=\"dataframe\">\n",
              "  <thead>\n",
              "    <tr style=\"text-align: right;\">\n",
              "      <th></th>\n",
              "      <th>id</th>\n",
              "      <th>agenda</th>\n",
              "      <th>text</th>\n",
              "      <th>label</th>\n",
              "    </tr>\n",
              "  </thead>\n",
              "  <tbody>\n",
              "    <tr>\n",
              "      <th>2989</th>\n",
              "      <td>1462</td>\n",
              "      <td>AGENDA_6</td>\n",
              "      <td>[회계과장입니다. 회계과 소관 2020년도 주요 현안사업을 보고드리겠습니다. 보고드...</td>\n",
              "      <td>음성읍행정복지센터 앞에 사유지 매입은 필요한 사업이기에 예산을 다시 반영해서라도 매...</td>\n",
              "    </tr>\n",
              "    <tr>\n",
              "      <th>2990</th>\n",
              "      <td>1462</td>\n",
              "      <td>AGENDA_7</td>\n",
              "      <td>[민원과장 김후식입니다. 민원과 소관 2020년도 주요 현안사업 추진상황을 보고드리...</td>\n",
              "      <td>공공시설물 전산화 작업시에 사유시설과 같이 협력해서 처리할 수 있도록 할 것. 지적...</td>\n",
              "    </tr>\n",
              "    <tr>\n",
              "      <th>2991</th>\n",
              "      <td>1462</td>\n",
              "      <td>AGENDA_8</td>\n",
              "      <td>[경제과장 박세덕입니다. 경제과 2020년 주요 현안사업에 대하여 보고드리겠습니다....</td>\n",
              "      <td>용계리 지역의 땅꺼짐 현상에 대해 군 차원의 대처를 위한 고민을 해줄 것. 생극면 ...</td>\n",
              "    </tr>\n",
              "    <tr>\n",
              "      <th>2992</th>\n",
              "      <td>1462</td>\n",
              "      <td>AGENDA_9</td>\n",
              "      <td>[농정과장 김기연입니다. 농정과 소관 2020년도 하반기 주요 현안사업을 보고드리겠...</td>\n",
              "      <td>음성군에서 생산된 쌀이 진천으로 수매하는 현상이 발생하고 있는데 음성군 브랜드를 활...</td>\n",
              "    </tr>\n",
              "    <tr>\n",
              "      <th>2993</th>\n",
              "      <td>1462</td>\n",
              "      <td>AGENDA_10</td>\n",
              "      <td>[축산식품과장 송요성입니다. 축산식품과 소관 2020년도 군정주요 현안사업을 보고드...</td>\n",
              "      <td>현재 저조한 길고양이 중성화사업에 적극행정을 취해줄 것. 친환경 로컬푸드 매장 조성...</td>\n",
              "    </tr>\n",
              "  </tbody>\n",
              "</table>\n",
              "</div>\n",
              "      <button class=\"colab-df-convert\" onclick=\"convertToInteractive('df-69bfb44b-8bb8-4d0f-92cf-6b373a295309')\"\n",
              "              title=\"Convert this dataframe to an interactive table.\"\n",
              "              style=\"display:none;\">\n",
              "        \n",
              "  <svg xmlns=\"http://www.w3.org/2000/svg\" height=\"24px\"viewBox=\"0 0 24 24\"\n",
              "       width=\"24px\">\n",
              "    <path d=\"M0 0h24v24H0V0z\" fill=\"none\"/>\n",
              "    <path d=\"M18.56 5.44l.94 2.06.94-2.06 2.06-.94-2.06-.94-.94-2.06-.94 2.06-2.06.94zm-11 1L8.5 8.5l.94-2.06 2.06-.94-2.06-.94L8.5 2.5l-.94 2.06-2.06.94zm10 10l.94 2.06.94-2.06 2.06-.94-2.06-.94-.94-2.06-.94 2.06-2.06.94z\"/><path d=\"M17.41 7.96l-1.37-1.37c-.4-.4-.92-.59-1.43-.59-.52 0-1.04.2-1.43.59L10.3 9.45l-7.72 7.72c-.78.78-.78 2.05 0 2.83L4 21.41c.39.39.9.59 1.41.59.51 0 1.02-.2 1.41-.59l7.78-7.78 2.81-2.81c.8-.78.8-2.07 0-2.86zM5.41 20L4 18.59l7.72-7.72 1.47 1.35L5.41 20z\"/>\n",
              "  </svg>\n",
              "      </button>\n",
              "      \n",
              "  <style>\n",
              "    .colab-df-container {\n",
              "      display:flex;\n",
              "      flex-wrap:wrap;\n",
              "      gap: 12px;\n",
              "    }\n",
              "\n",
              "    .colab-df-convert {\n",
              "      background-color: #E8F0FE;\n",
              "      border: none;\n",
              "      border-radius: 50%;\n",
              "      cursor: pointer;\n",
              "      display: none;\n",
              "      fill: #1967D2;\n",
              "      height: 32px;\n",
              "      padding: 0 0 0 0;\n",
              "      width: 32px;\n",
              "    }\n",
              "\n",
              "    .colab-df-convert:hover {\n",
              "      background-color: #E2EBFA;\n",
              "      box-shadow: 0px 1px 2px rgba(60, 64, 67, 0.3), 0px 1px 3px 1px rgba(60, 64, 67, 0.15);\n",
              "      fill: #174EA6;\n",
              "    }\n",
              "\n",
              "    [theme=dark] .colab-df-convert {\n",
              "      background-color: #3B4455;\n",
              "      fill: #D2E3FC;\n",
              "    }\n",
              "\n",
              "    [theme=dark] .colab-df-convert:hover {\n",
              "      background-color: #434B5C;\n",
              "      box-shadow: 0px 1px 3px 1px rgba(0, 0, 0, 0.15);\n",
              "      filter: drop-shadow(0px 1px 2px rgba(0, 0, 0, 0.3));\n",
              "      fill: #FFFFFF;\n",
              "    }\n",
              "  </style>\n",
              "\n",
              "      <script>\n",
              "        const buttonEl =\n",
              "          document.querySelector('#df-69bfb44b-8bb8-4d0f-92cf-6b373a295309 button.colab-df-convert');\n",
              "        buttonEl.style.display =\n",
              "          google.colab.kernel.accessAllowed ? 'block' : 'none';\n",
              "\n",
              "        async function convertToInteractive(key) {\n",
              "          const element = document.querySelector('#df-69bfb44b-8bb8-4d0f-92cf-6b373a295309');\n",
              "          const dataTable =\n",
              "            await google.colab.kernel.invokeFunction('convertToInteractive',\n",
              "                                                     [key], {});\n",
              "          if (!dataTable) return;\n",
              "\n",
              "          const docLinkHtml = 'Like what you see? Visit the ' +\n",
              "            '<a target=\"_blank\" href=https://colab.research.google.com/notebooks/data_table.ipynb>data table notebook</a>'\n",
              "            + ' to learn more about interactive tables.';\n",
              "          element.innerHTML = '';\n",
              "          dataTable['output_type'] = 'display_data';\n",
              "          await google.colab.output.renderOutput(dataTable, element);\n",
              "          const docLink = document.createElement('div');\n",
              "          docLink.innerHTML = docLinkHtml;\n",
              "          element.appendChild(docLink);\n",
              "        }\n",
              "      </script>\n",
              "    </div>\n",
              "  </div>\n",
              "  "
            ]
          },
          "metadata": {},
          "execution_count": 69
        }
      ]
    },
    {
      "cell_type": "code",
      "source": [
        "df.text[0]"
      ],
      "metadata": {
        "colab": {
          "base_uri": "https://localhost:8080/"
        },
        "id": "rDs5jHkSch5j",
        "outputId": "7c18a124-e59b-43fb-da45-d3498b84ce51"
      },
      "execution_count": null,
      "outputs": [
        {
          "output_type": "execute_result",
          "data": {
            "text/plain": [
              "['의석을 정돈하여 주시기 바랍니다. 성원이 되었으므로 제207회 완주군의회 임시회 제1차 본회의 개의를 선포합니다. 먼저 의사팀장으로부터 의회 관련 사항에 대한 보고가 있겠습니다. 의사팀장은 보고하여 주시기 바랍니다.',\n",
              " '의사팀장 이은미 입니다. 의회관련 사항을 보고 드리겠습니다. 먼저 제207회 완주군의회 임시회 소집경위를 보고 드리겠습니다. 지방자치법 제45조 제2항의 규정에 의거 서남용 의원님 외 4인의 의원님으로부터 임시회 집회 요구가 있어 지난 8월6일 집회 공고를 하고 오늘 집회를 갖게 되었습니다. 다음은 의안접수 및 회부사항입니다. 먼저 의원발의 안건입니다. 완주군의회 의원 의정활동비등 지급에 관한 조례 일부개정 조례안, 완주군 향토문화유산 보호 및 관리 조례안, 완주군 싸움소 육성 지원에 관한 조례안 등 총 3건으로, 해당 상임의원회로 회부 하였습니다. 다음은 완주군수로부터 제출된 안건입니다. 삼례문화예술촌 설치 및 운영조례 일부개정 조례안 등 총 40건으로 해당 상임의원회로 회부하였습니다. 자세한 내용은 배부해 드린 유인물을 참조하여 주시기 바랍니다. 이상 보고를 마치겠습니다.']"
            ]
          },
          "metadata": {},
          "execution_count": 104
        }
      ]
    },
    {
      "cell_type": "code",
      "source": [
        "# Preprocess for KoBART / Concat the Sentences\n",
        "def concatsentence(lst):\n",
        "  text = str()\n",
        "  for i in range(len(lst)):\n",
        "    text_add = lst[i].replace('.','. ')\n",
        "    text = text + text_add\n",
        "  return text\n",
        "\n",
        "df['text_concat'] = df.text.apply(concatsentence)\n",
        "df['text_concat'] = df['text_concat'].replace('  ',' ')"
      ],
      "metadata": {
        "id": "DVm3z_bcTWdh"
      },
      "execution_count": null,
      "outputs": []
    },
    {
      "cell_type": "code",
      "source": [
        "# Preprocess for TextRank / Split the Sentences\n",
        "from kss import split_sentences\n",
        "\n",
        "def splitsentence(text): #5분\n",
        "  lst_split = []\n",
        "  for sent in split_sentences(text):\n",
        "    lst_split.append(str(sent))\n",
        "  return lst_split\n",
        "\n",
        "df['text_split'] = df['text_concat'].apply(splitsentence)\n"
      ],
      "metadata": {
        "id": "34InTbHKarKr",
        "colab": {
          "base_uri": "https://localhost:8080/"
        },
        "outputId": "b55c36be-7a7c-445e-a4f0-678bc54be89c"
      },
      "execution_count": null,
      "outputs": [
        {
          "output_type": "stream",
          "name": "stderr",
          "text": [
            "WARNING:root:Oh! You have mecab in your environment. Kss will take this as a backend! :D\n",
            "\n"
          ]
        }
      ]
    },
    {
      "cell_type": "code",
      "source": [
        "# Check the Text Length of Labels\n",
        "df['len_label'] = df['label'].apply(lambda x:len(x))"
      ],
      "metadata": {
        "id": "u4bwg1mRXElA"
      },
      "execution_count": null,
      "outputs": []
    },
    {
      "cell_type": "code",
      "source": [
        "# Check the Text Lengh of Texts\n",
        "df.describe()"
      ],
      "metadata": {
        "colab": {
          "base_uri": "https://localhost:8080/",
          "height": 300
        },
        "id": "S0ar8aKqX2JT",
        "outputId": "67d91e0b-6e9b-4c3c-c19f-329c4065102a"
      },
      "execution_count": null,
      "outputs": [
        {
          "output_type": "execute_result",
          "data": {
            "text/plain": [
              "         len_label\n",
              "count  2994.000000\n",
              "mean     81.472612\n",
              "std      68.617648\n",
              "min       7.000000\n",
              "25%      34.000000\n",
              "50%      51.000000\n",
              "75%     114.000000\n",
              "max     742.000000"
            ],
            "text/html": [
              "\n",
              "  <div id=\"df-5c2ec12f-c6fb-4692-ba96-79e349bbe5fd\">\n",
              "    <div class=\"colab-df-container\">\n",
              "      <div>\n",
              "<style scoped>\n",
              "    .dataframe tbody tr th:only-of-type {\n",
              "        vertical-align: middle;\n",
              "    }\n",
              "\n",
              "    .dataframe tbody tr th {\n",
              "        vertical-align: top;\n",
              "    }\n",
              "\n",
              "    .dataframe thead th {\n",
              "        text-align: right;\n",
              "    }\n",
              "</style>\n",
              "<table border=\"1\" class=\"dataframe\">\n",
              "  <thead>\n",
              "    <tr style=\"text-align: right;\">\n",
              "      <th></th>\n",
              "      <th>len_label</th>\n",
              "    </tr>\n",
              "  </thead>\n",
              "  <tbody>\n",
              "    <tr>\n",
              "      <th>count</th>\n",
              "      <td>2994.000000</td>\n",
              "    </tr>\n",
              "    <tr>\n",
              "      <th>mean</th>\n",
              "      <td>81.472612</td>\n",
              "    </tr>\n",
              "    <tr>\n",
              "      <th>std</th>\n",
              "      <td>68.617648</td>\n",
              "    </tr>\n",
              "    <tr>\n",
              "      <th>min</th>\n",
              "      <td>7.000000</td>\n",
              "    </tr>\n",
              "    <tr>\n",
              "      <th>25%</th>\n",
              "      <td>34.000000</td>\n",
              "    </tr>\n",
              "    <tr>\n",
              "      <th>50%</th>\n",
              "      <td>51.000000</td>\n",
              "    </tr>\n",
              "    <tr>\n",
              "      <th>75%</th>\n",
              "      <td>114.000000</td>\n",
              "    </tr>\n",
              "    <tr>\n",
              "      <th>max</th>\n",
              "      <td>742.000000</td>\n",
              "    </tr>\n",
              "  </tbody>\n",
              "</table>\n",
              "</div>\n",
              "      <button class=\"colab-df-convert\" onclick=\"convertToInteractive('df-5c2ec12f-c6fb-4692-ba96-79e349bbe5fd')\"\n",
              "              title=\"Convert this dataframe to an interactive table.\"\n",
              "              style=\"display:none;\">\n",
              "        \n",
              "  <svg xmlns=\"http://www.w3.org/2000/svg\" height=\"24px\"viewBox=\"0 0 24 24\"\n",
              "       width=\"24px\">\n",
              "    <path d=\"M0 0h24v24H0V0z\" fill=\"none\"/>\n",
              "    <path d=\"M18.56 5.44l.94 2.06.94-2.06 2.06-.94-2.06-.94-.94-2.06-.94 2.06-2.06.94zm-11 1L8.5 8.5l.94-2.06 2.06-.94-2.06-.94L8.5 2.5l-.94 2.06-2.06.94zm10 10l.94 2.06.94-2.06 2.06-.94-2.06-.94-.94-2.06-.94 2.06-2.06.94z\"/><path d=\"M17.41 7.96l-1.37-1.37c-.4-.4-.92-.59-1.43-.59-.52 0-1.04.2-1.43.59L10.3 9.45l-7.72 7.72c-.78.78-.78 2.05 0 2.83L4 21.41c.39.39.9.59 1.41.59.51 0 1.02-.2 1.41-.59l7.78-7.78 2.81-2.81c.8-.78.8-2.07 0-2.86zM5.41 20L4 18.59l7.72-7.72 1.47 1.35L5.41 20z\"/>\n",
              "  </svg>\n",
              "      </button>\n",
              "      \n",
              "  <style>\n",
              "    .colab-df-container {\n",
              "      display:flex;\n",
              "      flex-wrap:wrap;\n",
              "      gap: 12px;\n",
              "    }\n",
              "\n",
              "    .colab-df-convert {\n",
              "      background-color: #E8F0FE;\n",
              "      border: none;\n",
              "      border-radius: 50%;\n",
              "      cursor: pointer;\n",
              "      display: none;\n",
              "      fill: #1967D2;\n",
              "      height: 32px;\n",
              "      padding: 0 0 0 0;\n",
              "      width: 32px;\n",
              "    }\n",
              "\n",
              "    .colab-df-convert:hover {\n",
              "      background-color: #E2EBFA;\n",
              "      box-shadow: 0px 1px 2px rgba(60, 64, 67, 0.3), 0px 1px 3px 1px rgba(60, 64, 67, 0.15);\n",
              "      fill: #174EA6;\n",
              "    }\n",
              "\n",
              "    [theme=dark] .colab-df-convert {\n",
              "      background-color: #3B4455;\n",
              "      fill: #D2E3FC;\n",
              "    }\n",
              "\n",
              "    [theme=dark] .colab-df-convert:hover {\n",
              "      background-color: #434B5C;\n",
              "      box-shadow: 0px 1px 3px 1px rgba(0, 0, 0, 0.15);\n",
              "      filter: drop-shadow(0px 1px 2px rgba(0, 0, 0, 0.3));\n",
              "      fill: #FFFFFF;\n",
              "    }\n",
              "  </style>\n",
              "\n",
              "      <script>\n",
              "        const buttonEl =\n",
              "          document.querySelector('#df-5c2ec12f-c6fb-4692-ba96-79e349bbe5fd button.colab-df-convert');\n",
              "        buttonEl.style.display =\n",
              "          google.colab.kernel.accessAllowed ? 'block' : 'none';\n",
              "\n",
              "        async function convertToInteractive(key) {\n",
              "          const element = document.querySelector('#df-5c2ec12f-c6fb-4692-ba96-79e349bbe5fd');\n",
              "          const dataTable =\n",
              "            await google.colab.kernel.invokeFunction('convertToInteractive',\n",
              "                                                     [key], {});\n",
              "          if (!dataTable) return;\n",
              "\n",
              "          const docLinkHtml = 'Like what you see? Visit the ' +\n",
              "            '<a target=\"_blank\" href=https://colab.research.google.com/notebooks/data_table.ipynb>data table notebook</a>'\n",
              "            + ' to learn more about interactive tables.';\n",
              "          element.innerHTML = '';\n",
              "          dataTable['output_type'] = 'display_data';\n",
              "          await google.colab.output.renderOutput(dataTable, element);\n",
              "          const docLink = document.createElement('div');\n",
              "          docLink.innerHTML = docLinkHtml;\n",
              "          element.appendChild(docLink);\n",
              "        }\n",
              "      </script>\n",
              "    </div>\n",
              "  </div>\n",
              "  "
            ]
          },
          "metadata": {},
          "execution_count": 10
        }
      ]
    },
    {
      "cell_type": "code",
      "source": [
        "# Too Short of Too Long\n",
        "df[df['len_label'] < 15]['label']\n",
        "df[df['len_label'] > 500]['label'][1326]"
      ],
      "metadata": {
        "colab": {
          "base_uri": "https://localhost:8080/",
          "height": 109
        },
        "id": "QA-q9meVYa1c",
        "outputId": "b463ca6e-e3a8-4011-bf50-91f1299c539c"
      },
      "execution_count": null,
      "outputs": [
        {
          "output_type": "execute_result",
          "data": {
            "text/plain": [
              "'경제환경위원회 김태수 의원이 충북도가 실제로는 15조 원의 투자 유치임에도 반도체 클러스터 투자 발표 기자회견 등을 통해 50조 원의 투자를 유치했다고 과대포장한 사실을 지적함. 도시건설위원회 홍성각 의원이 시민들의 무작위 무기명 설문조사를 통해 철거 의견을 묻고, 3분의 2 이상의 철거 의견이 있을 시에는 시장과 문화재청장 간의 대담을 통해 시청 본관 존치를 위한 결론을 재고할 것을 요구함. 농업정책위원회 전규식 의원이 도농복합도시로서 도농 교류 활성화를 위한 도농상생팀과 농촌동의 적극적인 업무 추진 등 체계적인 농업행정 시행을 위한 농촌동 산업팀을 신설하고 적정 수준의 인력을 배치할 것을 요청함. 복지교육위원회 최충진 의원이 시의 청소년정책이 학교 밖, 가정 밖 청소년의 보호 정책에서 나아가 교육지원청 등을 비롯한 다양한 기관 및 단체와 연계하여 능동적이고 종합적인 정책이 되어야 함을 요구함. 김성택 의원이 사회적 갈등 해소를 위하여 일정 규모 이상의 허가민원을 이해관계자들에게 사전에 예고하는 허가민원 사전예고제 실시와 관련 조례 제정, 제정 이전까지의 행정지침 마련 및 시행을 촉구함.'"
            ],
            "application/vnd.google.colaboratory.intrinsic+json": {
              "type": "string"
            }
          },
          "metadata": {},
          "execution_count": 11
        }
      ]
    },
    {
      "cell_type": "code",
      "source": [
        "# Remove Too Short of Too Long\n",
        "df = df[(df['len_label'] > 15) & (df['len_label'] < 500)]\n",
        "\n",
        "# Remove typo\n",
        "df.loc[1597, 'text_split'][7] = df.loc[1597, 'text_split'][7].replace('\\U000f0850','')"
      ],
      "metadata": {
        "id": "gwg2H_5EY4-S"
      },
      "execution_count": null,
      "outputs": []
    },
    {
      "cell_type": "code",
      "source": [
        "# Save Preprocessing\n",
        "df.to_csv('original.csv', encoding='utf-8')"
      ],
      "metadata": {
        "id": "d9IU5Ff-YZy6"
      },
      "execution_count": null,
      "outputs": []
    },
    {
      "cell_type": "markdown",
      "source": [
        "## **2. Text Summarization**"
      ],
      "metadata": {
        "id": "yZRrzlgvEAaL"
      }
    },
    {
      "cell_type": "markdown",
      "source": [
        "### TextRank(추출적 요약)\n",
        "- 문장 단위로 중요도를 scoring한 후, 이를 기반으로 선택하고 조합하여 summary하는 비지도학습\n",
        "- 문장을 핵심적으로 정리하는 뉴스기사, 소논문 등의 요약 task에 적합\n",
        "\n",
        "### KoBART(추상적 요약)\n",
        "- 원문을 기반으로 하되, 새로운 텍스트를 생성해내는 NLG natural language generation 방식(지도학습)으로, Transformer/BERT 등이 해당\n",
        "- **BART** Bidirectional and Auto-Regressive Transformers : 현 Text Summarization 분야의 SOTA 모델, 입력 텍스트 일부에 노이즈를 추가 text Infiling 하여 이를 다시 원문으로 복구하는 autoencoder 형태로 학습하는 구조\n",
        "- **KoBART** BART모델에 한국어 텍스트를 학습시킨 한국어 autoencoder 모델\n"
      ],
      "metadata": {
        "id": "8kwvK3ER1PNE"
      }
    },
    {
      "cell_type": "markdown",
      "source": [
        "Ref)\n",
        "- https://github.com/uoneway/Text-Summarization-Repo Text summarization task에 사용되는 모델 및 알고리즘\n",
        "- https://lovit.github.io/nlp/2019/04/30/textrank/ TextRank 알고리즘의 사용법 및 한계\n",
        "- https://ebbnflow.tistory.com/292 TextRank 알고리즘 실제 구현과정\n",
        "- https://github.com/SKT-AI/KoBART SKT-AI/KoBART 가이드\n",
        "- https://huggingface.co/gogamza/kobart-base-v1/blob/main/README.md Huggingface Tokenizer for KoBART"
      ],
      "metadata": {
        "id": "X-AATJKroR-p"
      }
    },
    {
      "cell_type": "code",
      "execution_count": null,
      "metadata": {
        "colab": {
          "base_uri": "https://localhost:8080/"
        },
        "id": "4z9EvdsP7aKp",
        "outputId": "d8670c86-c544-46d9-bd32-155663238b5f"
      },
      "outputs": [
        {
          "output_type": "stream",
          "name": "stdout",
          "text": [
            "Drive already mounted at /content/drive; to attempt to forcibly remount, call drive.mount(\"/content/drive\", force_remount=True).\n",
            "/content/drive/MyDrive/project4/RawData\n"
          ]
        }
      ],
      "source": [
        "# from google.colab import drive\n",
        "# drive.mount('/content/drive')\n",
        "# %cd /content/drive/MyDrive/project4/RawData"
      ]
    },
    {
      "cell_type": "code",
      "source": [
        "# Load the Data(after preprocess)\n",
        "import pandas as pd\n",
        "df = pd.read_csv('original.csv', encoding='utf-8', index_col=0)"
      ],
      "metadata": {
        "id": "q5ZzkOrWazx6"
      },
      "execution_count": null,
      "outputs": []
    },
    {
      "cell_type": "code",
      "source": [
        "# Split the Data\n",
        "from sklearn.model_selection import train_test_split\n",
        "\n",
        "train, test = train_test_split(df, random_state=42)\n",
        "train, val = train_test_split(train, random_state=42)\n",
        "train.shape, val.shape, test.shape"
      ],
      "metadata": {
        "colab": {
          "base_uri": "https://localhost:8080/"
        },
        "id": "FexpI1cHVZ3E",
        "outputId": "61d91375-1f69-4206-fa0a-92ceed36ab9f"
      },
      "execution_count": null,
      "outputs": [
        {
          "output_type": "execute_result",
          "data": {
            "text/plain": [
              "((1674, 7), (559, 7), (745, 7))"
            ]
          },
          "metadata": {},
          "execution_count": 96
        }
      ]
    },
    {
      "cell_type": "code",
      "source": [
        "train.head()\n",
        "\n",
        "# id 각 회의의 고유번호\n",
        "# agenda 각 회의에서 진행된 안건의 고유번호\n",
        "# text 발화내용 / 화자별\n",
        "# text_concat 발화내용 / 총합\n",
        "# text_split 발화내용 / 문장별\n",
        "# label 요약문(target)\n",
        "# len_label 요약문의 글자 수"
      ],
      "metadata": {
        "colab": {
          "base_uri": "https://localhost:8080/",
          "height": 476
        },
        "id": "Al0rJXc-canz",
        "outputId": "544c440f-6666-417c-e4c9-66cdd610dcb7"
      },
      "execution_count": null,
      "outputs": [
        {
          "output_type": "execute_result",
          "data": {
            "text/plain": [
              "        id    agenda                                               text  \\\n",
              "2749  1423  AGENDA_3  ['의사일정 제2항, 회의록 서명의원 선출의 건을 상정합니다.', '제188회 음성...   \n",
              "898   1148  AGENDA_5  ['의사일정 제3항, 밥쌀용 쌀 수입 반대 결의안을 상정합니다.', '대표발의하신 ...   \n",
              "1366  1216  AGENDA_5  ['의사일정 제4항, 음성군 지방공무원 정원조례 일부개정조례안, 의사일정 제5항, ...   \n",
              "1927  1304  AGENDA_4  ['의사일정 제3항, 2006년도 제2회 세입·세출 추가경정예산안 및 2006년도 ...   \n",
              "1177  1190  AGENDA_9  ['산림녹지과장입니다. 2018년도 행정사무감사 시 시정ㆍ건의사항에 대한 조치결과 ...   \n",
              "\n",
              "                                                  label  \\\n",
              "2749          제188회 임시회 회의록 서명의원으로 반광홍 의원, 정태완 의원이 선출됨.   \n",
              "898   밥쌀용 쌀 수입 반대 결의안은 정부가 밥쌀용 쌀 3만 톤을 미국과 중국에서 수입하기...   \n",
              "1366  음성군 지방공무원 정원조례 일부개정조례안은 전문위원의 직급과 정수 기준이 개정되어 ...   \n",
              "1927  2006년도 제2회 세입, 세출 추가경정예산안 및 2006년도 기금운용계획변경계획안...   \n",
              "1177  만세기념비 등이 있는 오류리 공원의 화장실을 관리하여 주민들이 실제로 이용할 수 있...   \n",
              "\n",
              "                                            text_concat  \\\n",
              "2749  의사일정 제2항, 회의록 서명의원 선출의 건을 상정합니다. 제188회 음성군의회 임...   \n",
              "898   의사일정 제3항, 밥쌀용 쌀 수입 반대 결의안을 상정합니다. 대표발의하신 이상정 의...   \n",
              "1366  의사일정 제4항, 음성군 지방공무원 정원조례 일부개정조례안, 의사일정 제5항, 음성...   \n",
              "1927  의사일정 제3항, 2006년도 제2회 세입·세출 추가경정예산안 및 2006년도 기금...   \n",
              "1177  산림녹지과장입니다.  2018년도 행정사무감사 시 시정ㆍ건의사항에 대한 조치결과 및...   \n",
              "\n",
              "                                             text_split  len_label  \n",
              "2749  ['의사일정 제2항, 회의록 서명의원 선출의 건을 상정합니다.', '제188회 음성...         41  \n",
              "898   ['의사일정 제3항, 밥쌀용 쌀 수입 반대 결의안을 상정합니다.', '대표발의하신 ...         89  \n",
              "1366  ['의사일정 제4항, 음성군 지방공무원 정원조례 일부개정조례안, 의사일정 제5항, ...        240  \n",
              "1927  ['의사일정 제3항, 2006년도 제2회 세입·세출 추가경정예산안 및 2006년도 ...         52  \n",
              "1177  ['산림녹지과장입니다.', '2018년도 행정사무감사 시 시정ㆍ건의사항에 대한 조치...         55  "
            ],
            "text/html": [
              "\n",
              "  <div id=\"df-a7e723ae-4fd6-4613-91e4-3e0057e41020\">\n",
              "    <div class=\"colab-df-container\">\n",
              "      <div>\n",
              "<style scoped>\n",
              "    .dataframe tbody tr th:only-of-type {\n",
              "        vertical-align: middle;\n",
              "    }\n",
              "\n",
              "    .dataframe tbody tr th {\n",
              "        vertical-align: top;\n",
              "    }\n",
              "\n",
              "    .dataframe thead th {\n",
              "        text-align: right;\n",
              "    }\n",
              "</style>\n",
              "<table border=\"1\" class=\"dataframe\">\n",
              "  <thead>\n",
              "    <tr style=\"text-align: right;\">\n",
              "      <th></th>\n",
              "      <th>id</th>\n",
              "      <th>agenda</th>\n",
              "      <th>text</th>\n",
              "      <th>label</th>\n",
              "      <th>text_concat</th>\n",
              "      <th>text_split</th>\n",
              "      <th>len_label</th>\n",
              "    </tr>\n",
              "  </thead>\n",
              "  <tbody>\n",
              "    <tr>\n",
              "      <th>2749</th>\n",
              "      <td>1423</td>\n",
              "      <td>AGENDA_3</td>\n",
              "      <td>['의사일정 제2항, 회의록 서명의원 선출의 건을 상정합니다.', '제188회 음성...</td>\n",
              "      <td>제188회 임시회 회의록 서명의원으로 반광홍 의원, 정태완 의원이 선출됨.</td>\n",
              "      <td>의사일정 제2항, 회의록 서명의원 선출의 건을 상정합니다. 제188회 음성군의회 임...</td>\n",
              "      <td>['의사일정 제2항, 회의록 서명의원 선출의 건을 상정합니다.', '제188회 음성...</td>\n",
              "      <td>41</td>\n",
              "    </tr>\n",
              "    <tr>\n",
              "      <th>898</th>\n",
              "      <td>1148</td>\n",
              "      <td>AGENDA_5</td>\n",
              "      <td>['의사일정 제3항, 밥쌀용 쌀 수입 반대 결의안을 상정합니다.', '대표발의하신 ...</td>\n",
              "      <td>밥쌀용 쌀 수입 반대 결의안은 정부가 밥쌀용 쌀 3만 톤을 미국과 중국에서 수입하기...</td>\n",
              "      <td>의사일정 제3항, 밥쌀용 쌀 수입 반대 결의안을 상정합니다. 대표발의하신 이상정 의...</td>\n",
              "      <td>['의사일정 제3항, 밥쌀용 쌀 수입 반대 결의안을 상정합니다.', '대표발의하신 ...</td>\n",
              "      <td>89</td>\n",
              "    </tr>\n",
              "    <tr>\n",
              "      <th>1366</th>\n",
              "      <td>1216</td>\n",
              "      <td>AGENDA_5</td>\n",
              "      <td>['의사일정 제4항, 음성군 지방공무원 정원조례 일부개정조례안, 의사일정 제5항, ...</td>\n",
              "      <td>음성군 지방공무원 정원조례 일부개정조례안은 전문위원의 직급과 정수 기준이 개정되어 ...</td>\n",
              "      <td>의사일정 제4항, 음성군 지방공무원 정원조례 일부개정조례안, 의사일정 제5항, 음성...</td>\n",
              "      <td>['의사일정 제4항, 음성군 지방공무원 정원조례 일부개정조례안, 의사일정 제5항, ...</td>\n",
              "      <td>240</td>\n",
              "    </tr>\n",
              "    <tr>\n",
              "      <th>1927</th>\n",
              "      <td>1304</td>\n",
              "      <td>AGENDA_4</td>\n",
              "      <td>['의사일정 제3항, 2006년도 제2회 세입·세출 추가경정예산안 및 2006년도 ...</td>\n",
              "      <td>2006년도 제2회 세입, 세출 추가경정예산안 및 2006년도 기금운용계획변경계획안...</td>\n",
              "      <td>의사일정 제3항, 2006년도 제2회 세입·세출 추가경정예산안 및 2006년도 기금...</td>\n",
              "      <td>['의사일정 제3항, 2006년도 제2회 세입·세출 추가경정예산안 및 2006년도 ...</td>\n",
              "      <td>52</td>\n",
              "    </tr>\n",
              "    <tr>\n",
              "      <th>1177</th>\n",
              "      <td>1190</td>\n",
              "      <td>AGENDA_9</td>\n",
              "      <td>['산림녹지과장입니다. 2018년도 행정사무감사 시 시정ㆍ건의사항에 대한 조치결과 ...</td>\n",
              "      <td>만세기념비 등이 있는 오류리 공원의 화장실을 관리하여 주민들이 실제로 이용할 수 있...</td>\n",
              "      <td>산림녹지과장입니다.  2018년도 행정사무감사 시 시정ㆍ건의사항에 대한 조치결과 및...</td>\n",
              "      <td>['산림녹지과장입니다.', '2018년도 행정사무감사 시 시정ㆍ건의사항에 대한 조치...</td>\n",
              "      <td>55</td>\n",
              "    </tr>\n",
              "  </tbody>\n",
              "</table>\n",
              "</div>\n",
              "      <button class=\"colab-df-convert\" onclick=\"convertToInteractive('df-a7e723ae-4fd6-4613-91e4-3e0057e41020')\"\n",
              "              title=\"Convert this dataframe to an interactive table.\"\n",
              "              style=\"display:none;\">\n",
              "        \n",
              "  <svg xmlns=\"http://www.w3.org/2000/svg\" height=\"24px\"viewBox=\"0 0 24 24\"\n",
              "       width=\"24px\">\n",
              "    <path d=\"M0 0h24v24H0V0z\" fill=\"none\"/>\n",
              "    <path d=\"M18.56 5.44l.94 2.06.94-2.06 2.06-.94-2.06-.94-.94-2.06-.94 2.06-2.06.94zm-11 1L8.5 8.5l.94-2.06 2.06-.94-2.06-.94L8.5 2.5l-.94 2.06-2.06.94zm10 10l.94 2.06.94-2.06 2.06-.94-2.06-.94-.94-2.06-.94 2.06-2.06.94z\"/><path d=\"M17.41 7.96l-1.37-1.37c-.4-.4-.92-.59-1.43-.59-.52 0-1.04.2-1.43.59L10.3 9.45l-7.72 7.72c-.78.78-.78 2.05 0 2.83L4 21.41c.39.39.9.59 1.41.59.51 0 1.02-.2 1.41-.59l7.78-7.78 2.81-2.81c.8-.78.8-2.07 0-2.86zM5.41 20L4 18.59l7.72-7.72 1.47 1.35L5.41 20z\"/>\n",
              "  </svg>\n",
              "      </button>\n",
              "      \n",
              "  <style>\n",
              "    .colab-df-container {\n",
              "      display:flex;\n",
              "      flex-wrap:wrap;\n",
              "      gap: 12px;\n",
              "    }\n",
              "\n",
              "    .colab-df-convert {\n",
              "      background-color: #E8F0FE;\n",
              "      border: none;\n",
              "      border-radius: 50%;\n",
              "      cursor: pointer;\n",
              "      display: none;\n",
              "      fill: #1967D2;\n",
              "      height: 32px;\n",
              "      padding: 0 0 0 0;\n",
              "      width: 32px;\n",
              "    }\n",
              "\n",
              "    .colab-df-convert:hover {\n",
              "      background-color: #E2EBFA;\n",
              "      box-shadow: 0px 1px 2px rgba(60, 64, 67, 0.3), 0px 1px 3px 1px rgba(60, 64, 67, 0.15);\n",
              "      fill: #174EA6;\n",
              "    }\n",
              "\n",
              "    [theme=dark] .colab-df-convert {\n",
              "      background-color: #3B4455;\n",
              "      fill: #D2E3FC;\n",
              "    }\n",
              "\n",
              "    [theme=dark] .colab-df-convert:hover {\n",
              "      background-color: #434B5C;\n",
              "      box-shadow: 0px 1px 3px 1px rgba(0, 0, 0, 0.15);\n",
              "      filter: drop-shadow(0px 1px 2px rgba(0, 0, 0, 0.3));\n",
              "      fill: #FFFFFF;\n",
              "    }\n",
              "  </style>\n",
              "\n",
              "      <script>\n",
              "        const buttonEl =\n",
              "          document.querySelector('#df-a7e723ae-4fd6-4613-91e4-3e0057e41020 button.colab-df-convert');\n",
              "        buttonEl.style.display =\n",
              "          google.colab.kernel.accessAllowed ? 'block' : 'none';\n",
              "\n",
              "        async function convertToInteractive(key) {\n",
              "          const element = document.querySelector('#df-a7e723ae-4fd6-4613-91e4-3e0057e41020');\n",
              "          const dataTable =\n",
              "            await google.colab.kernel.invokeFunction('convertToInteractive',\n",
              "                                                     [key], {});\n",
              "          if (!dataTable) return;\n",
              "\n",
              "          const docLinkHtml = 'Like what you see? Visit the ' +\n",
              "            '<a target=\"_blank\" href=https://colab.research.google.com/notebooks/data_table.ipynb>data table notebook</a>'\n",
              "            + ' to learn more about interactive tables.';\n",
              "          element.innerHTML = '';\n",
              "          dataTable['output_type'] = 'display_data';\n",
              "          await google.colab.output.renderOutput(dataTable, element);\n",
              "          const docLink = document.createElement('div');\n",
              "          docLink.innerHTML = docLinkHtml;\n",
              "          element.appendChild(docLink);\n",
              "        }\n",
              "      </script>\n",
              "    </div>\n",
              "  </div>\n",
              "  "
            ]
          },
          "metadata": {},
          "execution_count": 5
        }
      ]
    },
    {
      "cell_type": "code",
      "source": [
        "# Format for KoBART\n",
        "df_train = train[['text_concat','label']]\n",
        "df_val = val[['text_concat','label']]\n",
        "df_test = test[['text_concat','label']]"
      ],
      "metadata": {
        "id": "zDiyvvpDdSJ8"
      },
      "execution_count": null,
      "outputs": []
    },
    {
      "cell_type": "markdown",
      "source": [
        "#### **TextRank**"
      ],
      "metadata": {
        "id": "VIDEEQ0vWyaZ"
      }
    },
    {
      "cell_type": "code",
      "execution_count": null,
      "metadata": {
        "id": "A7dpTJy87AWu",
        "colab": {
          "base_uri": "https://localhost:8080/"
        },
        "outputId": "4f89f127-7744-484f-fcb3-eefca8dddbc5"
      },
      "outputs": [
        {
          "output_type": "execute_result",
          "data": {
            "text/plain": [
              "[(0,\n",
              "  1.7010195551998453,\n",
              "  '오패산터널 총격전 용의자 검거 서울 연합뉴스 경찰 관계자들이 19일 오후 서울 강북구 오패산 터널 인근에서 사제 총기를 발사해 경찰을 살해한 용의자 성모씨를 검거하고 있다 성씨는 검거 당시 서바이벌 게임에서 쓰는 방탄조끼에 헬멧까지 착용한 상태였다'),\n",
              " (7,\n",
              "  1.4886043194936454,\n",
              "  '용의자 소지 사제총기 2정 서울 연합뉴스 임헌정 기자 서울 시내에서 폭행 용의자가 현장 조사를 벌이던 경찰관에게 사제총기를 발사해 경찰관이 숨졌다 19일 오후 6시28분 강북구 번동에서 둔기로 맞았다 는 폭행 피해 신고가 접수돼 현장에서 조사하던 강북경찰서 번동파출소 소속 김모 54 경위가 폭행 용의자 성모 45 씨가 쏜 사제총기에 맞고 쓰러진 뒤 병원에 옮겨졌으나 숨졌다 사진은 용의자가 소지한 사제총기'),\n",
              " (8,\n",
              "  1.4278590385659577,\n",
              "  '신고를 받고 번동파출소에서 김창호 54 경위 등 경찰들이 오후 6시 29분께 현장으로 출동했다 성씨는 그사이 부동산 앞에 놓아뒀던 가방을 챙겨 오패산 쪽으로 도망간 후였다')]"
            ]
          },
          "metadata": {},
          "execution_count": 100
        }
      ],
      "source": [
        "# TextRank\n",
        "## extractive approaches / 핵심문장 \"추출\" / 비지도학습\n",
        "## lovit textrank 모듈활용\n",
        "## 문장단위 나누기 전처리 필요\n",
        "\n",
        "from konlpy.tag import Komoran\n",
        "from textrank import KeysentenceSummarizer\n",
        "\n",
        "komoran = Komoran()\n",
        "def komoran_tokenizer(sent):\n",
        "    words = komoran.pos(sent, join=True)\n",
        "    words = [w for w in words if ('/NN' in w or '/XR' in w or '/VA' in w or '/VV' in w)]\n",
        "    return words\n",
        "\n",
        "summarizer = KeysentenceSummarizer(\n",
        "    tokenize = komoran_tokenizer,\n",
        "    min_sim = 0.3, #유사도 0.3이상일때\n",
        "    verbose = False\n",
        ")\n",
        "\n",
        "sents = [\n",
        "  '오패산터널 총격전 용의자 검거 서울 연합뉴스 경찰 관계자들이 19일 오후 서울 강북구 오패산 터널 인근에서 사제 총기를 발사해 경찰을 살해한 용의자 성모씨를 검거하고 있다 성씨는 검거 당시 서바이벌 게임에서 쓰는 방탄조끼에 헬멧까지 착용한 상태였다',\n",
        "  '서울 연합뉴스 김은경 기자 사제 총기로 경찰을 살해한 범인 성모 46 씨는 주도면밀했다',\n",
        "  '경찰에 따르면 성씨는 19일 오후 강북경찰서 인근 부동산 업소 밖에서 부동산업자 이모 67 씨가 나오기를 기다렸다 이씨와는 평소에도 말다툼을 자주 한 것으로 알려졌다',\n",
        "  '이씨가 나와 걷기 시작하자 성씨는 따라가면서 미리 준비해온 사제 총기를 이씨에게 발사했다 총알이 빗나가면서 이씨는 도망갔다 그 빗나간 총알은 지나가던 행인 71 씨의 배를 스쳤다',\n",
        "  '성씨는 강북서 인근 치킨집까지 이씨 뒤를 쫓으며 실랑이하다 쓰러뜨린 후 총기와 함께 가져온 망치로 이씨 머리를 때렸다',\n",
        "  '이 과정에서 오후 6시 20분께 강북구 번동 길 위에서 사람들이 싸우고 있다 총소리가 났다 는 등의 신고가 여러건 들어왔다',\n",
        "  '5분 후에 성씨의 전자발찌가 훼손됐다는 신고가 보호관찰소 시스템을 통해 들어왔다 성범죄자로 전자발찌를 차고 있던 성씨는 부엌칼로 직접 자신의 발찌를 끊었다',\n",
        "  '용의자 소지 사제총기 2정 서울 연합뉴스 임헌정 기자 서울 시내에서 폭행 용의자가 현장 조사를 벌이던 경찰관에게 사제총기를 발사해 경찰관이 숨졌다 19일 오후 6시28분 강북구 번동에서 둔기로 맞았다 는 폭행 피해 신고가 접수돼 현장에서 조사하던 강북경찰서 번동파출소 소속 김모 54 경위가 폭행 용의자 성모 45 씨가 쏜 사제총기에 맞고 쓰러진 뒤 병원에 옮겨졌으나 숨졌다 사진은 용의자가 소지한 사제총기',\n",
        "  '신고를 받고 번동파출소에서 김창호 54 경위 등 경찰들이 오후 6시 29분께 현장으로 출동했다 성씨는 그사이 부동산 앞에 놓아뒀던 가방을 챙겨 오패산 쪽으로 도망간 후였다',\n",
        "  '김 경위는 오패산 터널 입구 오른쪽의 급경사에서 성씨에게 접근하다가 오후 6시 33분께 풀숲에 숨은 성씨가 허공에 난사한 10여발의 총알 중 일부를 왼쪽 어깨 뒷부분에 맞고 쓰러졌다',\n",
        "  '김 경위는 구급차가 도착했을 때 이미 의식이 없었고 심폐소생술을 하며 병원으로 옮겨졌으나 총알이 폐를 훼손해 오후 7시 40분께 사망했다',\n",
        "  '김 경위는 외근용 조끼를 입고 있었으나 총알을 막기에는 역부족이었다',\n",
        "  '머리에 부상을 입은 이씨도 함께 병원으로 이송됐으나 생명에는 지장이 없는 것으로 알려졌다',\n",
        "  '성씨는 오패산 터널 밑쪽 숲에서 오후 6시 45분께 잡혔다',\n",
        "  '총격현장 수색하는 경찰들 서울 연합뉴스 이효석 기자 19일 오후 서울 강북구 오패산 터널 인근에서 경찰들이 폭행 용의자가 사제총기를 발사해 경찰관이 사망한 사건을 조사 하고 있다',\n",
        "  '총 때문에 쫓던 경관들과 민간인들이 몸을 숨겼는데 인근 신발가게 직원 이모씨가 다가가 성씨를 덮쳤고 이어 현장에 있던 다른 상인들과 경찰이 가세해 체포했다',\n",
        "  '성씨는 경찰에 붙잡힌 직후 나 자살하려고 한 거다 맞아 죽어도 괜찮다 고 말한 것으로 전해졌다',\n",
        "  '성씨 자신도 경찰이 발사한 공포탄 1발 실탄 3발 중 실탄 1발을 배에 맞았으나 방탄조끼를 입은 상태여서 부상하지는 않았다',\n",
        "  '경찰은 인근을 수색해 성씨가 만든 사제총 16정과 칼 7개를 압수했다 실제 폭발할지는 알 수 없는 요구르트병에 무언가를 채워두고 심지를 꽂은 사제 폭탄도 발견됐다',\n",
        "  '일부는 숲에서 발견됐고 일부는 성씨가 소지한 가방 안에 있었다'\n",
        "]\n",
        "\n",
        "keysents = summarizer.summarize(sents, topk=3) #문장개수\n",
        "keysents"
      ]
    },
    {
      "cell_type": "markdown",
      "source": [
        "###### **TextRank용 전처리**"
      ],
      "metadata": {
        "id": "i0wVPOyeIAKn"
      }
    },
    {
      "cell_type": "code",
      "source": [
        "# Preprocess for TextRank\n",
        "test_textrank = test.copy()\n",
        "test_textrank['text_split'] = test_textrank['text_split'].apply(lambda x: x.replace('\\n','').replace('\\t','').replace('\\r',''))\n",
        "test_textrank['text_split'] = test_textrank['text_split'].apply(lambda x: x.replace('『','').replace('』','').replace('(','').replace(')','').replace('?','').replace('「','').replace('」',''))\n",
        "test_textrank['text_split'] = test_textrank['text_split'].apply(lambda x: x.replace('\\\\U000f0852','').replace('\\\\U000f0853','').replace('\\\\U000f0850','').replace('\\\\U000f0851',''))"
      ],
      "metadata": {
        "id": "lSbqzKI5zDXe"
      },
      "execution_count": null,
      "outputs": []
    },
    {
      "cell_type": "code",
      "source": [
        "type(test_textrank['text_split'][2420])"
      ],
      "metadata": {
        "colab": {
          "base_uri": "https://localhost:8080/"
        },
        "id": "Hu2VJPQ18_CR",
        "outputId": "66a70e6a-2ef0-4ce6-cb0b-ad2cdc00c8b4"
      },
      "execution_count": null,
      "outputs": [
        {
          "output_type": "execute_result",
          "data": {
            "text/plain": [
              "str"
            ]
          },
          "metadata": {},
          "execution_count": 104
        }
      ]
    },
    {
      "cell_type": "code",
      "source": [
        "%pwd"
      ],
      "metadata": {
        "colab": {
          "base_uri": "https://localhost:8080/",
          "height": 35
        },
        "id": "4QZXD9NH5BHA",
        "outputId": "52ad445f-fbb5-4135-bcb8-f04b888b056c"
      },
      "execution_count": null,
      "outputs": [
        {
          "output_type": "execute_result",
          "data": {
            "text/plain": [
              "'/content/drive/MyDrive/project4/RawData/KoBART-summarization'"
            ],
            "application/vnd.google.colaboratory.intrinsic+json": {
              "type": "string"
            }
          },
          "metadata": {},
          "execution_count": 72
        }
      ]
    },
    {
      "cell_type": "code",
      "source": [
        "# komoran = Komoran(userdic = './dict.txt') # userdic = './dict.txt')\n",
        "# content = test_textrank['text_split'][2420]\n",
        "# komoran.pos(content)"
      ],
      "metadata": {
        "id": "Vb0BQ_Zg1GKD"
      },
      "execution_count": null,
      "outputs": []
    },
    {
      "cell_type": "code",
      "source": [
        "# Apply TextRank Algorithm (Sample)\n",
        "import ast\n",
        "summarizer.summarize(ast.literal_eval(test_textrank['text_split'][2420]), topk=3)"
      ],
      "metadata": {
        "colab": {
          "base_uri": "https://localhost:8080/"
        },
        "id": "5XJ6lm784Le_",
        "outputId": "9667f8ce-967d-46bd-9ab2-f17c93d04e13"
      },
      "execution_count": null,
      "outputs": [
        {
          "output_type": "execute_result",
          "data": {
            "text/plain": [
              "[(1,\n",
              "  1.6682934603175785,\n",
              "  '당초 7월 3일 제2차 본회의시 상임위원회 위원 선임의 건과 상임위원장 선거를 4항과 5항으로 상정하여 처리하고자 하는데 의원여러분 이의 없으십니까'),\n",
              " (4, 0.948651844970584, '다음은 상임위원회위원 선임과 상임위원장 선거입니다만'),\n",
              " (3, 0.9438726586826501, '이의가 없으므로 가결되었음을 선포합니다.')]"
            ]
          },
          "metadata": {},
          "execution_count": 109
        }
      ]
    },
    {
      "cell_type": "code",
      "source": [
        "test.head()"
      ],
      "metadata": {
        "colab": {
          "base_uri": "https://localhost:8080/",
          "height": 337
        },
        "id": "yjEb1FXl5fRj",
        "outputId": "08237221-dd81-4ee7-8e01-ad4adc43ff71"
      },
      "execution_count": null,
      "outputs": [
        {
          "output_type": "execute_result",
          "data": {
            "text/plain": [
              "        id    agenda                                               text  \\\n",
              "2420  1377  AGENDA_4  ['의사일정 제3항 의사일정변경의 건을 상정합니다. 당초 7월 3일 제2차 본회의시...   \n",
              "2866  1444  AGENDA_4  ['의사일정 제3항, 음성군 지역치안협의회 조례 일부개정조례안을 상정합니다.', '...   \n",
              "1724  1272  AGENDA_5  ['다음은 지방자치법 제64조제2항과 회의규칙 제46조제1항의 규정에 의하여 제10...   \n",
              "1124  1183  AGENDA_4  ['다음은 의사일정 제3항 완주군의회 예산결산 특별위원회 구성 결의안을 상정합니다....   \n",
              "975   1157  AGENDA_3  ['다음은 의사일정 제2항 완주군 지방공무원정원 조례 일부개정조례안, 의사일정 제3...   \n",
              "\n",
              "                                                  label  \\\n",
              "2420  제2차 본회의에 상임위원회 위원 선임의 건과 상임위원장 선거를 상정하기로 함. 해당...   \n",
              "2866  음성군 지역치안협의회 조례 일부개정조례안은 지역치안협의회에 보조금 지원이 용이하도록...   \n",
              "1724    제102회 완주군의회 임시회 회의록 서명의원으로 박웅배 의원과 김순길 의원을 선임함.   \n",
              "1124  예산결산특별위원회위원은 의장을 제외한 9인으로 구성함. 특별위원회는 2012년 7월...   \n",
              "975   완주군 지방공무원정원 조례 일부개정조례안은 부동산 실거래가 신고제 등 토지관련 업무...   \n",
              "\n",
              "                                            text_concat  \\\n",
              "2420  의사일정 제3항 의사일정변경의 건을 상정합니다.  당초 7월 3일 제2차 본회의시 ...   \n",
              "2866  의사일정 제3항, 음성군 지역치안협의회 조례 일부개정조례안을 상정합니다. 행정과장님...   \n",
              "1724  다음은 지방자치법 제64조제2항과 회의규칙 제46조제1항의 규정에 의하여 제102회...   \n",
              "1124  다음은 의사일정 제3항 완주군의회 예산결산 특별위원회 구성 결의안을 상정합니다.  ...   \n",
              "975   다음은 의사일정 제2항 완주군 지방공무원정원 조례 일부개정조례안, 의사일정 제3항 ...   \n",
              "\n",
              "                                             text_split  len_label  \n",
              "2420  ['의사일정 제3항 의사일정변경의 건을 상정합니다.', '당초 7월 3일 제2차 본...         55  \n",
              "2866  ['의사일정 제3항, 음성군 지역치안협의회 조례 일부개정조례안을 상정합니다.', '...         78  \n",
              "1724  ['다음은 지방자치법 제64조제2항과 회의규칙 제46조제1항의 규정에 의하여 제10...         47  \n",
              "1124  ['다음은 의사일정 제3항 완주군의회 예산결산 특별위원회 구성 결의안을 상정합니다....        164  \n",
              "975   ['다음은 의사일정 제2항 완주군 지방공무원정원 조례 일부개정조례안, 의사일정 제3...        368  "
            ],
            "text/html": [
              "\n",
              "  <div id=\"df-654c51ef-df9f-426a-9df3-fcdda3ecef36\">\n",
              "    <div class=\"colab-df-container\">\n",
              "      <div>\n",
              "<style scoped>\n",
              "    .dataframe tbody tr th:only-of-type {\n",
              "        vertical-align: middle;\n",
              "    }\n",
              "\n",
              "    .dataframe tbody tr th {\n",
              "        vertical-align: top;\n",
              "    }\n",
              "\n",
              "    .dataframe thead th {\n",
              "        text-align: right;\n",
              "    }\n",
              "</style>\n",
              "<table border=\"1\" class=\"dataframe\">\n",
              "  <thead>\n",
              "    <tr style=\"text-align: right;\">\n",
              "      <th></th>\n",
              "      <th>id</th>\n",
              "      <th>agenda</th>\n",
              "      <th>text</th>\n",
              "      <th>label</th>\n",
              "      <th>text_concat</th>\n",
              "      <th>text_split</th>\n",
              "      <th>len_label</th>\n",
              "    </tr>\n",
              "  </thead>\n",
              "  <tbody>\n",
              "    <tr>\n",
              "      <th>2420</th>\n",
              "      <td>1377</td>\n",
              "      <td>AGENDA_4</td>\n",
              "      <td>['의사일정 제3항 의사일정변경의 건을 상정합니다. 당초 7월 3일 제2차 본회의시...</td>\n",
              "      <td>제2차 본회의에 상임위원회 위원 선임의 건과 상임위원장 선거를 상정하기로 함. 해당...</td>\n",
              "      <td>의사일정 제3항 의사일정변경의 건을 상정합니다.  당초 7월 3일 제2차 본회의시 ...</td>\n",
              "      <td>['의사일정 제3항 의사일정변경의 건을 상정합니다.', '당초 7월 3일 제2차 본...</td>\n",
              "      <td>55</td>\n",
              "    </tr>\n",
              "    <tr>\n",
              "      <th>2866</th>\n",
              "      <td>1444</td>\n",
              "      <td>AGENDA_4</td>\n",
              "      <td>['의사일정 제3항, 음성군 지역치안협의회 조례 일부개정조례안을 상정합니다.', '...</td>\n",
              "      <td>음성군 지역치안협의회 조례 일부개정조례안은 지역치안협의회에 보조금 지원이 용이하도록...</td>\n",
              "      <td>의사일정 제3항, 음성군 지역치안협의회 조례 일부개정조례안을 상정합니다. 행정과장님...</td>\n",
              "      <td>['의사일정 제3항, 음성군 지역치안협의회 조례 일부개정조례안을 상정합니다.', '...</td>\n",
              "      <td>78</td>\n",
              "    </tr>\n",
              "    <tr>\n",
              "      <th>1724</th>\n",
              "      <td>1272</td>\n",
              "      <td>AGENDA_5</td>\n",
              "      <td>['다음은 지방자치법 제64조제2항과 회의규칙 제46조제1항의 규정에 의하여 제10...</td>\n",
              "      <td>제102회 완주군의회 임시회 회의록 서명의원으로 박웅배 의원과 김순길 의원을 선임함.</td>\n",
              "      <td>다음은 지방자치법 제64조제2항과 회의규칙 제46조제1항의 규정에 의하여 제102회...</td>\n",
              "      <td>['다음은 지방자치법 제64조제2항과 회의규칙 제46조제1항의 규정에 의하여 제10...</td>\n",
              "      <td>47</td>\n",
              "    </tr>\n",
              "    <tr>\n",
              "      <th>1124</th>\n",
              "      <td>1183</td>\n",
              "      <td>AGENDA_4</td>\n",
              "      <td>['다음은 의사일정 제3항 완주군의회 예산결산 특별위원회 구성 결의안을 상정합니다....</td>\n",
              "      <td>예산결산특별위원회위원은 의장을 제외한 9인으로 구성함. 특별위원회는 2012년 7월...</td>\n",
              "      <td>다음은 의사일정 제3항 완주군의회 예산결산 특별위원회 구성 결의안을 상정합니다.  ...</td>\n",
              "      <td>['다음은 의사일정 제3항 완주군의회 예산결산 특별위원회 구성 결의안을 상정합니다....</td>\n",
              "      <td>164</td>\n",
              "    </tr>\n",
              "    <tr>\n",
              "      <th>975</th>\n",
              "      <td>1157</td>\n",
              "      <td>AGENDA_3</td>\n",
              "      <td>['다음은 의사일정 제2항 완주군 지방공무원정원 조례 일부개정조례안, 의사일정 제3...</td>\n",
              "      <td>완주군 지방공무원정원 조례 일부개정조례안은 부동산 실거래가 신고제 등 토지관련 업무...</td>\n",
              "      <td>다음은 의사일정 제2항 완주군 지방공무원정원 조례 일부개정조례안, 의사일정 제3항 ...</td>\n",
              "      <td>['다음은 의사일정 제2항 완주군 지방공무원정원 조례 일부개정조례안, 의사일정 제3...</td>\n",
              "      <td>368</td>\n",
              "    </tr>\n",
              "  </tbody>\n",
              "</table>\n",
              "</div>\n",
              "      <button class=\"colab-df-convert\" onclick=\"convertToInteractive('df-654c51ef-df9f-426a-9df3-fcdda3ecef36')\"\n",
              "              title=\"Convert this dataframe to an interactive table.\"\n",
              "              style=\"display:none;\">\n",
              "        \n",
              "  <svg xmlns=\"http://www.w3.org/2000/svg\" height=\"24px\"viewBox=\"0 0 24 24\"\n",
              "       width=\"24px\">\n",
              "    <path d=\"M0 0h24v24H0V0z\" fill=\"none\"/>\n",
              "    <path d=\"M18.56 5.44l.94 2.06.94-2.06 2.06-.94-2.06-.94-.94-2.06-.94 2.06-2.06.94zm-11 1L8.5 8.5l.94-2.06 2.06-.94-2.06-.94L8.5 2.5l-.94 2.06-2.06.94zm10 10l.94 2.06.94-2.06 2.06-.94-2.06-.94-.94-2.06-.94 2.06-2.06.94z\"/><path d=\"M17.41 7.96l-1.37-1.37c-.4-.4-.92-.59-1.43-.59-.52 0-1.04.2-1.43.59L10.3 9.45l-7.72 7.72c-.78.78-.78 2.05 0 2.83L4 21.41c.39.39.9.59 1.41.59.51 0 1.02-.2 1.41-.59l7.78-7.78 2.81-2.81c.8-.78.8-2.07 0-2.86zM5.41 20L4 18.59l7.72-7.72 1.47 1.35L5.41 20z\"/>\n",
              "  </svg>\n",
              "      </button>\n",
              "      \n",
              "  <style>\n",
              "    .colab-df-container {\n",
              "      display:flex;\n",
              "      flex-wrap:wrap;\n",
              "      gap: 12px;\n",
              "    }\n",
              "\n",
              "    .colab-df-convert {\n",
              "      background-color: #E8F0FE;\n",
              "      border: none;\n",
              "      border-radius: 50%;\n",
              "      cursor: pointer;\n",
              "      display: none;\n",
              "      fill: #1967D2;\n",
              "      height: 32px;\n",
              "      padding: 0 0 0 0;\n",
              "      width: 32px;\n",
              "    }\n",
              "\n",
              "    .colab-df-convert:hover {\n",
              "      background-color: #E2EBFA;\n",
              "      box-shadow: 0px 1px 2px rgba(60, 64, 67, 0.3), 0px 1px 3px 1px rgba(60, 64, 67, 0.15);\n",
              "      fill: #174EA6;\n",
              "    }\n",
              "\n",
              "    [theme=dark] .colab-df-convert {\n",
              "      background-color: #3B4455;\n",
              "      fill: #D2E3FC;\n",
              "    }\n",
              "\n",
              "    [theme=dark] .colab-df-convert:hover {\n",
              "      background-color: #434B5C;\n",
              "      box-shadow: 0px 1px 3px 1px rgba(0, 0, 0, 0.15);\n",
              "      filter: drop-shadow(0px 1px 2px rgba(0, 0, 0, 0.3));\n",
              "      fill: #FFFFFF;\n",
              "    }\n",
              "  </style>\n",
              "\n",
              "      <script>\n",
              "        const buttonEl =\n",
              "          document.querySelector('#df-654c51ef-df9f-426a-9df3-fcdda3ecef36 button.colab-df-convert');\n",
              "        buttonEl.style.display =\n",
              "          google.colab.kernel.accessAllowed ? 'block' : 'none';\n",
              "\n",
              "        async function convertToInteractive(key) {\n",
              "          const element = document.querySelector('#df-654c51ef-df9f-426a-9df3-fcdda3ecef36');\n",
              "          const dataTable =\n",
              "            await google.colab.kernel.invokeFunction('convertToInteractive',\n",
              "                                                     [key], {});\n",
              "          if (!dataTable) return;\n",
              "\n",
              "          const docLinkHtml = 'Like what you see? Visit the ' +\n",
              "            '<a target=\"_blank\" href=https://colab.research.google.com/notebooks/data_table.ipynb>data table notebook</a>'\n",
              "            + ' to learn more about interactive tables.';\n",
              "          element.innerHTML = '';\n",
              "          dataTable['output_type'] = 'display_data';\n",
              "          await google.colab.output.renderOutput(dataTable, element);\n",
              "          const docLink = document.createElement('div');\n",
              "          docLink.innerHTML = docLinkHtml;\n",
              "          element.appendChild(docLink);\n",
              "        }\n",
              "      </script>\n",
              "    </div>\n",
              "  </div>\n",
              "  "
            ]
          },
          "metadata": {},
          "execution_count": 76
        }
      ]
    },
    {
      "cell_type": "code",
      "source": [
        "train.loc[2031, :]"
      ],
      "metadata": {
        "colab": {
          "base_uri": "https://localhost:8080/"
        },
        "id": "9XPtRte6zMvu",
        "outputId": "502d0e2b-812b-4bf7-aff7-38e0f29272f9"
      },
      "execution_count": null,
      "outputs": [
        {
          "output_type": "execute_result",
          "data": {
            "text/plain": [
              "id                                                          1319\n",
              "agenda                                                  AGENDA_1\n",
              "text           [의석을 정돈하여 주시기 바랍니다., 성원이 되었으므로 지금부터 제314회 음성군의...\n",
              "label                             제314회 음성군의회 임시회 제3차 본회의 개의 선포.\n",
              "text_concat    의석을 정돈하여 주시기 바랍니다. 성원이 되었으므로 지금부터 제314회 음성군의회 ...\n",
              "text_split     [의석을 정돈하여 주시기 바랍니다., 성원이 되었으므로 지금부터 제314회 음성군의...\n",
              "len_label                                                     30\n",
              "Name: 2031, dtype: object"
            ]
          },
          "metadata": {},
          "execution_count": 19
        }
      ]
    },
    {
      "cell_type": "code",
      "source": [
        "test_textrank['text_split'][774]"
      ],
      "metadata": {
        "id": "h78KPNgu3M1B",
        "colab": {
          "base_uri": "https://localhost:8080/",
          "height": 387
        },
        "outputId": "9129dc5d-c756-4c3b-e216-ab83beb0a0a6"
      },
      "execution_count": null,
      "outputs": [
        {
          "output_type": "execute_result",
          "data": {
            "text/plain": [
              "\"['의사일정 제6항, 동서고속도로IC위치변경촉구건의안을 상정합니다.', '발의하신 최관식 의원님 나오셔서 제안 설명하여 주시기 바랍니다.', '최관식 의원입니다.', '동서고속도로IC위치변경촉구건의안을 채택하여 대통령, 국무총리, 건설교통부 장관, 국회 의장, 새천년민주당 대표, 한나라당 총재, 자유민주연합 총재에게 건의하고자 합니다.', '제안이유로는 우리 음성 지역 주민들은 동서 고속도로가 신설되는 것을 환영하면서도 지역발전의 관건인 IC위치를 결정함에 있어서 지역주민들의 의견을 수렴하고 지역발전과 국토의 균형발전을 충분히 고려하여 결정하여야 함에도 지역 주민의 의사를 무시하고 결정하려는 관계 당국의 처사에 실망감을 감추지 못하고 있으며, 국토를 균형 있게 개발하려는 군민들의 뜻을 모아 지역이 골고루 발전할 수 있는 필요한 조치를 강구하여 줄 것을 건의하고자 합니다.', '그러면 건의안을 낭독하겠습니다.', '평소 국토의 균형 발전과 편리하고 살기 좋은 새로운 교통 환경 조성을 위해서 항상 재대한 관심을 갖고 노력하시는 대통령, 국회 의장, 새천년민주당 대표, 한나라당 총재, 자유민주연합 총재, 국무총리, 건설교통부 장관님의 노고에 대해서 충북 음성 군민과 음성군의회 의원 일동은 깊은 감사를 드리고 있습니다.', '우리 음성군 지역은 충북과 경기도의 접경지역에 위치해 있어서 낙후된 지역이었으나, 중부 고속도로의 개통과 더불어 신공업 지역으로 급부상하고 있는 지역입니다.', '또한 우리 지역 여주～충주 구간을 통과하는 중부 내륙고속도로가 내년 말 완공목표로 공사 중에 있으며, 평택 안중～삼척간 동서 고속도로가 2006년 개통을 목표로 내년도에 본격 착공할 계획으로 있어서 주민들은 지역발전에 대하여 지대한 관심과 큰 기대를 갖고 있습니다.', '고속도로 통과 지역의 발전을 위해서는 IC가 어디에 위치하느냐가 지역발전의 크나큰 관건이라고 할 수 있을 것입니다.', '따라서 지역 주민들은 고속도로가 개통되는 것을 환영하면서도 정작 지역발전의 관건인 IC 위치를 결정함에 있어서는 지역 주민들의 의견을 수렴하고 지역발전과 국토의 균형 있는 발전을 충분히 고려해야 함에도 불구하고, 지역 주민들이나 인근 주민들의 의사를 무시하고 결정하려는 관계 당국의 처사에 대해서 심한 실망감을 감추지 못하고 있습니다.', '국토를 균형 있게 개발하려는 군민들의 뜻을 모아 다음 사항을 건의 드리오니, 음성 군민들의 뜻이 반드시 관철될 수 있도록 각별히 배려해 주실 것을 간곡히 당부 드리겠습니다.', '첫 번째, 동서 고속도로 IC 위치와 명칭 문제입니다.', '현재 음성군 금왕읍 삼봉리에 가칭 꽃동네 IC를 설치할 계획으로 있으나, IC 위치를 음성읍 사정리 인근으로 변경하고, IC명칭도 가까운 행정구역의 명칭을 사용하여 금왕 IC로 변경하여 주시기 바랍니다.', '변경 요구 지점인 음성읍 사정리 인근 지점은 국도 37호선과 국가지원 지방도 82호선과 근거리로써 접속도로 시설이 용이한 지역이며, 또한 국도 37호선을 주축으로 해서 음성군 지역 및 괴산군 지역의 균형발전에 크게 기여하고, 특히 음성군 지역의 수혜인구도 계획하고 있는 수혜 인구보다 훨씬 많은 10만 여명에 이를 것으로 기대되는 지역입니다.', '둘째, 동서 고속도로 가칭 신니 IC의 접속도로 시공 문제입니다.', '현재 가칭신니 IC의 접속도로를 국도 3호선까지만 연결할 계획으로 있으나, 인근 주민들의 고속도로 진·출입이 매우 불편한 것으로 예상되고 있습니다.', '인근 지역 주민들의 고속도로 진·출입이 용이하도록 신니 IC의 접속도로인 음성～신니간 군도 8km 4차선으로 확·포장계획을 동서 고속도로 공사의 시공계획에 반영하여 주실 것을 건의 바랍니다.', '세 번째, 동서 고속도로 휴게소 설치 문제입니다.', '현재 계획에는 휴게소 설치계획이 없으나, 음성군 금왕읍 봉곡리 인근에 상·하행선 휴게소 설치를 적극 검토하여 반영시켜 주시기 바랍니다.', '넷째, 가칭신니 IC의 명칭 문제입니다.', '음성읍의 북부에 위치한 가칭신니 IC명칭을 고속도로 이용자와 음성·괴산 군민들이 쉽게 알 수 있도록 인근 음성읍의 행정구역명칭을 사용하여 ‘북 음성 IC’로 명칭을 변경하여 주시기 바랍니다.', '국토를 종합적으로 균형 있게 발전시키기 위해서 항상 노력하시는 대통령 국회 의장, 새천년민주당 대표, 한나라당 총재, 국무총리, 건설교통부 장관님께 거듭 감사드리며, 음성 군민들의 뜻을 모아 건의 드린 사항들이 반드시 반영될 수 있도록 각별한 관심을 기울여 주시기 바라겠습니다.', '감사합니다.', '최관식 의원님 수고하셨습니다.', '방금 제안설명을 들으신 바와 같이 본 건의문을 채택하여 관계기관에 건의하고자 하는데 의원 여러분, 이의가 없으십니까', '없습니다하는 의원 있음', '이의가 없으므로 본 건의문은 채택되었음을 선포합니다.', '원활한 회의진행을 위하여 잠시 정회를 하고자 합니다.', '회의는 11시 20분에 속개하기로 하고 정회를 선포합니다. 11시 03분 회의중지', '11시 23분 계속개의의석을 정돈해 주시기 바랍니다.', '성원이 되었으므로 회의를 속개하겠습니다.']\""
            ],
            "application/vnd.google.colaboratory.intrinsic+json": {
              "type": "string"
            }
          },
          "metadata": {},
          "execution_count": 121
        }
      ]
    },
    {
      "cell_type": "markdown",
      "source": [
        "###### **TextRank 적용**"
      ],
      "metadata": {
        "id": "6TG0e5kRIEkB"
      }
    },
    {
      "cell_type": "code",
      "source": [
        "# Applt TextRank to ALL Data / 45sec\n",
        "import ast\n",
        "\n",
        "test_textrank['textrank'] = ''\n",
        "for num_string in list(test_textrank.index):\n",
        "  # print(num_string) # 진행단계\n",
        "  # print(test_textrank['text_split'][num_string])\n",
        "  if len(ast.literal_eval(test_textrank['text_split'][num_string])) > 3:\n",
        "    keysents = summarizer.summarize(ast.literal_eval(test_textrank['text_split'][num_string]), topk=3) #str이 아닌 list 형태로 인식하도록\n",
        "    test_textrank.at[num_string, 'textrank'] = keysents\n",
        "  else :\n",
        "    keysents = test_textrank['text_split'][num_string]\n",
        "    test_textrank.at[num_string, 'textrank'] = keysents"
      ],
      "metadata": {
        "id": "01lpWUk8zAp8"
      },
      "execution_count": null,
      "outputs": []
    },
    {
      "cell_type": "code",
      "source": [
        "# Error\n",
        "summarizer.summarize(train['text_split'][2031], topk=1)"
      ],
      "metadata": {
        "colab": {
          "base_uri": "https://localhost:8080/",
          "height": 364
        },
        "id": "9napdyzwd8Al",
        "outputId": "cae802ea-424d-48aa-ddde-8af511b0c6d7"
      },
      "execution_count": null,
      "outputs": [
        {
          "output_type": "stream",
          "name": "stderr",
          "text": [
            "/usr/local/lib/python3.8/dist-packages/scipy/sparse/sputils.py:114: UserWarning: object dtype is not supported by sparse matrices\n",
            "  warnings.warn(\"object dtype is not supported by sparse matrices\")\n"
          ]
        },
        {
          "output_type": "error",
          "ename": "ValueError",
          "evalue": "ignored",
          "traceback": [
            "\u001b[0;31m---------------------------------------------------------------------------\u001b[0m",
            "\u001b[0;31mValueError\u001b[0m                                Traceback (most recent call last)",
            "\u001b[0;32m<ipython-input-21-7e2611881166>\u001b[0m in \u001b[0;36m<module>\u001b[0;34m\u001b[0m\n\u001b[0;32m----> 1\u001b[0;31m \u001b[0msummarizer\u001b[0m\u001b[0;34m.\u001b[0m\u001b[0msummarize\u001b[0m\u001b[0;34m(\u001b[0m\u001b[0mtrain\u001b[0m\u001b[0;34m[\u001b[0m\u001b[0;34m'text_split'\u001b[0m\u001b[0;34m]\u001b[0m\u001b[0;34m[\u001b[0m\u001b[0;36m2031\u001b[0m\u001b[0;34m]\u001b[0m\u001b[0;34m,\u001b[0m \u001b[0mtopk\u001b[0m\u001b[0;34m=\u001b[0m\u001b[0;36m1\u001b[0m\u001b[0;34m)\u001b[0m\u001b[0;34m\u001b[0m\u001b[0;34m\u001b[0m\u001b[0m\n\u001b[0m",
            "\u001b[0;32m/usr/local/lib/python3.8/dist-packages/textrank/summarizer.py\u001b[0m in \u001b[0;36msummarize\u001b[0;34m(self, sents, topk, bias)\u001b[0m\n\u001b[1;32m    192\u001b[0m             \u001b[0;32mraise\u001b[0m \u001b[0mValueError\u001b[0m\u001b[0;34m(\u001b[0m\u001b[0;34m'The type of bias must be None or numpy.ndarray but the type is {}'\u001b[0m\u001b[0;34m.\u001b[0m\u001b[0mformat\u001b[0m\u001b[0;34m(\u001b[0m\u001b[0mtype\u001b[0m\u001b[0;34m(\u001b[0m\u001b[0mbias\u001b[0m\u001b[0;34m)\u001b[0m\u001b[0;34m)\u001b[0m\u001b[0;34m)\u001b[0m\u001b[0;34m\u001b[0m\u001b[0;34m\u001b[0m\u001b[0m\n\u001b[1;32m    193\u001b[0m \u001b[0;34m\u001b[0m\u001b[0m\n\u001b[0;32m--> 194\u001b[0;31m         \u001b[0mself\u001b[0m\u001b[0;34m.\u001b[0m\u001b[0mtrain_textrank\u001b[0m\u001b[0;34m(\u001b[0m\u001b[0msents\u001b[0m\u001b[0;34m,\u001b[0m \u001b[0mbias\u001b[0m\u001b[0;34m)\u001b[0m\u001b[0;34m\u001b[0m\u001b[0;34m\u001b[0m\u001b[0m\n\u001b[0m\u001b[1;32m    195\u001b[0m         \u001b[0midxs\u001b[0m \u001b[0;34m=\u001b[0m \u001b[0mself\u001b[0m\u001b[0;34m.\u001b[0m\u001b[0mR\u001b[0m\u001b[0;34m.\u001b[0m\u001b[0margsort\u001b[0m\u001b[0;34m(\u001b[0m\u001b[0;34m)\u001b[0m\u001b[0;34m[\u001b[0m\u001b[0;34m-\u001b[0m\u001b[0mtopk\u001b[0m\u001b[0;34m:\u001b[0m\u001b[0;34m]\u001b[0m\u001b[0;34m\u001b[0m\u001b[0;34m\u001b[0m\u001b[0m\n\u001b[1;32m    196\u001b[0m         \u001b[0mkeysents\u001b[0m \u001b[0;34m=\u001b[0m \u001b[0;34m[\u001b[0m\u001b[0;34m(\u001b[0m\u001b[0midx\u001b[0m\u001b[0;34m,\u001b[0m \u001b[0mself\u001b[0m\u001b[0;34m.\u001b[0m\u001b[0mR\u001b[0m\u001b[0;34m[\u001b[0m\u001b[0midx\u001b[0m\u001b[0;34m]\u001b[0m\u001b[0;34m,\u001b[0m \u001b[0msents\u001b[0m\u001b[0;34m[\u001b[0m\u001b[0midx\u001b[0m\u001b[0;34m]\u001b[0m\u001b[0;34m)\u001b[0m \u001b[0;32mfor\u001b[0m \u001b[0midx\u001b[0m \u001b[0;32min\u001b[0m \u001b[0mreversed\u001b[0m\u001b[0;34m(\u001b[0m\u001b[0midxs\u001b[0m\u001b[0;34m)\u001b[0m\u001b[0;34m]\u001b[0m\u001b[0;34m\u001b[0m\u001b[0;34m\u001b[0m\u001b[0m\n",
            "\u001b[0;32m/usr/local/lib/python3.8/dist-packages/textrank/summarizer.py\u001b[0m in \u001b[0;36mtrain_textrank\u001b[0;34m(self, sents, bias)\u001b[0m\n\u001b[1;32m    155\u001b[0m         \u001b[0;32mNone\u001b[0m\u001b[0;34m\u001b[0m\u001b[0;34m\u001b[0m\u001b[0m\n\u001b[1;32m    156\u001b[0m         \"\"\"\n\u001b[0;32m--> 157\u001b[0;31m         g = sent_graph(sents, self.tokenize, self.min_count,\n\u001b[0m\u001b[1;32m    158\u001b[0m             self.min_sim, self.similarity, self.vocab_to_idx, self.verbose)\n\u001b[1;32m    159\u001b[0m         \u001b[0mself\u001b[0m\u001b[0;34m.\u001b[0m\u001b[0mR\u001b[0m \u001b[0;34m=\u001b[0m \u001b[0mpagerank\u001b[0m\u001b[0;34m(\u001b[0m\u001b[0mg\u001b[0m\u001b[0;34m,\u001b[0m \u001b[0mself\u001b[0m\u001b[0;34m.\u001b[0m\u001b[0mdf\u001b[0m\u001b[0;34m,\u001b[0m \u001b[0mself\u001b[0m\u001b[0;34m.\u001b[0m\u001b[0mmax_iter\u001b[0m\u001b[0;34m,\u001b[0m \u001b[0mbias\u001b[0m\u001b[0;34m)\u001b[0m\u001b[0;34m.\u001b[0m\u001b[0mreshape\u001b[0m\u001b[0;34m(\u001b[0m\u001b[0;34m-\u001b[0m\u001b[0;36m1\u001b[0m\u001b[0;34m)\u001b[0m\u001b[0;34m\u001b[0m\u001b[0;34m\u001b[0m\u001b[0m\n",
            "\u001b[0;32m/usr/local/lib/python3.8/dist-packages/textrank/sentence.py\u001b[0m in \u001b[0;36msent_graph\u001b[0;34m(sents, tokenize, min_count, min_sim, similarity, vocab_to_idx, verbose)\u001b[0m\n\u001b[1;32m     48\u001b[0m         \u001b[0mx\u001b[0m \u001b[0;34m=\u001b[0m \u001b[0mnumpy_cosine_similarity_matrix\u001b[0m\u001b[0;34m(\u001b[0m\u001b[0mx\u001b[0m\u001b[0;34m,\u001b[0m \u001b[0mmin_sim\u001b[0m\u001b[0;34m,\u001b[0m \u001b[0mverbose\u001b[0m\u001b[0;34m,\u001b[0m \u001b[0mbatch_size\u001b[0m\u001b[0;34m=\u001b[0m\u001b[0;36m1000\u001b[0m\u001b[0;34m)\u001b[0m\u001b[0;34m\u001b[0m\u001b[0;34m\u001b[0m\u001b[0m\n\u001b[1;32m     49\u001b[0m     \u001b[0;32melse\u001b[0m\u001b[0;34m:\u001b[0m\u001b[0;34m\u001b[0m\u001b[0;34m\u001b[0m\u001b[0m\n\u001b[0;32m---> 50\u001b[0;31m         \u001b[0mx\u001b[0m \u001b[0;34m=\u001b[0m \u001b[0mnumpy_textrank_similarity_matrix\u001b[0m\u001b[0;34m(\u001b[0m\u001b[0mx\u001b[0m\u001b[0;34m,\u001b[0m \u001b[0mmin_sim\u001b[0m\u001b[0;34m,\u001b[0m \u001b[0mverbose\u001b[0m\u001b[0;34m,\u001b[0m \u001b[0mbatch_size\u001b[0m\u001b[0;34m=\u001b[0m\u001b[0;36m1000\u001b[0m\u001b[0;34m)\u001b[0m\u001b[0;34m\u001b[0m\u001b[0;34m\u001b[0m\u001b[0m\n\u001b[0m\u001b[1;32m     51\u001b[0m     \u001b[0;32mreturn\u001b[0m \u001b[0mx\u001b[0m\u001b[0;34m\u001b[0m\u001b[0;34m\u001b[0m\u001b[0m\n\u001b[1;32m     52\u001b[0m \u001b[0;34m\u001b[0m\u001b[0m\n",
            "\u001b[0;32m/usr/local/lib/python3.8/dist-packages/textrank/sentence.py\u001b[0m in \u001b[0;36mnumpy_textrank_similarity_matrix\u001b[0;34m(x, min_sim, verbose, min_length, batch_size)\u001b[0m\n\u001b[1;32m    117\u001b[0m \u001b[0;34m\u001b[0m\u001b[0m\n\u001b[1;32m    118\u001b[0m         \u001b[0;31m# append\u001b[0m\u001b[0;34m\u001b[0m\u001b[0;34m\u001b[0m\u001b[0;34m\u001b[0m\u001b[0m\n\u001b[0;32m--> 119\u001b[0;31m         \u001b[0mmat\u001b[0m\u001b[0;34m.\u001b[0m\u001b[0mappend\u001b[0m\u001b[0;34m(\u001b[0m\u001b[0mcsr_matrix\u001b[0m\u001b[0;34m(\u001b[0m\u001b[0;34m(\u001b[0m\u001b[0mdata\u001b[0m\u001b[0;34m,\u001b[0m \u001b[0;34m(\u001b[0m\u001b[0mrows\u001b[0m\u001b[0;34m,\u001b[0m \u001b[0mcols\u001b[0m\u001b[0;34m)\u001b[0m\u001b[0;34m)\u001b[0m\u001b[0;34m,\u001b[0m \u001b[0mshape\u001b[0m\u001b[0;34m=\u001b[0m\u001b[0;34m(\u001b[0m\u001b[0me\u001b[0m\u001b[0;34m-\u001b[0m\u001b[0mb\u001b[0m\u001b[0;34m,\u001b[0m \u001b[0mn_rows\u001b[0m\u001b[0;34m)\u001b[0m\u001b[0;34m)\u001b[0m\u001b[0;34m)\u001b[0m\u001b[0;34m\u001b[0m\u001b[0;34m\u001b[0m\u001b[0m\n\u001b[0m\u001b[1;32m    120\u001b[0m \u001b[0;34m\u001b[0m\u001b[0m\n\u001b[1;32m    121\u001b[0m         \u001b[0;32mif\u001b[0m \u001b[0mverbose\u001b[0m\u001b[0;34m:\u001b[0m\u001b[0;34m\u001b[0m\u001b[0;34m\u001b[0m\u001b[0m\n",
            "\u001b[0;32m/usr/local/lib/python3.8/dist-packages/scipy/sparse/compressed.py\u001b[0m in \u001b[0;36m__init__\u001b[0;34m(self, arg1, shape, dtype, copy)\u001b[0m\n\u001b[1;32m     52\u001b[0m                     \u001b[0;31m# (data, ij) format\u001b[0m\u001b[0;34m\u001b[0m\u001b[0;34m\u001b[0m\u001b[0;34m\u001b[0m\u001b[0m\n\u001b[1;32m     53\u001b[0m                     \u001b[0;32mfrom\u001b[0m \u001b[0;34m.\u001b[0m\u001b[0mcoo\u001b[0m \u001b[0;32mimport\u001b[0m \u001b[0mcoo_matrix\u001b[0m\u001b[0;34m\u001b[0m\u001b[0;34m\u001b[0m\u001b[0m\n\u001b[0;32m---> 54\u001b[0;31m                     other = self.__class__(coo_matrix(arg1, shape=shape,\n\u001b[0m\u001b[1;32m     55\u001b[0m                                                       dtype=dtype))\n\u001b[1;32m     56\u001b[0m                     \u001b[0mself\u001b[0m\u001b[0;34m.\u001b[0m\u001b[0m_set_self\u001b[0m\u001b[0;34m(\u001b[0m\u001b[0mother\u001b[0m\u001b[0;34m)\u001b[0m\u001b[0;34m\u001b[0m\u001b[0;34m\u001b[0m\u001b[0m\n",
            "\u001b[0;32m/usr/local/lib/python3.8/dist-packages/scipy/sparse/coo.py\u001b[0m in \u001b[0;36m__init__\u001b[0;34m(self, arg1, shape, dtype, copy)\u001b[0m\n\u001b[1;32m    194\u001b[0m             \u001b[0mself\u001b[0m\u001b[0;34m.\u001b[0m\u001b[0mdata\u001b[0m \u001b[0;34m=\u001b[0m \u001b[0mself\u001b[0m\u001b[0;34m.\u001b[0m\u001b[0mdata\u001b[0m\u001b[0;34m.\u001b[0m\u001b[0mastype\u001b[0m\u001b[0;34m(\u001b[0m\u001b[0mdtype\u001b[0m\u001b[0;34m,\u001b[0m \u001b[0mcopy\u001b[0m\u001b[0;34m=\u001b[0m\u001b[0;32mFalse\u001b[0m\u001b[0;34m)\u001b[0m\u001b[0;34m\u001b[0m\u001b[0;34m\u001b[0m\u001b[0m\n\u001b[1;32m    195\u001b[0m \u001b[0;34m\u001b[0m\u001b[0m\n\u001b[0;32m--> 196\u001b[0;31m         \u001b[0mself\u001b[0m\u001b[0;34m.\u001b[0m\u001b[0m_check\u001b[0m\u001b[0;34m(\u001b[0m\u001b[0;34m)\u001b[0m\u001b[0;34m\u001b[0m\u001b[0;34m\u001b[0m\u001b[0m\n\u001b[0m\u001b[1;32m    197\u001b[0m \u001b[0;34m\u001b[0m\u001b[0m\n\u001b[1;32m    198\u001b[0m     \u001b[0;32mdef\u001b[0m \u001b[0mreshape\u001b[0m\u001b[0;34m(\u001b[0m\u001b[0mself\u001b[0m\u001b[0;34m,\u001b[0m \u001b[0;34m*\u001b[0m\u001b[0margs\u001b[0m\u001b[0;34m,\u001b[0m \u001b[0;34m**\u001b[0m\u001b[0mkwargs\u001b[0m\u001b[0;34m)\u001b[0m\u001b[0;34m:\u001b[0m\u001b[0;34m\u001b[0m\u001b[0;34m\u001b[0m\u001b[0m\n",
            "\u001b[0;32m/usr/local/lib/python3.8/dist-packages/scipy/sparse/coo.py\u001b[0m in \u001b[0;36m_check\u001b[0;34m(self)\u001b[0m\n\u001b[1;32m    279\u001b[0m         \u001b[0mself\u001b[0m\u001b[0;34m.\u001b[0m\u001b[0mdata\u001b[0m \u001b[0;34m=\u001b[0m \u001b[0mto_native\u001b[0m\u001b[0;34m(\u001b[0m\u001b[0mself\u001b[0m\u001b[0;34m.\u001b[0m\u001b[0mdata\u001b[0m\u001b[0;34m)\u001b[0m\u001b[0;34m\u001b[0m\u001b[0;34m\u001b[0m\u001b[0m\n\u001b[1;32m    280\u001b[0m \u001b[0;34m\u001b[0m\u001b[0m\n\u001b[0;32m--> 281\u001b[0;31m         \u001b[0;32mif\u001b[0m \u001b[0mself\u001b[0m\u001b[0;34m.\u001b[0m\u001b[0mnnz\u001b[0m \u001b[0;34m>\u001b[0m \u001b[0;36m0\u001b[0m\u001b[0;34m:\u001b[0m\u001b[0;34m\u001b[0m\u001b[0;34m\u001b[0m\u001b[0m\n\u001b[0m\u001b[1;32m    282\u001b[0m             \u001b[0;32mif\u001b[0m \u001b[0mself\u001b[0m\u001b[0;34m.\u001b[0m\u001b[0mrow\u001b[0m\u001b[0;34m.\u001b[0m\u001b[0mmax\u001b[0m\u001b[0;34m(\u001b[0m\u001b[0;34m)\u001b[0m \u001b[0;34m>=\u001b[0m \u001b[0mself\u001b[0m\u001b[0;34m.\u001b[0m\u001b[0mshape\u001b[0m\u001b[0;34m[\u001b[0m\u001b[0;36m0\u001b[0m\u001b[0;34m]\u001b[0m\u001b[0;34m:\u001b[0m\u001b[0;34m\u001b[0m\u001b[0;34m\u001b[0m\u001b[0m\n\u001b[1;32m    283\u001b[0m                 \u001b[0;32mraise\u001b[0m \u001b[0mValueError\u001b[0m\u001b[0;34m(\u001b[0m\u001b[0;34m'row index exceeds matrix dimensions'\u001b[0m\u001b[0;34m)\u001b[0m\u001b[0;34m\u001b[0m\u001b[0;34m\u001b[0m\u001b[0m\n",
            "\u001b[0;32m/usr/local/lib/python3.8/dist-packages/scipy/sparse/base.py\u001b[0m in \u001b[0;36mnnz\u001b[0;34m(self)\u001b[0m\n\u001b[1;32m    244\u001b[0m         \u001b[0mcount_nonzero\u001b[0m \u001b[0;34m:\u001b[0m \u001b[0mNumber\u001b[0m \u001b[0mof\u001b[0m \u001b[0mnon\u001b[0m\u001b[0;34m-\u001b[0m\u001b[0mzero\u001b[0m \u001b[0mentries\u001b[0m\u001b[0;34m\u001b[0m\u001b[0;34m\u001b[0m\u001b[0m\n\u001b[1;32m    245\u001b[0m         \"\"\"\n\u001b[0;32m--> 246\u001b[0;31m         \u001b[0;32mreturn\u001b[0m \u001b[0mself\u001b[0m\u001b[0;34m.\u001b[0m\u001b[0mgetnnz\u001b[0m\u001b[0;34m(\u001b[0m\u001b[0;34m)\u001b[0m\u001b[0;34m\u001b[0m\u001b[0;34m\u001b[0m\u001b[0m\n\u001b[0m\u001b[1;32m    247\u001b[0m \u001b[0;34m\u001b[0m\u001b[0m\n\u001b[1;32m    248\u001b[0m     \u001b[0;32mdef\u001b[0m \u001b[0mgetformat\u001b[0m\u001b[0;34m(\u001b[0m\u001b[0mself\u001b[0m\u001b[0;34m)\u001b[0m\u001b[0;34m:\u001b[0m\u001b[0;34m\u001b[0m\u001b[0;34m\u001b[0m\u001b[0m\n",
            "\u001b[0;32m/usr/local/lib/python3.8/dist-packages/scipy/sparse/coo.py\u001b[0m in \u001b[0;36mgetnnz\u001b[0;34m(self, axis)\u001b[0m\n\u001b[1;32m    241\u001b[0m             \u001b[0mnnz\u001b[0m \u001b[0;34m=\u001b[0m \u001b[0mlen\u001b[0m\u001b[0;34m(\u001b[0m\u001b[0mself\u001b[0m\u001b[0;34m.\u001b[0m\u001b[0mdata\u001b[0m\u001b[0;34m)\u001b[0m\u001b[0;34m\u001b[0m\u001b[0;34m\u001b[0m\u001b[0m\n\u001b[1;32m    242\u001b[0m             \u001b[0;32mif\u001b[0m \u001b[0mnnz\u001b[0m \u001b[0;34m!=\u001b[0m \u001b[0mlen\u001b[0m\u001b[0;34m(\u001b[0m\u001b[0mself\u001b[0m\u001b[0;34m.\u001b[0m\u001b[0mrow\u001b[0m\u001b[0;34m)\u001b[0m \u001b[0;32mor\u001b[0m \u001b[0mnnz\u001b[0m \u001b[0;34m!=\u001b[0m \u001b[0mlen\u001b[0m\u001b[0;34m(\u001b[0m\u001b[0mself\u001b[0m\u001b[0;34m.\u001b[0m\u001b[0mcol\u001b[0m\u001b[0;34m)\u001b[0m\u001b[0;34m:\u001b[0m\u001b[0;34m\u001b[0m\u001b[0;34m\u001b[0m\u001b[0m\n\u001b[0;32m--> 243\u001b[0;31m                 raise ValueError('row, column, and data array must all be the '\n\u001b[0m\u001b[1;32m    244\u001b[0m                                  'same length')\n\u001b[1;32m    245\u001b[0m \u001b[0;34m\u001b[0m\u001b[0m\n",
            "\u001b[0;31mValueError\u001b[0m: row, column, and data array must all be the same length"
          ]
        }
      ]
    },
    {
      "cell_type": "code",
      "source": [
        "# Error B/C Too Short\n",
        "train[train['textrank'] == ''].shape #(75, 8)\n",
        "train['text_split'][2031]"
      ],
      "metadata": {
        "colab": {
          "base_uri": "https://localhost:8080/"
        },
        "id": "ggBtdyvamBGd",
        "outputId": "986512d2-8526-4f9a-b33b-9c1ee8799166"
      },
      "execution_count": null,
      "outputs": [
        {
          "output_type": "execute_result",
          "data": {
            "text/plain": [
              "['의석을 정돈하여 주시기 바랍니다.', '성원이 되었으므로 지금부터 제314회 음성군의회 임시회 제3차 본회의를 개의하겠습니다.']"
            ]
          },
          "metadata": {},
          "execution_count": 63
        }
      ]
    },
    {
      "cell_type": "code",
      "source": [
        "test_textrank.head()"
      ],
      "metadata": {
        "colab": {
          "base_uri": "https://localhost:8080/",
          "height": 424
        },
        "id": "w4miz0k9AcyJ",
        "outputId": "a0c4a856-f117-4f47-a961-146f3de58edc"
      },
      "execution_count": null,
      "outputs": [
        {
          "output_type": "execute_result",
          "data": {
            "text/plain": [
              "        id    agenda                                               text  \\\n",
              "2420  1377  AGENDA_4  ['의사일정 제3항 의사일정변경의 건을 상정합니다. 당초 7월 3일 제2차 본회의시...   \n",
              "2866  1444  AGENDA_4  ['의사일정 제3항, 음성군 지역치안협의회 조례 일부개정조례안을 상정합니다.', '...   \n",
              "1724  1272  AGENDA_5  ['다음은 지방자치법 제64조제2항과 회의규칙 제46조제1항의 규정에 의하여 제10...   \n",
              "1124  1183  AGENDA_4  ['다음은 의사일정 제3항 완주군의회 예산결산 특별위원회 구성 결의안을 상정합니다....   \n",
              "975   1157  AGENDA_3  ['다음은 의사일정 제2항 완주군 지방공무원정원 조례 일부개정조례안, 의사일정 제3...   \n",
              "\n",
              "                                                  label  \\\n",
              "2420  제2차 본회의에 상임위원회 위원 선임의 건과 상임위원장 선거를 상정하기로 함. 해당...   \n",
              "2866  음성군 지역치안협의회 조례 일부개정조례안은 지역치안협의회에 보조금 지원이 용이하도록...   \n",
              "1724    제102회 완주군의회 임시회 회의록 서명의원으로 박웅배 의원과 김순길 의원을 선임함.   \n",
              "1124  예산결산특별위원회위원은 의장을 제외한 9인으로 구성함. 특별위원회는 2012년 7월...   \n",
              "975   완주군 지방공무원정원 조례 일부개정조례안은 부동산 실거래가 신고제 등 토지관련 업무...   \n",
              "\n",
              "                                            text_concat  \\\n",
              "2420  의사일정 제3항 의사일정변경의 건을 상정합니다.  당초 7월 3일 제2차 본회의시 ...   \n",
              "2866  의사일정 제3항, 음성군 지역치안협의회 조례 일부개정조례안을 상정합니다. 행정과장님...   \n",
              "1724  다음은 지방자치법 제64조제2항과 회의규칙 제46조제1항의 규정에 의하여 제102회...   \n",
              "1124  다음은 의사일정 제3항 완주군의회 예산결산 특별위원회 구성 결의안을 상정합니다.  ...   \n",
              "975   다음은 의사일정 제2항 완주군 지방공무원정원 조례 일부개정조례안, 의사일정 제3항 ...   \n",
              "\n",
              "                                             text_split  len_label  \\\n",
              "2420  ['의사일정 제3항 의사일정변경의 건을 상정합니다.', '당초 7월 3일 제2차 본...         55   \n",
              "2866  ['의사일정 제3항, 음성군 지역치안협의회 조례 일부개정조례안을 상정합니다.', '...         78   \n",
              "1724  ['다음은 지방자치법 제64조제2항과 회의규칙 제46조제1항의 규정에 의하여 제10...         47   \n",
              "1124  ['다음은 의사일정 제3항 완주군의회 예산결산 특별위원회 구성 결의안을 상정합니다....        164   \n",
              "975   ['다음은 의사일정 제2항 완주군 지방공무원정원 조례 일부개정조례안, 의사일정 제3...        368   \n",
              "\n",
              "                                               textrank  \n",
              "2420  [(1, 1.6682934603175785, 당초 7월 3일 제2차 본회의시 상임위...  \n",
              "2866  [(29, 1.4717813659629004, 의사일정 제3항, 음성군 지역치안협의...  \n",
              "1724  [(0, 1.2249777916398097, 다음은 지방자치법 제64조제2항과 회의...  \n",
              "1124  [(4, 1.4170457588599894, 존경하는 의장님, 그리고 동료 의원 여...  \n",
              "975   [(18, 1.4308450362205591, 다음은 의사일정 제3항 완주군별정직지...  "
            ],
            "text/html": [
              "\n",
              "  <div id=\"df-6fdb89c5-ebf0-4b6e-8f67-16bf502518bf\">\n",
              "    <div class=\"colab-df-container\">\n",
              "      <div>\n",
              "<style scoped>\n",
              "    .dataframe tbody tr th:only-of-type {\n",
              "        vertical-align: middle;\n",
              "    }\n",
              "\n",
              "    .dataframe tbody tr th {\n",
              "        vertical-align: top;\n",
              "    }\n",
              "\n",
              "    .dataframe thead th {\n",
              "        text-align: right;\n",
              "    }\n",
              "</style>\n",
              "<table border=\"1\" class=\"dataframe\">\n",
              "  <thead>\n",
              "    <tr style=\"text-align: right;\">\n",
              "      <th></th>\n",
              "      <th>id</th>\n",
              "      <th>agenda</th>\n",
              "      <th>text</th>\n",
              "      <th>label</th>\n",
              "      <th>text_concat</th>\n",
              "      <th>text_split</th>\n",
              "      <th>len_label</th>\n",
              "      <th>textrank</th>\n",
              "    </tr>\n",
              "  </thead>\n",
              "  <tbody>\n",
              "    <tr>\n",
              "      <th>2420</th>\n",
              "      <td>1377</td>\n",
              "      <td>AGENDA_4</td>\n",
              "      <td>['의사일정 제3항 의사일정변경의 건을 상정합니다. 당초 7월 3일 제2차 본회의시...</td>\n",
              "      <td>제2차 본회의에 상임위원회 위원 선임의 건과 상임위원장 선거를 상정하기로 함. 해당...</td>\n",
              "      <td>의사일정 제3항 의사일정변경의 건을 상정합니다.  당초 7월 3일 제2차 본회의시 ...</td>\n",
              "      <td>['의사일정 제3항 의사일정변경의 건을 상정합니다.', '당초 7월 3일 제2차 본...</td>\n",
              "      <td>55</td>\n",
              "      <td>[(1, 1.6682934603175785, 당초 7월 3일 제2차 본회의시 상임위...</td>\n",
              "    </tr>\n",
              "    <tr>\n",
              "      <th>2866</th>\n",
              "      <td>1444</td>\n",
              "      <td>AGENDA_4</td>\n",
              "      <td>['의사일정 제3항, 음성군 지역치안협의회 조례 일부개정조례안을 상정합니다.', '...</td>\n",
              "      <td>음성군 지역치안협의회 조례 일부개정조례안은 지역치안협의회에 보조금 지원이 용이하도록...</td>\n",
              "      <td>의사일정 제3항, 음성군 지역치안협의회 조례 일부개정조례안을 상정합니다. 행정과장님...</td>\n",
              "      <td>['의사일정 제3항, 음성군 지역치안협의회 조례 일부개정조례안을 상정합니다.', '...</td>\n",
              "      <td>78</td>\n",
              "      <td>[(29, 1.4717813659629004, 의사일정 제3항, 음성군 지역치안협의...</td>\n",
              "    </tr>\n",
              "    <tr>\n",
              "      <th>1724</th>\n",
              "      <td>1272</td>\n",
              "      <td>AGENDA_5</td>\n",
              "      <td>['다음은 지방자치법 제64조제2항과 회의규칙 제46조제1항의 규정에 의하여 제10...</td>\n",
              "      <td>제102회 완주군의회 임시회 회의록 서명의원으로 박웅배 의원과 김순길 의원을 선임함.</td>\n",
              "      <td>다음은 지방자치법 제64조제2항과 회의규칙 제46조제1항의 규정에 의하여 제102회...</td>\n",
              "      <td>['다음은 지방자치법 제64조제2항과 회의규칙 제46조제1항의 규정에 의하여 제10...</td>\n",
              "      <td>47</td>\n",
              "      <td>[(0, 1.2249777916398097, 다음은 지방자치법 제64조제2항과 회의...</td>\n",
              "    </tr>\n",
              "    <tr>\n",
              "      <th>1124</th>\n",
              "      <td>1183</td>\n",
              "      <td>AGENDA_4</td>\n",
              "      <td>['다음은 의사일정 제3항 완주군의회 예산결산 특별위원회 구성 결의안을 상정합니다....</td>\n",
              "      <td>예산결산특별위원회위원은 의장을 제외한 9인으로 구성함. 특별위원회는 2012년 7월...</td>\n",
              "      <td>다음은 의사일정 제3항 완주군의회 예산결산 특별위원회 구성 결의안을 상정합니다.  ...</td>\n",
              "      <td>['다음은 의사일정 제3항 완주군의회 예산결산 특별위원회 구성 결의안을 상정합니다....</td>\n",
              "      <td>164</td>\n",
              "      <td>[(4, 1.4170457588599894, 존경하는 의장님, 그리고 동료 의원 여...</td>\n",
              "    </tr>\n",
              "    <tr>\n",
              "      <th>975</th>\n",
              "      <td>1157</td>\n",
              "      <td>AGENDA_3</td>\n",
              "      <td>['다음은 의사일정 제2항 완주군 지방공무원정원 조례 일부개정조례안, 의사일정 제3...</td>\n",
              "      <td>완주군 지방공무원정원 조례 일부개정조례안은 부동산 실거래가 신고제 등 토지관련 업무...</td>\n",
              "      <td>다음은 의사일정 제2항 완주군 지방공무원정원 조례 일부개정조례안, 의사일정 제3항 ...</td>\n",
              "      <td>['다음은 의사일정 제2항 완주군 지방공무원정원 조례 일부개정조례안, 의사일정 제3...</td>\n",
              "      <td>368</td>\n",
              "      <td>[(18, 1.4308450362205591, 다음은 의사일정 제3항 완주군별정직지...</td>\n",
              "    </tr>\n",
              "  </tbody>\n",
              "</table>\n",
              "</div>\n",
              "      <button class=\"colab-df-convert\" onclick=\"convertToInteractive('df-6fdb89c5-ebf0-4b6e-8f67-16bf502518bf')\"\n",
              "              title=\"Convert this dataframe to an interactive table.\"\n",
              "              style=\"display:none;\">\n",
              "        \n",
              "  <svg xmlns=\"http://www.w3.org/2000/svg\" height=\"24px\"viewBox=\"0 0 24 24\"\n",
              "       width=\"24px\">\n",
              "    <path d=\"M0 0h24v24H0V0z\" fill=\"none\"/>\n",
              "    <path d=\"M18.56 5.44l.94 2.06.94-2.06 2.06-.94-2.06-.94-.94-2.06-.94 2.06-2.06.94zm-11 1L8.5 8.5l.94-2.06 2.06-.94-2.06-.94L8.5 2.5l-.94 2.06-2.06.94zm10 10l.94 2.06.94-2.06 2.06-.94-2.06-.94-.94-2.06-.94 2.06-2.06.94z\"/><path d=\"M17.41 7.96l-1.37-1.37c-.4-.4-.92-.59-1.43-.59-.52 0-1.04.2-1.43.59L10.3 9.45l-7.72 7.72c-.78.78-.78 2.05 0 2.83L4 21.41c.39.39.9.59 1.41.59.51 0 1.02-.2 1.41-.59l7.78-7.78 2.81-2.81c.8-.78.8-2.07 0-2.86zM5.41 20L4 18.59l7.72-7.72 1.47 1.35L5.41 20z\"/>\n",
              "  </svg>\n",
              "      </button>\n",
              "      \n",
              "  <style>\n",
              "    .colab-df-container {\n",
              "      display:flex;\n",
              "      flex-wrap:wrap;\n",
              "      gap: 12px;\n",
              "    }\n",
              "\n",
              "    .colab-df-convert {\n",
              "      background-color: #E8F0FE;\n",
              "      border: none;\n",
              "      border-radius: 50%;\n",
              "      cursor: pointer;\n",
              "      display: none;\n",
              "      fill: #1967D2;\n",
              "      height: 32px;\n",
              "      padding: 0 0 0 0;\n",
              "      width: 32px;\n",
              "    }\n",
              "\n",
              "    .colab-df-convert:hover {\n",
              "      background-color: #E2EBFA;\n",
              "      box-shadow: 0px 1px 2px rgba(60, 64, 67, 0.3), 0px 1px 3px 1px rgba(60, 64, 67, 0.15);\n",
              "      fill: #174EA6;\n",
              "    }\n",
              "\n",
              "    [theme=dark] .colab-df-convert {\n",
              "      background-color: #3B4455;\n",
              "      fill: #D2E3FC;\n",
              "    }\n",
              "\n",
              "    [theme=dark] .colab-df-convert:hover {\n",
              "      background-color: #434B5C;\n",
              "      box-shadow: 0px 1px 3px 1px rgba(0, 0, 0, 0.15);\n",
              "      filter: drop-shadow(0px 1px 2px rgba(0, 0, 0, 0.3));\n",
              "      fill: #FFFFFF;\n",
              "    }\n",
              "  </style>\n",
              "\n",
              "      <script>\n",
              "        const buttonEl =\n",
              "          document.querySelector('#df-6fdb89c5-ebf0-4b6e-8f67-16bf502518bf button.colab-df-convert');\n",
              "        buttonEl.style.display =\n",
              "          google.colab.kernel.accessAllowed ? 'block' : 'none';\n",
              "\n",
              "        async function convertToInteractive(key) {\n",
              "          const element = document.querySelector('#df-6fdb89c5-ebf0-4b6e-8f67-16bf502518bf');\n",
              "          const dataTable =\n",
              "            await google.colab.kernel.invokeFunction('convertToInteractive',\n",
              "                                                     [key], {});\n",
              "          if (!dataTable) return;\n",
              "\n",
              "          const docLinkHtml = 'Like what you see? Visit the ' +\n",
              "            '<a target=\"_blank\" href=https://colab.research.google.com/notebooks/data_table.ipynb>data table notebook</a>'\n",
              "            + ' to learn more about interactive tables.';\n",
              "          element.innerHTML = '';\n",
              "          dataTable['output_type'] = 'display_data';\n",
              "          await google.colab.output.renderOutput(dataTable, element);\n",
              "          const docLink = document.createElement('div');\n",
              "          docLink.innerHTML = docLinkHtml;\n",
              "          element.appendChild(docLink);\n",
              "        }\n",
              "      </script>\n",
              "    </div>\n",
              "  </div>\n",
              "  "
            ]
          },
          "metadata": {},
          "execution_count": 123
        }
      ]
    },
    {
      "cell_type": "code",
      "source": [
        "# Apply Text Rank to Total Data (Fix Error)\n",
        "for i in test_textrank.index:\n",
        "  # print(i) # 진행단계 추적\n",
        "  if test_textrank.loc[i, 'textrank'] == '':\n",
        "    test_textrank.loc[i, 'summary'] = ast.literal_eval(test_textrank.loc[i, 'text_split'])[0]\n",
        "  elif len(test_textrank.loc[i, 'text_split']) >= 3:\n",
        "    sents = test_textrank.loc[i, 'textrank'][0][2]\n",
        "    test_textrank.loc[i, 'summary'] = sents\n",
        "  else:\n",
        "    test_textrank.loc[i, 'summary'] = ast.literal_eval(test_textrank.loc[i, 'text_split'])[0]"
      ],
      "metadata": {
        "id": "SQE6cK7FzKUl"
      },
      "execution_count": null,
      "outputs": []
    },
    {
      "cell_type": "code",
      "source": [
        "# Check the Result\n",
        "test_textrank[['summary','label']]"
      ],
      "metadata": {
        "colab": {
          "base_uri": "https://localhost:8080/",
          "height": 423
        },
        "id": "MRPskOUDCRUI",
        "outputId": "997fb64f-6868-4940-d011-e7c830132c65"
      },
      "execution_count": null,
      "outputs": [
        {
          "output_type": "execute_result",
          "data": {
            "text/plain": [
              "                                                summary  \\\n",
              "2420  당초 7월 3일 제2차 본회의시 상임위원회 위원 선임의 건과 상임위원장 선거를 4항...   \n",
              "2866  의사일정 제3항, 음성군 지역치안협의회 조례 일부개정조례안을 원안대로 의결하고자 하...   \n",
              "1724  다음은 지방자치법 제64조제2항과 회의규칙 제46조제1항의 규정에 의하여 제102회...   \n",
              "1124  존경하는 의장님, 그리고 동료 의원 여러분!완주군의회 예산결산 특별위원회 구성 결의...   \n",
              "975   다음은 의사일정 제3항 완주군별정직지방공무원의범위에관한조례 일부개정조례안에 대하여 ...   \n",
              "...                                                 ...   \n",
              "1448             다음은 의사일정 제2항 98년도 제1회 추가경정 예산안을 상정합니다.   \n",
              "1757       먼저 의사일정 제1항 제253회 완주군의회 임시회 회기 결정의 건을 상정합니다.   \n",
              "2276  다음은 의사일정 제2항 제252회 완주군의회 임시회 회의록 서명의원 선출의 건을 상...   \n",
              "662             의사일정 제8항, 2021년도 수시분 공유재산 관리계획안을 상정합니다.   \n",
              "2104  의사일정 제3항, 2013년도 제1회 세입ㆍ세출 추가경정예산안 및 기금운용계획 변경...   \n",
              "\n",
              "                                                  label  \n",
              "2420  제2차 본회의에 상임위원회 위원 선임의 건과 상임위원장 선거를 상정하기로 함. 해당...  \n",
              "2866  음성군 지역치안협의회 조례 일부개정조례안은 지역치안협의회에 보조금 지원이 용이하도록...  \n",
              "1724    제102회 완주군의회 임시회 회의록 서명의원으로 박웅배 의원과 김순길 의원을 선임함.  \n",
              "1124  예산결산특별위원회위원은 의장을 제외한 9인으로 구성함. 특별위원회는 2012년 7월...  \n",
              "975   완주군 지방공무원정원 조례 일부개정조례안은 부동산 실거래가 신고제 등 토지관련 업무...  \n",
              "...                                                 ...  \n",
              "1448                          ?98년도 제1회 추가경정 예산안 제안 설명.  \n",
              "1757  제253회 완주군의회 임시회 회기는 7월 14일부터 7월 23일까지 10일간으로 가결됨.  \n",
              "2276    제252회 완주군의회 임시회 회의록 서명의원으로 김재천 의원과 이인숙 의원이 선출됨.  \n",
              "662                        2021년도 수시분 공유재산 관리계획안 제안 설명.  \n",
              "2104    2013년도 제1회 세입, 세출 추가경정예산안 및 기금운용계획 변경안 제안설명의 건.  \n",
              "\n",
              "[745 rows x 2 columns]"
            ],
            "text/html": [
              "\n",
              "  <div id=\"df-d719ae3c-7018-48cb-988d-136c67eef67c\">\n",
              "    <div class=\"colab-df-container\">\n",
              "      <div>\n",
              "<style scoped>\n",
              "    .dataframe tbody tr th:only-of-type {\n",
              "        vertical-align: middle;\n",
              "    }\n",
              "\n",
              "    .dataframe tbody tr th {\n",
              "        vertical-align: top;\n",
              "    }\n",
              "\n",
              "    .dataframe thead th {\n",
              "        text-align: right;\n",
              "    }\n",
              "</style>\n",
              "<table border=\"1\" class=\"dataframe\">\n",
              "  <thead>\n",
              "    <tr style=\"text-align: right;\">\n",
              "      <th></th>\n",
              "      <th>summary</th>\n",
              "      <th>label</th>\n",
              "    </tr>\n",
              "  </thead>\n",
              "  <tbody>\n",
              "    <tr>\n",
              "      <th>2420</th>\n",
              "      <td>당초 7월 3일 제2차 본회의시 상임위원회 위원 선임의 건과 상임위원장 선거를 4항...</td>\n",
              "      <td>제2차 본회의에 상임위원회 위원 선임의 건과 상임위원장 선거를 상정하기로 함. 해당...</td>\n",
              "    </tr>\n",
              "    <tr>\n",
              "      <th>2866</th>\n",
              "      <td>의사일정 제3항, 음성군 지역치안협의회 조례 일부개정조례안을 원안대로 의결하고자 하...</td>\n",
              "      <td>음성군 지역치안협의회 조례 일부개정조례안은 지역치안협의회에 보조금 지원이 용이하도록...</td>\n",
              "    </tr>\n",
              "    <tr>\n",
              "      <th>1724</th>\n",
              "      <td>다음은 지방자치법 제64조제2항과 회의규칙 제46조제1항의 규정에 의하여 제102회...</td>\n",
              "      <td>제102회 완주군의회 임시회 회의록 서명의원으로 박웅배 의원과 김순길 의원을 선임함.</td>\n",
              "    </tr>\n",
              "    <tr>\n",
              "      <th>1124</th>\n",
              "      <td>존경하는 의장님, 그리고 동료 의원 여러분!완주군의회 예산결산 특별위원회 구성 결의...</td>\n",
              "      <td>예산결산특별위원회위원은 의장을 제외한 9인으로 구성함. 특별위원회는 2012년 7월...</td>\n",
              "    </tr>\n",
              "    <tr>\n",
              "      <th>975</th>\n",
              "      <td>다음은 의사일정 제3항 완주군별정직지방공무원의범위에관한조례 일부개정조례안에 대하여 ...</td>\n",
              "      <td>완주군 지방공무원정원 조례 일부개정조례안은 부동산 실거래가 신고제 등 토지관련 업무...</td>\n",
              "    </tr>\n",
              "    <tr>\n",
              "      <th>...</th>\n",
              "      <td>...</td>\n",
              "      <td>...</td>\n",
              "    </tr>\n",
              "    <tr>\n",
              "      <th>1448</th>\n",
              "      <td>다음은 의사일정 제2항 98년도 제1회 추가경정 예산안을 상정합니다.</td>\n",
              "      <td>?98년도 제1회 추가경정 예산안 제안 설명.</td>\n",
              "    </tr>\n",
              "    <tr>\n",
              "      <th>1757</th>\n",
              "      <td>먼저 의사일정 제1항 제253회 완주군의회 임시회 회기 결정의 건을 상정합니다.</td>\n",
              "      <td>제253회 완주군의회 임시회 회기는 7월 14일부터 7월 23일까지 10일간으로 가결됨.</td>\n",
              "    </tr>\n",
              "    <tr>\n",
              "      <th>2276</th>\n",
              "      <td>다음은 의사일정 제2항 제252회 완주군의회 임시회 회의록 서명의원 선출의 건을 상...</td>\n",
              "      <td>제252회 완주군의회 임시회 회의록 서명의원으로 김재천 의원과 이인숙 의원이 선출됨.</td>\n",
              "    </tr>\n",
              "    <tr>\n",
              "      <th>662</th>\n",
              "      <td>의사일정 제8항, 2021년도 수시분 공유재산 관리계획안을 상정합니다.</td>\n",
              "      <td>2021년도 수시분 공유재산 관리계획안 제안 설명.</td>\n",
              "    </tr>\n",
              "    <tr>\n",
              "      <th>2104</th>\n",
              "      <td>의사일정 제3항, 2013년도 제1회 세입ㆍ세출 추가경정예산안 및 기금운용계획 변경...</td>\n",
              "      <td>2013년도 제1회 세입, 세출 추가경정예산안 및 기금운용계획 변경안 제안설명의 건.</td>\n",
              "    </tr>\n",
              "  </tbody>\n",
              "</table>\n",
              "<p>745 rows × 2 columns</p>\n",
              "</div>\n",
              "      <button class=\"colab-df-convert\" onclick=\"convertToInteractive('df-d719ae3c-7018-48cb-988d-136c67eef67c')\"\n",
              "              title=\"Convert this dataframe to an interactive table.\"\n",
              "              style=\"display:none;\">\n",
              "        \n",
              "  <svg xmlns=\"http://www.w3.org/2000/svg\" height=\"24px\"viewBox=\"0 0 24 24\"\n",
              "       width=\"24px\">\n",
              "    <path d=\"M0 0h24v24H0V0z\" fill=\"none\"/>\n",
              "    <path d=\"M18.56 5.44l.94 2.06.94-2.06 2.06-.94-2.06-.94-.94-2.06-.94 2.06-2.06.94zm-11 1L8.5 8.5l.94-2.06 2.06-.94-2.06-.94L8.5 2.5l-.94 2.06-2.06.94zm10 10l.94 2.06.94-2.06 2.06-.94-2.06-.94-.94-2.06-.94 2.06-2.06.94z\"/><path d=\"M17.41 7.96l-1.37-1.37c-.4-.4-.92-.59-1.43-.59-.52 0-1.04.2-1.43.59L10.3 9.45l-7.72 7.72c-.78.78-.78 2.05 0 2.83L4 21.41c.39.39.9.59 1.41.59.51 0 1.02-.2 1.41-.59l7.78-7.78 2.81-2.81c.8-.78.8-2.07 0-2.86zM5.41 20L4 18.59l7.72-7.72 1.47 1.35L5.41 20z\"/>\n",
              "  </svg>\n",
              "      </button>\n",
              "      \n",
              "  <style>\n",
              "    .colab-df-container {\n",
              "      display:flex;\n",
              "      flex-wrap:wrap;\n",
              "      gap: 12px;\n",
              "    }\n",
              "\n",
              "    .colab-df-convert {\n",
              "      background-color: #E8F0FE;\n",
              "      border: none;\n",
              "      border-radius: 50%;\n",
              "      cursor: pointer;\n",
              "      display: none;\n",
              "      fill: #1967D2;\n",
              "      height: 32px;\n",
              "      padding: 0 0 0 0;\n",
              "      width: 32px;\n",
              "    }\n",
              "\n",
              "    .colab-df-convert:hover {\n",
              "      background-color: #E2EBFA;\n",
              "      box-shadow: 0px 1px 2px rgba(60, 64, 67, 0.3), 0px 1px 3px 1px rgba(60, 64, 67, 0.15);\n",
              "      fill: #174EA6;\n",
              "    }\n",
              "\n",
              "    [theme=dark] .colab-df-convert {\n",
              "      background-color: #3B4455;\n",
              "      fill: #D2E3FC;\n",
              "    }\n",
              "\n",
              "    [theme=dark] .colab-df-convert:hover {\n",
              "      background-color: #434B5C;\n",
              "      box-shadow: 0px 1px 3px 1px rgba(0, 0, 0, 0.15);\n",
              "      filter: drop-shadow(0px 1px 2px rgba(0, 0, 0, 0.3));\n",
              "      fill: #FFFFFF;\n",
              "    }\n",
              "  </style>\n",
              "\n",
              "      <script>\n",
              "        const buttonEl =\n",
              "          document.querySelector('#df-d719ae3c-7018-48cb-988d-136c67eef67c button.colab-df-convert');\n",
              "        buttonEl.style.display =\n",
              "          google.colab.kernel.accessAllowed ? 'block' : 'none';\n",
              "\n",
              "        async function convertToInteractive(key) {\n",
              "          const element = document.querySelector('#df-d719ae3c-7018-48cb-988d-136c67eef67c');\n",
              "          const dataTable =\n",
              "            await google.colab.kernel.invokeFunction('convertToInteractive',\n",
              "                                                     [key], {});\n",
              "          if (!dataTable) return;\n",
              "\n",
              "          const docLinkHtml = 'Like what you see? Visit the ' +\n",
              "            '<a target=\"_blank\" href=https://colab.research.google.com/notebooks/data_table.ipynb>data table notebook</a>'\n",
              "            + ' to learn more about interactive tables.';\n",
              "          element.innerHTML = '';\n",
              "          dataTable['output_type'] = 'display_data';\n",
              "          await google.colab.output.renderOutput(dataTable, element);\n",
              "          const docLink = document.createElement('div');\n",
              "          docLink.innerHTML = docLinkHtml;\n",
              "          element.appendChild(docLink);\n",
              "        }\n",
              "      </script>\n",
              "    </div>\n",
              "  </div>\n",
              "  "
            ]
          },
          "metadata": {},
          "execution_count": 155
        }
      ]
    },
    {
      "cell_type": "code",
      "source": [
        "# Save TextRank SentenceSummarizer\n",
        "test_textrank.to_csv('textrank.csv',encoding='utf-8')"
      ],
      "metadata": {
        "id": "TqSl3rxWAi4y"
      },
      "execution_count": null,
      "outputs": []
    },
    {
      "cell_type": "code",
      "source": [
        "# Note) TextRank Keyword Extraction\n",
        "from textrank import KeywordSummarizer\n",
        "\n",
        "keyword_summarizer = KeywordSummarizer(tokenize=komoran_tokenizer, min_count=2, min_cooccurrence=1)\n",
        "keyword_summarizer.summarize(df['text'][0], topk=20)"
      ],
      "metadata": {
        "colab": {
          "base_uri": "https://localhost:8080/"
        },
        "id": "tSEQwautP2p0",
        "outputId": "e204fbc7-cec0-4737-cd9e-c5e58499c6f2"
      },
      "execution_count": null,
      "outputs": [
        {
          "output_type": "execute_result",
          "data": {
            "text/plain": [
              "[('조례/NNP', 2.238228053318344),\n",
              " ('완주군/NNP', 1.9758307719469501),\n",
              " ('의원/NNG', 1.5415162838626904),\n",
              " ('안/NNP', 1.5415162838626904),\n",
              " ('회/NNB', 1.2789391415583307),\n",
              " ('회부/NNG', 1.193160399134864),\n",
              " ('드리/VV', 1.193160399134864),\n",
              " ('등/NNB', 1.193160399134864),\n",
              " ('의회/NNP', 1.0160153412396702),\n",
              " ('사항/NNG', 0.9303727275338443),\n",
              " ('임시회/NNP', 0.9303727275338443),\n",
              " ('하/VV', 0.8448045144070372),\n",
              " ('해당/NNG', 0.8448045144070372),\n",
              " ('건/NNB', 0.8448045144070372),\n",
              " ('개정/NNG', 0.8448045144070372),\n",
              " ('일부/NNG', 0.8448045144070372),\n",
              " ('다음/NNG', 0.8448045144070372),\n",
              " ('관하/VV', 0.8448045144070372),\n",
              " ('안건/NNG', 0.8448045144070372),\n",
              " ('상임/NNG', 0.8448045144070372)]"
            ]
          },
          "metadata": {},
          "execution_count": 10
        }
      ]
    },
    {
      "cell_type": "markdown",
      "source": [
        "- https://lovit.github.io/nlp/2019/04/30/textrank/ TextRank 알고리즘의 사용법 및 단점\n",
        "- https://ebbnflow.tistory.com/292 TextRank 알고리즘 실제 구현과정"
      ],
      "metadata": {
        "id": "vwbVIcUSQOa7"
      }
    },
    {
      "cell_type": "code",
      "source": [
        "# Source Code for TextRank / ToyData\n",
        "\n",
        "from konlpy.tag import Komoran\n",
        "from textrank import KeysentenceSummarizer\n",
        "\n",
        "komoran = Komoran()\n",
        "def komoran_tokenizer(sent):\n",
        "    words = komoran.pos(sent, join=True)\n",
        "    words = [w for w in words if ('/NN' in w or '/XR' in w or '/VA' in w or '/VV' in w)]\n",
        "    return words\n",
        "\n",
        "summarizer = KeysentenceSummarizer(\n",
        "    tokenize = komoran_tokenizer,\n",
        "    min_sim = 0.3, #유사도 0.3이상일때\n",
        "    verbose = False\n",
        ")\n",
        "\n",
        "sents = [\n",
        "  '오패산터널 총격전 용의자 검거 서울 연합뉴스 경찰 관계자들이 19일 오후 서울 강북구 오패산 터널 인근에서 사제 총기를 발사해 경찰을 살해한 용의자 성모씨를 검거하고 있다 성씨는 검거 당시 서바이벌 게임에서 쓰는 방탄조끼에 헬멧까지 착용한 상태였다',\n",
        "  '서울 연합뉴스 김은경 기자 사제 총기로 경찰을 살해한 범인 성모 46 씨는 주도면밀했다',\n",
        "  '경찰에 따르면 성씨는 19일 오후 강북경찰서 인근 부동산 업소 밖에서 부동산업자 이모 67 씨가 나오기를 기다렸다 이씨와는 평소에도 말다툼을 자주 한 것으로 알려졌다',\n",
        "  '이씨가 나와 걷기 시작하자 성씨는 따라가면서 미리 준비해온 사제 총기를 이씨에게 발사했다 총알이 빗나가면서 이씨는 도망갔다 그 빗나간 총알은 지나가던 행인 71 씨의 배를 스쳤다',\n",
        "  '성씨는 강북서 인근 치킨집까지 이씨 뒤를 쫓으며 실랑이하다 쓰러뜨린 후 총기와 함께 가져온 망치로 이씨 머리를 때렸다',\n",
        "  '이 과정에서 오후 6시 20분께 강북구 번동 길 위에서 사람들이 싸우고 있다 총소리가 났다 는 등의 신고가 여러건 들어왔다',\n",
        "  '5분 후에 성씨의 전자발찌가 훼손됐다는 신고가 보호관찰소 시스템을 통해 들어왔다 성범죄자로 전자발찌를 차고 있던 성씨는 부엌칼로 직접 자신의 발찌를 끊었다',\n",
        "  '용의자 소지 사제총기 2정 서울 연합뉴스 임헌정 기자 서울 시내에서 폭행 용의자가 현장 조사를 벌이던 경찰관에게 사제총기를 발사해 경찰관이 숨졌다 19일 오후 6시28분 강북구 번동에서 둔기로 맞았다 는 폭행 피해 신고가 접수돼 현장에서 조사하던 강북경찰서 번동파출소 소속 김모 54 경위가 폭행 용의자 성모 45 씨가 쏜 사제총기에 맞고 쓰러진 뒤 병원에 옮겨졌으나 숨졌다 사진은 용의자가 소지한 사제총기',\n",
        "  '신고를 받고 번동파출소에서 김창호 54 경위 등 경찰들이 오후 6시 29분께 현장으로 출동했다 성씨는 그사이 부동산 앞에 놓아뒀던 가방을 챙겨 오패산 쪽으로 도망간 후였다',\n",
        "  '김 경위는 오패산 터널 입구 오른쪽의 급경사에서 성씨에게 접근하다가 오후 6시 33분께 풀숲에 숨은 성씨가 허공에 난사한 10여발의 총알 중 일부를 왼쪽 어깨 뒷부분에 맞고 쓰러졌다',\n",
        "  '김 경위는 구급차가 도착했을 때 이미 의식이 없었고 심폐소생술을 하며 병원으로 옮겨졌으나 총알이 폐를 훼손해 오후 7시 40분께 사망했다',\n",
        "  '김 경위는 외근용 조끼를 입고 있었으나 총알을 막기에는 역부족이었다',\n",
        "  '머리에 부상을 입은 이씨도 함께 병원으로 이송됐으나 생명에는 지장이 없는 것으로 알려졌다',\n",
        "  '성씨는 오패산 터널 밑쪽 숲에서 오후 6시 45분께 잡혔다',\n",
        "  '총격현장 수색하는 경찰들 서울 연합뉴스 이효석 기자 19일 오후 서울 강북구 오패산 터널 인근에서 경찰들이 폭행 용의자가 사제총기를 발사해 경찰관이 사망한 사건을 조사 하고 있다',\n",
        "  '총 때문에 쫓던 경관들과 민간인들이 몸을 숨겼는데 인근 신발가게 직원 이모씨가 다가가 성씨를 덮쳤고 이어 현장에 있던 다른 상인들과 경찰이 가세해 체포했다',\n",
        "  '성씨는 경찰에 붙잡힌 직후 나 자살하려고 한 거다 맞아 죽어도 괜찮다 고 말한 것으로 전해졌다',\n",
        "  '성씨 자신도 경찰이 발사한 공포탄 1발 실탄 3발 중 실탄 1발을 배에 맞았으나 방탄조끼를 입은 상태여서 부상하지는 않았다',\n",
        "  '경찰은 인근을 수색해 성씨가 만든 사제총 16정과 칼 7개를 압수했다 실제 폭발할지는 알 수 없는 요구르트병에 무언가를 채워두고 심지를 꽂은 사제 폭탄도 발견됐다',\n",
        "  '일부는 숲에서 발견됐고 일부는 성씨가 소지한 가방 안에 있었다'\n",
        "]\n",
        "\n",
        "keysents = summarizer.summarize(sents, topk=3) #문장개수\n",
        "keysents"
      ],
      "metadata": {
        "id": "44a1aic29OE4"
      },
      "execution_count": null,
      "outputs": []
    },
    {
      "cell_type": "markdown",
      "source": [
        "#### **KoBART**"
      ],
      "metadata": {
        "id": "yLxjblyOI43A"
      }
    },
    {
      "cell_type": "code",
      "source": [],
      "metadata": {
        "id": "8sA1Nlpa7Oo-"
      },
      "execution_count": null,
      "outputs": []
    },
    {
      "cell_type": "markdown",
      "source": [
        "##### **Package_KoBART**"
      ],
      "metadata": {
        "id": "0fM0wZhb3-CZ"
      }
    },
    {
      "cell_type": "code",
      "source": [
        "# Install KoBART Package / 2mins\n",
        "# !git clone https://github.com/seujung/KoBART-summarization.git\n",
        "# %cd KoBART-summarization\n",
        "\n",
        "# KoBART / SKT-AI\n",
        "!pip install git+https://github.com/SKT-AI/KoBART#egg=kobart\n",
        "!pip install transformers==4.16.2\n",
        "\n",
        "!pip install -r requirements.txt\n",
        "\n",
        "# 요구사양\n",
        "# pytorch>=1.10.0\n",
        "# transformers==4.16.2\n",
        "# pytorch-lightning==1.5.10\n",
        "# streamlit==1.2.0\n",
        "\n",
        "# %cd data\n",
        "\n",
        "# !tar -zxvf train.tar.gz\n",
        "# !tar -zxvf test.tar.gz\n",
        "\n",
        "# %cd ../\n",
        "\n",
        "# ! pip install torch==1.7.1+cu101 torchvision==0.8.2+cu101 -f https://download.pytorch.org/whl/torch_stable.html"
      ],
      "metadata": {
        "id": "ijoHQSjpzRjR"
      },
      "execution_count": null,
      "outputs": []
    },
    {
      "cell_type": "markdown",
      "source": [
        "- https://github.com/seujung/KoBART-summarization/blob/main/train.py TRAIN 파일 코드"
      ],
      "metadata": {
        "id": "L2dF2k7jb0bc"
      }
    },
    {
      "cell_type": "code",
      "source": [
        "# ImportError: cannot import name 'get_num_classes' from 'torchmetrics.utilities.data'\n",
        "! pip install torchmetrics==0.6.0"
      ],
      "metadata": {
        "id": "iipXBhm74MsJ"
      },
      "execution_count": null,
      "outputs": []
    },
    {
      "cell_type": "code",
      "source": [
        "# 버전확인\n",
        "# !pip show torch\n",
        "# !pip show torchtext"
      ],
      "metadata": {
        "colab": {
          "base_uri": "https://localhost:8080/"
        },
        "id": "FLDU4z0biiGt",
        "outputId": "9650c0d7-77ec-4a53-a863-dc2fa3b71319"
      },
      "execution_count": null,
      "outputs": [
        {
          "output_type": "stream",
          "name": "stdout",
          "text": [
            "Name: torch\n",
            "Version: 1.10.0\n",
            "Summary: Tensors and Dynamic neural networks in Python with strong GPU acceleration\n",
            "Home-page: https://pytorch.org/\n",
            "Author: PyTorch Team\n",
            "Author-email: packages@pytorch.org\n",
            "License: BSD-3\n",
            "Location: /usr/local/lib/python3.8/dist-packages\n",
            "Requires: typing-extensions\n",
            "Required-by: fastai, kobart, pytorch-lightning, torchaudio, torchmetrics, torchtext, torchvision\n"
          ]
        }
      ]
    },
    {
      "cell_type": "code",
      "source": [
        "# torch 패키지 설치\n",
        "\n",
        "#/usr/local/lib/python3.8/dist-packages/torchvision/io/image.py:13: UserWarning: Failed to load image Python extension: libtorch_cuda_cu.so: cannot open shared object file: No such file or directory\n",
        "# warn(f\"Failed to load image Python extension: {e}\")\n",
        "# OSError: /usr/local/lib/python3.8/dist-packages/torchtext/_torchtext.so: undefined symbol\n",
        "# >> 자신 torch 버전에 맞게 torchtext 재설치 >> https://github.com/pytorch/text#installation\n",
        "\n",
        "!pip install torch==1.7.1+cu101 torchvision==0.8.2+cu101 -f https://download.pytorch.org/whl/torch_stable.html\n",
        "!pip install torchtext==0.8.0\n",
        "\n",
        "# AttributeError: 'Trainer' object has no attribute '_data_connector'\n",
        "! pip install pytorch_lightning==1.5.2"
      ],
      "metadata": {
        "id": "-_13vYQwzVdK"
      },
      "execution_count": null,
      "outputs": []
    },
    {
      "cell_type": "code",
      "source": [
        "# loader 오류 발생시\n",
        "!pip install pyyaml==5.4.1"
      ],
      "metadata": {
        "colab": {
          "base_uri": "https://localhost:8080/"
        },
        "id": "k2L6Krqpzd_D",
        "outputId": "072d44cd-6f95-48a9-d5b7-469fe6e6815a"
      },
      "execution_count": null,
      "outputs": [
        {
          "output_type": "stream",
          "name": "stdout",
          "text": [
            "Looking in indexes: https://pypi.org/simple, https://us-python.pkg.dev/colab-wheels/public/simple/\n",
            "Requirement already satisfied: pyyaml==5.4.1 in /usr/local/lib/python3.8/dist-packages (5.4.1)\n"
          ]
        }
      ]
    },
    {
      "cell_type": "code",
      "source": [
        "# %pwd\n",
        "# %cd ../"
      ],
      "metadata": {
        "colab": {
          "base_uri": "https://localhost:8080/",
          "height": 35
        },
        "id": "JpG4FCUleEM0",
        "outputId": "7c506e03-2832-4bd6-d048-2e34dfed2117"
      },
      "execution_count": null,
      "outputs": [
        {
          "output_type": "execute_result",
          "data": {
            "text/plain": [
              "'/content/drive/MyDrive/project4/RawData/KoBART-summarization'"
            ],
            "application/vnd.google.colaboratory.intrinsic+json": {
              "type": "string"
            }
          },
          "metadata": {},
          "execution_count": 16
        }
      ]
    },
    {
      "cell_type": "markdown",
      "source": [
        "##### **KoBART - Train**"
      ],
      "metadata": {
        "id": "gxXKHSjW4CyS"
      }
    },
    {
      "cell_type": "code",
      "source": [
        "# Merge My Data for Fine-tune\n",
        "# news(data) summary(label) 두 칼럼 / 각 데이터는 str 형태\n",
        "\n",
        "%cd data\n",
        "\n",
        "df_train.to_csv(\"train.tsv\", mode='a', header=0, sep='\\t', index=False)\n",
        "df_val.to_csv(\"test.tsv\", mode='a', header=0, sep='\\t', index=False)\n",
        "\n",
        "%cd ../"
      ],
      "metadata": {
        "id": "VJrIesNXo2gn",
        "colab": {
          "base_uri": "https://localhost:8080/"
        },
        "outputId": "382a3ffb-ab04-45a5-c35b-130f676bdbde"
      },
      "execution_count": null,
      "outputs": [
        {
          "output_type": "stream",
          "name": "stdout",
          "text": [
            "/content/drive/MyDrive/project4/RawData/KoBART-summarization/KoBART-summarization/data\n",
            "/content/drive/MyDrive/project4/RawData/KoBART-summarization/KoBART-summarization\n"
          ]
        }
      ]
    },
    {
      "cell_type": "code",
      "source": [
        "# Train the Data\n",
        "!python train.py  --gradient_clip_val 1.0 --max_epochs 5 --default_root_dir logs  --gpus 1 --batch_size 4 --num_workers 4\n",
        "\n",
        "# 총 소요시간 9시간30분(에포크 0회)"
      ],
      "metadata": {
        "id": "B72r1o4ccp6M",
        "colab": {
          "base_uri": "https://localhost:8080/"
        },
        "outputId": "10af6c21-a08f-4bfc-e6d3-cd789fd38cbf"
      },
      "execution_count": null,
      "outputs": [
        {
          "output_type": "stream",
          "name": "stdout",
          "text": [
            "Traceback (most recent call last):\n",
            "  File \"train.py\", line 4, in <module>\n",
            "    import numpy as np\n",
            "  File \"/usr/local/lib/python3.8/dist-packages/numpy/__init__.py\", line 162, in <module>\n",
            "    from . import ctypeslib\n",
            "  File \"<frozen importlib._bootstrap>\", line 991, in _find_and_load\n",
            "  File \"<frozen importlib._bootstrap>\", line 975, in _find_and_load_unlocked\n",
            "  File \"<frozen importlib._bootstrap>\", line 671, in _load_unlocked\n",
            "  File \"<frozen importlib._bootstrap_external>\", line 844, in exec_module\n",
            "  File \"<frozen importlib._bootstrap_external>\", line 939, in get_code\n",
            "  File \"<frozen importlib._bootstrap_external>\", line 1038, in get_data\n",
            "KeyboardInterrupt\n",
            "^C\n"
          ]
        }
      ]
    },
    {
      "cell_type": "code",
      "source": [
        "%pwd"
      ],
      "metadata": {
        "colab": {
          "base_uri": "https://localhost:8080/",
          "height": 35
        },
        "id": "iNncqo--jHAc",
        "outputId": "fb045065-6ec0-48fe-c34b-e4678395b0f3"
      },
      "execution_count": null,
      "outputs": [
        {
          "output_type": "execute_result",
          "data": {
            "text/plain": [
              "'/content/drive/MyDrive/project4/RawData'"
            ],
            "application/vnd.google.colaboratory.intrinsic+json": {
              "type": "string"
            }
          },
          "metadata": {},
          "execution_count": 20
        }
      ]
    },
    {
      "cell_type": "code",
      "source": [
        "%cd KoBART-summarization\n",
        "# /content/drive/MyDrive/project4/RawData/KoBART-summarization"
      ],
      "metadata": {
        "colab": {
          "base_uri": "https://localhost:8080/"
        },
        "id": "MncHhq8Pjbqg",
        "outputId": "ce9f63ae-b9b3-4e3f-9cc3-dc66920ed827"
      },
      "execution_count": null,
      "outputs": [
        {
          "output_type": "stream",
          "name": "stdout",
          "text": [
            "/content/drive/MyDrive/project4/RawData/KoBART-summarization\n"
          ]
        }
      ]
    },
    {
      "cell_type": "markdown",
      "source": [
        "##### **model**\n",
        "  - Fine tune\n",
        "  - digit82/kobart-summarization\n",
        "  - gogamza/kobart-base-v2\n",
        "  - gogamza/kobart-summarization\n",
        "\n",
        "##### **tokenizer**\n",
        "  - digit82/kobart-summarization\n",
        "  - gogamza/kobart-base-v2 == gogamza/kobart-summarization (MyModel에서 동일한 결과 도출)\n",
        "\n",
        "  - c.f. v1은 사용불가"
      ],
      "metadata": {
        "id": "brlSBq2vicu_"
      }
    },
    {
      "cell_type": "markdown",
      "source": [
        "##### **KoBART - Application**"
      ],
      "metadata": {
        "id": "KV-33IGG4LBl"
      }
    },
    {
      "cell_type": "code",
      "source": [
        "# Load the CheckPoint\n",
        "# OES 발생 시 다시 한번 torch 패키지 설치(미작동되는 경우 있음)\n",
        "\n",
        "# !python get_model_binary.py --hparams ./logs/tb_logs/default/version_0/hparams.yaml --model_binary ./logs/model_chp/epoch=50-val_loss=1.464.ckpt\n",
        "# !python get_model_binary.py --hparams ./logs/tb_logs/default/version_0/hparams.yaml --model_binary $(ls -1 -t ./logs/model_chp | head -1)\n",
        "!python get_model_binary.py --hparams ./logs/tb_logs/default/version_0/hparams.yaml --model_binary ./logs/model_chp/epoch=00-val_loss=1.312.ckpt"
      ],
      "metadata": {
        "id": "1BEriceQjyMp",
        "colab": {
          "base_uri": "https://localhost:8080/"
        },
        "outputId": "6f436c34-3494-4cea-b519-510c3d74ead1"
      },
      "execution_count": null,
      "outputs": [
        {
          "output_type": "stream",
          "name": "stdout",
          "text": [
            "get_model_binary.py:13: YAMLLoadWarning: calling yaml.load() without Loader=... is deprecated, as the default Loader is unsafe. Please read https://msg.pyyaml.org/load for full details.\n",
            "  hparams = yaml.load(f)\n",
            "Downloading: 100% 1.36k/1.36k [00:00<00:00, 1.62MB/s]\n",
            "Downloading: 100% 496M/496M [00:05<00:00, 95.5MB/s]\n",
            "Downloading: 100% 4.00/4.00 [00:00<00:00, 3.62kB/s]\n",
            "Downloading: 100% 111/111 [00:00<00:00, 120kB/s]\n",
            "Downloading: 100% 682k/682k [00:00<00:00, 2.18MB/s]\n"
          ]
        }
      ]
    },
    {
      "cell_type": "code",
      "source": [
        "# 코랩 끊김방지 코드\n",
        "# function ClickConnect(){\n",
        "#     console.log(\"코랩 연결 끊김 방지\");\n",
        "#     document.querySelector(\"colab-toolbar-button#connect\").click()\n",
        "# }\n",
        "# setInterval(ClickConnect, 60 * 1000)"
      ],
      "metadata": {
        "id": "wgE2zVPU1H3Z"
      },
      "execution_count": null,
      "outputs": []
    },
    {
      "cell_type": "code",
      "source": [
        "# Note) BART Model\n",
        "# from transformers import PreTrainedTokenizerFast, BartModel\n",
        "\n",
        "# tokenizer = PreTrainedTokenizerFast.from_pretrained('gogamza/kobart-base-v2')\n",
        "# model = BartModel.from_pretrained('gogamza/kobart-base-v2')"
      ],
      "metadata": {
        "colab": {
          "base_uri": "https://localhost:8080/",
          "height": 177,
          "referenced_widgets": [
            "91784b6b764a4f85a0c4286ba3d87dc3",
            "07d34114ea01475992e1f05e91502138",
            "a6f8302b79a346618af5ecd7e389c351",
            "14c3d04762434b11a9a5bf421feda89f",
            "3525268318454e1c8309b2e406d3d77f",
            "18d5d039fd16447db6562cdc339a87e5",
            "d0f441e413a54a82840b8b3935033571",
            "f11f29bf06774e8e9557cba3bde009c5",
            "db8426fbb4d649f69ecfbf0ed9d2eb51",
            "69b79105301c444cade8afed7bdbd827",
            "b6a9d865dce74f8a98a77abaa35694b0",
            "19e45c138f224dba9471137788bdc896",
            "d3fafc91b085429284e6f8e1f87ba0ad",
            "18331090baa7463eb61840ae7fa68442",
            "44e6012cb46e492285ec6c6c6fcc8381",
            "85fa252e281842888a5ac64b6c324bfa",
            "b59e38e45b4f4d37971fcc19483a3f26",
            "a2066175dcef4402ba7f1a0f17bbc39d",
            "398f8bbbbbbb49f4831ab027ff3d93a9",
            "430235d23d654d429c605c4d515ea5f3",
            "6522f74646b042eea87c8d88a3b89499",
            "cead1bba1018424e9d0b601e416c329b",
            "521e3f169d374d929a5b65b6f31b5011",
            "5133e00d94684fb2b233cbf45b12161c",
            "d7bec8292de744249d571565bbc76b11",
            "57bc310492dd420c8a7b3819fb5ad77b",
            "9f9d36f83d63485f8294a7f4d99a075d",
            "e377c3f19d61454db9b29396fd8f5b79",
            "b70f1debf83c4431958f4eb98535959d",
            "fa62a95856ac4ac3a51d0acdc8439a23",
            "c924bd3b06fe474fad6025a9af506b63",
            "32a2b6817aa843c78d0f38d03bb43fa0",
            "834831b7ad3342e5a01711731b5e7433",
            "3e762614dd6e4b34ae26d50f4d51a74a",
            "bc001663c0c1429d85c15ad951959f81",
            "3da7e235bbe3411e87d626cf2a1f8948",
            "c25a42766a8242e88c9f6104fbe57d12",
            "c7a322dd717e49dcb74b439c5710ec81",
            "a27dcd369ad5464aa0e5a41b2d29d508",
            "335f9fcf2fc24d898430166b5794eba5",
            "631f9c2bcfa6438cad3da495c624abcb",
            "cfc6e4119db44ebb9b0f17b0c3a1db92",
            "427fef7c786a4e04a0eea93881bc460e",
            "48fec6d32b6d40c28eaed103fbf8db71",
            "7420ba621f3d4960aaf6050caffd1bff",
            "03c56a2217fa4b8782cc91fdf145f0c2",
            "b4e9ba09b0b74da7be6a2205968cf8e9",
            "4a2e5f9530734891980be27b6ad0fbd7",
            "999143366a9d4d5492a176b5dca70071",
            "6d37a39a42854cd48017ca2ccea66452",
            "28fc49b7e4504da1a1311b6bb21529c6",
            "ea08c0f74fc44abfa293601226209812",
            "a12570be346f4b5598cb082803495ec5",
            "3ca392a5000d4e858578ad93fd4255a6",
            "4deeaaf8993b48e1b7be7c571249d77c"
          ]
        },
        "id": "Yqzi2oNEYbID",
        "outputId": "98d19489-1df5-4eec-ed6c-5673d75c6450"
      },
      "execution_count": null,
      "outputs": [
        {
          "output_type": "display_data",
          "data": {
            "text/plain": [
              "Downloading:   0%|          | 0.00/4.00 [00:00<?, ?B/s]"
            ],
            "application/vnd.jupyter.widget-view+json": {
              "version_major": 2,
              "version_minor": 0,
              "model_id": "91784b6b764a4f85a0c4286ba3d87dc3"
            }
          },
          "metadata": {}
        },
        {
          "output_type": "display_data",
          "data": {
            "text/plain": [
              "Downloading:   0%|          | 0.00/112 [00:00<?, ?B/s]"
            ],
            "application/vnd.jupyter.widget-view+json": {
              "version_major": 2,
              "version_minor": 0,
              "model_id": "19e45c138f224dba9471137788bdc896"
            }
          },
          "metadata": {}
        },
        {
          "output_type": "display_data",
          "data": {
            "text/plain": [
              "Downloading:   0%|          | 0.00/666k [00:00<?, ?B/s]"
            ],
            "application/vnd.jupyter.widget-view+json": {
              "version_major": 2,
              "version_minor": 0,
              "model_id": "521e3f169d374d929a5b65b6f31b5011"
            }
          },
          "metadata": {}
        },
        {
          "output_type": "display_data",
          "data": {
            "text/plain": [
              "Downloading:   0%|          | 0.00/1.33k [00:00<?, ?B/s]"
            ],
            "application/vnd.jupyter.widget-view+json": {
              "version_major": 2,
              "version_minor": 0,
              "model_id": "3e762614dd6e4b34ae26d50f4d51a74a"
            }
          },
          "metadata": {}
        },
        {
          "output_type": "display_data",
          "data": {
            "text/plain": [
              "Downloading:   0%|          | 0.00/473M [00:00<?, ?B/s]"
            ],
            "application/vnd.jupyter.widget-view+json": {
              "version_major": 2,
              "version_minor": 0,
              "model_id": "7420ba621f3d4960aaf6050caffd1bff"
            }
          },
          "metadata": {}
        }
      ]
    },
    {
      "cell_type": "code",
      "source": [
        "df_train.head()"
      ],
      "metadata": {
        "colab": {
          "base_uri": "https://localhost:8080/",
          "height": 319
        },
        "id": "lEzNXeLGi_kN",
        "outputId": "079d65b7-d58d-4560-fa1b-c06c7ea254a5"
      },
      "execution_count": null,
      "outputs": [
        {
          "output_type": "execute_result",
          "data": {
            "text/plain": [
              "                                            text_concat  \\\n",
              "2749  의사일정 제2항, 회의록 서명의원 선출의 건을 상정합니다. 제188회 음성군의회 임...   \n",
              "898   의사일정 제3항, 밥쌀용 쌀 수입 반대 결의안을 상정합니다. 대표발의하신 이상정 의...   \n",
              "1366  의사일정 제4항, 음성군 지방공무원 정원조례 일부개정조례안, 의사일정 제5항, 음성...   \n",
              "1927  의사일정 제3항, 2006년도 제2회 세입·세출 추가경정예산안 및 2006년도 기금...   \n",
              "1177  산림녹지과장입니다.  2018년도 행정사무감사 시 시정ㆍ건의사항에 대한 조치결과 및...   \n",
              "\n",
              "                                                  label  \n",
              "2749          제188회 임시회 회의록 서명의원으로 반광홍 의원, 정태완 의원이 선출됨.  \n",
              "898   밥쌀용 쌀 수입 반대 결의안은 정부가 밥쌀용 쌀 3만 톤을 미국과 중국에서 수입하기...  \n",
              "1366  음성군 지방공무원 정원조례 일부개정조례안은 전문위원의 직급과 정수 기준이 개정되어 ...  \n",
              "1927  2006년도 제2회 세입, 세출 추가경정예산안 및 2006년도 기금운용계획변경계획안...  \n",
              "1177  만세기념비 등이 있는 오류리 공원의 화장실을 관리하여 주민들이 실제로 이용할 수 있...  "
            ],
            "text/html": [
              "\n",
              "  <div id=\"df-b468f7c9-c974-4b75-8553-c8dd6c82d962\">\n",
              "    <div class=\"colab-df-container\">\n",
              "      <div>\n",
              "<style scoped>\n",
              "    .dataframe tbody tr th:only-of-type {\n",
              "        vertical-align: middle;\n",
              "    }\n",
              "\n",
              "    .dataframe tbody tr th {\n",
              "        vertical-align: top;\n",
              "    }\n",
              "\n",
              "    .dataframe thead th {\n",
              "        text-align: right;\n",
              "    }\n",
              "</style>\n",
              "<table border=\"1\" class=\"dataframe\">\n",
              "  <thead>\n",
              "    <tr style=\"text-align: right;\">\n",
              "      <th></th>\n",
              "      <th>text_concat</th>\n",
              "      <th>label</th>\n",
              "    </tr>\n",
              "  </thead>\n",
              "  <tbody>\n",
              "    <tr>\n",
              "      <th>2749</th>\n",
              "      <td>의사일정 제2항, 회의록 서명의원 선출의 건을 상정합니다. 제188회 음성군의회 임...</td>\n",
              "      <td>제188회 임시회 회의록 서명의원으로 반광홍 의원, 정태완 의원이 선출됨.</td>\n",
              "    </tr>\n",
              "    <tr>\n",
              "      <th>898</th>\n",
              "      <td>의사일정 제3항, 밥쌀용 쌀 수입 반대 결의안을 상정합니다. 대표발의하신 이상정 의...</td>\n",
              "      <td>밥쌀용 쌀 수입 반대 결의안은 정부가 밥쌀용 쌀 3만 톤을 미국과 중국에서 수입하기...</td>\n",
              "    </tr>\n",
              "    <tr>\n",
              "      <th>1366</th>\n",
              "      <td>의사일정 제4항, 음성군 지방공무원 정원조례 일부개정조례안, 의사일정 제5항, 음성...</td>\n",
              "      <td>음성군 지방공무원 정원조례 일부개정조례안은 전문위원의 직급과 정수 기준이 개정되어 ...</td>\n",
              "    </tr>\n",
              "    <tr>\n",
              "      <th>1927</th>\n",
              "      <td>의사일정 제3항, 2006년도 제2회 세입·세출 추가경정예산안 및 2006년도 기금...</td>\n",
              "      <td>2006년도 제2회 세입, 세출 추가경정예산안 및 2006년도 기금운용계획변경계획안...</td>\n",
              "    </tr>\n",
              "    <tr>\n",
              "      <th>1177</th>\n",
              "      <td>산림녹지과장입니다.  2018년도 행정사무감사 시 시정ㆍ건의사항에 대한 조치결과 및...</td>\n",
              "      <td>만세기념비 등이 있는 오류리 공원의 화장실을 관리하여 주민들이 실제로 이용할 수 있...</td>\n",
              "    </tr>\n",
              "  </tbody>\n",
              "</table>\n",
              "</div>\n",
              "      <button class=\"colab-df-convert\" onclick=\"convertToInteractive('df-b468f7c9-c974-4b75-8553-c8dd6c82d962')\"\n",
              "              title=\"Convert this dataframe to an interactive table.\"\n",
              "              style=\"display:none;\">\n",
              "        \n",
              "  <svg xmlns=\"http://www.w3.org/2000/svg\" height=\"24px\"viewBox=\"0 0 24 24\"\n",
              "       width=\"24px\">\n",
              "    <path d=\"M0 0h24v24H0V0z\" fill=\"none\"/>\n",
              "    <path d=\"M18.56 5.44l.94 2.06.94-2.06 2.06-.94-2.06-.94-.94-2.06-.94 2.06-2.06.94zm-11 1L8.5 8.5l.94-2.06 2.06-.94-2.06-.94L8.5 2.5l-.94 2.06-2.06.94zm10 10l.94 2.06.94-2.06 2.06-.94-2.06-.94-.94-2.06-.94 2.06-2.06.94z\"/><path d=\"M17.41 7.96l-1.37-1.37c-.4-.4-.92-.59-1.43-.59-.52 0-1.04.2-1.43.59L10.3 9.45l-7.72 7.72c-.78.78-.78 2.05 0 2.83L4 21.41c.39.39.9.59 1.41.59.51 0 1.02-.2 1.41-.59l7.78-7.78 2.81-2.81c.8-.78.8-2.07 0-2.86zM5.41 20L4 18.59l7.72-7.72 1.47 1.35L5.41 20z\"/>\n",
              "  </svg>\n",
              "      </button>\n",
              "      \n",
              "  <style>\n",
              "    .colab-df-container {\n",
              "      display:flex;\n",
              "      flex-wrap:wrap;\n",
              "      gap: 12px;\n",
              "    }\n",
              "\n",
              "    .colab-df-convert {\n",
              "      background-color: #E8F0FE;\n",
              "      border: none;\n",
              "      border-radius: 50%;\n",
              "      cursor: pointer;\n",
              "      display: none;\n",
              "      fill: #1967D2;\n",
              "      height: 32px;\n",
              "      padding: 0 0 0 0;\n",
              "      width: 32px;\n",
              "    }\n",
              "\n",
              "    .colab-df-convert:hover {\n",
              "      background-color: #E2EBFA;\n",
              "      box-shadow: 0px 1px 2px rgba(60, 64, 67, 0.3), 0px 1px 3px 1px rgba(60, 64, 67, 0.15);\n",
              "      fill: #174EA6;\n",
              "    }\n",
              "\n",
              "    [theme=dark] .colab-df-convert {\n",
              "      background-color: #3B4455;\n",
              "      fill: #D2E3FC;\n",
              "    }\n",
              "\n",
              "    [theme=dark] .colab-df-convert:hover {\n",
              "      background-color: #434B5C;\n",
              "      box-shadow: 0px 1px 3px 1px rgba(0, 0, 0, 0.15);\n",
              "      filter: drop-shadow(0px 1px 2px rgba(0, 0, 0, 0.3));\n",
              "      fill: #FFFFFF;\n",
              "    }\n",
              "  </style>\n",
              "\n",
              "      <script>\n",
              "        const buttonEl =\n",
              "          document.querySelector('#df-b468f7c9-c974-4b75-8553-c8dd6c82d962 button.colab-df-convert');\n",
              "        buttonEl.style.display =\n",
              "          google.colab.kernel.accessAllowed ? 'block' : 'none';\n",
              "\n",
              "        async function convertToInteractive(key) {\n",
              "          const element = document.querySelector('#df-b468f7c9-c974-4b75-8553-c8dd6c82d962');\n",
              "          const dataTable =\n",
              "            await google.colab.kernel.invokeFunction('convertToInteractive',\n",
              "                                                     [key], {});\n",
              "          if (!dataTable) return;\n",
              "\n",
              "          const docLinkHtml = 'Like what you see? Visit the ' +\n",
              "            '<a target=\"_blank\" href=https://colab.research.google.com/notebooks/data_table.ipynb>data table notebook</a>'\n",
              "            + ' to learn more about interactive tables.';\n",
              "          element.innerHTML = '';\n",
              "          dataTable['output_type'] = 'display_data';\n",
              "          await google.colab.output.renderOutput(dataTable, element);\n",
              "          const docLink = document.createElement('div');\n",
              "          docLink.innerHTML = docLinkHtml;\n",
              "          element.appendChild(docLink);\n",
              "        }\n",
              "      </script>\n",
              "    </div>\n",
              "  </div>\n",
              "  "
            ]
          },
          "metadata": {},
          "execution_count": 12
        }
      ]
    },
    {
      "cell_type": "code",
      "source": [
        "df_val.head()"
      ],
      "metadata": {
        "colab": {
          "base_uri": "https://localhost:8080/",
          "height": 337
        },
        "id": "aXpf3iOQPXMC",
        "outputId": "e0ff61bc-8661-4afa-fa86-62c244157c3d"
      },
      "execution_count": null,
      "outputs": [
        {
          "output_type": "execute_result",
          "data": {
            "text/plain": [
              "                                            text_concat  \\\n",
              "754   의사일정 제2항, 2001년도행정사무감사결과보고서채택의건을 상정합니다. 행정사무감사...   \n",
              "1219  의사일정 제8항 1998공유재산관리계획변경승인안을 상정합니다. 산림과장께서는 본 승...   \n",
              "1980  의석을 정돈해 주시기 바랍니다.  성원이 되었으므로 제42회 청주시의회(임시회) 제...   \n",
              "591   의사일정 제3항 음성군세감면조례중개정조례안을 상정합니다. 재무과장께서는 나오셔서 본...   \n",
              "1900  다음은 의사일정 제7항 휴회의 건을 상정합니다.  본 건은 상임위원회 및 특별위원회...   \n",
              "\n",
              "                                                  label  \n",
              "754                           2001년도 행정사무감사 결과보고서를 채택함.  \n",
              "1219                       1998년도 공유재산 관리계획 변경승인안이 가결됨.  \n",
              "1980                     제42회 청주시의회(임시회) 제1차 본회의 개의 선포.  \n",
              "591   음성군세감면조례중개정조례안은 농외 소득원 개발, 재래시장 재개발, 재건축 등 국가정...  \n",
              "1900                  11월 28일부터 12월 10일까지 13일간 휴회가 가결됨.  "
            ],
            "text/html": [
              "\n",
              "  <div id=\"df-12340e49-3fb0-4f2a-92b8-68289cc8ae97\">\n",
              "    <div class=\"colab-df-container\">\n",
              "      <div>\n",
              "<style scoped>\n",
              "    .dataframe tbody tr th:only-of-type {\n",
              "        vertical-align: middle;\n",
              "    }\n",
              "\n",
              "    .dataframe tbody tr th {\n",
              "        vertical-align: top;\n",
              "    }\n",
              "\n",
              "    .dataframe thead th {\n",
              "        text-align: right;\n",
              "    }\n",
              "</style>\n",
              "<table border=\"1\" class=\"dataframe\">\n",
              "  <thead>\n",
              "    <tr style=\"text-align: right;\">\n",
              "      <th></th>\n",
              "      <th>text_concat</th>\n",
              "      <th>label</th>\n",
              "    </tr>\n",
              "  </thead>\n",
              "  <tbody>\n",
              "    <tr>\n",
              "      <th>754</th>\n",
              "      <td>의사일정 제2항, 2001년도행정사무감사결과보고서채택의건을 상정합니다. 행정사무감사...</td>\n",
              "      <td>2001년도 행정사무감사 결과보고서를 채택함.</td>\n",
              "    </tr>\n",
              "    <tr>\n",
              "      <th>1219</th>\n",
              "      <td>의사일정 제8항 1998공유재산관리계획변경승인안을 상정합니다. 산림과장께서는 본 승...</td>\n",
              "      <td>1998년도 공유재산 관리계획 변경승인안이 가결됨.</td>\n",
              "    </tr>\n",
              "    <tr>\n",
              "      <th>1980</th>\n",
              "      <td>의석을 정돈해 주시기 바랍니다.  성원이 되었으므로 제42회 청주시의회(임시회) 제...</td>\n",
              "      <td>제42회 청주시의회(임시회) 제1차 본회의 개의 선포.</td>\n",
              "    </tr>\n",
              "    <tr>\n",
              "      <th>591</th>\n",
              "      <td>의사일정 제3항 음성군세감면조례중개정조례안을 상정합니다. 재무과장께서는 나오셔서 본...</td>\n",
              "      <td>음성군세감면조례중개정조례안은 농외 소득원 개발, 재래시장 재개발, 재건축 등 국가정...</td>\n",
              "    </tr>\n",
              "    <tr>\n",
              "      <th>1900</th>\n",
              "      <td>다음은 의사일정 제7항 휴회의 건을 상정합니다.  본 건은 상임위원회 및 특별위원회...</td>\n",
              "      <td>11월 28일부터 12월 10일까지 13일간 휴회가 가결됨.</td>\n",
              "    </tr>\n",
              "  </tbody>\n",
              "</table>\n",
              "</div>\n",
              "      <button class=\"colab-df-convert\" onclick=\"convertToInteractive('df-12340e49-3fb0-4f2a-92b8-68289cc8ae97')\"\n",
              "              title=\"Convert this dataframe to an interactive table.\"\n",
              "              style=\"display:none;\">\n",
              "        \n",
              "  <svg xmlns=\"http://www.w3.org/2000/svg\" height=\"24px\"viewBox=\"0 0 24 24\"\n",
              "       width=\"24px\">\n",
              "    <path d=\"M0 0h24v24H0V0z\" fill=\"none\"/>\n",
              "    <path d=\"M18.56 5.44l.94 2.06.94-2.06 2.06-.94-2.06-.94-.94-2.06-.94 2.06-2.06.94zm-11 1L8.5 8.5l.94-2.06 2.06-.94-2.06-.94L8.5 2.5l-.94 2.06-2.06.94zm10 10l.94 2.06.94-2.06 2.06-.94-2.06-.94-.94-2.06-.94 2.06-2.06.94z\"/><path d=\"M17.41 7.96l-1.37-1.37c-.4-.4-.92-.59-1.43-.59-.52 0-1.04.2-1.43.59L10.3 9.45l-7.72 7.72c-.78.78-.78 2.05 0 2.83L4 21.41c.39.39.9.59 1.41.59.51 0 1.02-.2 1.41-.59l7.78-7.78 2.81-2.81c.8-.78.8-2.07 0-2.86zM5.41 20L4 18.59l7.72-7.72 1.47 1.35L5.41 20z\"/>\n",
              "  </svg>\n",
              "      </button>\n",
              "      \n",
              "  <style>\n",
              "    .colab-df-container {\n",
              "      display:flex;\n",
              "      flex-wrap:wrap;\n",
              "      gap: 12px;\n",
              "    }\n",
              "\n",
              "    .colab-df-convert {\n",
              "      background-color: #E8F0FE;\n",
              "      border: none;\n",
              "      border-radius: 50%;\n",
              "      cursor: pointer;\n",
              "      display: none;\n",
              "      fill: #1967D2;\n",
              "      height: 32px;\n",
              "      padding: 0 0 0 0;\n",
              "      width: 32px;\n",
              "    }\n",
              "\n",
              "    .colab-df-convert:hover {\n",
              "      background-color: #E2EBFA;\n",
              "      box-shadow: 0px 1px 2px rgba(60, 64, 67, 0.3), 0px 1px 3px 1px rgba(60, 64, 67, 0.15);\n",
              "      fill: #174EA6;\n",
              "    }\n",
              "\n",
              "    [theme=dark] .colab-df-convert {\n",
              "      background-color: #3B4455;\n",
              "      fill: #D2E3FC;\n",
              "    }\n",
              "\n",
              "    [theme=dark] .colab-df-convert:hover {\n",
              "      background-color: #434B5C;\n",
              "      box-shadow: 0px 1px 3px 1px rgba(0, 0, 0, 0.15);\n",
              "      filter: drop-shadow(0px 1px 2px rgba(0, 0, 0, 0.3));\n",
              "      fill: #FFFFFF;\n",
              "    }\n",
              "  </style>\n",
              "\n",
              "      <script>\n",
              "        const buttonEl =\n",
              "          document.querySelector('#df-12340e49-3fb0-4f2a-92b8-68289cc8ae97 button.colab-df-convert');\n",
              "        buttonEl.style.display =\n",
              "          google.colab.kernel.accessAllowed ? 'block' : 'none';\n",
              "\n",
              "        async function convertToInteractive(key) {\n",
              "          const element = document.querySelector('#df-12340e49-3fb0-4f2a-92b8-68289cc8ae97');\n",
              "          const dataTable =\n",
              "            await google.colab.kernel.invokeFunction('convertToInteractive',\n",
              "                                                     [key], {});\n",
              "          if (!dataTable) return;\n",
              "\n",
              "          const docLinkHtml = 'Like what you see? Visit the ' +\n",
              "            '<a target=\"_blank\" href=https://colab.research.google.com/notebooks/data_table.ipynb>data table notebook</a>'\n",
              "            + ' to learn more about interactive tables.';\n",
              "          element.innerHTML = '';\n",
              "          dataTable['output_type'] = 'display_data';\n",
              "          await google.colab.output.renderOutput(dataTable, element);\n",
              "          const docLink = document.createElement('div');\n",
              "          docLink.innerHTML = docLinkHtml;\n",
              "          element.appendChild(docLink);\n",
              "        }\n",
              "      </script>\n",
              "    </div>\n",
              "  </div>\n",
              "  "
            ]
          },
          "metadata": {},
          "execution_count": 27
        }
      ]
    },
    {
      "cell_type": "code",
      "source": [
        "df_test.head()"
      ],
      "metadata": {
        "colab": {
          "base_uri": "https://localhost:8080/",
          "height": 337
        },
        "id": "DV-zep9APgbC",
        "outputId": "cd566926-33fa-4503-d8bf-8832af24123b"
      },
      "execution_count": null,
      "outputs": [
        {
          "output_type": "execute_result",
          "data": {
            "text/plain": [
              "                                            text_concat  \\\n",
              "2420  의사일정 제3항 의사일정변경의 건을 상정합니다.  당초 7월 3일 제2차 본회의시 ...   \n",
              "2866  의사일정 제3항, 음성군 지역치안협의회 조례 일부개정조례안을 상정합니다. 행정과장님...   \n",
              "1724  다음은 지방자치법 제64조제2항과 회의규칙 제46조제1항의 규정에 의하여 제102회...   \n",
              "1124  다음은 의사일정 제3항 완주군의회 예산결산 특별위원회 구성 결의안을 상정합니다.  ...   \n",
              "975   다음은 의사일정 제2항 완주군 지방공무원정원 조례 일부개정조례안, 의사일정 제3항 ...   \n",
              "\n",
              "                                                  label  \n",
              "2420  제2차 본회의에 상임위원회 위원 선임의 건과 상임위원장 선거를 상정하기로 함. 해당...  \n",
              "2866  음성군 지역치안협의회 조례 일부개정조례안은 지역치안협의회에 보조금 지원이 용이하도록...  \n",
              "1724    제102회 완주군의회 임시회 회의록 서명의원으로 박웅배 의원과 김순길 의원을 선임함.  \n",
              "1124  예산결산특별위원회위원은 의장을 제외한 9인으로 구성함. 특별위원회는 2012년 7월...  \n",
              "975   완주군 지방공무원정원 조례 일부개정조례안은 부동산 실거래가 신고제 등 토지관련 업무...  "
            ],
            "text/html": [
              "\n",
              "  <div id=\"df-69b7d51e-7211-4480-b87a-a85aa0d87125\">\n",
              "    <div class=\"colab-df-container\">\n",
              "      <div>\n",
              "<style scoped>\n",
              "    .dataframe tbody tr th:only-of-type {\n",
              "        vertical-align: middle;\n",
              "    }\n",
              "\n",
              "    .dataframe tbody tr th {\n",
              "        vertical-align: top;\n",
              "    }\n",
              "\n",
              "    .dataframe thead th {\n",
              "        text-align: right;\n",
              "    }\n",
              "</style>\n",
              "<table border=\"1\" class=\"dataframe\">\n",
              "  <thead>\n",
              "    <tr style=\"text-align: right;\">\n",
              "      <th></th>\n",
              "      <th>text_concat</th>\n",
              "      <th>label</th>\n",
              "    </tr>\n",
              "  </thead>\n",
              "  <tbody>\n",
              "    <tr>\n",
              "      <th>2420</th>\n",
              "      <td>의사일정 제3항 의사일정변경의 건을 상정합니다.  당초 7월 3일 제2차 본회의시 ...</td>\n",
              "      <td>제2차 본회의에 상임위원회 위원 선임의 건과 상임위원장 선거를 상정하기로 함. 해당...</td>\n",
              "    </tr>\n",
              "    <tr>\n",
              "      <th>2866</th>\n",
              "      <td>의사일정 제3항, 음성군 지역치안협의회 조례 일부개정조례안을 상정합니다. 행정과장님...</td>\n",
              "      <td>음성군 지역치안협의회 조례 일부개정조례안은 지역치안협의회에 보조금 지원이 용이하도록...</td>\n",
              "    </tr>\n",
              "    <tr>\n",
              "      <th>1724</th>\n",
              "      <td>다음은 지방자치법 제64조제2항과 회의규칙 제46조제1항의 규정에 의하여 제102회...</td>\n",
              "      <td>제102회 완주군의회 임시회 회의록 서명의원으로 박웅배 의원과 김순길 의원을 선임함.</td>\n",
              "    </tr>\n",
              "    <tr>\n",
              "      <th>1124</th>\n",
              "      <td>다음은 의사일정 제3항 완주군의회 예산결산 특별위원회 구성 결의안을 상정합니다.  ...</td>\n",
              "      <td>예산결산특별위원회위원은 의장을 제외한 9인으로 구성함. 특별위원회는 2012년 7월...</td>\n",
              "    </tr>\n",
              "    <tr>\n",
              "      <th>975</th>\n",
              "      <td>다음은 의사일정 제2항 완주군 지방공무원정원 조례 일부개정조례안, 의사일정 제3항 ...</td>\n",
              "      <td>완주군 지방공무원정원 조례 일부개정조례안은 부동산 실거래가 신고제 등 토지관련 업무...</td>\n",
              "    </tr>\n",
              "  </tbody>\n",
              "</table>\n",
              "</div>\n",
              "      <button class=\"colab-df-convert\" onclick=\"convertToInteractive('df-69b7d51e-7211-4480-b87a-a85aa0d87125')\"\n",
              "              title=\"Convert this dataframe to an interactive table.\"\n",
              "              style=\"display:none;\">\n",
              "        \n",
              "  <svg xmlns=\"http://www.w3.org/2000/svg\" height=\"24px\"viewBox=\"0 0 24 24\"\n",
              "       width=\"24px\">\n",
              "    <path d=\"M0 0h24v24H0V0z\" fill=\"none\"/>\n",
              "    <path d=\"M18.56 5.44l.94 2.06.94-2.06 2.06-.94-2.06-.94-.94-2.06-.94 2.06-2.06.94zm-11 1L8.5 8.5l.94-2.06 2.06-.94-2.06-.94L8.5 2.5l-.94 2.06-2.06.94zm10 10l.94 2.06.94-2.06 2.06-.94-2.06-.94-.94-2.06-.94 2.06-2.06.94z\"/><path d=\"M17.41 7.96l-1.37-1.37c-.4-.4-.92-.59-1.43-.59-.52 0-1.04.2-1.43.59L10.3 9.45l-7.72 7.72c-.78.78-.78 2.05 0 2.83L4 21.41c.39.39.9.59 1.41.59.51 0 1.02-.2 1.41-.59l7.78-7.78 2.81-2.81c.8-.78.8-2.07 0-2.86zM5.41 20L4 18.59l7.72-7.72 1.47 1.35L5.41 20z\"/>\n",
              "  </svg>\n",
              "      </button>\n",
              "      \n",
              "  <style>\n",
              "    .colab-df-container {\n",
              "      display:flex;\n",
              "      flex-wrap:wrap;\n",
              "      gap: 12px;\n",
              "    }\n",
              "\n",
              "    .colab-df-convert {\n",
              "      background-color: #E8F0FE;\n",
              "      border: none;\n",
              "      border-radius: 50%;\n",
              "      cursor: pointer;\n",
              "      display: none;\n",
              "      fill: #1967D2;\n",
              "      height: 32px;\n",
              "      padding: 0 0 0 0;\n",
              "      width: 32px;\n",
              "    }\n",
              "\n",
              "    .colab-df-convert:hover {\n",
              "      background-color: #E2EBFA;\n",
              "      box-shadow: 0px 1px 2px rgba(60, 64, 67, 0.3), 0px 1px 3px 1px rgba(60, 64, 67, 0.15);\n",
              "      fill: #174EA6;\n",
              "    }\n",
              "\n",
              "    [theme=dark] .colab-df-convert {\n",
              "      background-color: #3B4455;\n",
              "      fill: #D2E3FC;\n",
              "    }\n",
              "\n",
              "    [theme=dark] .colab-df-convert:hover {\n",
              "      background-color: #434B5C;\n",
              "      box-shadow: 0px 1px 3px 1px rgba(0, 0, 0, 0.15);\n",
              "      filter: drop-shadow(0px 1px 2px rgba(0, 0, 0, 0.3));\n",
              "      fill: #FFFFFF;\n",
              "    }\n",
              "  </style>\n",
              "\n",
              "      <script>\n",
              "        const buttonEl =\n",
              "          document.querySelector('#df-69b7d51e-7211-4480-b87a-a85aa0d87125 button.colab-df-convert');\n",
              "        buttonEl.style.display =\n",
              "          google.colab.kernel.accessAllowed ? 'block' : 'none';\n",
              "\n",
              "        async function convertToInteractive(key) {\n",
              "          const element = document.querySelector('#df-69b7d51e-7211-4480-b87a-a85aa0d87125');\n",
              "          const dataTable =\n",
              "            await google.colab.kernel.invokeFunction('convertToInteractive',\n",
              "                                                     [key], {});\n",
              "          if (!dataTable) return;\n",
              "\n",
              "          const docLinkHtml = 'Like what you see? Visit the ' +\n",
              "            '<a target=\"_blank\" href=https://colab.research.google.com/notebooks/data_table.ipynb>data table notebook</a>'\n",
              "            + ' to learn more about interactive tables.';\n",
              "          element.innerHTML = '';\n",
              "          dataTable['output_type'] = 'display_data';\n",
              "          await google.colab.output.renderOutput(dataTable, element);\n",
              "          const docLink = document.createElement('div');\n",
              "          docLink.innerHTML = docLinkHtml;\n",
              "          element.appendChild(docLink);\n",
              "        }\n",
              "      </script>\n",
              "    </div>\n",
              "  </div>\n",
              "  "
            ]
          },
          "metadata": {},
          "execution_count": 29
        }
      ]
    },
    {
      "cell_type": "code",
      "source": [
        "# Preprocess Texts / tokenizer Issue\n",
        "\n",
        "# 테스트셋의 문단 길이 확인\n",
        "lst_up = []\n",
        "for i in df_test.index :\n",
        "  text = df_test['text_concat'][i]\n",
        "  if len(text) >= 1024:\n",
        "    lst_up.append(i)\n",
        "\n",
        "print(len(lst_up))\n",
        "\n",
        "# 테스트셋 중 글자수 1024 이상 데이터 제외 > 추후 데이터 전처리(1024 이하로 분할)\n",
        "# df_test 2226 > IndexError: index out of range in self > embedding error\n",
        "# 넣은 문단이 너무 길어서 발생 / pretrained tokenizer 대부분이 1024 이하로 한정되어있기 때문에 그에 맞춰서 전처리 필요\n",
        "\n",
        "df_test_new = df_test[~df_test.index.isin(lst_up)]\n",
        "df_test_new.shape\n",
        "\n",
        "# 가공된 테스트셋의 문단 길이 이상치 확인\n",
        "lst_up = []\n",
        "for i in df_test_new.index :\n",
        "  text = df_test_new['text_concat'][i]\n",
        "  if len(text) >= 1024:\n",
        "    lst_up.append(i)\n",
        "\n",
        "len(lst_up)"
      ],
      "metadata": {
        "colab": {
          "base_uri": "https://localhost:8080/"
        },
        "id": "mGC99nqUuDqL",
        "outputId": "c8aa6a7a-9d7b-4ada-c2a0-603ceaf89345"
      },
      "execution_count": null,
      "outputs": [
        {
          "output_type": "execute_result",
          "data": {
            "text/plain": [
              "0"
            ]
          },
          "metadata": {},
          "execution_count": 23
        }
      ]
    },
    {
      "cell_type": "markdown",
      "source": [
        "###### **DL Comparison**"
      ],
      "metadata": {
        "id": "lFdZ-syqtu92"
      }
    },
    {
      "cell_type": "markdown",
      "source": [
        "**1. Compare Tokenizer(same person)**"
      ],
      "metadata": {
        "id": "Fk7pGPR24myh"
      }
    },
    {
      "cell_type": "code",
      "source": [
        "# model - Fine-tune\n",
        "# tokenizer - gogamza/kobart-summarization\n",
        "# 소요시간 약 20분 (개당 3~5초)\n",
        "\n",
        "import torch\n",
        "from transformers import PreTrainedTokenizerFast\n",
        "from transformers import BartForConditionalGeneration\n",
        "\n",
        "\n",
        "model = BartForConditionalGeneration.from_pretrained('/content/drive/MyDrive/project4/RawData/KoBART-summarization/kobart_summary')\n",
        "tokenizer = PreTrainedTokenizerFast.from_pretrained('gogamza/kobart-summarization')\n",
        "\n",
        "\n",
        "lst_summary = []\n",
        "for index in list(df_test_new.index):\n",
        "  # print(index) #현재 진행위치 기록용\n",
        "  text = df_test_new.loc[index, 'text_concat']\n",
        "  raw_input_ids = tokenizer.encode(text)\n",
        "  input_ids = [tokenizer.bos_token_id] + raw_input_ids + [tokenizer.eos_token_id]\n",
        "\n",
        "  summary_ids = model.generate(torch.tensor([input_ids]),  num_beams=4,  max_length=512,  eos_token_id=1)\n",
        "  summary = tokenizer.decode(summary_ids.squeeze().tolist(), skip_special_tokens=True)\n",
        "  lst_summary.append((index, text, summary))\n",
        "\n",
        "print(lst_summary[0])\n"
      ],
      "metadata": {
        "id": "VBQrSOGHzfkD"
      },
      "execution_count": null,
      "outputs": []
    },
    {
      "cell_type": "code",
      "source": [
        "df_test_mymodel_gogamza_summary = pd.DataFrame(lst_summary, columns=['index','text','summary'])\n",
        "df_test_mymodel_gogamza_summary.to_csv('df_test_mymodel_gogamza_summary.csv', encoding='utf-8')"
      ],
      "metadata": {
        "id": "5LZQvmfDAkYi"
      },
      "execution_count": null,
      "outputs": []
    },
    {
      "cell_type": "code",
      "source": [
        "# model - Fine Tune\n",
        "# tokenizer - gogamza/kobart-base-v2  == gogamza/kobart-summarization\n",
        "## 동일 사람이 제작한 토크나이저에 따른 결과 차이 없었음\n",
        "# 소요시간 / 16분\n",
        "\n",
        "import torch\n",
        "from transformers import PreTrainedTokenizerFast\n",
        "from transformers import BartForConditionalGeneration\n",
        "\n",
        "\n",
        "model = BartForConditionalGeneration.from_pretrained('/content/drive/MyDrive/project4/RawData/KoBART-summarization/kobart_summary')\n",
        "tokenizer = PreTrainedTokenizerFast.from_pretrained('gogamza/kobart-base-v2')\n",
        "\n",
        "\n",
        "lst_summary_v2 = []\n",
        "for index in list(df_test_new.index):\n",
        "  print(index) #현재 진행위치 기록용\n",
        "  text = df_test_new.loc[index, 'text_concat']\n",
        "  raw_input_ids = tokenizer.encode(text)\n",
        "  input_ids = [tokenizer.bos_token_id] + raw_input_ids + [tokenizer.eos_token_id]\n",
        "\n",
        "  summary_ids = model.generate(torch.tensor([input_ids]),  num_beams=4,  max_length=512,  eos_token_id=1)\n",
        "  summary = tokenizer.decode(summary_ids.squeeze().tolist(), skip_special_tokens=True)\n",
        "  lst_summary_v2.append((index, text, summary))\n",
        "\n",
        "print(lst_summary_v2[0])\n",
        "\n",
        "df_test_mymodel_gogamza_v2 = pd.DataFrame(lst_summary_v2, columns=['index','text','summary'])\n",
        "df_test_mymodel_gogamza_v2.to_csv('df_test_mymodel_gogamza_v2.csv', encoding='utf-8')"
      ],
      "metadata": {
        "id": "CnhQa_8hzkHb"
      },
      "execution_count": null,
      "outputs": []
    },
    {
      "cell_type": "markdown",
      "source": [
        "**2. Fine tune VS Original**"
      ],
      "metadata": {
        "id": "1Vhdi6714zkI"
      }
    },
    {
      "cell_type": "code",
      "source": [
        "# model - gogamza/kobart-summarization\n",
        "# tokenizer - gogamza/kobart-summarization\n",
        "## premodel 사용 시 결과 비교\n",
        "# 소요시간 24분\n",
        "\n",
        "import torch\n",
        "from transformers import PreTrainedTokenizerFast\n",
        "from transformers import BartForConditionalGeneration\n",
        "\n",
        "\n",
        "model = BartForConditionalGeneration.from_pretrained('gogamza/kobart-summarization')\n",
        "tokenizer = PreTrainedTokenizerFast.from_pretrained('gogamza/kobart-summarization')\n",
        "\n",
        "\n",
        "lst_pre_summary = []\n",
        "for index in list(df_test_new.index):\n",
        "  # print(index) #현재 진행위치 기록용\n",
        "  text = df_test_new.loc[index, 'text_concat']\n",
        "  raw_input_ids = tokenizer.encode(text)\n",
        "  input_ids = [tokenizer.bos_token_id] + raw_input_ids + [tokenizer.eos_token_id]\n",
        "\n",
        "  summary_ids = model.generate(torch.tensor([input_ids]),  num_beams=4,  max_length=128,  eos_token_id=1)\n",
        "  summary = tokenizer.decode(summary_ids.squeeze().tolist(), skip_special_tokens=True)\n",
        "  lst_pre_summary.append((index, text, summary))\n",
        "  # print(summary)\n",
        "\n",
        "print(lst_pre_summary[0])\n",
        "\n",
        "df_test_premodel_gogamza_summary = pd.DataFrame(lst_pre_summary, columns=['index','text','summary'])\n",
        "df_test_premodel_gogamza_summary.to_csv('df_test_premodel_gogamza_summary.csv', encoding='utf-8')"
      ],
      "metadata": {
        "id": "kV4eq6AOzls-"
      },
      "execution_count": null,
      "outputs": []
    },
    {
      "cell_type": "markdown",
      "source": [
        "**3. Compare Tokenizer(other persons)**"
      ],
      "metadata": {
        "id": "bYnMEBGg5XQK"
      }
    },
    {
      "cell_type": "code",
      "source": [
        "# Option1 1\n",
        "# model - Fine Tune\n",
        "# tokenizer - digit82/kobart-summarization\n",
        "## 다른 사람에 제작한 tokenizer와의 비교\n",
        "# 소요시간 17분\n",
        "\n",
        "import torch\n",
        "from transformers import PreTrainedTokenizerFast\n",
        "from transformers import BartForConditionalGeneration\n",
        "\n",
        "\n",
        "model = BartForConditionalGeneration.from_pretrained('/content/drive/MyDrive/project4/RawData/KoBART-summarization/kobart_summary')\n",
        "tokenizer = PreTrainedTokenizerFast.from_pretrained('digit82/kobart-summarization')\n",
        "\n",
        "\n",
        "lst_summary_digit = []\n",
        "for index in list(df_test_new.index):\n",
        "  # print(index) #현재 진행위치 기록용\n",
        "  text = df_test_new.loc[index, 'text_concat']\n",
        "  label = df_test_new.loc[index, 'label']\n",
        "  raw_input_ids = tokenizer.encode(text)\n",
        "  input_ids = [tokenizer.bos_token_id] + raw_input_ids + [tokenizer.eos_token_id]\n",
        "\n",
        "  summary_ids = model.generate(torch.tensor([input_ids]),  num_beams=4,  max_length=512,  eos_token_id=1)\n",
        "  summary = tokenizer.decode(summary_ids.squeeze().tolist(), skip_special_tokens=True)\n",
        "  lst_summary_digit.append((index, text, summary, label))\n",
        "\n",
        "print(lst_summary_digit[0])\n",
        "\n",
        "df_test_mymodel_digit_summary= pd.DataFrame(lst_summary_digit, columns=['index','text','summary','label'])\n",
        "df_test_mymodel_digit_summary.to_csv('df_test_mymodel_digit_summary.csv', encoding='utf-8')"
      ],
      "metadata": {
        "id": "dP_GHHWLzrv_"
      },
      "execution_count": null,
      "outputs": []
    },
    {
      "cell_type": "code",
      "source": [
        "# 옵션 2 > 진행X\n",
        "# model - digit82/kobart-summarization\n",
        "# tokenizer - digit82/kobart-summarization\n",
        "## 다른 premodel 사용결과 비교 / 다른 사람이 제작\n",
        "import torch\n",
        "from transformers import PreTrainedTokenizerFast\n",
        "from transformers import BartForConditionalGeneration\n",
        "\n",
        "tokenizer = PreTrainedTokenizerFast.from_pretrained('digit82/kobart-summarization')\n",
        "model = BartForConditionalGeneration.from_pretrained('digit82/kobart-summarization')\n",
        "\n",
        "text = df_test['text_concat'][2420]\n",
        "\n",
        "raw_input_ids = tokenizer.encode(text)\n",
        "input_ids = [tokenizer.bos_token_id] + raw_input_ids + [tokenizer.eos_token_id]\n",
        "\n",
        "summary_ids = model.generate(torch.tensor([input_ids]),  num_beams=4,  max_length=128,  eos_token_id=1)\n",
        "tokenizer.decode(summary_ids.squeeze().tolist(), skip_special_tokens=True)\n"
      ],
      "metadata": {
        "colab": {
          "base_uri": "https://localhost:8080/",
          "height": 118,
          "referenced_widgets": [
            "8b8920680a644012b22b5e5a64aaed81",
            "ce658ad7c08644d1843bf4ccb1ab6bb6",
            "c2d6eee8f0a04d86a05307ab0c964ba5",
            "77a37af167c34d389affd62e1ec61391",
            "5b3ac9f513434efaadacf39c8710e02f",
            "9dbc7662597d4372a5edd1f497ea9e8c",
            "bb79f4c993c74160a40c0e03193fdb7a",
            "6304fbba99664a79bc64e60d8969bb5f",
            "80a9a7af4f564d26a8e6319b0b8bf8ca",
            "6a30c28e7dd241d4a552954013fc5eb5",
            "23ddb7573638487496fd61887a5ac4f4",
            "a7277b333b1b4a99925ecaf6e3a95c1f",
            "62f5b5c60cb54b04ab38f0aa299755c8",
            "c4bae6d700574660b8233fc47b60eab6",
            "f8dbadda7d784012aab852eb876e53ff",
            "f6c3eec37782400eb105171df4e49ee4",
            "9e9c2412df1740a88d13d65379bba860",
            "1de13fe081de40faa1a73799e6289ade",
            "889146b7e599439d81df9836409950a6",
            "cc433155da174d05a841f28d8d04474c",
            "adcee819d8a1430a911277e2dc379201",
            "e0474c8377534c29bd8ea2e18b10d420"
          ]
        },
        "id": "tDB-EJuij9PX",
        "outputId": "dca1ba44-c24f-4c86-a6b0-15c31bdb0461"
      },
      "execution_count": null,
      "outputs": [
        {
          "output_type": "display_data",
          "data": {
            "text/plain": [
              "Downloading:   0%|          | 0.00/1.20k [00:00<?, ?B/s]"
            ],
            "application/vnd.jupyter.widget-view+json": {
              "version_major": 2,
              "version_minor": 0,
              "model_id": "8b8920680a644012b22b5e5a64aaed81"
            }
          },
          "metadata": {}
        },
        {
          "output_type": "display_data",
          "data": {
            "text/plain": [
              "Downloading:   0%|          | 0.00/496M [00:00<?, ?B/s]"
            ],
            "application/vnd.jupyter.widget-view+json": {
              "version_major": 2,
              "version_minor": 0,
              "model_id": "a7277b333b1b4a99925ecaf6e3a95c1f"
            }
          },
          "metadata": {}
        },
        {
          "output_type": "execute_result",
          "data": {
            "text/plain": [
              "'당초 7월 3일 제2차 본회의시 상임위원회 위원 선임의 건과 상임위원장 선거를 4항과 5항으로 상정하여 처리하고자 하는데 의원여러분 이의 없으십니까?(『없습니다』하는 의원 있음. )이의가 없으므로 가결되었음을 선포한다.'"
            ],
            "application/vnd.google.colaboratory.intrinsic+json": {
              "type": "string"
            }
          },
          "metadata": {},
          "execution_count": 31
        }
      ]
    },
    {
      "cell_type": "code",
      "source": [
        "# 옵션 3 > 진행 X\n",
        "# model - gogamza/kobart-base-v2\n",
        "# tokenizer - gogamza/kobart-base-v2\n",
        "## 다른 premodel 사용결과 비교 / summary 전용이 아닌 kobart\n",
        "# 소요시간 / 1분당 3건 > 4시간\n",
        "\n",
        "import torch\n",
        "from transformers import PreTrainedTokenizerFast\n",
        "from transformers import BartForConditionalGeneration\n",
        "\n",
        "\n",
        "model = BartForConditionalGeneration.from_pretrained('gogamza/kobart-base-v2')\n",
        "tokenizer = PreTrainedTokenizerFast.from_pretrained('gogamza/kobart-base-v2')\n",
        "\n",
        "\n",
        "lst_summary = []\n",
        "for index in list(df_test['text_concat'].index):\n",
        "  print(index)\n",
        "  text = df_test.loc[index, 'text_concat']\n",
        "  raw_input_ids = tokenizer.encode(text)\n",
        "  input_ids = [tokenizer.bos_token_id] + raw_input_ids + [tokenizer.eos_token_id]\n",
        "\n",
        "  summary_ids = model.generate(torch.tensor([input_ids]),  num_beams=4,  max_length=128,  eos_token_id=1)\n",
        "  summary = tokenizer.decode(summary_ids.squeeze().tolist(), skip_special_tokens=True)\n",
        "  lst_summary.append((text, summary))\n",
        "\n",
        "print(lst_summary[0])"
      ],
      "metadata": {
        "id": "N6UJBY9dzvh9"
      },
      "execution_count": null,
      "outputs": []
    },
    {
      "cell_type": "markdown",
      "source": [
        "###### **KoBART Error Fix**"
      ],
      "metadata": {
        "id": "4U8LwpX8tqEf"
      }
    },
    {
      "cell_type": "code",
      "source": [
        "# Check the Data Form\n",
        "import torch\n",
        "from transformers import PreTrainedTokenizerFast\n",
        "from transformers import BartForConditionalGeneration\n",
        "\n",
        "from transformers import PreTrainedTokenizerFast, BartModel\n",
        "\n",
        "\n",
        "tokenizer = PreTrainedTokenizerFast.from_pretrained('gogamza/kobart-summarization')\n",
        "model = BartForConditionalGeneration.from_pretrained('gogamza/kobart-summarization')\n",
        "\n",
        "text = str(df['text'][0][0] + df['text'][0][1])\n",
        "# 의석을 정돈하여 주시기 바랍니다. 성원이 되었으므로 제207회 완주군의회 임시회 제1차 본회의 개의를 선포합니다.\n",
        "# 먼저 의사팀장으로부터 의회 관련 사항에 대한 보고가 있겠습니다. 의사팀장은 보고하여 주시기 바랍니다.\n",
        "# 의사팀장 이은미 입니다. 의회관련 사항을 보고 드리겠습니다. 먼저 제207회 완주군의회 임시회 소집경위를 보고 드리겠습니다.\n",
        "# 지방자치법 제45조 제2항의 규정에 의거 서남용 의원님 외 4인의 의원님으로부터 임시회 집회 요구가 있어\n",
        "# 지난 8월6일 집회 공고를 하고 오늘 집회를 갖게 되었습니다. 다음은 의안접수 및 회부사항입니다.\n",
        "# 먼저 의원발의 안건입니다. 완주군의회 의원 의정활동비등 지급에 관한 조례 일부개정 조례안, 완주군 향토문화유산 보호\n",
        "# 및 관리 조례안, 완주군 싸움소 육성 지원에 관한 조례안 등 총 3건으로, 해당 상임의원회로 회부 하였습니다.\n",
        "# 다음은 완주군수로부터 제출된 안건입니다.\n",
        "# 삼례문화예술촌 설치 및 운영조례 일부개정 조례안 등 총 40건으로 해당 상임의원회로 회부하였습니다.\n",
        "# 자세한 내용은 배부해 드린 유인물을 참조하여 주시기 바랍니다. 이상 보고를 마치겠습니다.\n",
        "\n",
        "\n",
        "raw_input_ids = tokenizer.encode(text)\n",
        "input_ids = [tokenizer.bos_token_id] + raw_input_ids + [tokenizer.eos_token_id]\n",
        "\n",
        "summary_ids = model.generate(torch.tensor([input_ids]),  num_beams=4,  max_length=18,  eos_token_id=1)\n",
        "tokenizer.decode(summary_ids.squeeze().tolist(), skip_special_tokens=True)\n",
        "\n",
        "\n",
        "# 512\n",
        "# 제207회 완주군의회 임시회 임시회 제1차 본회의 개의를 선포하며 의안접수 및 회부사항, 삼례문화예술촌 설치 및 운영조례 일부개정 조례안,\n",
        "# 완주군 싸움소 육성 지원에 관한 조례안 등 총 3건으로 해당 상임의원회로 회부하였다.\n",
        "\n",
        "# 126\n",
        "# 제207회 완주군의회 임시회 임시회 제1차 본회의 개의를 선포하며 의안접수 및 회부사항, 삼례문화예술촌 설치 및 운영조례 일부개정 조례안,\n",
        "# 완주군 싸움소 육성 지원에 관한 조례안 등 총 3건으로 해당 상임의원회로 회부하였다.\n",
        "\n",
        "# max_length = 18\n",
        "# 제207회 완주군의회 임시회 제1차 본회의 개의를 선포"
      ],
      "metadata": {
        "colab": {
          "base_uri": "https://localhost:8080/",
          "height": 35
        },
        "id": "7sMlTgmFmaOj",
        "outputId": "93499545-0018-4fd6-9994-cf6a3ac5c7c9"
      },
      "execution_count": null,
      "outputs": [
        {
          "output_type": "execute_result",
          "data": {
            "text/plain": [
              "'제207회 완주군의회 임시회 제1차 본회의 개의를 선포'"
            ],
            "application/vnd.google.colaboratory.intrinsic+json": {
              "type": "string"
            }
          },
          "metadata": {},
          "execution_count": 64
        }
      ]
    },
    {
      "cell_type": "code",
      "source": [
        "# model - Fine Tune , tokenizer - digit82/kobart-summarization 사용\n",
        "\n",
        "import torch\n",
        "from transformers import PreTrainedTokenizerFast\n",
        "from transformers import BartForConditionalGeneration\n",
        "\n",
        "\n",
        "model = BartForConditionalGeneration.from_pretrained('/content/drive/MyDrive/project4/RawData/KoBART-summarization/kobart_summary')\n",
        "tokenizer = PreTrainedTokenizerFast.from_pretrained('digit82/kobart-summarization')\n",
        "\n",
        "text = df_test['text_concat'][2420]\n",
        "\n",
        "raw_input_ids = tokenizer.encode(text)\n",
        "input_ids = [tokenizer.bos_token_id] + raw_input_ids + [tokenizer.eos_token_id]\n",
        "\n",
        "summary_ids = model.generate(torch.tensor([input_ids]),  num_beams=4,  max_length=512,  eos_token_id=1)\n",
        "tokenizer.decode(summary_ids.squeeze().tolist(), skip_special_tokens=True)\n"
      ],
      "metadata": {
        "colab": {
          "base_uri": "https://localhost:8080/",
          "height": 35
        },
        "id": "fnGlQQyVjiVk",
        "outputId": "b0f386ba-afce-4421-f636-74ce5d73df41"
      },
      "execution_count": null,
      "outputs": [
        {
          "output_type": "execute_result",
          "data": {
            "text/plain": [
              "'7월 3일 제2차 본회의시 상임위원회 위원 선임의 건과 상임위원장 선거를 4항과 5항으로 가결됨.'"
            ],
            "application/vnd.google.colaboratory.intrinsic+json": {
              "type": "string"
            }
          },
          "metadata": {},
          "execution_count": 30
        }
      ]
    },
    {
      "cell_type": "code",
      "source": [
        "# Error B/C Text Length\n",
        "# digit82/kobart-summarization\n",
        "# gogamza/kobart-base-v2\n",
        "# gogamza/kobart-summarization\n",
        "# tokenizer 1024 이하인 문단에 대해서만 요약 가능 > 논문용은 longformer 사용\n",
        "\n",
        "import torch\n",
        "from transformers import PreTrainedTokenizerFast\n",
        "from transformers import BartForConditionalGeneration\n",
        "\n",
        "\n",
        "model = BartForConditionalGeneration.from_pretrained('/content/drive/MyDrive/project4/RawData/KoBART-summarization/kobart_summary')\n",
        "tokenizer = PreTrainedTokenizerFast.from_pretrained('gogamza/kobart-summarization')\n",
        "\n",
        "text = df_test['text_concat'][2226] #len = 1294\n",
        "\n",
        "# 문단 길이가 긴 문장에 대해 자름\n",
        "raw_input_ids = tokenizer.encode(text)\n",
        "if len(raw_input_ids) >= 512:\n",
        "  raw_input_ids1 = raw_input_ids[:1024]\n",
        "\n",
        "input_ids = [tokenizer.bos_token_id] + raw_input_ids1 + [tokenizer.eos_token_id]\n",
        "\n",
        "summary_ids = model.generate(torch.tensor([input_ids]),  num_beams=4,  max_length=512,  eos_token_id=1)\n",
        "tokenizer.decode(summary_ids.squeeze().tolist(), skip_special_tokens=True)"
      ],
      "metadata": {
        "colab": {
          "base_uri": "https://localhost:8080/",
          "height": 257,
          "referenced_widgets": [
            "02d2179958524f3dac9c939ab59e3b25",
            "5eb807af7a1349fdb4c471cd470f180f",
            "41bbbd8998d04a4baebac42fa9593a4d",
            "8241e5336b594cd3ad90065c655cbbbf",
            "d6f211f4f23c4128be99e9309d0129fb",
            "57b18e7a5e0c4925820d6a86d3877aee",
            "305d5c36988b42a995c99be3a16d5ebb",
            "02d926c8f441467db9717ba0dda3ac9d",
            "f259032cf85e4918a17fc756ec60b5b7",
            "2c1a349ef77f4a91a266515807120311",
            "29d3d3e9c7734d0996dad44306603852",
            "beaa2a6d4fec4a289bc7b8ac8301b803",
            "7dd625ebd6db4475b56ff31d0b16be3d",
            "3d089bea534a4982822496b9c9f17f7a",
            "9d5df49641a74d499f56b1e52760f8de",
            "49d405ca40d042d6b173b1c0db2e505b",
            "035a1dfb098f40f0b7ba92d715b9a6e3",
            "26d45a1229f1457b8198bfa74904afa5",
            "45e0214794e64ea9b571d789cefd04a0",
            "ad45225f106247628ad73cad3684d550",
            "1874477b9f894995a8d91d125bfad5a9",
            "771f05482f5e44498344b8b5dea83370",
            "3736ab388e644a11926054b3d20b2e85",
            "e7950bfe43a145819abaa950d963e240",
            "e8ebcab123844ae298e36f352d39c415",
            "bc80400c4e824c97889ebb08fd1cefd5",
            "f44c7f27ceb84d2c843e7881158268e8",
            "d241cb84c58143e2baf9fbfa7a4870aa",
            "7d8810df6c9e4593b74dc769d75c8bf9",
            "b3cb0c11c43c42b494381d0810bc86f2",
            "2e1998d0a51b4e2f8c1b4d81c4754c68",
            "c6126733aa514d3a9f204a0d14840867",
            "a014b489576a42afa5a52c813163179d",
            "d05327aad3214862be200c122e4cc10b",
            "43d3c3bee6354fcfb3744471ba86c418",
            "46669a5846da4d92b8ad66d062d3005a",
            "a1db3c826fbe41a29bf1b4cd89df43cf",
            "c33e31c4e3b5463594338ff1c98b6480",
            "380bdbe6093b4506b33c7ac19401e6ab",
            "3b9e13fe1b1b4ee1b70dcf3b1f268f0b",
            "e4c7f5bcbc83464aa55a3c8738808dab",
            "3285eaf5c9d045ce9e20841080124b37",
            "3ac13f73dc304922a76056f892578024",
            "38f1442e1b4741e48ac88000b6d7e621"
          ]
        },
        "id": "DyW8wGEKrEmW",
        "outputId": "2f98dab1-a6aa-4ab9-886d-86b29e672fc8"
      },
      "execution_count": null,
      "outputs": [
        {
          "output_type": "display_data",
          "data": {
            "text/plain": [
              "Downloading:   0%|          | 0.00/4.00 [00:00<?, ?B/s]"
            ],
            "application/vnd.jupyter.widget-view+json": {
              "version_major": 2,
              "version_minor": 0,
              "model_id": "02d2179958524f3dac9c939ab59e3b25"
            }
          },
          "metadata": {}
        },
        {
          "output_type": "display_data",
          "data": {
            "text/plain": [
              "Downloading:   0%|          | 0.00/111 [00:00<?, ?B/s]"
            ],
            "application/vnd.jupyter.widget-view+json": {
              "version_major": 2,
              "version_minor": 0,
              "model_id": "beaa2a6d4fec4a289bc7b8ac8301b803"
            }
          },
          "metadata": {}
        },
        {
          "output_type": "display_data",
          "data": {
            "text/plain": [
              "Downloading:   0%|          | 0.00/666k [00:00<?, ?B/s]"
            ],
            "application/vnd.jupyter.widget-view+json": {
              "version_major": 2,
              "version_minor": 0,
              "model_id": "3736ab388e644a11926054b3d20b2e85"
            }
          },
          "metadata": {}
        },
        {
          "output_type": "display_data",
          "data": {
            "text/plain": [
              "Downloading:   0%|          | 0.00/1.15k [00:00<?, ?B/s]"
            ],
            "application/vnd.jupyter.widget-view+json": {
              "version_major": 2,
              "version_minor": 0,
              "model_id": "d05327aad3214862be200c122e4cc10b"
            }
          },
          "metadata": {}
        },
        {
          "output_type": "stream",
          "name": "stderr",
          "text": [
            "The tokenizer class you load from this checkpoint is not the same type as the class this function is called from. It may result in unexpected tokenization. \n",
            "The tokenizer class you load from this checkpoint is 'BartTokenizer'. \n",
            "The class this function is called from is 'PreTrainedTokenizerFast'.\n"
          ]
        },
        {
          "output_type": "execute_result",
          "data": {
            "text/plain": [
              "'예산결산특별위원회에서 지난 3월 13일부터 3월 18일까지 심사한 2019년도 제1회 세입 세출 추가경정예산안 및 기금운용계획 변경안 승인의 건을 일괄 상정함.'"
            ],
            "application/vnd.google.colaboratory.intrinsic+json": {
              "type": "string"
            }
          },
          "metadata": {},
          "execution_count": 53
        }
      ]
    },
    {
      "cell_type": "code",
      "source": [
        "# gogamza/kobart-base-v1\n",
        "import torch\n",
        "from transformers import PreTrainedTokenizerFast\n",
        "from transformers import BartForConditionalGeneration\n",
        "\n",
        "from transformers import PreTrainedTokenizerFast, BartModel\n",
        "\n",
        "\n",
        "tokenizer = PreTrainedTokenizerFast.from_pretrained('gogamza/kobart-base-v1')\n",
        "model = BartForConditionalGeneration.from_pretrained('gogamza/kobart-base-v1')\n",
        "\n",
        "text = df_test['text_concat'][2420]\n",
        "\n",
        "raw_input_ids = tokenizer.encode(text)\n",
        "input_ids = [tokenizer.bos_token_id] + raw_input_ids + [tokenizer.eos_token_id]\n",
        "\n",
        "summary_ids = model.generate(torch.tensor([input_ids]),  num_beams=4,  max_length=512,  eos_token_id=1)\n",
        "tokenizer.decode(summary_ids.squeeze().tolist(), skip_special_tokens=True)"
      ],
      "metadata": {
        "colab": {
          "base_uri": "https://localhost:8080/",
          "height": 35
        },
        "id": "mIfFO8gPkE_s",
        "outputId": "2ecd3c16-ba5f-4d93-ee7d-db945f5d5c52"
      },
      "execution_count": null,
      "outputs": [
        {
          "output_type": "execute_result",
          "data": {
            "text/plain": [
              "''"
            ],
            "application/vnd.google.colaboratory.intrinsic+json": {
              "type": "string"
            }
          },
          "metadata": {},
          "execution_count": 33
        }
      ]
    },
    {
      "cell_type": "code",
      "source": [
        "#digit82/kobart-summarization\n",
        "import torch\n",
        "from transformers import PreTrainedTokenizerFast\n",
        "from transformers import BartForConditionalGeneration\n",
        "\n",
        "tokenizer = PreTrainedTokenizerFast.from_pretrained('digit82/kobart-summarization')\n",
        "model = BartForConditionalGeneration.from_pretrained('digit82/kobart-summarization')\n",
        "\n",
        "text = str(df['text'][0][0] + df['text'][0][1])\n",
        "# 의석을 정돈하여 주시기 바랍니다. 성원이 되었으므로 제207회 완주군의회 임시회 제1차 본회의 개의를 선포합니다.\n",
        "# 먼저 의사팀장으로부터 의회 관련 사항에 대한 보고가 있겠습니다. 의사팀장은 보고하여 주시기 바랍니다.\n",
        "# 의사팀장 이은미 입니다. 의회관련 사항을 보고 드리겠습니다. 먼저 제207회 완주군의회 임시회 소집경위를 보고 드리겠습니다.\n",
        "# 지방자치법 제45조 제2항의 규정에 의거 서남용 의원님 외 4인의 의원님으로부터 임시회 집회 요구가 있어\n",
        "# 지난 8월6일 집회 공고를 하고 오늘 집회를 갖게 되었습니다. 다음은 의안접수 및 회부사항입니다.\n",
        "# 먼저 의원발의 안건입니다. 완주군의회 의원 의정활동비등 지급에 관한 조례 일부개정 조례안, 완주군 향토문화유산 보호\n",
        "# 및 관리 조례안, 완주군 싸움소 육성 지원에 관한 조례안 등 총 3건으로, 해당 상임의원회로 회부 하였습니다.\n",
        "# 다음은 완주군수로부터 제출된 안건입니다.\n",
        "# 삼례문화예술촌 설치 및 운영조례 일부개정 조례안 등 총 40건으로 해당 상임의원회로 회부하였습니다.\n",
        "# 자세한 내용은 배부해 드린 유인물을 참조하여 주시기 바랍니다. 이상 보고를 마치겠습니다.\n",
        "\n",
        "\n",
        "raw_input_ids = tokenizer.encode(text)\n",
        "input_ids = [tokenizer.bos_token_id] + raw_input_ids + [tokenizer.eos_token_id]\n",
        "\n",
        "summary_ids = model.generate(torch.tensor([input_ids]),  num_beams=4,  max_length=512,  eos_token_id=1)\n",
        "tokenizer.decode(summary_ids.squeeze().tolist(), skip_special_tokens=True)\n",
        "\n",
        "# max_length\n",
        "# 512\n",
        "# 지방자치법 제45조 제2항의 규정에 의거 서남용 의원님 외 4인의 의원님으로부터 임시회 집회 요구가 있어\n",
        "# 지난 8월6일 집회 공고를 하고 오늘 집회를 갖게 된 제207회 완주군의회 임시회 제1차 본회의 개의를 선포했다.\n"
      ],
      "metadata": {
        "colab": {
          "base_uri": "https://localhost:8080/",
          "height": 54
        },
        "id": "CROT7vnqnZ-X",
        "outputId": "f275d8c4-8a5b-4a3d-a2a4-bd190b156d3a"
      },
      "execution_count": null,
      "outputs": [
        {
          "output_type": "execute_result",
          "data": {
            "text/plain": [
              "'지방자치법 제45조 제2항의 규정에 의거 서남용 의원님 외 4인의 의원님으로부터 임시회 집회 요구가 있어 지난 8월6일 집회 공고를 하고 오늘 집회를 갖게 된 제207회 완주군의회 임시회 제1차 본회의 개의를 선포했다.'"
            ],
            "application/vnd.google.colaboratory.intrinsic+json": {
              "type": "string"
            }
          },
          "metadata": {},
          "execution_count": 68
        }
      ]
    },
    {
      "cell_type": "code",
      "source": [
        "# ToyText\n",
        "\n",
        "# text = \"\"\"\n",
        "# 1일 오후 9시까지 최소 20만3220명이 코로나19에 신규 확진됐다. 또다시 동시간대 최다 기록으로, 사상 처음 20만명대에 진입했다.\n",
        "# 방역 당국과 서울시 등 각 지방자치단체에 따르면 이날 0시부터 오후 9시까지 전국 신규 확진자는 총 20만3220명으로 집계됐다.\n",
        "# 국내 신규 확진자 수가 20만명대를 넘어선 것은 이번이 처음이다.\n",
        "# 동시간대 최다 기록은 지난 23일 오후 9시 기준 16만1389명이었는데, 이를 무려 4만1831명이나 웃돌았다. 전날 같은 시간 기록한 13만3481명보다도 6만9739명 많다.\n",
        "# 확진자 폭증은 3시간 전인 오후 6시 집계에서도 예견됐다.\n",
        "# 오후 6시까지 최소 17만8603명이 신규 확진돼 동시간대 최다 기록(24일 13만8419명)을 갈아치운 데 이어 이미 직전 0시 기준 역대 최다 기록도 넘어섰다. 역대 최다 기록은 지난 23일 0시 기준 17만1451명이었다.\n",
        "# 17개 지자체별로 보면 서울 4만6938명, 경기 6만7322명, 인천 1만985명 등 수도권이 12만5245명으로 전체의 61.6%를 차지했다. 서울과 경기는 모두 동시간대 기준 최다로, 처음으로 각각 4만명과 6만명을 넘어섰다.\n",
        "# 비수도권에서는 7만7975명(38.3%)이 발생했다. 제주를 제외한 나머지 지역에서 모두 동시간대 최다를 새로 썼다.\n",
        "# 부산 1만890명, 경남 9909명, 대구 6900명, 경북 6977명, 충남 5900명, 대전 5292명, 전북 5150명, 울산 5141명, 광주 5130명, 전남 4996명, 강원 4932명, 충북 3845명, 제주 1513명, 세종 1400명이다.\n",
        "# 집계를 마감하는 자정까지 시간이 남아있는 만큼 2일 0시 기준으로 발표될 신규 확진자 수는 이보다 더 늘어날 수 있다. 이에 따라 최종 집계되는 확진자 수는 21만명 안팎을 기록할 수 있을 전망이다.\n",
        "# 한편 전날 하루 선별진료소에서 이뤄진 검사는 70만8763건으로 검사 양성률은 40.5%다. 양성률이 40%를 넘은 것은 이번이 처음이다. 확산세가 계속 거세질 수 있다는 얘기다.\n",
        "# 이날 0시 기준 신규 확진자는 13만8993명이었다. 이틀 연속 13만명대를 이어갔다.\n",
        "# \"\"\"\n",
        "\n",
        "# text = text.replace('\\n', ' ')"
      ],
      "metadata": {
        "id": "CmxPZiAtP83D"
      },
      "execution_count": null,
      "outputs": []
    },
    {
      "cell_type": "markdown",
      "source": [
        "#### **Evaluation**"
      ],
      "metadata": {
        "id": "5QoTvJ57iIVW"
      }
    },
    {
      "cell_type": "code",
      "source": [
        "# Check Text Length of TestSet\n",
        "lst_up = []\n",
        "for i in df_test.index :\n",
        "  text = df_test['text_concat'][i]\n",
        "  if len(text) >= 1024:\n",
        "    lst_up.append(i)\n",
        "\n",
        "len(lst_up)\n",
        "\n",
        "# 테스트셋 중 글자수 1024 이상 데이터 제외 > 추후 데이터 전처리(1024 이하로 분할)\n",
        "# df_test 2226 > IndexError: index out of range in self > embedding error\n",
        "# 넣은 문단이 너무 길어서 발생 / pretrained tokenizer 대부분이 1024 이하로 한정되어있기 때문에 그에 맞춰서 전처리 필요\n",
        "\n",
        "df_test_new = df_test[~df_test.index.isin(lst_up)]\n",
        "df_test_new.shape\n",
        "\n",
        "# 가공된 테스트셋의 문단 길이 이상치 확인\n",
        "lst_up = []\n",
        "for i in df_test_new.index :\n",
        "  text = df_test_new['text_concat'][i]\n",
        "  if len(text) >= 1024:\n",
        "    lst_up.append(i)\n",
        "\n",
        "len(lst_up)"
      ],
      "metadata": {
        "colab": {
          "base_uri": "https://localhost:8080/"
        },
        "id": "CnyDMVGIgH_Z",
        "outputId": "c1b77c05-a0ae-4871-a64d-b1b797fa16a5"
      },
      "execution_count": null,
      "outputs": [
        {
          "output_type": "execute_result",
          "data": {
            "text/plain": [
              "0"
            ]
          },
          "metadata": {},
          "execution_count": 6
        }
      ]
    },
    {
      "cell_type": "code",
      "source": [
        "df_test_new.shape"
      ],
      "metadata": {
        "colab": {
          "base_uri": "https://localhost:8080/"
        },
        "id": "huFkC4BThiE6",
        "outputId": "7d39f718-064f-4f34-9e6c-d82e4f49795b"
      },
      "execution_count": null,
      "outputs": [
        {
          "output_type": "execute_result",
          "data": {
            "text/plain": [
              "(458, 2)"
            ]
          },
          "metadata": {},
          "execution_count": 17
        }
      ]
    },
    {
      "cell_type": "code",
      "source": [
        "df_test_new.to_csv('df_test_label.csv', encoding='utf-8')"
      ],
      "metadata": {
        "id": "EgwJz6zVh7FC"
      },
      "execution_count": null,
      "outputs": []
    },
    {
      "cell_type": "code",
      "source": [
        "# rouge-2 score\n",
        "!pip install rouge"
      ],
      "metadata": {
        "colab": {
          "base_uri": "https://localhost:8080/"
        },
        "id": "Ptsi6Z9Kpc7g",
        "outputId": "f2c24337-eb23-4031-ced2-cda1c9838075"
      },
      "execution_count": null,
      "outputs": [
        {
          "output_type": "stream",
          "name": "stdout",
          "text": [
            "Looking in indexes: https://pypi.org/simple, https://us-python.pkg.dev/colab-wheels/public/simple/\n",
            "Collecting rouge\n",
            "  Downloading rouge-1.0.1-py3-none-any.whl (13 kB)\n",
            "Requirement already satisfied: six in /usr/local/lib/python3.8/dist-packages (from rouge) (1.15.0)\n",
            "Installing collected packages: rouge\n",
            "Successfully installed rouge-1.0.1\n"
          ]
        }
      ]
    },
    {
      "cell_type": "markdown",
      "source": [
        "###### **Rouge Score**\n",
        "- 텍스트 자동 요약, 기계 번역 등을 평가하는 지표\n",
        "- 모델이 생성한 요약본 혹은 번역본을 사람이 미리 만들어 놓은 참조본과 대조해 성능 점수(precision과 recall, f1-score)를 계산\n",
        "- ROUGE-N: unigram, bigram, trigram 등 문장 간 중복되는 n-gram을 비교하는 지표\n",
        "- ROUGE-L: LCS 기법을 이용해 최장 길이로 매칭되는 문자열을 측정. ROUGE-2와 같이 단어들의 연속적 매칭을 요구하지 않고, 어떻게든 문자열 내에서 발생하는 매칭을 측정하기 때문에 보다 유연한 성능 비교가 가능\n",
        "\n",
        "Ref)\n",
        "- RDASS 논문(+계산과정) [https://kakaoenterprise.github.io/deepdive/210729](https://colab.research.google.com/corgiredirector?site=https%3A%2F%2Fkakaoenterprise.github.io%2Fdeepdive%2F210729)\n",
        "- RDASS에 대한 간단정리 [https://velog.io/@idj7183/%ED%94%84%EB%A1%9C%EC%A0%9D%ED%8A%B8-2%EC%9D%BC%EC%B0%A8](https://colab.research.google.com/corgiredirector?site=https%3A%2F%2Fvelog.io%2F%40idj7183%2F%25ED%2594%2584%25EB%25A1%259C%25EC%25A0%259D%25ED%258A%25B8-2%25EC%259D%25BC%25EC%25B0%25A8)\n",
        "- 각종 지표에 대한 고찰 https://velog.io/@crosstar1228/NLPRouge-score-Summarization%EC%9D%98-%ED%8F%89%EA%B0%80-Metric"
      ],
      "metadata": {
        "id": "jQUsLUIeTm6J"
      }
    },
    {
      "cell_type": "code",
      "source": [
        "%pwd\n",
        "%cd KoBART-summarization"
      ],
      "metadata": {
        "colab": {
          "base_uri": "https://localhost:8080/",
          "height": 35
        },
        "id": "5iAxY7-HhLw5",
        "outputId": "a42519d2-feda-4132-a6db-9ed97c96f480"
      },
      "execution_count": null,
      "outputs": [
        {
          "output_type": "execute_result",
          "data": {
            "text/plain": [
              "'/content/drive/MyDrive/project4/RawData'"
            ],
            "application/vnd.google.colaboratory.intrinsic+json": {
              "type": "string"
            }
          },
          "metadata": {},
          "execution_count": 162
        }
      ]
    },
    {
      "cell_type": "code",
      "source": [
        "# Load the Data\n",
        "## Tokenizer comparision\n",
        "# df_test_mymodel_gogamza_summary\n",
        "# df_test_mymodel_digit_summary\n",
        "\n",
        "## Finetune VS Original\n",
        "# df_test_premodel_gogamza_summary\n",
        "\n",
        "df_test_mymodel_gogamza_summary = pd.read_csv('df_test_mymodel_gogamza_summary.csv', index_col=0)\n",
        "df_test_mymodel_digit_summary = pd.read_csv('df_test_mymodel_digit_summary.csv', index_col=0)\n",
        "df_test_premodel_gogamza_summary = pd.read_csv('df_test_premodel_gogamza_summary.csv', index_col=0)\n",
        "df_test_textrank = pd.read_csv('textrank.csv', index_col=0)\n",
        "\n",
        "\n",
        "# c.f. df_test_mymodel_gogamza_v2의 결과는 df_test_mymodel_gogamza_summary와 동일함"
      ],
      "metadata": {
        "id": "hOJDUWPygZf-"
      },
      "execution_count": null,
      "outputs": []
    },
    {
      "cell_type": "code",
      "source": [
        "df_test_mymodel_gogamza_summary.shape, df_test_new.shape"
      ],
      "metadata": {
        "colab": {
          "base_uri": "https://localhost:8080/"
        },
        "id": "6Ur51olOhfZA",
        "outputId": "d9e78205-e676-4da7-e880-097a23e39ab9"
      },
      "execution_count": null,
      "outputs": [
        {
          "output_type": "execute_result",
          "data": {
            "text/plain": [
              "((458, 3), (458, 2))"
            ]
          },
          "metadata": {},
          "execution_count": 19
        }
      ]
    },
    {
      "cell_type": "code",
      "source": [
        "df_test_new.head()"
      ],
      "metadata": {
        "colab": {
          "base_uri": "https://localhost:8080/",
          "height": 206
        },
        "id": "w_tnx_KZhl_C",
        "outputId": "d5d791ea-952d-4971-c8f6-c5198c74ce1b"
      },
      "execution_count": null,
      "outputs": [
        {
          "output_type": "execute_result",
          "data": {
            "text/plain": [
              "                                            text_concat  \\\n",
              "2420  의사일정 제3항 의사일정변경의 건을 상정합니다.  당초 7월 3일 제2차 본회의시 ...   \n",
              "1724  다음은 지방자치법 제64조제2항과 회의규칙 제46조제1항의 규정에 의하여 제102회...   \n",
              "1124  다음은 의사일정 제3항 완주군의회 예산결산 특별위원회 구성 결의안을 상정합니다.  ...   \n",
              "2945  다음은 의사일정 제5항, 본회의 휴회의 건을 상정합니다.  상임위원회 등 의정활동을...   \n",
              "2560  의석을 정돈하여 주시기 바랍니다. 성원이 되었으므로 지금부터 제75회 음성군의회 임...   \n",
              "\n",
              "                                                  label  \n",
              "2420  제2차 본회의에 상임위원회 위원 선임의 건과 상임위원장 선거를 상정하기로 함. 해당...  \n",
              "1724    제102회 완주군의회 임시회 회의록 서명의원으로 박웅배 의원과 김순길 의원을 선임함.  \n",
              "1124  예산결산특별위원회위원은 의장을 제외한 9인으로 구성함. 특별위원회는 2012년 7월...  \n",
              "2945  10월 14일부터 10월 25일까지 12일간 휴회가 가결됨. 제2차 본회의는 10월...  \n",
              "2560                      제75회 음성군의회 임시회 제2차 본회의 개의 선포.  "
            ],
            "text/html": [
              "\n",
              "  <div id=\"df-49d879c2-6f2e-4a8b-9f42-75fa85479517\">\n",
              "    <div class=\"colab-df-container\">\n",
              "      <div>\n",
              "<style scoped>\n",
              "    .dataframe tbody tr th:only-of-type {\n",
              "        vertical-align: middle;\n",
              "    }\n",
              "\n",
              "    .dataframe tbody tr th {\n",
              "        vertical-align: top;\n",
              "    }\n",
              "\n",
              "    .dataframe thead th {\n",
              "        text-align: right;\n",
              "    }\n",
              "</style>\n",
              "<table border=\"1\" class=\"dataframe\">\n",
              "  <thead>\n",
              "    <tr style=\"text-align: right;\">\n",
              "      <th></th>\n",
              "      <th>text_concat</th>\n",
              "      <th>label</th>\n",
              "    </tr>\n",
              "  </thead>\n",
              "  <tbody>\n",
              "    <tr>\n",
              "      <th>2420</th>\n",
              "      <td>의사일정 제3항 의사일정변경의 건을 상정합니다.  당초 7월 3일 제2차 본회의시 ...</td>\n",
              "      <td>제2차 본회의에 상임위원회 위원 선임의 건과 상임위원장 선거를 상정하기로 함. 해당...</td>\n",
              "    </tr>\n",
              "    <tr>\n",
              "      <th>1724</th>\n",
              "      <td>다음은 지방자치법 제64조제2항과 회의규칙 제46조제1항의 규정에 의하여 제102회...</td>\n",
              "      <td>제102회 완주군의회 임시회 회의록 서명의원으로 박웅배 의원과 김순길 의원을 선임함.</td>\n",
              "    </tr>\n",
              "    <tr>\n",
              "      <th>1124</th>\n",
              "      <td>다음은 의사일정 제3항 완주군의회 예산결산 특별위원회 구성 결의안을 상정합니다.  ...</td>\n",
              "      <td>예산결산특별위원회위원은 의장을 제외한 9인으로 구성함. 특별위원회는 2012년 7월...</td>\n",
              "    </tr>\n",
              "    <tr>\n",
              "      <th>2945</th>\n",
              "      <td>다음은 의사일정 제5항, 본회의 휴회의 건을 상정합니다.  상임위원회 등 의정활동을...</td>\n",
              "      <td>10월 14일부터 10월 25일까지 12일간 휴회가 가결됨. 제2차 본회의는 10월...</td>\n",
              "    </tr>\n",
              "    <tr>\n",
              "      <th>2560</th>\n",
              "      <td>의석을 정돈하여 주시기 바랍니다. 성원이 되었으므로 지금부터 제75회 음성군의회 임...</td>\n",
              "      <td>제75회 음성군의회 임시회 제2차 본회의 개의 선포.</td>\n",
              "    </tr>\n",
              "  </tbody>\n",
              "</table>\n",
              "</div>\n",
              "      <button class=\"colab-df-convert\" onclick=\"convertToInteractive('df-49d879c2-6f2e-4a8b-9f42-75fa85479517')\"\n",
              "              title=\"Convert this dataframe to an interactive table.\"\n",
              "              style=\"display:none;\">\n",
              "        \n",
              "  <svg xmlns=\"http://www.w3.org/2000/svg\" height=\"24px\"viewBox=\"0 0 24 24\"\n",
              "       width=\"24px\">\n",
              "    <path d=\"M0 0h24v24H0V0z\" fill=\"none\"/>\n",
              "    <path d=\"M18.56 5.44l.94 2.06.94-2.06 2.06-.94-2.06-.94-.94-2.06-.94 2.06-2.06.94zm-11 1L8.5 8.5l.94-2.06 2.06-.94-2.06-.94L8.5 2.5l-.94 2.06-2.06.94zm10 10l.94 2.06.94-2.06 2.06-.94-2.06-.94-.94-2.06-.94 2.06-2.06.94z\"/><path d=\"M17.41 7.96l-1.37-1.37c-.4-.4-.92-.59-1.43-.59-.52 0-1.04.2-1.43.59L10.3 9.45l-7.72 7.72c-.78.78-.78 2.05 0 2.83L4 21.41c.39.39.9.59 1.41.59.51 0 1.02-.2 1.41-.59l7.78-7.78 2.81-2.81c.8-.78.8-2.07 0-2.86zM5.41 20L4 18.59l7.72-7.72 1.47 1.35L5.41 20z\"/>\n",
              "  </svg>\n",
              "      </button>\n",
              "      \n",
              "  <style>\n",
              "    .colab-df-container {\n",
              "      display:flex;\n",
              "      flex-wrap:wrap;\n",
              "      gap: 12px;\n",
              "    }\n",
              "\n",
              "    .colab-df-convert {\n",
              "      background-color: #E8F0FE;\n",
              "      border: none;\n",
              "      border-radius: 50%;\n",
              "      cursor: pointer;\n",
              "      display: none;\n",
              "      fill: #1967D2;\n",
              "      height: 32px;\n",
              "      padding: 0 0 0 0;\n",
              "      width: 32px;\n",
              "    }\n",
              "\n",
              "    .colab-df-convert:hover {\n",
              "      background-color: #E2EBFA;\n",
              "      box-shadow: 0px 1px 2px rgba(60, 64, 67, 0.3), 0px 1px 3px 1px rgba(60, 64, 67, 0.15);\n",
              "      fill: #174EA6;\n",
              "    }\n",
              "\n",
              "    [theme=dark] .colab-df-convert {\n",
              "      background-color: #3B4455;\n",
              "      fill: #D2E3FC;\n",
              "    }\n",
              "\n",
              "    [theme=dark] .colab-df-convert:hover {\n",
              "      background-color: #434B5C;\n",
              "      box-shadow: 0px 1px 3px 1px rgba(0, 0, 0, 0.15);\n",
              "      filter: drop-shadow(0px 1px 2px rgba(0, 0, 0, 0.3));\n",
              "      fill: #FFFFFF;\n",
              "    }\n",
              "  </style>\n",
              "\n",
              "      <script>\n",
              "        const buttonEl =\n",
              "          document.querySelector('#df-49d879c2-6f2e-4a8b-9f42-75fa85479517 button.colab-df-convert');\n",
              "        buttonEl.style.display =\n",
              "          google.colab.kernel.accessAllowed ? 'block' : 'none';\n",
              "\n",
              "        async function convertToInteractive(key) {\n",
              "          const element = document.querySelector('#df-49d879c2-6f2e-4a8b-9f42-75fa85479517');\n",
              "          const dataTable =\n",
              "            await google.colab.kernel.invokeFunction('convertToInteractive',\n",
              "                                                     [key], {});\n",
              "          if (!dataTable) return;\n",
              "\n",
              "          const docLinkHtml = 'Like what you see? Visit the ' +\n",
              "            '<a target=\"_blank\" href=https://colab.research.google.com/notebooks/data_table.ipynb>data table notebook</a>'\n",
              "            + ' to learn more about interactive tables.';\n",
              "          element.innerHTML = '';\n",
              "          dataTable['output_type'] = 'display_data';\n",
              "          await google.colab.output.renderOutput(dataTable, element);\n",
              "          const docLink = document.createElement('div');\n",
              "          docLink.innerHTML = docLinkHtml;\n",
              "          element.appendChild(docLink);\n",
              "        }\n",
              "      </script>\n",
              "    </div>\n",
              "  </div>\n",
              "  "
            ]
          },
          "metadata": {},
          "execution_count": 18
        }
      ]
    },
    {
      "cell_type": "code",
      "source": [
        "df_test_mymodel_digit_summary.head()"
      ],
      "metadata": {
        "colab": {
          "base_uri": "https://localhost:8080/",
          "height": 337
        },
        "id": "F2Smu9A3jbwV",
        "outputId": "307bdfc5-dc50-4140-a552-b0a24a1bdcb2"
      },
      "execution_count": null,
      "outputs": [
        {
          "output_type": "execute_result",
          "data": {
            "text/plain": [
              "   index                                               text  \\\n",
              "0   2420  의사일정 제3항 의사일정변경의 건을 상정합니다.  당초 7월 3일 제2차 본회의시 ...   \n",
              "1   1724  다음은 지방자치법 제64조제2항과 회의규칙 제46조제1항의 규정에 의하여 제102회...   \n",
              "2   1124  다음은 의사일정 제3항 완주군의회 예산결산 특별위원회 구성 결의안을 상정합니다.  ...   \n",
              "3   2945  다음은 의사일정 제5항, 본회의 휴회의 건을 상정합니다.  상임위원회 등 의정활동을...   \n",
              "4   2560  의석을 정돈하여 주시기 바랍니다. 성원이 되었으므로 지금부터 제75회 음성군의회 임...   \n",
              "\n",
              "                                             summary  \\\n",
              "0  7월 3일 제2차 본회의시 상임위원회 위원 선임의 건과 상임위원장 선거를 4항과 5...   \n",
              "1    제102회 완주군의회 임시회 회의록 서명의원으로 박웅배 의원과 김순길 의원이 선임됨.   \n",
              "2  완주군의회 예산결산 특별위원회 구성 결의안은 2011년도 완주군 세입, 세출결산 및...   \n",
              "3  10월 14일부터 10월 25일까지 12일간 휴회가 가결됨. 제2차 본회의는 10월...   \n",
              "4                      제75회 음성군의회 임시회 제2차 본회의 개의 선포.   \n",
              "\n",
              "                                               label  \n",
              "0  제2차 본회의에 상임위원회 위원 선임의 건과 상임위원장 선거를 상정하기로 함. 해당...  \n",
              "1    제102회 완주군의회 임시회 회의록 서명의원으로 박웅배 의원과 김순길 의원을 선임함.  \n",
              "2  예산결산특별위원회위원은 의장을 제외한 9인으로 구성함. 특별위원회는 2012년 7월...  \n",
              "3  10월 14일부터 10월 25일까지 12일간 휴회가 가결됨. 제2차 본회의는 10월...  \n",
              "4                      제75회 음성군의회 임시회 제2차 본회의 개의 선포.  "
            ],
            "text/html": [
              "\n",
              "  <div id=\"df-190c46d2-352c-4da8-95ae-1b39cef4cd1d\">\n",
              "    <div class=\"colab-df-container\">\n",
              "      <div>\n",
              "<style scoped>\n",
              "    .dataframe tbody tr th:only-of-type {\n",
              "        vertical-align: middle;\n",
              "    }\n",
              "\n",
              "    .dataframe tbody tr th {\n",
              "        vertical-align: top;\n",
              "    }\n",
              "\n",
              "    .dataframe thead th {\n",
              "        text-align: right;\n",
              "    }\n",
              "</style>\n",
              "<table border=\"1\" class=\"dataframe\">\n",
              "  <thead>\n",
              "    <tr style=\"text-align: right;\">\n",
              "      <th></th>\n",
              "      <th>index</th>\n",
              "      <th>text</th>\n",
              "      <th>summary</th>\n",
              "      <th>label</th>\n",
              "    </tr>\n",
              "  </thead>\n",
              "  <tbody>\n",
              "    <tr>\n",
              "      <th>0</th>\n",
              "      <td>2420</td>\n",
              "      <td>의사일정 제3항 의사일정변경의 건을 상정합니다.  당초 7월 3일 제2차 본회의시 ...</td>\n",
              "      <td>7월 3일 제2차 본회의시 상임위원회 위원 선임의 건과 상임위원장 선거를 4항과 5...</td>\n",
              "      <td>제2차 본회의에 상임위원회 위원 선임의 건과 상임위원장 선거를 상정하기로 함. 해당...</td>\n",
              "    </tr>\n",
              "    <tr>\n",
              "      <th>1</th>\n",
              "      <td>1724</td>\n",
              "      <td>다음은 지방자치법 제64조제2항과 회의규칙 제46조제1항의 규정에 의하여 제102회...</td>\n",
              "      <td>제102회 완주군의회 임시회 회의록 서명의원으로 박웅배 의원과 김순길 의원이 선임됨.</td>\n",
              "      <td>제102회 완주군의회 임시회 회의록 서명의원으로 박웅배 의원과 김순길 의원을 선임함.</td>\n",
              "    </tr>\n",
              "    <tr>\n",
              "      <th>2</th>\n",
              "      <td>1124</td>\n",
              "      <td>다음은 의사일정 제3항 완주군의회 예산결산 특별위원회 구성 결의안을 상정합니다.  ...</td>\n",
              "      <td>완주군의회 예산결산 특별위원회 구성 결의안은 2011년도 완주군 세입, 세출결산 및...</td>\n",
              "      <td>예산결산특별위원회위원은 의장을 제외한 9인으로 구성함. 특별위원회는 2012년 7월...</td>\n",
              "    </tr>\n",
              "    <tr>\n",
              "      <th>3</th>\n",
              "      <td>2945</td>\n",
              "      <td>다음은 의사일정 제5항, 본회의 휴회의 건을 상정합니다.  상임위원회 등 의정활동을...</td>\n",
              "      <td>10월 14일부터 10월 25일까지 12일간 휴회가 가결됨. 제2차 본회의는 10월...</td>\n",
              "      <td>10월 14일부터 10월 25일까지 12일간 휴회가 가결됨. 제2차 본회의는 10월...</td>\n",
              "    </tr>\n",
              "    <tr>\n",
              "      <th>4</th>\n",
              "      <td>2560</td>\n",
              "      <td>의석을 정돈하여 주시기 바랍니다. 성원이 되었으므로 지금부터 제75회 음성군의회 임...</td>\n",
              "      <td>제75회 음성군의회 임시회 제2차 본회의 개의 선포.</td>\n",
              "      <td>제75회 음성군의회 임시회 제2차 본회의 개의 선포.</td>\n",
              "    </tr>\n",
              "  </tbody>\n",
              "</table>\n",
              "</div>\n",
              "      <button class=\"colab-df-convert\" onclick=\"convertToInteractive('df-190c46d2-352c-4da8-95ae-1b39cef4cd1d')\"\n",
              "              title=\"Convert this dataframe to an interactive table.\"\n",
              "              style=\"display:none;\">\n",
              "        \n",
              "  <svg xmlns=\"http://www.w3.org/2000/svg\" height=\"24px\"viewBox=\"0 0 24 24\"\n",
              "       width=\"24px\">\n",
              "    <path d=\"M0 0h24v24H0V0z\" fill=\"none\"/>\n",
              "    <path d=\"M18.56 5.44l.94 2.06.94-2.06 2.06-.94-2.06-.94-.94-2.06-.94 2.06-2.06.94zm-11 1L8.5 8.5l.94-2.06 2.06-.94-2.06-.94L8.5 2.5l-.94 2.06-2.06.94zm10 10l.94 2.06.94-2.06 2.06-.94-2.06-.94-.94-2.06-.94 2.06-2.06.94z\"/><path d=\"M17.41 7.96l-1.37-1.37c-.4-.4-.92-.59-1.43-.59-.52 0-1.04.2-1.43.59L10.3 9.45l-7.72 7.72c-.78.78-.78 2.05 0 2.83L4 21.41c.39.39.9.59 1.41.59.51 0 1.02-.2 1.41-.59l7.78-7.78 2.81-2.81c.8-.78.8-2.07 0-2.86zM5.41 20L4 18.59l7.72-7.72 1.47 1.35L5.41 20z\"/>\n",
              "  </svg>\n",
              "      </button>\n",
              "      \n",
              "  <style>\n",
              "    .colab-df-container {\n",
              "      display:flex;\n",
              "      flex-wrap:wrap;\n",
              "      gap: 12px;\n",
              "    }\n",
              "\n",
              "    .colab-df-convert {\n",
              "      background-color: #E8F0FE;\n",
              "      border: none;\n",
              "      border-radius: 50%;\n",
              "      cursor: pointer;\n",
              "      display: none;\n",
              "      fill: #1967D2;\n",
              "      height: 32px;\n",
              "      padding: 0 0 0 0;\n",
              "      width: 32px;\n",
              "    }\n",
              "\n",
              "    .colab-df-convert:hover {\n",
              "      background-color: #E2EBFA;\n",
              "      box-shadow: 0px 1px 2px rgba(60, 64, 67, 0.3), 0px 1px 3px 1px rgba(60, 64, 67, 0.15);\n",
              "      fill: #174EA6;\n",
              "    }\n",
              "\n",
              "    [theme=dark] .colab-df-convert {\n",
              "      background-color: #3B4455;\n",
              "      fill: #D2E3FC;\n",
              "    }\n",
              "\n",
              "    [theme=dark] .colab-df-convert:hover {\n",
              "      background-color: #434B5C;\n",
              "      box-shadow: 0px 1px 3px 1px rgba(0, 0, 0, 0.15);\n",
              "      filter: drop-shadow(0px 1px 2px rgba(0, 0, 0, 0.3));\n",
              "      fill: #FFFFFF;\n",
              "    }\n",
              "  </style>\n",
              "\n",
              "      <script>\n",
              "        const buttonEl =\n",
              "          document.querySelector('#df-190c46d2-352c-4da8-95ae-1b39cef4cd1d button.colab-df-convert');\n",
              "        buttonEl.style.display =\n",
              "          google.colab.kernel.accessAllowed ? 'block' : 'none';\n",
              "\n",
              "        async function convertToInteractive(key) {\n",
              "          const element = document.querySelector('#df-190c46d2-352c-4da8-95ae-1b39cef4cd1d');\n",
              "          const dataTable =\n",
              "            await google.colab.kernel.invokeFunction('convertToInteractive',\n",
              "                                                     [key], {});\n",
              "          if (!dataTable) return;\n",
              "\n",
              "          const docLinkHtml = 'Like what you see? Visit the ' +\n",
              "            '<a target=\"_blank\" href=https://colab.research.google.com/notebooks/data_table.ipynb>data table notebook</a>'\n",
              "            + ' to learn more about interactive tables.';\n",
              "          element.innerHTML = '';\n",
              "          dataTable['output_type'] = 'display_data';\n",
              "          await google.colab.output.renderOutput(dataTable, element);\n",
              "          const docLink = document.createElement('div');\n",
              "          docLink.innerHTML = docLinkHtml;\n",
              "          element.appendChild(docLink);\n",
              "        }\n",
              "      </script>\n",
              "    </div>\n",
              "  </div>\n",
              "  "
            ]
          },
          "metadata": {},
          "execution_count": 28
        }
      ]
    },
    {
      "cell_type": "code",
      "source": [
        "df_test_mymodel_gogamza_summary.head()"
      ],
      "metadata": {
        "colab": {
          "base_uri": "https://localhost:8080/",
          "height": 206
        },
        "id": "y40RMPaHhJgU",
        "outputId": "3f0e9c48-9598-41e8-bae5-0e7ab641c5fe"
      },
      "execution_count": null,
      "outputs": [
        {
          "output_type": "execute_result",
          "data": {
            "text/plain": [
              "   index                                               text  \\\n",
              "0   2420  의사일정 제3항 의사일정변경의 건을 상정합니다.  당초 7월 3일 제2차 본회의시 ...   \n",
              "1   1724  다음은 지방자치법 제64조제2항과 회의규칙 제46조제1항의 규정에 의하여 제102회...   \n",
              "2   1124  다음은 의사일정 제3항 완주군의회 예산결산 특별위원회 구성 결의안을 상정합니다.  ...   \n",
              "3   2945  다음은 의사일정 제5항, 본회의 휴회의 건을 상정합니다.  상임위원회 등 의정활동을...   \n",
              "4   2560  의석을 정돈하여 주시기 바랍니다. 성원이 되었으므로 지금부터 제75회 음성군의회 임...   \n",
              "\n",
              "                                             summary  \n",
              "0  7월 3일 제2차 본회의시 상임위원회 위원 선임의 건과 상임위원장 선거를 4항과 5...  \n",
              "1    제102회 완주군의회 임시회 회의록 서명의원으로 박웅배 의원과 김순길 의원이 선임됨.  \n",
              "2  완주군의회 예산결산 특별위원회 구성 결의안은 2011년도 완주군 세입, 세출결산 및...  \n",
              "3  10월 14일부터 10월 25일까지 12일간 휴회가 가결됨. 제2차 본회의는 10월...  \n",
              "4                      제75회 음성군의회 임시회 제2차 본회의 개의 선포.  "
            ],
            "text/html": [
              "\n",
              "  <div id=\"df-039d83fc-dd23-4099-bce5-6dde49164236\">\n",
              "    <div class=\"colab-df-container\">\n",
              "      <div>\n",
              "<style scoped>\n",
              "    .dataframe tbody tr th:only-of-type {\n",
              "        vertical-align: middle;\n",
              "    }\n",
              "\n",
              "    .dataframe tbody tr th {\n",
              "        vertical-align: top;\n",
              "    }\n",
              "\n",
              "    .dataframe thead th {\n",
              "        text-align: right;\n",
              "    }\n",
              "</style>\n",
              "<table border=\"1\" class=\"dataframe\">\n",
              "  <thead>\n",
              "    <tr style=\"text-align: right;\">\n",
              "      <th></th>\n",
              "      <th>index</th>\n",
              "      <th>text</th>\n",
              "      <th>summary</th>\n",
              "    </tr>\n",
              "  </thead>\n",
              "  <tbody>\n",
              "    <tr>\n",
              "      <th>0</th>\n",
              "      <td>2420</td>\n",
              "      <td>의사일정 제3항 의사일정변경의 건을 상정합니다.  당초 7월 3일 제2차 본회의시 ...</td>\n",
              "      <td>7월 3일 제2차 본회의시 상임위원회 위원 선임의 건과 상임위원장 선거를 4항과 5...</td>\n",
              "    </tr>\n",
              "    <tr>\n",
              "      <th>1</th>\n",
              "      <td>1724</td>\n",
              "      <td>다음은 지방자치법 제64조제2항과 회의규칙 제46조제1항의 규정에 의하여 제102회...</td>\n",
              "      <td>제102회 완주군의회 임시회 회의록 서명의원으로 박웅배 의원과 김순길 의원이 선임됨.</td>\n",
              "    </tr>\n",
              "    <tr>\n",
              "      <th>2</th>\n",
              "      <td>1124</td>\n",
              "      <td>다음은 의사일정 제3항 완주군의회 예산결산 특별위원회 구성 결의안을 상정합니다.  ...</td>\n",
              "      <td>완주군의회 예산결산 특별위원회 구성 결의안은 2011년도 완주군 세입, 세출결산 및...</td>\n",
              "    </tr>\n",
              "    <tr>\n",
              "      <th>3</th>\n",
              "      <td>2945</td>\n",
              "      <td>다음은 의사일정 제5항, 본회의 휴회의 건을 상정합니다.  상임위원회 등 의정활동을...</td>\n",
              "      <td>10월 14일부터 10월 25일까지 12일간 휴회가 가결됨. 제2차 본회의는 10월...</td>\n",
              "    </tr>\n",
              "    <tr>\n",
              "      <th>4</th>\n",
              "      <td>2560</td>\n",
              "      <td>의석을 정돈하여 주시기 바랍니다. 성원이 되었으므로 지금부터 제75회 음성군의회 임...</td>\n",
              "      <td>제75회 음성군의회 임시회 제2차 본회의 개의 선포.</td>\n",
              "    </tr>\n",
              "  </tbody>\n",
              "</table>\n",
              "</div>\n",
              "      <button class=\"colab-df-convert\" onclick=\"convertToInteractive('df-039d83fc-dd23-4099-bce5-6dde49164236')\"\n",
              "              title=\"Convert this dataframe to an interactive table.\"\n",
              "              style=\"display:none;\">\n",
              "        \n",
              "  <svg xmlns=\"http://www.w3.org/2000/svg\" height=\"24px\"viewBox=\"0 0 24 24\"\n",
              "       width=\"24px\">\n",
              "    <path d=\"M0 0h24v24H0V0z\" fill=\"none\"/>\n",
              "    <path d=\"M18.56 5.44l.94 2.06.94-2.06 2.06-.94-2.06-.94-.94-2.06-.94 2.06-2.06.94zm-11 1L8.5 8.5l.94-2.06 2.06-.94-2.06-.94L8.5 2.5l-.94 2.06-2.06.94zm10 10l.94 2.06.94-2.06 2.06-.94-2.06-.94-.94-2.06-.94 2.06-2.06.94z\"/><path d=\"M17.41 7.96l-1.37-1.37c-.4-.4-.92-.59-1.43-.59-.52 0-1.04.2-1.43.59L10.3 9.45l-7.72 7.72c-.78.78-.78 2.05 0 2.83L4 21.41c.39.39.9.59 1.41.59.51 0 1.02-.2 1.41-.59l7.78-7.78 2.81-2.81c.8-.78.8-2.07 0-2.86zM5.41 20L4 18.59l7.72-7.72 1.47 1.35L5.41 20z\"/>\n",
              "  </svg>\n",
              "      </button>\n",
              "      \n",
              "  <style>\n",
              "    .colab-df-container {\n",
              "      display:flex;\n",
              "      flex-wrap:wrap;\n",
              "      gap: 12px;\n",
              "    }\n",
              "\n",
              "    .colab-df-convert {\n",
              "      background-color: #E8F0FE;\n",
              "      border: none;\n",
              "      border-radius: 50%;\n",
              "      cursor: pointer;\n",
              "      display: none;\n",
              "      fill: #1967D2;\n",
              "      height: 32px;\n",
              "      padding: 0 0 0 0;\n",
              "      width: 32px;\n",
              "    }\n",
              "\n",
              "    .colab-df-convert:hover {\n",
              "      background-color: #E2EBFA;\n",
              "      box-shadow: 0px 1px 2px rgba(60, 64, 67, 0.3), 0px 1px 3px 1px rgba(60, 64, 67, 0.15);\n",
              "      fill: #174EA6;\n",
              "    }\n",
              "\n",
              "    [theme=dark] .colab-df-convert {\n",
              "      background-color: #3B4455;\n",
              "      fill: #D2E3FC;\n",
              "    }\n",
              "\n",
              "    [theme=dark] .colab-df-convert:hover {\n",
              "      background-color: #434B5C;\n",
              "      box-shadow: 0px 1px 3px 1px rgba(0, 0, 0, 0.15);\n",
              "      filter: drop-shadow(0px 1px 2px rgba(0, 0, 0, 0.3));\n",
              "      fill: #FFFFFF;\n",
              "    }\n",
              "  </style>\n",
              "\n",
              "      <script>\n",
              "        const buttonEl =\n",
              "          document.querySelector('#df-039d83fc-dd23-4099-bce5-6dde49164236 button.colab-df-convert');\n",
              "        buttonEl.style.display =\n",
              "          google.colab.kernel.accessAllowed ? 'block' : 'none';\n",
              "\n",
              "        async function convertToInteractive(key) {\n",
              "          const element = document.querySelector('#df-039d83fc-dd23-4099-bce5-6dde49164236');\n",
              "          const dataTable =\n",
              "            await google.colab.kernel.invokeFunction('convertToInteractive',\n",
              "                                                     [key], {});\n",
              "          if (!dataTable) return;\n",
              "\n",
              "          const docLinkHtml = 'Like what you see? Visit the ' +\n",
              "            '<a target=\"_blank\" href=https://colab.research.google.com/notebooks/data_table.ipynb>data table notebook</a>'\n",
              "            + ' to learn more about interactive tables.';\n",
              "          element.innerHTML = '';\n",
              "          dataTable['output_type'] = 'display_data';\n",
              "          await google.colab.output.renderOutput(dataTable, element);\n",
              "          const docLink = document.createElement('div');\n",
              "          docLink.innerHTML = docLinkHtml;\n",
              "          element.appendChild(docLink);\n",
              "        }\n",
              "      </script>\n",
              "    </div>\n",
              "  </div>\n",
              "  "
            ]
          },
          "metadata": {},
          "execution_count": 15
        }
      ]
    },
    {
      "cell_type": "code",
      "source": [
        "df_test_textrank.head()"
      ],
      "metadata": {
        "colab": {
          "base_uri": "https://localhost:8080/",
          "height": 424
        },
        "id": "5X76Jv6dFNBz",
        "outputId": "f316fbd8-9817-499b-9807-eebe06f4a20f"
      },
      "execution_count": null,
      "outputs": [
        {
          "output_type": "execute_result",
          "data": {
            "text/plain": [
              "        id    agenda                                               text  \\\n",
              "2420  1377  AGENDA_4  ['의사일정 제3항 의사일정변경의 건을 상정합니다. 당초 7월 3일 제2차 본회의시...   \n",
              "2866  1444  AGENDA_4  ['의사일정 제3항, 음성군 지역치안협의회 조례 일부개정조례안을 상정합니다.', '...   \n",
              "1724  1272  AGENDA_5  ['다음은 지방자치법 제64조제2항과 회의규칙 제46조제1항의 규정에 의하여 제10...   \n",
              "1124  1183  AGENDA_4  ['다음은 의사일정 제3항 완주군의회 예산결산 특별위원회 구성 결의안을 상정합니다....   \n",
              "975   1157  AGENDA_3  ['다음은 의사일정 제2항 완주군 지방공무원정원 조례 일부개정조례안, 의사일정 제3...   \n",
              "\n",
              "                                                  label  \\\n",
              "2420  제2차 본회의에 상임위원회 위원 선임의 건과 상임위원장 선거를 상정하기로 함. 해당...   \n",
              "2866  음성군 지역치안협의회 조례 일부개정조례안은 지역치안협의회에 보조금 지원이 용이하도록...   \n",
              "1724    제102회 완주군의회 임시회 회의록 서명의원으로 박웅배 의원과 김순길 의원을 선임함.   \n",
              "1124  예산결산특별위원회위원은 의장을 제외한 9인으로 구성함. 특별위원회는 2012년 7월...   \n",
              "975   완주군 지방공무원정원 조례 일부개정조례안은 부동산 실거래가 신고제 등 토지관련 업무...   \n",
              "\n",
              "                                            text_concat  \\\n",
              "2420  의사일정 제3항 의사일정변경의 건을 상정합니다.  당초 7월 3일 제2차 본회의시 ...   \n",
              "2866  의사일정 제3항, 음성군 지역치안협의회 조례 일부개정조례안을 상정합니다. 행정과장님...   \n",
              "1724  다음은 지방자치법 제64조제2항과 회의규칙 제46조제1항의 규정에 의하여 제102회...   \n",
              "1124  다음은 의사일정 제3항 완주군의회 예산결산 특별위원회 구성 결의안을 상정합니다.  ...   \n",
              "975   다음은 의사일정 제2항 완주군 지방공무원정원 조례 일부개정조례안, 의사일정 제3항 ...   \n",
              "\n",
              "                                             text_split  len_label  \\\n",
              "2420  ['의사일정 제3항 의사일정변경의 건을 상정합니다.', '당초 7월 3일 제2차 본...         55   \n",
              "2866  ['의사일정 제3항, 음성군 지역치안협의회 조례 일부개정조례안을 상정합니다.', '...         78   \n",
              "1724  ['다음은 지방자치법 제64조제2항과 회의규칙 제46조제1항의 규정에 의하여 제10...         47   \n",
              "1124  ['다음은 의사일정 제3항 완주군의회 예산결산 특별위원회 구성 결의안을 상정합니다....        164   \n",
              "975   ['다음은 의사일정 제2항 완주군 지방공무원정원 조례 일부개정조례안, 의사일정 제3...        368   \n",
              "\n",
              "                                               textrank  \\\n",
              "2420  [(1, 1.6682934603175785, '당초 7월 3일 제2차 본회의시 상임...   \n",
              "2866  [(29, 1.4717813659629004, '의사일정 제3항, 음성군 지역치안협...   \n",
              "1724  [(0, 1.2249777916398097, '다음은 지방자치법 제64조제2항과 회...   \n",
              "1124  [(4, 1.4170457588599894, '존경하는 의장님, 그리고 동료 의원 ...   \n",
              "975   [(18, 1.4308450362205591, '다음은 의사일정 제3항 완주군별정직...   \n",
              "\n",
              "                                                summary  \n",
              "2420  당초 7월 3일 제2차 본회의시 상임위원회 위원 선임의 건과 상임위원장 선거를 4항...  \n",
              "2866  의사일정 제3항, 음성군 지역치안협의회 조례 일부개정조례안을 원안대로 의결하고자 하...  \n",
              "1724  다음은 지방자치법 제64조제2항과 회의규칙 제46조제1항의 규정에 의하여 제102회...  \n",
              "1124  존경하는 의장님, 그리고 동료 의원 여러분!완주군의회 예산결산 특별위원회 구성 결의...  \n",
              "975   다음은 의사일정 제3항 완주군별정직지방공무원의범위에관한조례 일부개정조례안에 대하여 ...  "
            ],
            "text/html": [
              "\n",
              "  <div id=\"df-99226b2f-67e4-4e07-9d93-9d71fd4566c6\">\n",
              "    <div class=\"colab-df-container\">\n",
              "      <div>\n",
              "<style scoped>\n",
              "    .dataframe tbody tr th:only-of-type {\n",
              "        vertical-align: middle;\n",
              "    }\n",
              "\n",
              "    .dataframe tbody tr th {\n",
              "        vertical-align: top;\n",
              "    }\n",
              "\n",
              "    .dataframe thead th {\n",
              "        text-align: right;\n",
              "    }\n",
              "</style>\n",
              "<table border=\"1\" class=\"dataframe\">\n",
              "  <thead>\n",
              "    <tr style=\"text-align: right;\">\n",
              "      <th></th>\n",
              "      <th>id</th>\n",
              "      <th>agenda</th>\n",
              "      <th>text</th>\n",
              "      <th>label</th>\n",
              "      <th>text_concat</th>\n",
              "      <th>text_split</th>\n",
              "      <th>len_label</th>\n",
              "      <th>textrank</th>\n",
              "      <th>summary</th>\n",
              "    </tr>\n",
              "  </thead>\n",
              "  <tbody>\n",
              "    <tr>\n",
              "      <th>2420</th>\n",
              "      <td>1377</td>\n",
              "      <td>AGENDA_4</td>\n",
              "      <td>['의사일정 제3항 의사일정변경의 건을 상정합니다. 당초 7월 3일 제2차 본회의시...</td>\n",
              "      <td>제2차 본회의에 상임위원회 위원 선임의 건과 상임위원장 선거를 상정하기로 함. 해당...</td>\n",
              "      <td>의사일정 제3항 의사일정변경의 건을 상정합니다.  당초 7월 3일 제2차 본회의시 ...</td>\n",
              "      <td>['의사일정 제3항 의사일정변경의 건을 상정합니다.', '당초 7월 3일 제2차 본...</td>\n",
              "      <td>55</td>\n",
              "      <td>[(1, 1.6682934603175785, '당초 7월 3일 제2차 본회의시 상임...</td>\n",
              "      <td>당초 7월 3일 제2차 본회의시 상임위원회 위원 선임의 건과 상임위원장 선거를 4항...</td>\n",
              "    </tr>\n",
              "    <tr>\n",
              "      <th>2866</th>\n",
              "      <td>1444</td>\n",
              "      <td>AGENDA_4</td>\n",
              "      <td>['의사일정 제3항, 음성군 지역치안협의회 조례 일부개정조례안을 상정합니다.', '...</td>\n",
              "      <td>음성군 지역치안협의회 조례 일부개정조례안은 지역치안협의회에 보조금 지원이 용이하도록...</td>\n",
              "      <td>의사일정 제3항, 음성군 지역치안협의회 조례 일부개정조례안을 상정합니다. 행정과장님...</td>\n",
              "      <td>['의사일정 제3항, 음성군 지역치안협의회 조례 일부개정조례안을 상정합니다.', '...</td>\n",
              "      <td>78</td>\n",
              "      <td>[(29, 1.4717813659629004, '의사일정 제3항, 음성군 지역치안협...</td>\n",
              "      <td>의사일정 제3항, 음성군 지역치안협의회 조례 일부개정조례안을 원안대로 의결하고자 하...</td>\n",
              "    </tr>\n",
              "    <tr>\n",
              "      <th>1724</th>\n",
              "      <td>1272</td>\n",
              "      <td>AGENDA_5</td>\n",
              "      <td>['다음은 지방자치법 제64조제2항과 회의규칙 제46조제1항의 규정에 의하여 제10...</td>\n",
              "      <td>제102회 완주군의회 임시회 회의록 서명의원으로 박웅배 의원과 김순길 의원을 선임함.</td>\n",
              "      <td>다음은 지방자치법 제64조제2항과 회의규칙 제46조제1항의 규정에 의하여 제102회...</td>\n",
              "      <td>['다음은 지방자치법 제64조제2항과 회의규칙 제46조제1항의 규정에 의하여 제10...</td>\n",
              "      <td>47</td>\n",
              "      <td>[(0, 1.2249777916398097, '다음은 지방자치법 제64조제2항과 회...</td>\n",
              "      <td>다음은 지방자치법 제64조제2항과 회의규칙 제46조제1항의 규정에 의하여 제102회...</td>\n",
              "    </tr>\n",
              "    <tr>\n",
              "      <th>1124</th>\n",
              "      <td>1183</td>\n",
              "      <td>AGENDA_4</td>\n",
              "      <td>['다음은 의사일정 제3항 완주군의회 예산결산 특별위원회 구성 결의안을 상정합니다....</td>\n",
              "      <td>예산결산특별위원회위원은 의장을 제외한 9인으로 구성함. 특별위원회는 2012년 7월...</td>\n",
              "      <td>다음은 의사일정 제3항 완주군의회 예산결산 특별위원회 구성 결의안을 상정합니다.  ...</td>\n",
              "      <td>['다음은 의사일정 제3항 완주군의회 예산결산 특별위원회 구성 결의안을 상정합니다....</td>\n",
              "      <td>164</td>\n",
              "      <td>[(4, 1.4170457588599894, '존경하는 의장님, 그리고 동료 의원 ...</td>\n",
              "      <td>존경하는 의장님, 그리고 동료 의원 여러분!완주군의회 예산결산 특별위원회 구성 결의...</td>\n",
              "    </tr>\n",
              "    <tr>\n",
              "      <th>975</th>\n",
              "      <td>1157</td>\n",
              "      <td>AGENDA_3</td>\n",
              "      <td>['다음은 의사일정 제2항 완주군 지방공무원정원 조례 일부개정조례안, 의사일정 제3...</td>\n",
              "      <td>완주군 지방공무원정원 조례 일부개정조례안은 부동산 실거래가 신고제 등 토지관련 업무...</td>\n",
              "      <td>다음은 의사일정 제2항 완주군 지방공무원정원 조례 일부개정조례안, 의사일정 제3항 ...</td>\n",
              "      <td>['다음은 의사일정 제2항 완주군 지방공무원정원 조례 일부개정조례안, 의사일정 제3...</td>\n",
              "      <td>368</td>\n",
              "      <td>[(18, 1.4308450362205591, '다음은 의사일정 제3항 완주군별정직...</td>\n",
              "      <td>다음은 의사일정 제3항 완주군별정직지방공무원의범위에관한조례 일부개정조례안에 대하여 ...</td>\n",
              "    </tr>\n",
              "  </tbody>\n",
              "</table>\n",
              "</div>\n",
              "      <button class=\"colab-df-convert\" onclick=\"convertToInteractive('df-99226b2f-67e4-4e07-9d93-9d71fd4566c6')\"\n",
              "              title=\"Convert this dataframe to an interactive table.\"\n",
              "              style=\"display:none;\">\n",
              "        \n",
              "  <svg xmlns=\"http://www.w3.org/2000/svg\" height=\"24px\"viewBox=\"0 0 24 24\"\n",
              "       width=\"24px\">\n",
              "    <path d=\"M0 0h24v24H0V0z\" fill=\"none\"/>\n",
              "    <path d=\"M18.56 5.44l.94 2.06.94-2.06 2.06-.94-2.06-.94-.94-2.06-.94 2.06-2.06.94zm-11 1L8.5 8.5l.94-2.06 2.06-.94-2.06-.94L8.5 2.5l-.94 2.06-2.06.94zm10 10l.94 2.06.94-2.06 2.06-.94-2.06-.94-.94-2.06-.94 2.06-2.06.94z\"/><path d=\"M17.41 7.96l-1.37-1.37c-.4-.4-.92-.59-1.43-.59-.52 0-1.04.2-1.43.59L10.3 9.45l-7.72 7.72c-.78.78-.78 2.05 0 2.83L4 21.41c.39.39.9.59 1.41.59.51 0 1.02-.2 1.41-.59l7.78-7.78 2.81-2.81c.8-.78.8-2.07 0-2.86zM5.41 20L4 18.59l7.72-7.72 1.47 1.35L5.41 20z\"/>\n",
              "  </svg>\n",
              "      </button>\n",
              "      \n",
              "  <style>\n",
              "    .colab-df-container {\n",
              "      display:flex;\n",
              "      flex-wrap:wrap;\n",
              "      gap: 12px;\n",
              "    }\n",
              "\n",
              "    .colab-df-convert {\n",
              "      background-color: #E8F0FE;\n",
              "      border: none;\n",
              "      border-radius: 50%;\n",
              "      cursor: pointer;\n",
              "      display: none;\n",
              "      fill: #1967D2;\n",
              "      height: 32px;\n",
              "      padding: 0 0 0 0;\n",
              "      width: 32px;\n",
              "    }\n",
              "\n",
              "    .colab-df-convert:hover {\n",
              "      background-color: #E2EBFA;\n",
              "      box-shadow: 0px 1px 2px rgba(60, 64, 67, 0.3), 0px 1px 3px 1px rgba(60, 64, 67, 0.15);\n",
              "      fill: #174EA6;\n",
              "    }\n",
              "\n",
              "    [theme=dark] .colab-df-convert {\n",
              "      background-color: #3B4455;\n",
              "      fill: #D2E3FC;\n",
              "    }\n",
              "\n",
              "    [theme=dark] .colab-df-convert:hover {\n",
              "      background-color: #434B5C;\n",
              "      box-shadow: 0px 1px 3px 1px rgba(0, 0, 0, 0.15);\n",
              "      filter: drop-shadow(0px 1px 2px rgba(0, 0, 0, 0.3));\n",
              "      fill: #FFFFFF;\n",
              "    }\n",
              "  </style>\n",
              "\n",
              "      <script>\n",
              "        const buttonEl =\n",
              "          document.querySelector('#df-99226b2f-67e4-4e07-9d93-9d71fd4566c6 button.colab-df-convert');\n",
              "        buttonEl.style.display =\n",
              "          google.colab.kernel.accessAllowed ? 'block' : 'none';\n",
              "\n",
              "        async function convertToInteractive(key) {\n",
              "          const element = document.querySelector('#df-99226b2f-67e4-4e07-9d93-9d71fd4566c6');\n",
              "          const dataTable =\n",
              "            await google.colab.kernel.invokeFunction('convertToInteractive',\n",
              "                                                     [key], {});\n",
              "          if (!dataTable) return;\n",
              "\n",
              "          const docLinkHtml = 'Like what you see? Visit the ' +\n",
              "            '<a target=\"_blank\" href=https://colab.research.google.com/notebooks/data_table.ipynb>data table notebook</a>'\n",
              "            + ' to learn more about interactive tables.';\n",
              "          element.innerHTML = '';\n",
              "          dataTable['output_type'] = 'display_data';\n",
              "          await google.colab.output.renderOutput(dataTable, element);\n",
              "          const docLink = document.createElement('div');\n",
              "          docLink.innerHTML = docLinkHtml;\n",
              "          element.appendChild(docLink);\n",
              "        }\n",
              "      </script>\n",
              "    </div>\n",
              "  </div>\n",
              "  "
            ]
          },
          "metadata": {},
          "execution_count": 166
        }
      ]
    },
    {
      "cell_type": "code",
      "source": [
        "df_test_mymodel_gogamza_summary['summary']"
      ],
      "metadata": {
        "colab": {
          "base_uri": "https://localhost:8080/"
        },
        "id": "y21zsEadk-IE",
        "outputId": "692c2e31-b09c-4df0-aa29-d91dacb6cce1"
      },
      "execution_count": null,
      "outputs": [
        {
          "output_type": "execute_result",
          "data": {
            "text/plain": [
              "0      7월 3일 제2차 본회의시 상임위원회 위원 선임의 건과 상임위원장 선거를 4항과 5...\n",
              "1        제102회 완주군의회 임시회 회의록 서명의원으로 박웅배 의원과 김순길 의원이 선임됨.\n",
              "2      완주군의회 예산결산 특별위원회 구성 결의안은 2011년도 완주군 세입, 세출결산 및...\n",
              "3      10월 14일부터 10월 25일까지 12일간 휴회가 가결됨. 제2차 본회의는 10월...\n",
              "4                          제75회 음성군의회 임시회 제2차 본회의 개의 선포.\n",
              "                             ...                        \n",
              "453            제154회 임시회 회의록 서명의원으로 이한철 의원과 윤병승 의원이 선출됨.\n",
              "454                       4월 1일 인사이동에 따른 의회사무국 간부공무원 소개.\n",
              "455    2014회계연도 결산검사위원으로 이인숙 의원, 김상철 의원, 임재평 의원, 국용호 ...\n",
              "456    제253회 완주군의회 임시회 회기는 7월 14일부터 7월 23일까지 10일간으로 가결됨.\n",
              "457      제252회 완주군의회 임시회 회의록 서명의원으로 김재천 의원과 이인숙 의원이 선출됨.\n",
              "Name: summary, Length: 458, dtype: object"
            ]
          },
          "metadata": {},
          "execution_count": 37
        }
      ]
    },
    {
      "cell_type": "code",
      "source": [
        "df_test_new['label']"
      ],
      "metadata": {
        "colab": {
          "base_uri": "https://localhost:8080/"
        },
        "id": "c0XrE_ZilAMG",
        "outputId": "661ce2df-024f-4411-894a-c014d07b8489"
      },
      "execution_count": null,
      "outputs": [
        {
          "output_type": "execute_result",
          "data": {
            "text/plain": [
              "2420    제2차 본회의에 상임위원회 위원 선임의 건과 상임위원장 선거를 상정하기로 함. 해당...\n",
              "1724      제102회 완주군의회 임시회 회의록 서명의원으로 박웅배 의원과 김순길 의원을 선임함.\n",
              "1124    예산결산특별위원회위원은 의장을 제외한 9인으로 구성함. 특별위원회는 2012년 7월...\n",
              "2945    10월 14일부터 10월 25일까지 12일간 휴회가 가결됨. 제2차 본회의는 10월...\n",
              "2560                        제75회 음성군의회 임시회 제2차 본회의 개의 선포.\n",
              "                              ...                        \n",
              "2653            제154회 임시회 회의록 서명의원으로 이한철 의원과 윤병승 의원이 선출됨.\n",
              "250                        4월 1일 인사이동에 따른 의회사무국 간부공무원 소개.\n",
              "2976    2014회계연도 결산검사위원으로 대표의원 이인숙 의원, 전직 공무원 김상철, 임재평...\n",
              "1757    제253회 완주군의회 임시회 회기는 7월 14일부터 7월 23일까지 10일간으로 가결됨.\n",
              "2276      제252회 완주군의회 임시회 회의록 서명의원으로 김재천 의원과 이인숙 의원이 선출됨.\n",
              "Name: label, Length: 458, dtype: object"
            ]
          },
          "metadata": {},
          "execution_count": 38
        }
      ]
    },
    {
      "cell_type": "code",
      "source": [
        "# Rouge Score / TextRank\n",
        "# For multiple sentences\n",
        "\n",
        "from rouge import Rouge\n",
        "\n",
        "rouge = Rouge()\n",
        "\n",
        "hyps = df_test_textrank['summary'].tolist()\n",
        "refs = df_test_textrank['label'].tolist()\n",
        "\n",
        "scores = rouge.get_scores(hyps, refs, avg=True)\n",
        "print(scores)"
      ],
      "metadata": {
        "colab": {
          "base_uri": "https://localhost:8080/"
        },
        "id": "bHJzyTYrFTzZ",
        "outputId": "b24783c5-26b3-41cc-aa67-b6e26fc3fe44"
      },
      "execution_count": null,
      "outputs": [
        {
          "output_type": "stream",
          "name": "stdout",
          "text": [
            "{'rouge-1': {'r': 0.14628224946337942, 'p': 0.19493960712211672, 'f': 0.1503769391767267}, 'rouge-2': {'r': 0.09939165393619602, 'p': 0.13500117101072265, 'f': 0.10117654696255328}, 'rouge-l': {'r': 0.1449247895990249, 'p': 0.1932662923081871, 'f': 0.1490531318479023}}\n"
          ]
        }
      ]
    },
    {
      "cell_type": "code",
      "source": [
        "# Rouge Score / Fine-tune - tokenizer1\n",
        "# For multiple sentences\n",
        "\n",
        "from rouge import Rouge\n",
        "\n",
        "rouge = Rouge()\n",
        "\n",
        "hyps = df_test_mymodel_gogamza_summary['summary'].tolist()\n",
        "refs = df_test_new['label'].tolist()\n",
        "\n",
        "scores = rouge.get_scores(hyps, refs, avg=True)\n",
        "print(scores)"
      ],
      "metadata": {
        "colab": {
          "base_uri": "https://localhost:8080/"
        },
        "id": "H7gq7iSciHrQ",
        "outputId": "fb228f9e-fa92-4638-f41e-5dfc3ddb589b"
      },
      "execution_count": null,
      "outputs": [
        {
          "output_type": "stream",
          "name": "stdout",
          "text": [
            "{'rouge-1': {'r': 0.8193468150794421, 'p': 0.8189892139559481, 'f': 0.8063565130948369}, 'rouge-2': {'r': 0.7365622623326448, 'p': 0.7404020430258149, 'f': 0.7279622576557658}, 'rouge-l': {'r': 0.8132259147248465, 'p': 0.8137673606740519, 'f': 0.8008201257564441}}\n"
          ]
        }
      ]
    },
    {
      "cell_type": "code",
      "source": [
        "# Rouge Score / Fine-tune  - tokenizer2\n",
        "# For multiple sentences\n",
        "\n",
        "from rouge import Rouge\n",
        "\n",
        "rouge = Rouge()\n",
        "\n",
        "hyps = df_test_mymodel_digit_summary['summary'].tolist()\n",
        "refs = df_test_new['label'].tolist()\n",
        "\n",
        "scores = rouge.get_scores(hyps, refs, avg=True)\n",
        "print(scores)"
      ],
      "metadata": {
        "colab": {
          "base_uri": "https://localhost:8080/"
        },
        "id": "QxKb5R0GjM6n",
        "outputId": "28718f68-965a-4070-89d6-d702daae06bc"
      },
      "execution_count": null,
      "outputs": [
        {
          "output_type": "stream",
          "name": "stdout",
          "text": [
            "{'rouge-1': {'r': 0.8193468150794421, 'p': 0.8189892139559481, 'f': 0.8063565130948369}, 'rouge-2': {'r': 0.7365622623326448, 'p': 0.7404020430258149, 'f': 0.7279622576557658}, 'rouge-l': {'r': 0.8132259147248465, 'p': 0.8137673606740519, 'f': 0.8008201257564441}}\n"
          ]
        }
      ]
    },
    {
      "cell_type": "code",
      "source": [
        "# Rouge Score / Original\n",
        "# For multiple sentences\n",
        "\n",
        "from rouge import Rouge\n",
        "\n",
        "rouge = Rouge()\n",
        "\n",
        "hyps = df_test_premodel_gogamza_summary['summary'].tolist()\n",
        "refs = df_test_new['label'].tolist()\n",
        "\n",
        "scores = rouge.get_scores(hyps, refs, avg=True)\n",
        "print(scores)"
      ],
      "metadata": {
        "colab": {
          "base_uri": "https://localhost:8080/"
        },
        "id": "wQEBI9hujRhW",
        "outputId": "ecaa831c-7add-42ae-b054-7775891117c0"
      },
      "execution_count": null,
      "outputs": [
        {
          "output_type": "stream",
          "name": "stdout",
          "text": [
            "{'rouge-1': {'r': 0.5013521555892089, 'p': 0.2439318385731003, 'f': 0.31059669039267396}, 'rouge-2': {'r': 0.3638765317068805, 'p': 0.16386818124273733, 'f': 0.21357541903104657}, 'rouge-l': {'r': 0.48788962821374265, 'p': 0.23727582347553922, 'f': 0.302183379085435}}\n"
          ]
        }
      ]
    },
    {
      "cell_type": "code",
      "source": [
        "# Source Code for Rouge Score\n",
        "# For 1 sentence / ToyData\n",
        "\n",
        "from rouge import Rouge\n",
        "\n",
        "rouge = Rouge()\n",
        "\n",
        "# Define the generated and reference summaries\n",
        "generated_summary = \"A cat and a dog were playing in the park.\"\n",
        "reference_summary = \"A dog and a cat were playing in the park.\"\n",
        "\n",
        "# Calculate the ROUGE-2 score\n",
        "scores = rouge.get_scores(generated_summary, reference_summary, avg=True)\n",
        "rouge_2_score = scores['rouge-2']\n",
        "\n",
        "# Print the ROUGE-2 score\n",
        "print(rouge_2_score)"
      ],
      "metadata": {
        "colab": {
          "base_uri": "https://localhost:8080/"
        },
        "id": "A7Ru-oIIpl9u",
        "outputId": "cb22779f-b65b-4c5d-d454-42094709357a"
      },
      "execution_count": null,
      "outputs": [
        {
          "output_type": "stream",
          "name": "stdout",
          "text": [
            "{'r': 0.5555555555555556, 'p': 0.5555555555555556, 'f': 0.5555555505555557}\n"
          ]
        }
      ]
    },
    {
      "cell_type": "markdown",
      "source": [
        "###### **bleu score**\n",
        "- 번역에 알맞은 지표"
      ],
      "metadata": {
        "id": "olhTujvbTdB1"
      }
    },
    {
      "cell_type": "code",
      "source": [
        "# Calculate bleu score / 여러문장일때\n",
        "import nltk.translate.bleu_score as bleu\n",
        "\n",
        "candidate = 'It is a guide to action which ensures that the military always obeys the commands of the party'\n",
        "references = [\n",
        "    'It is a guide to action that ensures that the military will forever heed Party commands',\n",
        "    'It is the guiding principle which guarantees the military forces always being under the command of the Party',\n",
        "    'It is the practical guide for the army always to heed the directions of the party'\n",
        "]\n",
        "\n",
        "print('패키지 NLTK의 BLEU :',bleu.sentence_bleu(list(map(lambda ref: ref.split(), references)),candidate.split()))"
      ],
      "metadata": {
        "colab": {
          "base_uri": "https://localhost:8080/"
        },
        "id": "kcfTxqYsniTw",
        "outputId": "db1f00d6-e5f8-449f-d208-b034ddc41564"
      },
      "execution_count": null,
      "outputs": [
        {
          "output_type": "stream",
          "name": "stdout",
          "text": [
            "패키지 NLTK의 BLEU : 0.5045666840058485\n"
          ]
        }
      ]
    },
    {
      "cell_type": "code",
      "source": [
        "reference_sentence.split()"
      ],
      "metadata": {
        "colab": {
          "base_uri": "https://localhost:8080/"
        },
        "id": "XfFm8CDvt8kC",
        "outputId": "c5894ed8-0091-48cd-970b-0eb369a5ce5f"
      },
      "execution_count": null,
      "outputs": [
        {
          "output_type": "execute_result",
          "data": {
            "text/plain": [
              "['A', 'dog', 'and', 'a', 'cat', 'were', 'playing', 'in', 'the', 'park.']"
            ]
          },
          "metadata": {},
          "execution_count": 84
        }
      ]
    },
    {
      "cell_type": "code",
      "source": [
        "generated_sentence.split()"
      ],
      "metadata": {
        "colab": {
          "base_uri": "https://localhost:8080/"
        },
        "id": "v9fdUKDNt9uK",
        "outputId": "82c800b0-d004-44c4-b463-27aafdabbc5f"
      },
      "execution_count": null,
      "outputs": [
        {
          "output_type": "execute_result",
          "data": {
            "text/plain": [
              "['A', 'cat', 'and', 'a', 'dog', 'were', 'playing', 'in', 'the', 'park.']"
            ]
          },
          "metadata": {},
          "execution_count": 85
        }
      ]
    },
    {
      "cell_type": "code",
      "source": [
        "# 한문장일때\n",
        "# import nltk\n",
        "from nltk.translate.bleu_score import sentence_bleu\n",
        "\n",
        "# Define the generated sentence and reference sentence\n",
        "generated_sentence = \"A cat and a dog were playing in the park.\"\n",
        "reference_sentence = \"A dog and a cat were playing in the park.\"\n",
        "\n",
        "# Calculate the BLEU score using the sentence_bleu function\n",
        "bleu_score = sentence_bleu([reference_sentence.split()], generated_sentence.split())\n",
        "\n",
        "# Print the BLEU score\n",
        "print(bleu_score)\n",
        "\n",
        "# 추후 이론 공부 필요한 지점\n",
        "# Define the generated sentence and reference sentence\n",
        "generated_sentence = \"A cat and a dog were playing in the park.\"\n",
        "reference_sentence = \"A dog and a cat were playing in the park.\"\n",
        "\n",
        "# Calculate the BLEU score using the sentence_bleu function\n",
        "bleu_score = sentence_bleu([reference_sentence], generated_sentence)\n",
        "\n",
        "# Print the BLEU score\n",
        "print(bleu_score)"
      ],
      "metadata": {
        "colab": {
          "base_uri": "https://localhost:8080/"
        },
        "id": "bckdv9g5r2m3",
        "outputId": "43e43fe3-3cd8-4389-e8ea-e36f74a340d3"
      },
      "execution_count": null,
      "outputs": [
        {
          "output_type": "stream",
          "name": "stdout",
          "text": [
            "0.49393827371153703\n",
            "0.9250077760445776\n"
          ]
        }
      ]
    },
    {
      "cell_type": "markdown",
      "source": [
        "## **3. QA**\n",
        "- 추후 제작 예정"
      ],
      "metadata": {
        "id": "FQe37itoEFn3"
      }
    },
    {
      "cell_type": "markdown",
      "source": [
        "#### **Haystack**"
      ],
      "metadata": {
        "id": "q3paO8P8GR3e"
      }
    },
    {
      "cell_type": "markdown",
      "source": [
        "##### **QA transformer**"
      ],
      "metadata": {
        "id": "NFXOfMZ8Tddv"
      }
    },
    {
      "cell_type": "markdown",
      "source": [
        "- https://github.com/jonas-jun/haystack_search_engine/blob/main/Search_haystack.ipynb\n",
        "- text to text transformer https://github.com/yeontaek/Text-to-Text-Transformer"
      ],
      "metadata": {
        "id": "BTANvJ5NSpUH"
      }
    },
    {
      "cell_type": "markdown",
      "source": [
        "- https://github.com/deepset-ai/haystack"
      ],
      "metadata": {
        "id": "ne4C7QjCbARv"
      }
    },
    {
      "cell_type": "code",
      "source": [
        "!pip install git+https://github.com/deepset-ai/haystack.git"
      ],
      "metadata": {
        "id": "JYehuEaj0pPk"
      },
      "execution_count": null,
      "outputs": []
    },
    {
      "cell_type": "code",
      "source": [
        "!pip install farm-haystack"
      ],
      "metadata": {
        "id": "n7l2TdVZ0qzb"
      },
      "execution_count": null,
      "outputs": []
    },
    {
      "cell_type": "code",
      "source": [
        "!git clone https://github.com/deepset-ai/haystack.git\n",
        "%cd haystack\n",
        "# !pip install --upgrade pip\n",
        "# !pip install -e '.[all]'"
      ],
      "metadata": {
        "colab": {
          "base_uri": "https://localhost:8080/"
        },
        "id": "_7AWlas-HBaF",
        "outputId": "ae74e1e5-2201-4c13-e133-17cbeb5fb02b"
      },
      "execution_count": null,
      "outputs": [
        {
          "output_type": "stream",
          "name": "stdout",
          "text": [
            "Cloning into 'haystack'...\n",
            "remote: Enumerating objects: 28864, done.\u001b[K\n",
            "remote: Counting objects: 100% (668/668), done.\u001b[K\n",
            "remote: Compressing objects: 100% (358/358), done.\u001b[K\n",
            "remote: Total 28864 (delta 409), reused 503 (delta 301), pack-reused 28196\u001b[K\n",
            "Receiving objects: 100% (28864/28864), 33.95 MiB | 13.31 MiB/s, done.\n",
            "Resolving deltas: 100% (22071/22071), done.\n",
            "Updating files: 100% (475/475), done.\n",
            "/content/drive/MyDrive/project4/RawData/haystack\n"
          ]
        }
      ]
    },
    {
      "cell_type": "code",
      "source": [
        "%%bash\n",
        "pip install farm-haystack[colab]"
      ],
      "metadata": {
        "id": "heXZ1yhY0sIu"
      },
      "execution_count": null,
      "outputs": []
    },
    {
      "cell_type": "code",
      "source": [
        "!pip install --upgrade \"urllib3==1.25.4\" awscli"
      ],
      "metadata": {
        "id": "1CDhCuPs0tNn"
      },
      "execution_count": null,
      "outputs": []
    },
    {
      "cell_type": "code",
      "source": [
        "from haystack import Finder\n",
        "from haystack.preprocessor.cleaning import clean_wiki_text #haystack.indexing -> haystack.preprocessor\n",
        "from haystack.preprocessor.utils import convert_files_to_dicts, fetch_archive_from_http\n",
        "from haystack.reader.farm import FARMReader\n",
        "from haystack.reader.transformers import TransformersReader\n",
        "from haystack.utils import print_answers"
      ],
      "metadata": {
        "id": "qWn4OmZq0uP4"
      },
      "execution_count": null,
      "outputs": []
    }
  ],
  "metadata": {
    "colab": {
      "provenance": [],
      "collapsed_sections": [
        "5j0Xi7kFIMso",
        "qCcU1ZsbbYOa",
        "z29DaKigD2pw",
        "xhbwUFG7aHW8",
        "UHsahG6FaKYP",
        "yZRrzlgvEAaL",
        "VIDEEQ0vWyaZ",
        "yLxjblyOI43A",
        "0fM0wZhb3-CZ",
        "gxXKHSjW4CyS",
        "KV-33IGG4LBl",
        "lFdZ-syqtu92",
        "4U8LwpX8tqEf",
        "5QoTvJ57iIVW",
        "olhTujvbTdB1",
        "FQe37itoEFn3"
      ]
    },
    "kernelspec": {
      "display_name": "Python 3",
      "name": "python3"
    },
    "language_info": {
      "name": "python"
    },
    "gpuClass": "standard",
    "widgets": {
      "application/vnd.jupyter.widget-state+json": {
        "91784b6b764a4f85a0c4286ba3d87dc3": {
          "model_module": "@jupyter-widgets/controls",
          "model_name": "HBoxModel",
          "model_module_version": "1.5.0",
          "state": {
            "_dom_classes": [],
            "_model_module": "@jupyter-widgets/controls",
            "_model_module_version": "1.5.0",
            "_model_name": "HBoxModel",
            "_view_count": null,
            "_view_module": "@jupyter-widgets/controls",
            "_view_module_version": "1.5.0",
            "_view_name": "HBoxView",
            "box_style": "",
            "children": [
              "IPY_MODEL_07d34114ea01475992e1f05e91502138",
              "IPY_MODEL_a6f8302b79a346618af5ecd7e389c351",
              "IPY_MODEL_14c3d04762434b11a9a5bf421feda89f"
            ],
            "layout": "IPY_MODEL_3525268318454e1c8309b2e406d3d77f"
          }
        },
        "07d34114ea01475992e1f05e91502138": {
          "model_module": "@jupyter-widgets/controls",
          "model_name": "HTMLModel",
          "model_module_version": "1.5.0",
          "state": {
            "_dom_classes": [],
            "_model_module": "@jupyter-widgets/controls",
            "_model_module_version": "1.5.0",
            "_model_name": "HTMLModel",
            "_view_count": null,
            "_view_module": "@jupyter-widgets/controls",
            "_view_module_version": "1.5.0",
            "_view_name": "HTMLView",
            "description": "",
            "description_tooltip": null,
            "layout": "IPY_MODEL_18d5d039fd16447db6562cdc339a87e5",
            "placeholder": "​",
            "style": "IPY_MODEL_d0f441e413a54a82840b8b3935033571",
            "value": "Downloading: 100%"
          }
        },
        "a6f8302b79a346618af5ecd7e389c351": {
          "model_module": "@jupyter-widgets/controls",
          "model_name": "FloatProgressModel",
          "model_module_version": "1.5.0",
          "state": {
            "_dom_classes": [],
            "_model_module": "@jupyter-widgets/controls",
            "_model_module_version": "1.5.0",
            "_model_name": "FloatProgressModel",
            "_view_count": null,
            "_view_module": "@jupyter-widgets/controls",
            "_view_module_version": "1.5.0",
            "_view_name": "ProgressView",
            "bar_style": "success",
            "description": "",
            "description_tooltip": null,
            "layout": "IPY_MODEL_f11f29bf06774e8e9557cba3bde009c5",
            "max": 4,
            "min": 0,
            "orientation": "horizontal",
            "style": "IPY_MODEL_db8426fbb4d649f69ecfbf0ed9d2eb51",
            "value": 4
          }
        },
        "14c3d04762434b11a9a5bf421feda89f": {
          "model_module": "@jupyter-widgets/controls",
          "model_name": "HTMLModel",
          "model_module_version": "1.5.0",
          "state": {
            "_dom_classes": [],
            "_model_module": "@jupyter-widgets/controls",
            "_model_module_version": "1.5.0",
            "_model_name": "HTMLModel",
            "_view_count": null,
            "_view_module": "@jupyter-widgets/controls",
            "_view_module_version": "1.5.0",
            "_view_name": "HTMLView",
            "description": "",
            "description_tooltip": null,
            "layout": "IPY_MODEL_69b79105301c444cade8afed7bdbd827",
            "placeholder": "​",
            "style": "IPY_MODEL_b6a9d865dce74f8a98a77abaa35694b0",
            "value": " 4.00/4.00 [00:00&lt;00:00, 119B/s]"
          }
        },
        "3525268318454e1c8309b2e406d3d77f": {
          "model_module": "@jupyter-widgets/base",
          "model_name": "LayoutModel",
          "model_module_version": "1.2.0",
          "state": {
            "_model_module": "@jupyter-widgets/base",
            "_model_module_version": "1.2.0",
            "_model_name": "LayoutModel",
            "_view_count": null,
            "_view_module": "@jupyter-widgets/base",
            "_view_module_version": "1.2.0",
            "_view_name": "LayoutView",
            "align_content": null,
            "align_items": null,
            "align_self": null,
            "border": null,
            "bottom": null,
            "display": null,
            "flex": null,
            "flex_flow": null,
            "grid_area": null,
            "grid_auto_columns": null,
            "grid_auto_flow": null,
            "grid_auto_rows": null,
            "grid_column": null,
            "grid_gap": null,
            "grid_row": null,
            "grid_template_areas": null,
            "grid_template_columns": null,
            "grid_template_rows": null,
            "height": null,
            "justify_content": null,
            "justify_items": null,
            "left": null,
            "margin": null,
            "max_height": null,
            "max_width": null,
            "min_height": null,
            "min_width": null,
            "object_fit": null,
            "object_position": null,
            "order": null,
            "overflow": null,
            "overflow_x": null,
            "overflow_y": null,
            "padding": null,
            "right": null,
            "top": null,
            "visibility": null,
            "width": null
          }
        },
        "18d5d039fd16447db6562cdc339a87e5": {
          "model_module": "@jupyter-widgets/base",
          "model_name": "LayoutModel",
          "model_module_version": "1.2.0",
          "state": {
            "_model_module": "@jupyter-widgets/base",
            "_model_module_version": "1.2.0",
            "_model_name": "LayoutModel",
            "_view_count": null,
            "_view_module": "@jupyter-widgets/base",
            "_view_module_version": "1.2.0",
            "_view_name": "LayoutView",
            "align_content": null,
            "align_items": null,
            "align_self": null,
            "border": null,
            "bottom": null,
            "display": null,
            "flex": null,
            "flex_flow": null,
            "grid_area": null,
            "grid_auto_columns": null,
            "grid_auto_flow": null,
            "grid_auto_rows": null,
            "grid_column": null,
            "grid_gap": null,
            "grid_row": null,
            "grid_template_areas": null,
            "grid_template_columns": null,
            "grid_template_rows": null,
            "height": null,
            "justify_content": null,
            "justify_items": null,
            "left": null,
            "margin": null,
            "max_height": null,
            "max_width": null,
            "min_height": null,
            "min_width": null,
            "object_fit": null,
            "object_position": null,
            "order": null,
            "overflow": null,
            "overflow_x": null,
            "overflow_y": null,
            "padding": null,
            "right": null,
            "top": null,
            "visibility": null,
            "width": null
          }
        },
        "d0f441e413a54a82840b8b3935033571": {
          "model_module": "@jupyter-widgets/controls",
          "model_name": "DescriptionStyleModel",
          "model_module_version": "1.5.0",
          "state": {
            "_model_module": "@jupyter-widgets/controls",
            "_model_module_version": "1.5.0",
            "_model_name": "DescriptionStyleModel",
            "_view_count": null,
            "_view_module": "@jupyter-widgets/base",
            "_view_module_version": "1.2.0",
            "_view_name": "StyleView",
            "description_width": ""
          }
        },
        "f11f29bf06774e8e9557cba3bde009c5": {
          "model_module": "@jupyter-widgets/base",
          "model_name": "LayoutModel",
          "model_module_version": "1.2.0",
          "state": {
            "_model_module": "@jupyter-widgets/base",
            "_model_module_version": "1.2.0",
            "_model_name": "LayoutModel",
            "_view_count": null,
            "_view_module": "@jupyter-widgets/base",
            "_view_module_version": "1.2.0",
            "_view_name": "LayoutView",
            "align_content": null,
            "align_items": null,
            "align_self": null,
            "border": null,
            "bottom": null,
            "display": null,
            "flex": null,
            "flex_flow": null,
            "grid_area": null,
            "grid_auto_columns": null,
            "grid_auto_flow": null,
            "grid_auto_rows": null,
            "grid_column": null,
            "grid_gap": null,
            "grid_row": null,
            "grid_template_areas": null,
            "grid_template_columns": null,
            "grid_template_rows": null,
            "height": null,
            "justify_content": null,
            "justify_items": null,
            "left": null,
            "margin": null,
            "max_height": null,
            "max_width": null,
            "min_height": null,
            "min_width": null,
            "object_fit": null,
            "object_position": null,
            "order": null,
            "overflow": null,
            "overflow_x": null,
            "overflow_y": null,
            "padding": null,
            "right": null,
            "top": null,
            "visibility": null,
            "width": null
          }
        },
        "db8426fbb4d649f69ecfbf0ed9d2eb51": {
          "model_module": "@jupyter-widgets/controls",
          "model_name": "ProgressStyleModel",
          "model_module_version": "1.5.0",
          "state": {
            "_model_module": "@jupyter-widgets/controls",
            "_model_module_version": "1.5.0",
            "_model_name": "ProgressStyleModel",
            "_view_count": null,
            "_view_module": "@jupyter-widgets/base",
            "_view_module_version": "1.2.0",
            "_view_name": "StyleView",
            "bar_color": null,
            "description_width": ""
          }
        },
        "69b79105301c444cade8afed7bdbd827": {
          "model_module": "@jupyter-widgets/base",
          "model_name": "LayoutModel",
          "model_module_version": "1.2.0",
          "state": {
            "_model_module": "@jupyter-widgets/base",
            "_model_module_version": "1.2.0",
            "_model_name": "LayoutModel",
            "_view_count": null,
            "_view_module": "@jupyter-widgets/base",
            "_view_module_version": "1.2.0",
            "_view_name": "LayoutView",
            "align_content": null,
            "align_items": null,
            "align_self": null,
            "border": null,
            "bottom": null,
            "display": null,
            "flex": null,
            "flex_flow": null,
            "grid_area": null,
            "grid_auto_columns": null,
            "grid_auto_flow": null,
            "grid_auto_rows": null,
            "grid_column": null,
            "grid_gap": null,
            "grid_row": null,
            "grid_template_areas": null,
            "grid_template_columns": null,
            "grid_template_rows": null,
            "height": null,
            "justify_content": null,
            "justify_items": null,
            "left": null,
            "margin": null,
            "max_height": null,
            "max_width": null,
            "min_height": null,
            "min_width": null,
            "object_fit": null,
            "object_position": null,
            "order": null,
            "overflow": null,
            "overflow_x": null,
            "overflow_y": null,
            "padding": null,
            "right": null,
            "top": null,
            "visibility": null,
            "width": null
          }
        },
        "b6a9d865dce74f8a98a77abaa35694b0": {
          "model_module": "@jupyter-widgets/controls",
          "model_name": "DescriptionStyleModel",
          "model_module_version": "1.5.0",
          "state": {
            "_model_module": "@jupyter-widgets/controls",
            "_model_module_version": "1.5.0",
            "_model_name": "DescriptionStyleModel",
            "_view_count": null,
            "_view_module": "@jupyter-widgets/base",
            "_view_module_version": "1.2.0",
            "_view_name": "StyleView",
            "description_width": ""
          }
        },
        "19e45c138f224dba9471137788bdc896": {
          "model_module": "@jupyter-widgets/controls",
          "model_name": "HBoxModel",
          "model_module_version": "1.5.0",
          "state": {
            "_dom_classes": [],
            "_model_module": "@jupyter-widgets/controls",
            "_model_module_version": "1.5.0",
            "_model_name": "HBoxModel",
            "_view_count": null,
            "_view_module": "@jupyter-widgets/controls",
            "_view_module_version": "1.5.0",
            "_view_name": "HBoxView",
            "box_style": "",
            "children": [
              "IPY_MODEL_d3fafc91b085429284e6f8e1f87ba0ad",
              "IPY_MODEL_18331090baa7463eb61840ae7fa68442",
              "IPY_MODEL_44e6012cb46e492285ec6c6c6fcc8381"
            ],
            "layout": "IPY_MODEL_85fa252e281842888a5ac64b6c324bfa"
          }
        },
        "d3fafc91b085429284e6f8e1f87ba0ad": {
          "model_module": "@jupyter-widgets/controls",
          "model_name": "HTMLModel",
          "model_module_version": "1.5.0",
          "state": {
            "_dom_classes": [],
            "_model_module": "@jupyter-widgets/controls",
            "_model_module_version": "1.5.0",
            "_model_name": "HTMLModel",
            "_view_count": null,
            "_view_module": "@jupyter-widgets/controls",
            "_view_module_version": "1.5.0",
            "_view_name": "HTMLView",
            "description": "",
            "description_tooltip": null,
            "layout": "IPY_MODEL_b59e38e45b4f4d37971fcc19483a3f26",
            "placeholder": "​",
            "style": "IPY_MODEL_a2066175dcef4402ba7f1a0f17bbc39d",
            "value": "Downloading: 100%"
          }
        },
        "18331090baa7463eb61840ae7fa68442": {
          "model_module": "@jupyter-widgets/controls",
          "model_name": "FloatProgressModel",
          "model_module_version": "1.5.0",
          "state": {
            "_dom_classes": [],
            "_model_module": "@jupyter-widgets/controls",
            "_model_module_version": "1.5.0",
            "_model_name": "FloatProgressModel",
            "_view_count": null,
            "_view_module": "@jupyter-widgets/controls",
            "_view_module_version": "1.5.0",
            "_view_name": "ProgressView",
            "bar_style": "success",
            "description": "",
            "description_tooltip": null,
            "layout": "IPY_MODEL_398f8bbbbbbb49f4831ab027ff3d93a9",
            "max": 112,
            "min": 0,
            "orientation": "horizontal",
            "style": "IPY_MODEL_430235d23d654d429c605c4d515ea5f3",
            "value": 112
          }
        },
        "44e6012cb46e492285ec6c6c6fcc8381": {
          "model_module": "@jupyter-widgets/controls",
          "model_name": "HTMLModel",
          "model_module_version": "1.5.0",
          "state": {
            "_dom_classes": [],
            "_model_module": "@jupyter-widgets/controls",
            "_model_module_version": "1.5.0",
            "_model_name": "HTMLModel",
            "_view_count": null,
            "_view_module": "@jupyter-widgets/controls",
            "_view_module_version": "1.5.0",
            "_view_name": "HTMLView",
            "description": "",
            "description_tooltip": null,
            "layout": "IPY_MODEL_6522f74646b042eea87c8d88a3b89499",
            "placeholder": "​",
            "style": "IPY_MODEL_cead1bba1018424e9d0b601e416c329b",
            "value": " 112/112 [00:00&lt;00:00, 5.64kB/s]"
          }
        },
        "85fa252e281842888a5ac64b6c324bfa": {
          "model_module": "@jupyter-widgets/base",
          "model_name": "LayoutModel",
          "model_module_version": "1.2.0",
          "state": {
            "_model_module": "@jupyter-widgets/base",
            "_model_module_version": "1.2.0",
            "_model_name": "LayoutModel",
            "_view_count": null,
            "_view_module": "@jupyter-widgets/base",
            "_view_module_version": "1.2.0",
            "_view_name": "LayoutView",
            "align_content": null,
            "align_items": null,
            "align_self": null,
            "border": null,
            "bottom": null,
            "display": null,
            "flex": null,
            "flex_flow": null,
            "grid_area": null,
            "grid_auto_columns": null,
            "grid_auto_flow": null,
            "grid_auto_rows": null,
            "grid_column": null,
            "grid_gap": null,
            "grid_row": null,
            "grid_template_areas": null,
            "grid_template_columns": null,
            "grid_template_rows": null,
            "height": null,
            "justify_content": null,
            "justify_items": null,
            "left": null,
            "margin": null,
            "max_height": null,
            "max_width": null,
            "min_height": null,
            "min_width": null,
            "object_fit": null,
            "object_position": null,
            "order": null,
            "overflow": null,
            "overflow_x": null,
            "overflow_y": null,
            "padding": null,
            "right": null,
            "top": null,
            "visibility": null,
            "width": null
          }
        },
        "b59e38e45b4f4d37971fcc19483a3f26": {
          "model_module": "@jupyter-widgets/base",
          "model_name": "LayoutModel",
          "model_module_version": "1.2.0",
          "state": {
            "_model_module": "@jupyter-widgets/base",
            "_model_module_version": "1.2.0",
            "_model_name": "LayoutModel",
            "_view_count": null,
            "_view_module": "@jupyter-widgets/base",
            "_view_module_version": "1.2.0",
            "_view_name": "LayoutView",
            "align_content": null,
            "align_items": null,
            "align_self": null,
            "border": null,
            "bottom": null,
            "display": null,
            "flex": null,
            "flex_flow": null,
            "grid_area": null,
            "grid_auto_columns": null,
            "grid_auto_flow": null,
            "grid_auto_rows": null,
            "grid_column": null,
            "grid_gap": null,
            "grid_row": null,
            "grid_template_areas": null,
            "grid_template_columns": null,
            "grid_template_rows": null,
            "height": null,
            "justify_content": null,
            "justify_items": null,
            "left": null,
            "margin": null,
            "max_height": null,
            "max_width": null,
            "min_height": null,
            "min_width": null,
            "object_fit": null,
            "object_position": null,
            "order": null,
            "overflow": null,
            "overflow_x": null,
            "overflow_y": null,
            "padding": null,
            "right": null,
            "top": null,
            "visibility": null,
            "width": null
          }
        },
        "a2066175dcef4402ba7f1a0f17bbc39d": {
          "model_module": "@jupyter-widgets/controls",
          "model_name": "DescriptionStyleModel",
          "model_module_version": "1.5.0",
          "state": {
            "_model_module": "@jupyter-widgets/controls",
            "_model_module_version": "1.5.0",
            "_model_name": "DescriptionStyleModel",
            "_view_count": null,
            "_view_module": "@jupyter-widgets/base",
            "_view_module_version": "1.2.0",
            "_view_name": "StyleView",
            "description_width": ""
          }
        },
        "398f8bbbbbbb49f4831ab027ff3d93a9": {
          "model_module": "@jupyter-widgets/base",
          "model_name": "LayoutModel",
          "model_module_version": "1.2.0",
          "state": {
            "_model_module": "@jupyter-widgets/base",
            "_model_module_version": "1.2.0",
            "_model_name": "LayoutModel",
            "_view_count": null,
            "_view_module": "@jupyter-widgets/base",
            "_view_module_version": "1.2.0",
            "_view_name": "LayoutView",
            "align_content": null,
            "align_items": null,
            "align_self": null,
            "border": null,
            "bottom": null,
            "display": null,
            "flex": null,
            "flex_flow": null,
            "grid_area": null,
            "grid_auto_columns": null,
            "grid_auto_flow": null,
            "grid_auto_rows": null,
            "grid_column": null,
            "grid_gap": null,
            "grid_row": null,
            "grid_template_areas": null,
            "grid_template_columns": null,
            "grid_template_rows": null,
            "height": null,
            "justify_content": null,
            "justify_items": null,
            "left": null,
            "margin": null,
            "max_height": null,
            "max_width": null,
            "min_height": null,
            "min_width": null,
            "object_fit": null,
            "object_position": null,
            "order": null,
            "overflow": null,
            "overflow_x": null,
            "overflow_y": null,
            "padding": null,
            "right": null,
            "top": null,
            "visibility": null,
            "width": null
          }
        },
        "430235d23d654d429c605c4d515ea5f3": {
          "model_module": "@jupyter-widgets/controls",
          "model_name": "ProgressStyleModel",
          "model_module_version": "1.5.0",
          "state": {
            "_model_module": "@jupyter-widgets/controls",
            "_model_module_version": "1.5.0",
            "_model_name": "ProgressStyleModel",
            "_view_count": null,
            "_view_module": "@jupyter-widgets/base",
            "_view_module_version": "1.2.0",
            "_view_name": "StyleView",
            "bar_color": null,
            "description_width": ""
          }
        },
        "6522f74646b042eea87c8d88a3b89499": {
          "model_module": "@jupyter-widgets/base",
          "model_name": "LayoutModel",
          "model_module_version": "1.2.0",
          "state": {
            "_model_module": "@jupyter-widgets/base",
            "_model_module_version": "1.2.0",
            "_model_name": "LayoutModel",
            "_view_count": null,
            "_view_module": "@jupyter-widgets/base",
            "_view_module_version": "1.2.0",
            "_view_name": "LayoutView",
            "align_content": null,
            "align_items": null,
            "align_self": null,
            "border": null,
            "bottom": null,
            "display": null,
            "flex": null,
            "flex_flow": null,
            "grid_area": null,
            "grid_auto_columns": null,
            "grid_auto_flow": null,
            "grid_auto_rows": null,
            "grid_column": null,
            "grid_gap": null,
            "grid_row": null,
            "grid_template_areas": null,
            "grid_template_columns": null,
            "grid_template_rows": null,
            "height": null,
            "justify_content": null,
            "justify_items": null,
            "left": null,
            "margin": null,
            "max_height": null,
            "max_width": null,
            "min_height": null,
            "min_width": null,
            "object_fit": null,
            "object_position": null,
            "order": null,
            "overflow": null,
            "overflow_x": null,
            "overflow_y": null,
            "padding": null,
            "right": null,
            "top": null,
            "visibility": null,
            "width": null
          }
        },
        "cead1bba1018424e9d0b601e416c329b": {
          "model_module": "@jupyter-widgets/controls",
          "model_name": "DescriptionStyleModel",
          "model_module_version": "1.5.0",
          "state": {
            "_model_module": "@jupyter-widgets/controls",
            "_model_module_version": "1.5.0",
            "_model_name": "DescriptionStyleModel",
            "_view_count": null,
            "_view_module": "@jupyter-widgets/base",
            "_view_module_version": "1.2.0",
            "_view_name": "StyleView",
            "description_width": ""
          }
        },
        "521e3f169d374d929a5b65b6f31b5011": {
          "model_module": "@jupyter-widgets/controls",
          "model_name": "HBoxModel",
          "model_module_version": "1.5.0",
          "state": {
            "_dom_classes": [],
            "_model_module": "@jupyter-widgets/controls",
            "_model_module_version": "1.5.0",
            "_model_name": "HBoxModel",
            "_view_count": null,
            "_view_module": "@jupyter-widgets/controls",
            "_view_module_version": "1.5.0",
            "_view_name": "HBoxView",
            "box_style": "",
            "children": [
              "IPY_MODEL_5133e00d94684fb2b233cbf45b12161c",
              "IPY_MODEL_d7bec8292de744249d571565bbc76b11",
              "IPY_MODEL_57bc310492dd420c8a7b3819fb5ad77b"
            ],
            "layout": "IPY_MODEL_9f9d36f83d63485f8294a7f4d99a075d"
          }
        },
        "5133e00d94684fb2b233cbf45b12161c": {
          "model_module": "@jupyter-widgets/controls",
          "model_name": "HTMLModel",
          "model_module_version": "1.5.0",
          "state": {
            "_dom_classes": [],
            "_model_module": "@jupyter-widgets/controls",
            "_model_module_version": "1.5.0",
            "_model_name": "HTMLModel",
            "_view_count": null,
            "_view_module": "@jupyter-widgets/controls",
            "_view_module_version": "1.5.0",
            "_view_name": "HTMLView",
            "description": "",
            "description_tooltip": null,
            "layout": "IPY_MODEL_e377c3f19d61454db9b29396fd8f5b79",
            "placeholder": "​",
            "style": "IPY_MODEL_b70f1debf83c4431958f4eb98535959d",
            "value": "Downloading: 100%"
          }
        },
        "d7bec8292de744249d571565bbc76b11": {
          "model_module": "@jupyter-widgets/controls",
          "model_name": "FloatProgressModel",
          "model_module_version": "1.5.0",
          "state": {
            "_dom_classes": [],
            "_model_module": "@jupyter-widgets/controls",
            "_model_module_version": "1.5.0",
            "_model_name": "FloatProgressModel",
            "_view_count": null,
            "_view_module": "@jupyter-widgets/controls",
            "_view_module_version": "1.5.0",
            "_view_name": "ProgressView",
            "bar_style": "success",
            "description": "",
            "description_tooltip": null,
            "layout": "IPY_MODEL_fa62a95856ac4ac3a51d0acdc8439a23",
            "max": 682152,
            "min": 0,
            "orientation": "horizontal",
            "style": "IPY_MODEL_c924bd3b06fe474fad6025a9af506b63",
            "value": 682152
          }
        },
        "57bc310492dd420c8a7b3819fb5ad77b": {
          "model_module": "@jupyter-widgets/controls",
          "model_name": "HTMLModel",
          "model_module_version": "1.5.0",
          "state": {
            "_dom_classes": [],
            "_model_module": "@jupyter-widgets/controls",
            "_model_module_version": "1.5.0",
            "_model_name": "HTMLModel",
            "_view_count": null,
            "_view_module": "@jupyter-widgets/controls",
            "_view_module_version": "1.5.0",
            "_view_name": "HTMLView",
            "description": "",
            "description_tooltip": null,
            "layout": "IPY_MODEL_32a2b6817aa843c78d0f38d03bb43fa0",
            "placeholder": "​",
            "style": "IPY_MODEL_834831b7ad3342e5a01711731b5e7433",
            "value": " 666k/666k [00:00&lt;00:00, 879kB/s]"
          }
        },
        "9f9d36f83d63485f8294a7f4d99a075d": {
          "model_module": "@jupyter-widgets/base",
          "model_name": "LayoutModel",
          "model_module_version": "1.2.0",
          "state": {
            "_model_module": "@jupyter-widgets/base",
            "_model_module_version": "1.2.0",
            "_model_name": "LayoutModel",
            "_view_count": null,
            "_view_module": "@jupyter-widgets/base",
            "_view_module_version": "1.2.0",
            "_view_name": "LayoutView",
            "align_content": null,
            "align_items": null,
            "align_self": null,
            "border": null,
            "bottom": null,
            "display": null,
            "flex": null,
            "flex_flow": null,
            "grid_area": null,
            "grid_auto_columns": null,
            "grid_auto_flow": null,
            "grid_auto_rows": null,
            "grid_column": null,
            "grid_gap": null,
            "grid_row": null,
            "grid_template_areas": null,
            "grid_template_columns": null,
            "grid_template_rows": null,
            "height": null,
            "justify_content": null,
            "justify_items": null,
            "left": null,
            "margin": null,
            "max_height": null,
            "max_width": null,
            "min_height": null,
            "min_width": null,
            "object_fit": null,
            "object_position": null,
            "order": null,
            "overflow": null,
            "overflow_x": null,
            "overflow_y": null,
            "padding": null,
            "right": null,
            "top": null,
            "visibility": null,
            "width": null
          }
        },
        "e377c3f19d61454db9b29396fd8f5b79": {
          "model_module": "@jupyter-widgets/base",
          "model_name": "LayoutModel",
          "model_module_version": "1.2.0",
          "state": {
            "_model_module": "@jupyter-widgets/base",
            "_model_module_version": "1.2.0",
            "_model_name": "LayoutModel",
            "_view_count": null,
            "_view_module": "@jupyter-widgets/base",
            "_view_module_version": "1.2.0",
            "_view_name": "LayoutView",
            "align_content": null,
            "align_items": null,
            "align_self": null,
            "border": null,
            "bottom": null,
            "display": null,
            "flex": null,
            "flex_flow": null,
            "grid_area": null,
            "grid_auto_columns": null,
            "grid_auto_flow": null,
            "grid_auto_rows": null,
            "grid_column": null,
            "grid_gap": null,
            "grid_row": null,
            "grid_template_areas": null,
            "grid_template_columns": null,
            "grid_template_rows": null,
            "height": null,
            "justify_content": null,
            "justify_items": null,
            "left": null,
            "margin": null,
            "max_height": null,
            "max_width": null,
            "min_height": null,
            "min_width": null,
            "object_fit": null,
            "object_position": null,
            "order": null,
            "overflow": null,
            "overflow_x": null,
            "overflow_y": null,
            "padding": null,
            "right": null,
            "top": null,
            "visibility": null,
            "width": null
          }
        },
        "b70f1debf83c4431958f4eb98535959d": {
          "model_module": "@jupyter-widgets/controls",
          "model_name": "DescriptionStyleModel",
          "model_module_version": "1.5.0",
          "state": {
            "_model_module": "@jupyter-widgets/controls",
            "_model_module_version": "1.5.0",
            "_model_name": "DescriptionStyleModel",
            "_view_count": null,
            "_view_module": "@jupyter-widgets/base",
            "_view_module_version": "1.2.0",
            "_view_name": "StyleView",
            "description_width": ""
          }
        },
        "fa62a95856ac4ac3a51d0acdc8439a23": {
          "model_module": "@jupyter-widgets/base",
          "model_name": "LayoutModel",
          "model_module_version": "1.2.0",
          "state": {
            "_model_module": "@jupyter-widgets/base",
            "_model_module_version": "1.2.0",
            "_model_name": "LayoutModel",
            "_view_count": null,
            "_view_module": "@jupyter-widgets/base",
            "_view_module_version": "1.2.0",
            "_view_name": "LayoutView",
            "align_content": null,
            "align_items": null,
            "align_self": null,
            "border": null,
            "bottom": null,
            "display": null,
            "flex": null,
            "flex_flow": null,
            "grid_area": null,
            "grid_auto_columns": null,
            "grid_auto_flow": null,
            "grid_auto_rows": null,
            "grid_column": null,
            "grid_gap": null,
            "grid_row": null,
            "grid_template_areas": null,
            "grid_template_columns": null,
            "grid_template_rows": null,
            "height": null,
            "justify_content": null,
            "justify_items": null,
            "left": null,
            "margin": null,
            "max_height": null,
            "max_width": null,
            "min_height": null,
            "min_width": null,
            "object_fit": null,
            "object_position": null,
            "order": null,
            "overflow": null,
            "overflow_x": null,
            "overflow_y": null,
            "padding": null,
            "right": null,
            "top": null,
            "visibility": null,
            "width": null
          }
        },
        "c924bd3b06fe474fad6025a9af506b63": {
          "model_module": "@jupyter-widgets/controls",
          "model_name": "ProgressStyleModel",
          "model_module_version": "1.5.0",
          "state": {
            "_model_module": "@jupyter-widgets/controls",
            "_model_module_version": "1.5.0",
            "_model_name": "ProgressStyleModel",
            "_view_count": null,
            "_view_module": "@jupyter-widgets/base",
            "_view_module_version": "1.2.0",
            "_view_name": "StyleView",
            "bar_color": null,
            "description_width": ""
          }
        },
        "32a2b6817aa843c78d0f38d03bb43fa0": {
          "model_module": "@jupyter-widgets/base",
          "model_name": "LayoutModel",
          "model_module_version": "1.2.0",
          "state": {
            "_model_module": "@jupyter-widgets/base",
            "_model_module_version": "1.2.0",
            "_model_name": "LayoutModel",
            "_view_count": null,
            "_view_module": "@jupyter-widgets/base",
            "_view_module_version": "1.2.0",
            "_view_name": "LayoutView",
            "align_content": null,
            "align_items": null,
            "align_self": null,
            "border": null,
            "bottom": null,
            "display": null,
            "flex": null,
            "flex_flow": null,
            "grid_area": null,
            "grid_auto_columns": null,
            "grid_auto_flow": null,
            "grid_auto_rows": null,
            "grid_column": null,
            "grid_gap": null,
            "grid_row": null,
            "grid_template_areas": null,
            "grid_template_columns": null,
            "grid_template_rows": null,
            "height": null,
            "justify_content": null,
            "justify_items": null,
            "left": null,
            "margin": null,
            "max_height": null,
            "max_width": null,
            "min_height": null,
            "min_width": null,
            "object_fit": null,
            "object_position": null,
            "order": null,
            "overflow": null,
            "overflow_x": null,
            "overflow_y": null,
            "padding": null,
            "right": null,
            "top": null,
            "visibility": null,
            "width": null
          }
        },
        "834831b7ad3342e5a01711731b5e7433": {
          "model_module": "@jupyter-widgets/controls",
          "model_name": "DescriptionStyleModel",
          "model_module_version": "1.5.0",
          "state": {
            "_model_module": "@jupyter-widgets/controls",
            "_model_module_version": "1.5.0",
            "_model_name": "DescriptionStyleModel",
            "_view_count": null,
            "_view_module": "@jupyter-widgets/base",
            "_view_module_version": "1.2.0",
            "_view_name": "StyleView",
            "description_width": ""
          }
        },
        "3e762614dd6e4b34ae26d50f4d51a74a": {
          "model_module": "@jupyter-widgets/controls",
          "model_name": "HBoxModel",
          "model_module_version": "1.5.0",
          "state": {
            "_dom_classes": [],
            "_model_module": "@jupyter-widgets/controls",
            "_model_module_version": "1.5.0",
            "_model_name": "HBoxModel",
            "_view_count": null,
            "_view_module": "@jupyter-widgets/controls",
            "_view_module_version": "1.5.0",
            "_view_name": "HBoxView",
            "box_style": "",
            "children": [
              "IPY_MODEL_bc001663c0c1429d85c15ad951959f81",
              "IPY_MODEL_3da7e235bbe3411e87d626cf2a1f8948",
              "IPY_MODEL_c25a42766a8242e88c9f6104fbe57d12"
            ],
            "layout": "IPY_MODEL_c7a322dd717e49dcb74b439c5710ec81"
          }
        },
        "bc001663c0c1429d85c15ad951959f81": {
          "model_module": "@jupyter-widgets/controls",
          "model_name": "HTMLModel",
          "model_module_version": "1.5.0",
          "state": {
            "_dom_classes": [],
            "_model_module": "@jupyter-widgets/controls",
            "_model_module_version": "1.5.0",
            "_model_name": "HTMLModel",
            "_view_count": null,
            "_view_module": "@jupyter-widgets/controls",
            "_view_module_version": "1.5.0",
            "_view_name": "HTMLView",
            "description": "",
            "description_tooltip": null,
            "layout": "IPY_MODEL_a27dcd369ad5464aa0e5a41b2d29d508",
            "placeholder": "​",
            "style": "IPY_MODEL_335f9fcf2fc24d898430166b5794eba5",
            "value": "Downloading: 100%"
          }
        },
        "3da7e235bbe3411e87d626cf2a1f8948": {
          "model_module": "@jupyter-widgets/controls",
          "model_name": "FloatProgressModel",
          "model_module_version": "1.5.0",
          "state": {
            "_dom_classes": [],
            "_model_module": "@jupyter-widgets/controls",
            "_model_module_version": "1.5.0",
            "_model_name": "FloatProgressModel",
            "_view_count": null,
            "_view_module": "@jupyter-widgets/controls",
            "_view_module_version": "1.5.0",
            "_view_name": "ProgressView",
            "bar_style": "success",
            "description": "",
            "description_tooltip": null,
            "layout": "IPY_MODEL_631f9c2bcfa6438cad3da495c624abcb",
            "max": 1361,
            "min": 0,
            "orientation": "horizontal",
            "style": "IPY_MODEL_cfc6e4119db44ebb9b0f17b0c3a1db92",
            "value": 1361
          }
        },
        "c25a42766a8242e88c9f6104fbe57d12": {
          "model_module": "@jupyter-widgets/controls",
          "model_name": "HTMLModel",
          "model_module_version": "1.5.0",
          "state": {
            "_dom_classes": [],
            "_model_module": "@jupyter-widgets/controls",
            "_model_module_version": "1.5.0",
            "_model_name": "HTMLModel",
            "_view_count": null,
            "_view_module": "@jupyter-widgets/controls",
            "_view_module_version": "1.5.0",
            "_view_name": "HTMLView",
            "description": "",
            "description_tooltip": null,
            "layout": "IPY_MODEL_427fef7c786a4e04a0eea93881bc460e",
            "placeholder": "​",
            "style": "IPY_MODEL_48fec6d32b6d40c28eaed103fbf8db71",
            "value": " 1.33k/1.33k [00:00&lt;00:00, 64.1kB/s]"
          }
        },
        "c7a322dd717e49dcb74b439c5710ec81": {
          "model_module": "@jupyter-widgets/base",
          "model_name": "LayoutModel",
          "model_module_version": "1.2.0",
          "state": {
            "_model_module": "@jupyter-widgets/base",
            "_model_module_version": "1.2.0",
            "_model_name": "LayoutModel",
            "_view_count": null,
            "_view_module": "@jupyter-widgets/base",
            "_view_module_version": "1.2.0",
            "_view_name": "LayoutView",
            "align_content": null,
            "align_items": null,
            "align_self": null,
            "border": null,
            "bottom": null,
            "display": null,
            "flex": null,
            "flex_flow": null,
            "grid_area": null,
            "grid_auto_columns": null,
            "grid_auto_flow": null,
            "grid_auto_rows": null,
            "grid_column": null,
            "grid_gap": null,
            "grid_row": null,
            "grid_template_areas": null,
            "grid_template_columns": null,
            "grid_template_rows": null,
            "height": null,
            "justify_content": null,
            "justify_items": null,
            "left": null,
            "margin": null,
            "max_height": null,
            "max_width": null,
            "min_height": null,
            "min_width": null,
            "object_fit": null,
            "object_position": null,
            "order": null,
            "overflow": null,
            "overflow_x": null,
            "overflow_y": null,
            "padding": null,
            "right": null,
            "top": null,
            "visibility": null,
            "width": null
          }
        },
        "a27dcd369ad5464aa0e5a41b2d29d508": {
          "model_module": "@jupyter-widgets/base",
          "model_name": "LayoutModel",
          "model_module_version": "1.2.0",
          "state": {
            "_model_module": "@jupyter-widgets/base",
            "_model_module_version": "1.2.0",
            "_model_name": "LayoutModel",
            "_view_count": null,
            "_view_module": "@jupyter-widgets/base",
            "_view_module_version": "1.2.0",
            "_view_name": "LayoutView",
            "align_content": null,
            "align_items": null,
            "align_self": null,
            "border": null,
            "bottom": null,
            "display": null,
            "flex": null,
            "flex_flow": null,
            "grid_area": null,
            "grid_auto_columns": null,
            "grid_auto_flow": null,
            "grid_auto_rows": null,
            "grid_column": null,
            "grid_gap": null,
            "grid_row": null,
            "grid_template_areas": null,
            "grid_template_columns": null,
            "grid_template_rows": null,
            "height": null,
            "justify_content": null,
            "justify_items": null,
            "left": null,
            "margin": null,
            "max_height": null,
            "max_width": null,
            "min_height": null,
            "min_width": null,
            "object_fit": null,
            "object_position": null,
            "order": null,
            "overflow": null,
            "overflow_x": null,
            "overflow_y": null,
            "padding": null,
            "right": null,
            "top": null,
            "visibility": null,
            "width": null
          }
        },
        "335f9fcf2fc24d898430166b5794eba5": {
          "model_module": "@jupyter-widgets/controls",
          "model_name": "DescriptionStyleModel",
          "model_module_version": "1.5.0",
          "state": {
            "_model_module": "@jupyter-widgets/controls",
            "_model_module_version": "1.5.0",
            "_model_name": "DescriptionStyleModel",
            "_view_count": null,
            "_view_module": "@jupyter-widgets/base",
            "_view_module_version": "1.2.0",
            "_view_name": "StyleView",
            "description_width": ""
          }
        },
        "631f9c2bcfa6438cad3da495c624abcb": {
          "model_module": "@jupyter-widgets/base",
          "model_name": "LayoutModel",
          "model_module_version": "1.2.0",
          "state": {
            "_model_module": "@jupyter-widgets/base",
            "_model_module_version": "1.2.0",
            "_model_name": "LayoutModel",
            "_view_count": null,
            "_view_module": "@jupyter-widgets/base",
            "_view_module_version": "1.2.0",
            "_view_name": "LayoutView",
            "align_content": null,
            "align_items": null,
            "align_self": null,
            "border": null,
            "bottom": null,
            "display": null,
            "flex": null,
            "flex_flow": null,
            "grid_area": null,
            "grid_auto_columns": null,
            "grid_auto_flow": null,
            "grid_auto_rows": null,
            "grid_column": null,
            "grid_gap": null,
            "grid_row": null,
            "grid_template_areas": null,
            "grid_template_columns": null,
            "grid_template_rows": null,
            "height": null,
            "justify_content": null,
            "justify_items": null,
            "left": null,
            "margin": null,
            "max_height": null,
            "max_width": null,
            "min_height": null,
            "min_width": null,
            "object_fit": null,
            "object_position": null,
            "order": null,
            "overflow": null,
            "overflow_x": null,
            "overflow_y": null,
            "padding": null,
            "right": null,
            "top": null,
            "visibility": null,
            "width": null
          }
        },
        "cfc6e4119db44ebb9b0f17b0c3a1db92": {
          "model_module": "@jupyter-widgets/controls",
          "model_name": "ProgressStyleModel",
          "model_module_version": "1.5.0",
          "state": {
            "_model_module": "@jupyter-widgets/controls",
            "_model_module_version": "1.5.0",
            "_model_name": "ProgressStyleModel",
            "_view_count": null,
            "_view_module": "@jupyter-widgets/base",
            "_view_module_version": "1.2.0",
            "_view_name": "StyleView",
            "bar_color": null,
            "description_width": ""
          }
        },
        "427fef7c786a4e04a0eea93881bc460e": {
          "model_module": "@jupyter-widgets/base",
          "model_name": "LayoutModel",
          "model_module_version": "1.2.0",
          "state": {
            "_model_module": "@jupyter-widgets/base",
            "_model_module_version": "1.2.0",
            "_model_name": "LayoutModel",
            "_view_count": null,
            "_view_module": "@jupyter-widgets/base",
            "_view_module_version": "1.2.0",
            "_view_name": "LayoutView",
            "align_content": null,
            "align_items": null,
            "align_self": null,
            "border": null,
            "bottom": null,
            "display": null,
            "flex": null,
            "flex_flow": null,
            "grid_area": null,
            "grid_auto_columns": null,
            "grid_auto_flow": null,
            "grid_auto_rows": null,
            "grid_column": null,
            "grid_gap": null,
            "grid_row": null,
            "grid_template_areas": null,
            "grid_template_columns": null,
            "grid_template_rows": null,
            "height": null,
            "justify_content": null,
            "justify_items": null,
            "left": null,
            "margin": null,
            "max_height": null,
            "max_width": null,
            "min_height": null,
            "min_width": null,
            "object_fit": null,
            "object_position": null,
            "order": null,
            "overflow": null,
            "overflow_x": null,
            "overflow_y": null,
            "padding": null,
            "right": null,
            "top": null,
            "visibility": null,
            "width": null
          }
        },
        "48fec6d32b6d40c28eaed103fbf8db71": {
          "model_module": "@jupyter-widgets/controls",
          "model_name": "DescriptionStyleModel",
          "model_module_version": "1.5.0",
          "state": {
            "_model_module": "@jupyter-widgets/controls",
            "_model_module_version": "1.5.0",
            "_model_name": "DescriptionStyleModel",
            "_view_count": null,
            "_view_module": "@jupyter-widgets/base",
            "_view_module_version": "1.2.0",
            "_view_name": "StyleView",
            "description_width": ""
          }
        },
        "7420ba621f3d4960aaf6050caffd1bff": {
          "model_module": "@jupyter-widgets/controls",
          "model_name": "HBoxModel",
          "model_module_version": "1.5.0",
          "state": {
            "_dom_classes": [],
            "_model_module": "@jupyter-widgets/controls",
            "_model_module_version": "1.5.0",
            "_model_name": "HBoxModel",
            "_view_count": null,
            "_view_module": "@jupyter-widgets/controls",
            "_view_module_version": "1.5.0",
            "_view_name": "HBoxView",
            "box_style": "",
            "children": [
              "IPY_MODEL_03c56a2217fa4b8782cc91fdf145f0c2",
              "IPY_MODEL_b4e9ba09b0b74da7be6a2205968cf8e9",
              "IPY_MODEL_4a2e5f9530734891980be27b6ad0fbd7"
            ],
            "layout": "IPY_MODEL_999143366a9d4d5492a176b5dca70071"
          }
        },
        "03c56a2217fa4b8782cc91fdf145f0c2": {
          "model_module": "@jupyter-widgets/controls",
          "model_name": "HTMLModel",
          "model_module_version": "1.5.0",
          "state": {
            "_dom_classes": [],
            "_model_module": "@jupyter-widgets/controls",
            "_model_module_version": "1.5.0",
            "_model_name": "HTMLModel",
            "_view_count": null,
            "_view_module": "@jupyter-widgets/controls",
            "_view_module_version": "1.5.0",
            "_view_name": "HTMLView",
            "description": "",
            "description_tooltip": null,
            "layout": "IPY_MODEL_6d37a39a42854cd48017ca2ccea66452",
            "placeholder": "​",
            "style": "IPY_MODEL_28fc49b7e4504da1a1311b6bb21529c6",
            "value": "Downloading: 100%"
          }
        },
        "b4e9ba09b0b74da7be6a2205968cf8e9": {
          "model_module": "@jupyter-widgets/controls",
          "model_name": "FloatProgressModel",
          "model_module_version": "1.5.0",
          "state": {
            "_dom_classes": [],
            "_model_module": "@jupyter-widgets/controls",
            "_model_module_version": "1.5.0",
            "_model_name": "FloatProgressModel",
            "_view_count": null,
            "_view_module": "@jupyter-widgets/controls",
            "_view_module_version": "1.5.0",
            "_view_name": "ProgressView",
            "bar_style": "success",
            "description": "",
            "description_tooltip": null,
            "layout": "IPY_MODEL_ea08c0f74fc44abfa293601226209812",
            "max": 495536138,
            "min": 0,
            "orientation": "horizontal",
            "style": "IPY_MODEL_a12570be346f4b5598cb082803495ec5",
            "value": 495536138
          }
        },
        "4a2e5f9530734891980be27b6ad0fbd7": {
          "model_module": "@jupyter-widgets/controls",
          "model_name": "HTMLModel",
          "model_module_version": "1.5.0",
          "state": {
            "_dom_classes": [],
            "_model_module": "@jupyter-widgets/controls",
            "_model_module_version": "1.5.0",
            "_model_name": "HTMLModel",
            "_view_count": null,
            "_view_module": "@jupyter-widgets/controls",
            "_view_module_version": "1.5.0",
            "_view_name": "HTMLView",
            "description": "",
            "description_tooltip": null,
            "layout": "IPY_MODEL_3ca392a5000d4e858578ad93fd4255a6",
            "placeholder": "​",
            "style": "IPY_MODEL_4deeaaf8993b48e1b7be7c571249d77c",
            "value": " 473M/473M [00:33&lt;00:00, 22.8MB/s]"
          }
        },
        "999143366a9d4d5492a176b5dca70071": {
          "model_module": "@jupyter-widgets/base",
          "model_name": "LayoutModel",
          "model_module_version": "1.2.0",
          "state": {
            "_model_module": "@jupyter-widgets/base",
            "_model_module_version": "1.2.0",
            "_model_name": "LayoutModel",
            "_view_count": null,
            "_view_module": "@jupyter-widgets/base",
            "_view_module_version": "1.2.0",
            "_view_name": "LayoutView",
            "align_content": null,
            "align_items": null,
            "align_self": null,
            "border": null,
            "bottom": null,
            "display": null,
            "flex": null,
            "flex_flow": null,
            "grid_area": null,
            "grid_auto_columns": null,
            "grid_auto_flow": null,
            "grid_auto_rows": null,
            "grid_column": null,
            "grid_gap": null,
            "grid_row": null,
            "grid_template_areas": null,
            "grid_template_columns": null,
            "grid_template_rows": null,
            "height": null,
            "justify_content": null,
            "justify_items": null,
            "left": null,
            "margin": null,
            "max_height": null,
            "max_width": null,
            "min_height": null,
            "min_width": null,
            "object_fit": null,
            "object_position": null,
            "order": null,
            "overflow": null,
            "overflow_x": null,
            "overflow_y": null,
            "padding": null,
            "right": null,
            "top": null,
            "visibility": null,
            "width": null
          }
        },
        "6d37a39a42854cd48017ca2ccea66452": {
          "model_module": "@jupyter-widgets/base",
          "model_name": "LayoutModel",
          "model_module_version": "1.2.0",
          "state": {
            "_model_module": "@jupyter-widgets/base",
            "_model_module_version": "1.2.0",
            "_model_name": "LayoutModel",
            "_view_count": null,
            "_view_module": "@jupyter-widgets/base",
            "_view_module_version": "1.2.0",
            "_view_name": "LayoutView",
            "align_content": null,
            "align_items": null,
            "align_self": null,
            "border": null,
            "bottom": null,
            "display": null,
            "flex": null,
            "flex_flow": null,
            "grid_area": null,
            "grid_auto_columns": null,
            "grid_auto_flow": null,
            "grid_auto_rows": null,
            "grid_column": null,
            "grid_gap": null,
            "grid_row": null,
            "grid_template_areas": null,
            "grid_template_columns": null,
            "grid_template_rows": null,
            "height": null,
            "justify_content": null,
            "justify_items": null,
            "left": null,
            "margin": null,
            "max_height": null,
            "max_width": null,
            "min_height": null,
            "min_width": null,
            "object_fit": null,
            "object_position": null,
            "order": null,
            "overflow": null,
            "overflow_x": null,
            "overflow_y": null,
            "padding": null,
            "right": null,
            "top": null,
            "visibility": null,
            "width": null
          }
        },
        "28fc49b7e4504da1a1311b6bb21529c6": {
          "model_module": "@jupyter-widgets/controls",
          "model_name": "DescriptionStyleModel",
          "model_module_version": "1.5.0",
          "state": {
            "_model_module": "@jupyter-widgets/controls",
            "_model_module_version": "1.5.0",
            "_model_name": "DescriptionStyleModel",
            "_view_count": null,
            "_view_module": "@jupyter-widgets/base",
            "_view_module_version": "1.2.0",
            "_view_name": "StyleView",
            "description_width": ""
          }
        },
        "ea08c0f74fc44abfa293601226209812": {
          "model_module": "@jupyter-widgets/base",
          "model_name": "LayoutModel",
          "model_module_version": "1.2.0",
          "state": {
            "_model_module": "@jupyter-widgets/base",
            "_model_module_version": "1.2.0",
            "_model_name": "LayoutModel",
            "_view_count": null,
            "_view_module": "@jupyter-widgets/base",
            "_view_module_version": "1.2.0",
            "_view_name": "LayoutView",
            "align_content": null,
            "align_items": null,
            "align_self": null,
            "border": null,
            "bottom": null,
            "display": null,
            "flex": null,
            "flex_flow": null,
            "grid_area": null,
            "grid_auto_columns": null,
            "grid_auto_flow": null,
            "grid_auto_rows": null,
            "grid_column": null,
            "grid_gap": null,
            "grid_row": null,
            "grid_template_areas": null,
            "grid_template_columns": null,
            "grid_template_rows": null,
            "height": null,
            "justify_content": null,
            "justify_items": null,
            "left": null,
            "margin": null,
            "max_height": null,
            "max_width": null,
            "min_height": null,
            "min_width": null,
            "object_fit": null,
            "object_position": null,
            "order": null,
            "overflow": null,
            "overflow_x": null,
            "overflow_y": null,
            "padding": null,
            "right": null,
            "top": null,
            "visibility": null,
            "width": null
          }
        },
        "a12570be346f4b5598cb082803495ec5": {
          "model_module": "@jupyter-widgets/controls",
          "model_name": "ProgressStyleModel",
          "model_module_version": "1.5.0",
          "state": {
            "_model_module": "@jupyter-widgets/controls",
            "_model_module_version": "1.5.0",
            "_model_name": "ProgressStyleModel",
            "_view_count": null,
            "_view_module": "@jupyter-widgets/base",
            "_view_module_version": "1.2.0",
            "_view_name": "StyleView",
            "bar_color": null,
            "description_width": ""
          }
        },
        "3ca392a5000d4e858578ad93fd4255a6": {
          "model_module": "@jupyter-widgets/base",
          "model_name": "LayoutModel",
          "model_module_version": "1.2.0",
          "state": {
            "_model_module": "@jupyter-widgets/base",
            "_model_module_version": "1.2.0",
            "_model_name": "LayoutModel",
            "_view_count": null,
            "_view_module": "@jupyter-widgets/base",
            "_view_module_version": "1.2.0",
            "_view_name": "LayoutView",
            "align_content": null,
            "align_items": null,
            "align_self": null,
            "border": null,
            "bottom": null,
            "display": null,
            "flex": null,
            "flex_flow": null,
            "grid_area": null,
            "grid_auto_columns": null,
            "grid_auto_flow": null,
            "grid_auto_rows": null,
            "grid_column": null,
            "grid_gap": null,
            "grid_row": null,
            "grid_template_areas": null,
            "grid_template_columns": null,
            "grid_template_rows": null,
            "height": null,
            "justify_content": null,
            "justify_items": null,
            "left": null,
            "margin": null,
            "max_height": null,
            "max_width": null,
            "min_height": null,
            "min_width": null,
            "object_fit": null,
            "object_position": null,
            "order": null,
            "overflow": null,
            "overflow_x": null,
            "overflow_y": null,
            "padding": null,
            "right": null,
            "top": null,
            "visibility": null,
            "width": null
          }
        },
        "4deeaaf8993b48e1b7be7c571249d77c": {
          "model_module": "@jupyter-widgets/controls",
          "model_name": "DescriptionStyleModel",
          "model_module_version": "1.5.0",
          "state": {
            "_model_module": "@jupyter-widgets/controls",
            "_model_module_version": "1.5.0",
            "_model_name": "DescriptionStyleModel",
            "_view_count": null,
            "_view_module": "@jupyter-widgets/base",
            "_view_module_version": "1.2.0",
            "_view_name": "StyleView",
            "description_width": ""
          }
        },
        "8b8920680a644012b22b5e5a64aaed81": {
          "model_module": "@jupyter-widgets/controls",
          "model_name": "HBoxModel",
          "model_module_version": "1.5.0",
          "state": {
            "_dom_classes": [],
            "_model_module": "@jupyter-widgets/controls",
            "_model_module_version": "1.5.0",
            "_model_name": "HBoxModel",
            "_view_count": null,
            "_view_module": "@jupyter-widgets/controls",
            "_view_module_version": "1.5.0",
            "_view_name": "HBoxView",
            "box_style": "",
            "children": [
              "IPY_MODEL_ce658ad7c08644d1843bf4ccb1ab6bb6",
              "IPY_MODEL_c2d6eee8f0a04d86a05307ab0c964ba5",
              "IPY_MODEL_77a37af167c34d389affd62e1ec61391"
            ],
            "layout": "IPY_MODEL_5b3ac9f513434efaadacf39c8710e02f"
          }
        },
        "ce658ad7c08644d1843bf4ccb1ab6bb6": {
          "model_module": "@jupyter-widgets/controls",
          "model_name": "HTMLModel",
          "model_module_version": "1.5.0",
          "state": {
            "_dom_classes": [],
            "_model_module": "@jupyter-widgets/controls",
            "_model_module_version": "1.5.0",
            "_model_name": "HTMLModel",
            "_view_count": null,
            "_view_module": "@jupyter-widgets/controls",
            "_view_module_version": "1.5.0",
            "_view_name": "HTMLView",
            "description": "",
            "description_tooltip": null,
            "layout": "IPY_MODEL_9dbc7662597d4372a5edd1f497ea9e8c",
            "placeholder": "​",
            "style": "IPY_MODEL_bb79f4c993c74160a40c0e03193fdb7a",
            "value": "Downloading: 100%"
          }
        },
        "c2d6eee8f0a04d86a05307ab0c964ba5": {
          "model_module": "@jupyter-widgets/controls",
          "model_name": "FloatProgressModel",
          "model_module_version": "1.5.0",
          "state": {
            "_dom_classes": [],
            "_model_module": "@jupyter-widgets/controls",
            "_model_module_version": "1.5.0",
            "_model_name": "FloatProgressModel",
            "_view_count": null,
            "_view_module": "@jupyter-widgets/controls",
            "_view_module_version": "1.5.0",
            "_view_name": "ProgressView",
            "bar_style": "success",
            "description": "",
            "description_tooltip": null,
            "layout": "IPY_MODEL_6304fbba99664a79bc64e60d8969bb5f",
            "max": 1199,
            "min": 0,
            "orientation": "horizontal",
            "style": "IPY_MODEL_80a9a7af4f564d26a8e6319b0b8bf8ca",
            "value": 1199
          }
        },
        "77a37af167c34d389affd62e1ec61391": {
          "model_module": "@jupyter-widgets/controls",
          "model_name": "HTMLModel",
          "model_module_version": "1.5.0",
          "state": {
            "_dom_classes": [],
            "_model_module": "@jupyter-widgets/controls",
            "_model_module_version": "1.5.0",
            "_model_name": "HTMLModel",
            "_view_count": null,
            "_view_module": "@jupyter-widgets/controls",
            "_view_module_version": "1.5.0",
            "_view_name": "HTMLView",
            "description": "",
            "description_tooltip": null,
            "layout": "IPY_MODEL_6a30c28e7dd241d4a552954013fc5eb5",
            "placeholder": "​",
            "style": "IPY_MODEL_23ddb7573638487496fd61887a5ac4f4",
            "value": " 1.20k/1.20k [00:00&lt;00:00, 40.2kB/s]"
          }
        },
        "5b3ac9f513434efaadacf39c8710e02f": {
          "model_module": "@jupyter-widgets/base",
          "model_name": "LayoutModel",
          "model_module_version": "1.2.0",
          "state": {
            "_model_module": "@jupyter-widgets/base",
            "_model_module_version": "1.2.0",
            "_model_name": "LayoutModel",
            "_view_count": null,
            "_view_module": "@jupyter-widgets/base",
            "_view_module_version": "1.2.0",
            "_view_name": "LayoutView",
            "align_content": null,
            "align_items": null,
            "align_self": null,
            "border": null,
            "bottom": null,
            "display": null,
            "flex": null,
            "flex_flow": null,
            "grid_area": null,
            "grid_auto_columns": null,
            "grid_auto_flow": null,
            "grid_auto_rows": null,
            "grid_column": null,
            "grid_gap": null,
            "grid_row": null,
            "grid_template_areas": null,
            "grid_template_columns": null,
            "grid_template_rows": null,
            "height": null,
            "justify_content": null,
            "justify_items": null,
            "left": null,
            "margin": null,
            "max_height": null,
            "max_width": null,
            "min_height": null,
            "min_width": null,
            "object_fit": null,
            "object_position": null,
            "order": null,
            "overflow": null,
            "overflow_x": null,
            "overflow_y": null,
            "padding": null,
            "right": null,
            "top": null,
            "visibility": null,
            "width": null
          }
        },
        "9dbc7662597d4372a5edd1f497ea9e8c": {
          "model_module": "@jupyter-widgets/base",
          "model_name": "LayoutModel",
          "model_module_version": "1.2.0",
          "state": {
            "_model_module": "@jupyter-widgets/base",
            "_model_module_version": "1.2.0",
            "_model_name": "LayoutModel",
            "_view_count": null,
            "_view_module": "@jupyter-widgets/base",
            "_view_module_version": "1.2.0",
            "_view_name": "LayoutView",
            "align_content": null,
            "align_items": null,
            "align_self": null,
            "border": null,
            "bottom": null,
            "display": null,
            "flex": null,
            "flex_flow": null,
            "grid_area": null,
            "grid_auto_columns": null,
            "grid_auto_flow": null,
            "grid_auto_rows": null,
            "grid_column": null,
            "grid_gap": null,
            "grid_row": null,
            "grid_template_areas": null,
            "grid_template_columns": null,
            "grid_template_rows": null,
            "height": null,
            "justify_content": null,
            "justify_items": null,
            "left": null,
            "margin": null,
            "max_height": null,
            "max_width": null,
            "min_height": null,
            "min_width": null,
            "object_fit": null,
            "object_position": null,
            "order": null,
            "overflow": null,
            "overflow_x": null,
            "overflow_y": null,
            "padding": null,
            "right": null,
            "top": null,
            "visibility": null,
            "width": null
          }
        },
        "bb79f4c993c74160a40c0e03193fdb7a": {
          "model_module": "@jupyter-widgets/controls",
          "model_name": "DescriptionStyleModel",
          "model_module_version": "1.5.0",
          "state": {
            "_model_module": "@jupyter-widgets/controls",
            "_model_module_version": "1.5.0",
            "_model_name": "DescriptionStyleModel",
            "_view_count": null,
            "_view_module": "@jupyter-widgets/base",
            "_view_module_version": "1.2.0",
            "_view_name": "StyleView",
            "description_width": ""
          }
        },
        "6304fbba99664a79bc64e60d8969bb5f": {
          "model_module": "@jupyter-widgets/base",
          "model_name": "LayoutModel",
          "model_module_version": "1.2.0",
          "state": {
            "_model_module": "@jupyter-widgets/base",
            "_model_module_version": "1.2.0",
            "_model_name": "LayoutModel",
            "_view_count": null,
            "_view_module": "@jupyter-widgets/base",
            "_view_module_version": "1.2.0",
            "_view_name": "LayoutView",
            "align_content": null,
            "align_items": null,
            "align_self": null,
            "border": null,
            "bottom": null,
            "display": null,
            "flex": null,
            "flex_flow": null,
            "grid_area": null,
            "grid_auto_columns": null,
            "grid_auto_flow": null,
            "grid_auto_rows": null,
            "grid_column": null,
            "grid_gap": null,
            "grid_row": null,
            "grid_template_areas": null,
            "grid_template_columns": null,
            "grid_template_rows": null,
            "height": null,
            "justify_content": null,
            "justify_items": null,
            "left": null,
            "margin": null,
            "max_height": null,
            "max_width": null,
            "min_height": null,
            "min_width": null,
            "object_fit": null,
            "object_position": null,
            "order": null,
            "overflow": null,
            "overflow_x": null,
            "overflow_y": null,
            "padding": null,
            "right": null,
            "top": null,
            "visibility": null,
            "width": null
          }
        },
        "80a9a7af4f564d26a8e6319b0b8bf8ca": {
          "model_module": "@jupyter-widgets/controls",
          "model_name": "ProgressStyleModel",
          "model_module_version": "1.5.0",
          "state": {
            "_model_module": "@jupyter-widgets/controls",
            "_model_module_version": "1.5.0",
            "_model_name": "ProgressStyleModel",
            "_view_count": null,
            "_view_module": "@jupyter-widgets/base",
            "_view_module_version": "1.2.0",
            "_view_name": "StyleView",
            "bar_color": null,
            "description_width": ""
          }
        },
        "6a30c28e7dd241d4a552954013fc5eb5": {
          "model_module": "@jupyter-widgets/base",
          "model_name": "LayoutModel",
          "model_module_version": "1.2.0",
          "state": {
            "_model_module": "@jupyter-widgets/base",
            "_model_module_version": "1.2.0",
            "_model_name": "LayoutModel",
            "_view_count": null,
            "_view_module": "@jupyter-widgets/base",
            "_view_module_version": "1.2.0",
            "_view_name": "LayoutView",
            "align_content": null,
            "align_items": null,
            "align_self": null,
            "border": null,
            "bottom": null,
            "display": null,
            "flex": null,
            "flex_flow": null,
            "grid_area": null,
            "grid_auto_columns": null,
            "grid_auto_flow": null,
            "grid_auto_rows": null,
            "grid_column": null,
            "grid_gap": null,
            "grid_row": null,
            "grid_template_areas": null,
            "grid_template_columns": null,
            "grid_template_rows": null,
            "height": null,
            "justify_content": null,
            "justify_items": null,
            "left": null,
            "margin": null,
            "max_height": null,
            "max_width": null,
            "min_height": null,
            "min_width": null,
            "object_fit": null,
            "object_position": null,
            "order": null,
            "overflow": null,
            "overflow_x": null,
            "overflow_y": null,
            "padding": null,
            "right": null,
            "top": null,
            "visibility": null,
            "width": null
          }
        },
        "23ddb7573638487496fd61887a5ac4f4": {
          "model_module": "@jupyter-widgets/controls",
          "model_name": "DescriptionStyleModel",
          "model_module_version": "1.5.0",
          "state": {
            "_model_module": "@jupyter-widgets/controls",
            "_model_module_version": "1.5.0",
            "_model_name": "DescriptionStyleModel",
            "_view_count": null,
            "_view_module": "@jupyter-widgets/base",
            "_view_module_version": "1.2.0",
            "_view_name": "StyleView",
            "description_width": ""
          }
        },
        "a7277b333b1b4a99925ecaf6e3a95c1f": {
          "model_module": "@jupyter-widgets/controls",
          "model_name": "HBoxModel",
          "model_module_version": "1.5.0",
          "state": {
            "_dom_classes": [],
            "_model_module": "@jupyter-widgets/controls",
            "_model_module_version": "1.5.0",
            "_model_name": "HBoxModel",
            "_view_count": null,
            "_view_module": "@jupyter-widgets/controls",
            "_view_module_version": "1.5.0",
            "_view_name": "HBoxView",
            "box_style": "",
            "children": [
              "IPY_MODEL_62f5b5c60cb54b04ab38f0aa299755c8",
              "IPY_MODEL_c4bae6d700574660b8233fc47b60eab6",
              "IPY_MODEL_f8dbadda7d784012aab852eb876e53ff"
            ],
            "layout": "IPY_MODEL_f6c3eec37782400eb105171df4e49ee4"
          }
        },
        "62f5b5c60cb54b04ab38f0aa299755c8": {
          "model_module": "@jupyter-widgets/controls",
          "model_name": "HTMLModel",
          "model_module_version": "1.5.0",
          "state": {
            "_dom_classes": [],
            "_model_module": "@jupyter-widgets/controls",
            "_model_module_version": "1.5.0",
            "_model_name": "HTMLModel",
            "_view_count": null,
            "_view_module": "@jupyter-widgets/controls",
            "_view_module_version": "1.5.0",
            "_view_name": "HTMLView",
            "description": "",
            "description_tooltip": null,
            "layout": "IPY_MODEL_9e9c2412df1740a88d13d65379bba860",
            "placeholder": "​",
            "style": "IPY_MODEL_1de13fe081de40faa1a73799e6289ade",
            "value": "Downloading: 100%"
          }
        },
        "c4bae6d700574660b8233fc47b60eab6": {
          "model_module": "@jupyter-widgets/controls",
          "model_name": "FloatProgressModel",
          "model_module_version": "1.5.0",
          "state": {
            "_dom_classes": [],
            "_model_module": "@jupyter-widgets/controls",
            "_model_module_version": "1.5.0",
            "_model_name": "FloatProgressModel",
            "_view_count": null,
            "_view_module": "@jupyter-widgets/controls",
            "_view_module_version": "1.5.0",
            "_view_name": "ProgressView",
            "bar_style": "success",
            "description": "",
            "description_tooltip": null,
            "layout": "IPY_MODEL_889146b7e599439d81df9836409950a6",
            "max": 495656447,
            "min": 0,
            "orientation": "horizontal",
            "style": "IPY_MODEL_cc433155da174d05a841f28d8d04474c",
            "value": 495656447
          }
        },
        "f8dbadda7d784012aab852eb876e53ff": {
          "model_module": "@jupyter-widgets/controls",
          "model_name": "HTMLModel",
          "model_module_version": "1.5.0",
          "state": {
            "_dom_classes": [],
            "_model_module": "@jupyter-widgets/controls",
            "_model_module_version": "1.5.0",
            "_model_name": "HTMLModel",
            "_view_count": null,
            "_view_module": "@jupyter-widgets/controls",
            "_view_module_version": "1.5.0",
            "_view_name": "HTMLView",
            "description": "",
            "description_tooltip": null,
            "layout": "IPY_MODEL_adcee819d8a1430a911277e2dc379201",
            "placeholder": "​",
            "style": "IPY_MODEL_e0474c8377534c29bd8ea2e18b10d420",
            "value": " 496M/496M [00:10&lt;00:00, 33.3MB/s]"
          }
        },
        "f6c3eec37782400eb105171df4e49ee4": {
          "model_module": "@jupyter-widgets/base",
          "model_name": "LayoutModel",
          "model_module_version": "1.2.0",
          "state": {
            "_model_module": "@jupyter-widgets/base",
            "_model_module_version": "1.2.0",
            "_model_name": "LayoutModel",
            "_view_count": null,
            "_view_module": "@jupyter-widgets/base",
            "_view_module_version": "1.2.0",
            "_view_name": "LayoutView",
            "align_content": null,
            "align_items": null,
            "align_self": null,
            "border": null,
            "bottom": null,
            "display": null,
            "flex": null,
            "flex_flow": null,
            "grid_area": null,
            "grid_auto_columns": null,
            "grid_auto_flow": null,
            "grid_auto_rows": null,
            "grid_column": null,
            "grid_gap": null,
            "grid_row": null,
            "grid_template_areas": null,
            "grid_template_columns": null,
            "grid_template_rows": null,
            "height": null,
            "justify_content": null,
            "justify_items": null,
            "left": null,
            "margin": null,
            "max_height": null,
            "max_width": null,
            "min_height": null,
            "min_width": null,
            "object_fit": null,
            "object_position": null,
            "order": null,
            "overflow": null,
            "overflow_x": null,
            "overflow_y": null,
            "padding": null,
            "right": null,
            "top": null,
            "visibility": null,
            "width": null
          }
        },
        "9e9c2412df1740a88d13d65379bba860": {
          "model_module": "@jupyter-widgets/base",
          "model_name": "LayoutModel",
          "model_module_version": "1.2.0",
          "state": {
            "_model_module": "@jupyter-widgets/base",
            "_model_module_version": "1.2.0",
            "_model_name": "LayoutModel",
            "_view_count": null,
            "_view_module": "@jupyter-widgets/base",
            "_view_module_version": "1.2.0",
            "_view_name": "LayoutView",
            "align_content": null,
            "align_items": null,
            "align_self": null,
            "border": null,
            "bottom": null,
            "display": null,
            "flex": null,
            "flex_flow": null,
            "grid_area": null,
            "grid_auto_columns": null,
            "grid_auto_flow": null,
            "grid_auto_rows": null,
            "grid_column": null,
            "grid_gap": null,
            "grid_row": null,
            "grid_template_areas": null,
            "grid_template_columns": null,
            "grid_template_rows": null,
            "height": null,
            "justify_content": null,
            "justify_items": null,
            "left": null,
            "margin": null,
            "max_height": null,
            "max_width": null,
            "min_height": null,
            "min_width": null,
            "object_fit": null,
            "object_position": null,
            "order": null,
            "overflow": null,
            "overflow_x": null,
            "overflow_y": null,
            "padding": null,
            "right": null,
            "top": null,
            "visibility": null,
            "width": null
          }
        },
        "1de13fe081de40faa1a73799e6289ade": {
          "model_module": "@jupyter-widgets/controls",
          "model_name": "DescriptionStyleModel",
          "model_module_version": "1.5.0",
          "state": {
            "_model_module": "@jupyter-widgets/controls",
            "_model_module_version": "1.5.0",
            "_model_name": "DescriptionStyleModel",
            "_view_count": null,
            "_view_module": "@jupyter-widgets/base",
            "_view_module_version": "1.2.0",
            "_view_name": "StyleView",
            "description_width": ""
          }
        },
        "889146b7e599439d81df9836409950a6": {
          "model_module": "@jupyter-widgets/base",
          "model_name": "LayoutModel",
          "model_module_version": "1.2.0",
          "state": {
            "_model_module": "@jupyter-widgets/base",
            "_model_module_version": "1.2.0",
            "_model_name": "LayoutModel",
            "_view_count": null,
            "_view_module": "@jupyter-widgets/base",
            "_view_module_version": "1.2.0",
            "_view_name": "LayoutView",
            "align_content": null,
            "align_items": null,
            "align_self": null,
            "border": null,
            "bottom": null,
            "display": null,
            "flex": null,
            "flex_flow": null,
            "grid_area": null,
            "grid_auto_columns": null,
            "grid_auto_flow": null,
            "grid_auto_rows": null,
            "grid_column": null,
            "grid_gap": null,
            "grid_row": null,
            "grid_template_areas": null,
            "grid_template_columns": null,
            "grid_template_rows": null,
            "height": null,
            "justify_content": null,
            "justify_items": null,
            "left": null,
            "margin": null,
            "max_height": null,
            "max_width": null,
            "min_height": null,
            "min_width": null,
            "object_fit": null,
            "object_position": null,
            "order": null,
            "overflow": null,
            "overflow_x": null,
            "overflow_y": null,
            "padding": null,
            "right": null,
            "top": null,
            "visibility": null,
            "width": null
          }
        },
        "cc433155da174d05a841f28d8d04474c": {
          "model_module": "@jupyter-widgets/controls",
          "model_name": "ProgressStyleModel",
          "model_module_version": "1.5.0",
          "state": {
            "_model_module": "@jupyter-widgets/controls",
            "_model_module_version": "1.5.0",
            "_model_name": "ProgressStyleModel",
            "_view_count": null,
            "_view_module": "@jupyter-widgets/base",
            "_view_module_version": "1.2.0",
            "_view_name": "StyleView",
            "bar_color": null,
            "description_width": ""
          }
        },
        "adcee819d8a1430a911277e2dc379201": {
          "model_module": "@jupyter-widgets/base",
          "model_name": "LayoutModel",
          "model_module_version": "1.2.0",
          "state": {
            "_model_module": "@jupyter-widgets/base",
            "_model_module_version": "1.2.0",
            "_model_name": "LayoutModel",
            "_view_count": null,
            "_view_module": "@jupyter-widgets/base",
            "_view_module_version": "1.2.0",
            "_view_name": "LayoutView",
            "align_content": null,
            "align_items": null,
            "align_self": null,
            "border": null,
            "bottom": null,
            "display": null,
            "flex": null,
            "flex_flow": null,
            "grid_area": null,
            "grid_auto_columns": null,
            "grid_auto_flow": null,
            "grid_auto_rows": null,
            "grid_column": null,
            "grid_gap": null,
            "grid_row": null,
            "grid_template_areas": null,
            "grid_template_columns": null,
            "grid_template_rows": null,
            "height": null,
            "justify_content": null,
            "justify_items": null,
            "left": null,
            "margin": null,
            "max_height": null,
            "max_width": null,
            "min_height": null,
            "min_width": null,
            "object_fit": null,
            "object_position": null,
            "order": null,
            "overflow": null,
            "overflow_x": null,
            "overflow_y": null,
            "padding": null,
            "right": null,
            "top": null,
            "visibility": null,
            "width": null
          }
        },
        "e0474c8377534c29bd8ea2e18b10d420": {
          "model_module": "@jupyter-widgets/controls",
          "model_name": "DescriptionStyleModel",
          "model_module_version": "1.5.0",
          "state": {
            "_model_module": "@jupyter-widgets/controls",
            "_model_module_version": "1.5.0",
            "_model_name": "DescriptionStyleModel",
            "_view_count": null,
            "_view_module": "@jupyter-widgets/base",
            "_view_module_version": "1.2.0",
            "_view_name": "StyleView",
            "description_width": ""
          }
        },
        "02d2179958524f3dac9c939ab59e3b25": {
          "model_module": "@jupyter-widgets/controls",
          "model_name": "HBoxModel",
          "model_module_version": "1.5.0",
          "state": {
            "_dom_classes": [],
            "_model_module": "@jupyter-widgets/controls",
            "_model_module_version": "1.5.0",
            "_model_name": "HBoxModel",
            "_view_count": null,
            "_view_module": "@jupyter-widgets/controls",
            "_view_module_version": "1.5.0",
            "_view_name": "HBoxView",
            "box_style": "",
            "children": [
              "IPY_MODEL_5eb807af7a1349fdb4c471cd470f180f",
              "IPY_MODEL_41bbbd8998d04a4baebac42fa9593a4d",
              "IPY_MODEL_8241e5336b594cd3ad90065c655cbbbf"
            ],
            "layout": "IPY_MODEL_d6f211f4f23c4128be99e9309d0129fb"
          }
        },
        "5eb807af7a1349fdb4c471cd470f180f": {
          "model_module": "@jupyter-widgets/controls",
          "model_name": "HTMLModel",
          "model_module_version": "1.5.0",
          "state": {
            "_dom_classes": [],
            "_model_module": "@jupyter-widgets/controls",
            "_model_module_version": "1.5.0",
            "_model_name": "HTMLModel",
            "_view_count": null,
            "_view_module": "@jupyter-widgets/controls",
            "_view_module_version": "1.5.0",
            "_view_name": "HTMLView",
            "description": "",
            "description_tooltip": null,
            "layout": "IPY_MODEL_57b18e7a5e0c4925820d6a86d3877aee",
            "placeholder": "​",
            "style": "IPY_MODEL_305d5c36988b42a995c99be3a16d5ebb",
            "value": "Downloading: 100%"
          }
        },
        "41bbbd8998d04a4baebac42fa9593a4d": {
          "model_module": "@jupyter-widgets/controls",
          "model_name": "FloatProgressModel",
          "model_module_version": "1.5.0",
          "state": {
            "_dom_classes": [],
            "_model_module": "@jupyter-widgets/controls",
            "_model_module_version": "1.5.0",
            "_model_name": "FloatProgressModel",
            "_view_count": null,
            "_view_module": "@jupyter-widgets/controls",
            "_view_module_version": "1.5.0",
            "_view_name": "ProgressView",
            "bar_style": "success",
            "description": "",
            "description_tooltip": null,
            "layout": "IPY_MODEL_02d926c8f441467db9717ba0dda3ac9d",
            "max": 4,
            "min": 0,
            "orientation": "horizontal",
            "style": "IPY_MODEL_f259032cf85e4918a17fc756ec60b5b7",
            "value": 4
          }
        },
        "8241e5336b594cd3ad90065c655cbbbf": {
          "model_module": "@jupyter-widgets/controls",
          "model_name": "HTMLModel",
          "model_module_version": "1.5.0",
          "state": {
            "_dom_classes": [],
            "_model_module": "@jupyter-widgets/controls",
            "_model_module_version": "1.5.0",
            "_model_name": "HTMLModel",
            "_view_count": null,
            "_view_module": "@jupyter-widgets/controls",
            "_view_module_version": "1.5.0",
            "_view_name": "HTMLView",
            "description": "",
            "description_tooltip": null,
            "layout": "IPY_MODEL_2c1a349ef77f4a91a266515807120311",
            "placeholder": "​",
            "style": "IPY_MODEL_29d3d3e9c7734d0996dad44306603852",
            "value": " 4.00/4.00 [00:00&lt;00:00, 138B/s]"
          }
        },
        "d6f211f4f23c4128be99e9309d0129fb": {
          "model_module": "@jupyter-widgets/base",
          "model_name": "LayoutModel",
          "model_module_version": "1.2.0",
          "state": {
            "_model_module": "@jupyter-widgets/base",
            "_model_module_version": "1.2.0",
            "_model_name": "LayoutModel",
            "_view_count": null,
            "_view_module": "@jupyter-widgets/base",
            "_view_module_version": "1.2.0",
            "_view_name": "LayoutView",
            "align_content": null,
            "align_items": null,
            "align_self": null,
            "border": null,
            "bottom": null,
            "display": null,
            "flex": null,
            "flex_flow": null,
            "grid_area": null,
            "grid_auto_columns": null,
            "grid_auto_flow": null,
            "grid_auto_rows": null,
            "grid_column": null,
            "grid_gap": null,
            "grid_row": null,
            "grid_template_areas": null,
            "grid_template_columns": null,
            "grid_template_rows": null,
            "height": null,
            "justify_content": null,
            "justify_items": null,
            "left": null,
            "margin": null,
            "max_height": null,
            "max_width": null,
            "min_height": null,
            "min_width": null,
            "object_fit": null,
            "object_position": null,
            "order": null,
            "overflow": null,
            "overflow_x": null,
            "overflow_y": null,
            "padding": null,
            "right": null,
            "top": null,
            "visibility": null,
            "width": null
          }
        },
        "57b18e7a5e0c4925820d6a86d3877aee": {
          "model_module": "@jupyter-widgets/base",
          "model_name": "LayoutModel",
          "model_module_version": "1.2.0",
          "state": {
            "_model_module": "@jupyter-widgets/base",
            "_model_module_version": "1.2.0",
            "_model_name": "LayoutModel",
            "_view_count": null,
            "_view_module": "@jupyter-widgets/base",
            "_view_module_version": "1.2.0",
            "_view_name": "LayoutView",
            "align_content": null,
            "align_items": null,
            "align_self": null,
            "border": null,
            "bottom": null,
            "display": null,
            "flex": null,
            "flex_flow": null,
            "grid_area": null,
            "grid_auto_columns": null,
            "grid_auto_flow": null,
            "grid_auto_rows": null,
            "grid_column": null,
            "grid_gap": null,
            "grid_row": null,
            "grid_template_areas": null,
            "grid_template_columns": null,
            "grid_template_rows": null,
            "height": null,
            "justify_content": null,
            "justify_items": null,
            "left": null,
            "margin": null,
            "max_height": null,
            "max_width": null,
            "min_height": null,
            "min_width": null,
            "object_fit": null,
            "object_position": null,
            "order": null,
            "overflow": null,
            "overflow_x": null,
            "overflow_y": null,
            "padding": null,
            "right": null,
            "top": null,
            "visibility": null,
            "width": null
          }
        },
        "305d5c36988b42a995c99be3a16d5ebb": {
          "model_module": "@jupyter-widgets/controls",
          "model_name": "DescriptionStyleModel",
          "model_module_version": "1.5.0",
          "state": {
            "_model_module": "@jupyter-widgets/controls",
            "_model_module_version": "1.5.0",
            "_model_name": "DescriptionStyleModel",
            "_view_count": null,
            "_view_module": "@jupyter-widgets/base",
            "_view_module_version": "1.2.0",
            "_view_name": "StyleView",
            "description_width": ""
          }
        },
        "02d926c8f441467db9717ba0dda3ac9d": {
          "model_module": "@jupyter-widgets/base",
          "model_name": "LayoutModel",
          "model_module_version": "1.2.0",
          "state": {
            "_model_module": "@jupyter-widgets/base",
            "_model_module_version": "1.2.0",
            "_model_name": "LayoutModel",
            "_view_count": null,
            "_view_module": "@jupyter-widgets/base",
            "_view_module_version": "1.2.0",
            "_view_name": "LayoutView",
            "align_content": null,
            "align_items": null,
            "align_self": null,
            "border": null,
            "bottom": null,
            "display": null,
            "flex": null,
            "flex_flow": null,
            "grid_area": null,
            "grid_auto_columns": null,
            "grid_auto_flow": null,
            "grid_auto_rows": null,
            "grid_column": null,
            "grid_gap": null,
            "grid_row": null,
            "grid_template_areas": null,
            "grid_template_columns": null,
            "grid_template_rows": null,
            "height": null,
            "justify_content": null,
            "justify_items": null,
            "left": null,
            "margin": null,
            "max_height": null,
            "max_width": null,
            "min_height": null,
            "min_width": null,
            "object_fit": null,
            "object_position": null,
            "order": null,
            "overflow": null,
            "overflow_x": null,
            "overflow_y": null,
            "padding": null,
            "right": null,
            "top": null,
            "visibility": null,
            "width": null
          }
        },
        "f259032cf85e4918a17fc756ec60b5b7": {
          "model_module": "@jupyter-widgets/controls",
          "model_name": "ProgressStyleModel",
          "model_module_version": "1.5.0",
          "state": {
            "_model_module": "@jupyter-widgets/controls",
            "_model_module_version": "1.5.0",
            "_model_name": "ProgressStyleModel",
            "_view_count": null,
            "_view_module": "@jupyter-widgets/base",
            "_view_module_version": "1.2.0",
            "_view_name": "StyleView",
            "bar_color": null,
            "description_width": ""
          }
        },
        "2c1a349ef77f4a91a266515807120311": {
          "model_module": "@jupyter-widgets/base",
          "model_name": "LayoutModel",
          "model_module_version": "1.2.0",
          "state": {
            "_model_module": "@jupyter-widgets/base",
            "_model_module_version": "1.2.0",
            "_model_name": "LayoutModel",
            "_view_count": null,
            "_view_module": "@jupyter-widgets/base",
            "_view_module_version": "1.2.0",
            "_view_name": "LayoutView",
            "align_content": null,
            "align_items": null,
            "align_self": null,
            "border": null,
            "bottom": null,
            "display": null,
            "flex": null,
            "flex_flow": null,
            "grid_area": null,
            "grid_auto_columns": null,
            "grid_auto_flow": null,
            "grid_auto_rows": null,
            "grid_column": null,
            "grid_gap": null,
            "grid_row": null,
            "grid_template_areas": null,
            "grid_template_columns": null,
            "grid_template_rows": null,
            "height": null,
            "justify_content": null,
            "justify_items": null,
            "left": null,
            "margin": null,
            "max_height": null,
            "max_width": null,
            "min_height": null,
            "min_width": null,
            "object_fit": null,
            "object_position": null,
            "order": null,
            "overflow": null,
            "overflow_x": null,
            "overflow_y": null,
            "padding": null,
            "right": null,
            "top": null,
            "visibility": null,
            "width": null
          }
        },
        "29d3d3e9c7734d0996dad44306603852": {
          "model_module": "@jupyter-widgets/controls",
          "model_name": "DescriptionStyleModel",
          "model_module_version": "1.5.0",
          "state": {
            "_model_module": "@jupyter-widgets/controls",
            "_model_module_version": "1.5.0",
            "_model_name": "DescriptionStyleModel",
            "_view_count": null,
            "_view_module": "@jupyter-widgets/base",
            "_view_module_version": "1.2.0",
            "_view_name": "StyleView",
            "description_width": ""
          }
        },
        "beaa2a6d4fec4a289bc7b8ac8301b803": {
          "model_module": "@jupyter-widgets/controls",
          "model_name": "HBoxModel",
          "model_module_version": "1.5.0",
          "state": {
            "_dom_classes": [],
            "_model_module": "@jupyter-widgets/controls",
            "_model_module_version": "1.5.0",
            "_model_name": "HBoxModel",
            "_view_count": null,
            "_view_module": "@jupyter-widgets/controls",
            "_view_module_version": "1.5.0",
            "_view_name": "HBoxView",
            "box_style": "",
            "children": [
              "IPY_MODEL_7dd625ebd6db4475b56ff31d0b16be3d",
              "IPY_MODEL_3d089bea534a4982822496b9c9f17f7a",
              "IPY_MODEL_9d5df49641a74d499f56b1e52760f8de"
            ],
            "layout": "IPY_MODEL_49d405ca40d042d6b173b1c0db2e505b"
          }
        },
        "7dd625ebd6db4475b56ff31d0b16be3d": {
          "model_module": "@jupyter-widgets/controls",
          "model_name": "HTMLModel",
          "model_module_version": "1.5.0",
          "state": {
            "_dom_classes": [],
            "_model_module": "@jupyter-widgets/controls",
            "_model_module_version": "1.5.0",
            "_model_name": "HTMLModel",
            "_view_count": null,
            "_view_module": "@jupyter-widgets/controls",
            "_view_module_version": "1.5.0",
            "_view_name": "HTMLView",
            "description": "",
            "description_tooltip": null,
            "layout": "IPY_MODEL_035a1dfb098f40f0b7ba92d715b9a6e3",
            "placeholder": "​",
            "style": "IPY_MODEL_26d45a1229f1457b8198bfa74904afa5",
            "value": "Downloading: 100%"
          }
        },
        "3d089bea534a4982822496b9c9f17f7a": {
          "model_module": "@jupyter-widgets/controls",
          "model_name": "FloatProgressModel",
          "model_module_version": "1.5.0",
          "state": {
            "_dom_classes": [],
            "_model_module": "@jupyter-widgets/controls",
            "_model_module_version": "1.5.0",
            "_model_name": "FloatProgressModel",
            "_view_count": null,
            "_view_module": "@jupyter-widgets/controls",
            "_view_module_version": "1.5.0",
            "_view_name": "ProgressView",
            "bar_style": "success",
            "description": "",
            "description_tooltip": null,
            "layout": "IPY_MODEL_45e0214794e64ea9b571d789cefd04a0",
            "max": 111,
            "min": 0,
            "orientation": "horizontal",
            "style": "IPY_MODEL_ad45225f106247628ad73cad3684d550",
            "value": 111
          }
        },
        "9d5df49641a74d499f56b1e52760f8de": {
          "model_module": "@jupyter-widgets/controls",
          "model_name": "HTMLModel",
          "model_module_version": "1.5.0",
          "state": {
            "_dom_classes": [],
            "_model_module": "@jupyter-widgets/controls",
            "_model_module_version": "1.5.0",
            "_model_name": "HTMLModel",
            "_view_count": null,
            "_view_module": "@jupyter-widgets/controls",
            "_view_module_version": "1.5.0",
            "_view_name": "HTMLView",
            "description": "",
            "description_tooltip": null,
            "layout": "IPY_MODEL_1874477b9f894995a8d91d125bfad5a9",
            "placeholder": "​",
            "style": "IPY_MODEL_771f05482f5e44498344b8b5dea83370",
            "value": " 111/111 [00:00&lt;00:00, 4.34kB/s]"
          }
        },
        "49d405ca40d042d6b173b1c0db2e505b": {
          "model_module": "@jupyter-widgets/base",
          "model_name": "LayoutModel",
          "model_module_version": "1.2.0",
          "state": {
            "_model_module": "@jupyter-widgets/base",
            "_model_module_version": "1.2.0",
            "_model_name": "LayoutModel",
            "_view_count": null,
            "_view_module": "@jupyter-widgets/base",
            "_view_module_version": "1.2.0",
            "_view_name": "LayoutView",
            "align_content": null,
            "align_items": null,
            "align_self": null,
            "border": null,
            "bottom": null,
            "display": null,
            "flex": null,
            "flex_flow": null,
            "grid_area": null,
            "grid_auto_columns": null,
            "grid_auto_flow": null,
            "grid_auto_rows": null,
            "grid_column": null,
            "grid_gap": null,
            "grid_row": null,
            "grid_template_areas": null,
            "grid_template_columns": null,
            "grid_template_rows": null,
            "height": null,
            "justify_content": null,
            "justify_items": null,
            "left": null,
            "margin": null,
            "max_height": null,
            "max_width": null,
            "min_height": null,
            "min_width": null,
            "object_fit": null,
            "object_position": null,
            "order": null,
            "overflow": null,
            "overflow_x": null,
            "overflow_y": null,
            "padding": null,
            "right": null,
            "top": null,
            "visibility": null,
            "width": null
          }
        },
        "035a1dfb098f40f0b7ba92d715b9a6e3": {
          "model_module": "@jupyter-widgets/base",
          "model_name": "LayoutModel",
          "model_module_version": "1.2.0",
          "state": {
            "_model_module": "@jupyter-widgets/base",
            "_model_module_version": "1.2.0",
            "_model_name": "LayoutModel",
            "_view_count": null,
            "_view_module": "@jupyter-widgets/base",
            "_view_module_version": "1.2.0",
            "_view_name": "LayoutView",
            "align_content": null,
            "align_items": null,
            "align_self": null,
            "border": null,
            "bottom": null,
            "display": null,
            "flex": null,
            "flex_flow": null,
            "grid_area": null,
            "grid_auto_columns": null,
            "grid_auto_flow": null,
            "grid_auto_rows": null,
            "grid_column": null,
            "grid_gap": null,
            "grid_row": null,
            "grid_template_areas": null,
            "grid_template_columns": null,
            "grid_template_rows": null,
            "height": null,
            "justify_content": null,
            "justify_items": null,
            "left": null,
            "margin": null,
            "max_height": null,
            "max_width": null,
            "min_height": null,
            "min_width": null,
            "object_fit": null,
            "object_position": null,
            "order": null,
            "overflow": null,
            "overflow_x": null,
            "overflow_y": null,
            "padding": null,
            "right": null,
            "top": null,
            "visibility": null,
            "width": null
          }
        },
        "26d45a1229f1457b8198bfa74904afa5": {
          "model_module": "@jupyter-widgets/controls",
          "model_name": "DescriptionStyleModel",
          "model_module_version": "1.5.0",
          "state": {
            "_model_module": "@jupyter-widgets/controls",
            "_model_module_version": "1.5.0",
            "_model_name": "DescriptionStyleModel",
            "_view_count": null,
            "_view_module": "@jupyter-widgets/base",
            "_view_module_version": "1.2.0",
            "_view_name": "StyleView",
            "description_width": ""
          }
        },
        "45e0214794e64ea9b571d789cefd04a0": {
          "model_module": "@jupyter-widgets/base",
          "model_name": "LayoutModel",
          "model_module_version": "1.2.0",
          "state": {
            "_model_module": "@jupyter-widgets/base",
            "_model_module_version": "1.2.0",
            "_model_name": "LayoutModel",
            "_view_count": null,
            "_view_module": "@jupyter-widgets/base",
            "_view_module_version": "1.2.0",
            "_view_name": "LayoutView",
            "align_content": null,
            "align_items": null,
            "align_self": null,
            "border": null,
            "bottom": null,
            "display": null,
            "flex": null,
            "flex_flow": null,
            "grid_area": null,
            "grid_auto_columns": null,
            "grid_auto_flow": null,
            "grid_auto_rows": null,
            "grid_column": null,
            "grid_gap": null,
            "grid_row": null,
            "grid_template_areas": null,
            "grid_template_columns": null,
            "grid_template_rows": null,
            "height": null,
            "justify_content": null,
            "justify_items": null,
            "left": null,
            "margin": null,
            "max_height": null,
            "max_width": null,
            "min_height": null,
            "min_width": null,
            "object_fit": null,
            "object_position": null,
            "order": null,
            "overflow": null,
            "overflow_x": null,
            "overflow_y": null,
            "padding": null,
            "right": null,
            "top": null,
            "visibility": null,
            "width": null
          }
        },
        "ad45225f106247628ad73cad3684d550": {
          "model_module": "@jupyter-widgets/controls",
          "model_name": "ProgressStyleModel",
          "model_module_version": "1.5.0",
          "state": {
            "_model_module": "@jupyter-widgets/controls",
            "_model_module_version": "1.5.0",
            "_model_name": "ProgressStyleModel",
            "_view_count": null,
            "_view_module": "@jupyter-widgets/base",
            "_view_module_version": "1.2.0",
            "_view_name": "StyleView",
            "bar_color": null,
            "description_width": ""
          }
        },
        "1874477b9f894995a8d91d125bfad5a9": {
          "model_module": "@jupyter-widgets/base",
          "model_name": "LayoutModel",
          "model_module_version": "1.2.0",
          "state": {
            "_model_module": "@jupyter-widgets/base",
            "_model_module_version": "1.2.0",
            "_model_name": "LayoutModel",
            "_view_count": null,
            "_view_module": "@jupyter-widgets/base",
            "_view_module_version": "1.2.0",
            "_view_name": "LayoutView",
            "align_content": null,
            "align_items": null,
            "align_self": null,
            "border": null,
            "bottom": null,
            "display": null,
            "flex": null,
            "flex_flow": null,
            "grid_area": null,
            "grid_auto_columns": null,
            "grid_auto_flow": null,
            "grid_auto_rows": null,
            "grid_column": null,
            "grid_gap": null,
            "grid_row": null,
            "grid_template_areas": null,
            "grid_template_columns": null,
            "grid_template_rows": null,
            "height": null,
            "justify_content": null,
            "justify_items": null,
            "left": null,
            "margin": null,
            "max_height": null,
            "max_width": null,
            "min_height": null,
            "min_width": null,
            "object_fit": null,
            "object_position": null,
            "order": null,
            "overflow": null,
            "overflow_x": null,
            "overflow_y": null,
            "padding": null,
            "right": null,
            "top": null,
            "visibility": null,
            "width": null
          }
        },
        "771f05482f5e44498344b8b5dea83370": {
          "model_module": "@jupyter-widgets/controls",
          "model_name": "DescriptionStyleModel",
          "model_module_version": "1.5.0",
          "state": {
            "_model_module": "@jupyter-widgets/controls",
            "_model_module_version": "1.5.0",
            "_model_name": "DescriptionStyleModel",
            "_view_count": null,
            "_view_module": "@jupyter-widgets/base",
            "_view_module_version": "1.2.0",
            "_view_name": "StyleView",
            "description_width": ""
          }
        },
        "3736ab388e644a11926054b3d20b2e85": {
          "model_module": "@jupyter-widgets/controls",
          "model_name": "HBoxModel",
          "model_module_version": "1.5.0",
          "state": {
            "_dom_classes": [],
            "_model_module": "@jupyter-widgets/controls",
            "_model_module_version": "1.5.0",
            "_model_name": "HBoxModel",
            "_view_count": null,
            "_view_module": "@jupyter-widgets/controls",
            "_view_module_version": "1.5.0",
            "_view_name": "HBoxView",
            "box_style": "",
            "children": [
              "IPY_MODEL_e7950bfe43a145819abaa950d963e240",
              "IPY_MODEL_e8ebcab123844ae298e36f352d39c415",
              "IPY_MODEL_bc80400c4e824c97889ebb08fd1cefd5"
            ],
            "layout": "IPY_MODEL_f44c7f27ceb84d2c843e7881158268e8"
          }
        },
        "e7950bfe43a145819abaa950d963e240": {
          "model_module": "@jupyter-widgets/controls",
          "model_name": "HTMLModel",
          "model_module_version": "1.5.0",
          "state": {
            "_dom_classes": [],
            "_model_module": "@jupyter-widgets/controls",
            "_model_module_version": "1.5.0",
            "_model_name": "HTMLModel",
            "_view_count": null,
            "_view_module": "@jupyter-widgets/controls",
            "_view_module_version": "1.5.0",
            "_view_name": "HTMLView",
            "description": "",
            "description_tooltip": null,
            "layout": "IPY_MODEL_d241cb84c58143e2baf9fbfa7a4870aa",
            "placeholder": "​",
            "style": "IPY_MODEL_7d8810df6c9e4593b74dc769d75c8bf9",
            "value": "Downloading: 100%"
          }
        },
        "e8ebcab123844ae298e36f352d39c415": {
          "model_module": "@jupyter-widgets/controls",
          "model_name": "FloatProgressModel",
          "model_module_version": "1.5.0",
          "state": {
            "_dom_classes": [],
            "_model_module": "@jupyter-widgets/controls",
            "_model_module_version": "1.5.0",
            "_model_name": "FloatProgressModel",
            "_view_count": null,
            "_view_module": "@jupyter-widgets/controls",
            "_view_module_version": "1.5.0",
            "_view_name": "ProgressView",
            "bar_style": "success",
            "description": "",
            "description_tooltip": null,
            "layout": "IPY_MODEL_b3cb0c11c43c42b494381d0810bc86f2",
            "max": 682152,
            "min": 0,
            "orientation": "horizontal",
            "style": "IPY_MODEL_2e1998d0a51b4e2f8c1b4d81c4754c68",
            "value": 682152
          }
        },
        "bc80400c4e824c97889ebb08fd1cefd5": {
          "model_module": "@jupyter-widgets/controls",
          "model_name": "HTMLModel",
          "model_module_version": "1.5.0",
          "state": {
            "_dom_classes": [],
            "_model_module": "@jupyter-widgets/controls",
            "_model_module_version": "1.5.0",
            "_model_name": "HTMLModel",
            "_view_count": null,
            "_view_module": "@jupyter-widgets/controls",
            "_view_module_version": "1.5.0",
            "_view_name": "HTMLView",
            "description": "",
            "description_tooltip": null,
            "layout": "IPY_MODEL_c6126733aa514d3a9f204a0d14840867",
            "placeholder": "​",
            "style": "IPY_MODEL_a014b489576a42afa5a52c813163179d",
            "value": " 666k/666k [00:00&lt;00:00, 971kB/s]"
          }
        },
        "f44c7f27ceb84d2c843e7881158268e8": {
          "model_module": "@jupyter-widgets/base",
          "model_name": "LayoutModel",
          "model_module_version": "1.2.0",
          "state": {
            "_model_module": "@jupyter-widgets/base",
            "_model_module_version": "1.2.0",
            "_model_name": "LayoutModel",
            "_view_count": null,
            "_view_module": "@jupyter-widgets/base",
            "_view_module_version": "1.2.0",
            "_view_name": "LayoutView",
            "align_content": null,
            "align_items": null,
            "align_self": null,
            "border": null,
            "bottom": null,
            "display": null,
            "flex": null,
            "flex_flow": null,
            "grid_area": null,
            "grid_auto_columns": null,
            "grid_auto_flow": null,
            "grid_auto_rows": null,
            "grid_column": null,
            "grid_gap": null,
            "grid_row": null,
            "grid_template_areas": null,
            "grid_template_columns": null,
            "grid_template_rows": null,
            "height": null,
            "justify_content": null,
            "justify_items": null,
            "left": null,
            "margin": null,
            "max_height": null,
            "max_width": null,
            "min_height": null,
            "min_width": null,
            "object_fit": null,
            "object_position": null,
            "order": null,
            "overflow": null,
            "overflow_x": null,
            "overflow_y": null,
            "padding": null,
            "right": null,
            "top": null,
            "visibility": null,
            "width": null
          }
        },
        "d241cb84c58143e2baf9fbfa7a4870aa": {
          "model_module": "@jupyter-widgets/base",
          "model_name": "LayoutModel",
          "model_module_version": "1.2.0",
          "state": {
            "_model_module": "@jupyter-widgets/base",
            "_model_module_version": "1.2.0",
            "_model_name": "LayoutModel",
            "_view_count": null,
            "_view_module": "@jupyter-widgets/base",
            "_view_module_version": "1.2.0",
            "_view_name": "LayoutView",
            "align_content": null,
            "align_items": null,
            "align_self": null,
            "border": null,
            "bottom": null,
            "display": null,
            "flex": null,
            "flex_flow": null,
            "grid_area": null,
            "grid_auto_columns": null,
            "grid_auto_flow": null,
            "grid_auto_rows": null,
            "grid_column": null,
            "grid_gap": null,
            "grid_row": null,
            "grid_template_areas": null,
            "grid_template_columns": null,
            "grid_template_rows": null,
            "height": null,
            "justify_content": null,
            "justify_items": null,
            "left": null,
            "margin": null,
            "max_height": null,
            "max_width": null,
            "min_height": null,
            "min_width": null,
            "object_fit": null,
            "object_position": null,
            "order": null,
            "overflow": null,
            "overflow_x": null,
            "overflow_y": null,
            "padding": null,
            "right": null,
            "top": null,
            "visibility": null,
            "width": null
          }
        },
        "7d8810df6c9e4593b74dc769d75c8bf9": {
          "model_module": "@jupyter-widgets/controls",
          "model_name": "DescriptionStyleModel",
          "model_module_version": "1.5.0",
          "state": {
            "_model_module": "@jupyter-widgets/controls",
            "_model_module_version": "1.5.0",
            "_model_name": "DescriptionStyleModel",
            "_view_count": null,
            "_view_module": "@jupyter-widgets/base",
            "_view_module_version": "1.2.0",
            "_view_name": "StyleView",
            "description_width": ""
          }
        },
        "b3cb0c11c43c42b494381d0810bc86f2": {
          "model_module": "@jupyter-widgets/base",
          "model_name": "LayoutModel",
          "model_module_version": "1.2.0",
          "state": {
            "_model_module": "@jupyter-widgets/base",
            "_model_module_version": "1.2.0",
            "_model_name": "LayoutModel",
            "_view_count": null,
            "_view_module": "@jupyter-widgets/base",
            "_view_module_version": "1.2.0",
            "_view_name": "LayoutView",
            "align_content": null,
            "align_items": null,
            "align_self": null,
            "border": null,
            "bottom": null,
            "display": null,
            "flex": null,
            "flex_flow": null,
            "grid_area": null,
            "grid_auto_columns": null,
            "grid_auto_flow": null,
            "grid_auto_rows": null,
            "grid_column": null,
            "grid_gap": null,
            "grid_row": null,
            "grid_template_areas": null,
            "grid_template_columns": null,
            "grid_template_rows": null,
            "height": null,
            "justify_content": null,
            "justify_items": null,
            "left": null,
            "margin": null,
            "max_height": null,
            "max_width": null,
            "min_height": null,
            "min_width": null,
            "object_fit": null,
            "object_position": null,
            "order": null,
            "overflow": null,
            "overflow_x": null,
            "overflow_y": null,
            "padding": null,
            "right": null,
            "top": null,
            "visibility": null,
            "width": null
          }
        },
        "2e1998d0a51b4e2f8c1b4d81c4754c68": {
          "model_module": "@jupyter-widgets/controls",
          "model_name": "ProgressStyleModel",
          "model_module_version": "1.5.0",
          "state": {
            "_model_module": "@jupyter-widgets/controls",
            "_model_module_version": "1.5.0",
            "_model_name": "ProgressStyleModel",
            "_view_count": null,
            "_view_module": "@jupyter-widgets/base",
            "_view_module_version": "1.2.0",
            "_view_name": "StyleView",
            "bar_color": null,
            "description_width": ""
          }
        },
        "c6126733aa514d3a9f204a0d14840867": {
          "model_module": "@jupyter-widgets/base",
          "model_name": "LayoutModel",
          "model_module_version": "1.2.0",
          "state": {
            "_model_module": "@jupyter-widgets/base",
            "_model_module_version": "1.2.0",
            "_model_name": "LayoutModel",
            "_view_count": null,
            "_view_module": "@jupyter-widgets/base",
            "_view_module_version": "1.2.0",
            "_view_name": "LayoutView",
            "align_content": null,
            "align_items": null,
            "align_self": null,
            "border": null,
            "bottom": null,
            "display": null,
            "flex": null,
            "flex_flow": null,
            "grid_area": null,
            "grid_auto_columns": null,
            "grid_auto_flow": null,
            "grid_auto_rows": null,
            "grid_column": null,
            "grid_gap": null,
            "grid_row": null,
            "grid_template_areas": null,
            "grid_template_columns": null,
            "grid_template_rows": null,
            "height": null,
            "justify_content": null,
            "justify_items": null,
            "left": null,
            "margin": null,
            "max_height": null,
            "max_width": null,
            "min_height": null,
            "min_width": null,
            "object_fit": null,
            "object_position": null,
            "order": null,
            "overflow": null,
            "overflow_x": null,
            "overflow_y": null,
            "padding": null,
            "right": null,
            "top": null,
            "visibility": null,
            "width": null
          }
        },
        "a014b489576a42afa5a52c813163179d": {
          "model_module": "@jupyter-widgets/controls",
          "model_name": "DescriptionStyleModel",
          "model_module_version": "1.5.0",
          "state": {
            "_model_module": "@jupyter-widgets/controls",
            "_model_module_version": "1.5.0",
            "_model_name": "DescriptionStyleModel",
            "_view_count": null,
            "_view_module": "@jupyter-widgets/base",
            "_view_module_version": "1.2.0",
            "_view_name": "StyleView",
            "description_width": ""
          }
        },
        "d05327aad3214862be200c122e4cc10b": {
          "model_module": "@jupyter-widgets/controls",
          "model_name": "HBoxModel",
          "model_module_version": "1.5.0",
          "state": {
            "_dom_classes": [],
            "_model_module": "@jupyter-widgets/controls",
            "_model_module_version": "1.5.0",
            "_model_name": "HBoxModel",
            "_view_count": null,
            "_view_module": "@jupyter-widgets/controls",
            "_view_module_version": "1.5.0",
            "_view_name": "HBoxView",
            "box_style": "",
            "children": [
              "IPY_MODEL_43d3c3bee6354fcfb3744471ba86c418",
              "IPY_MODEL_46669a5846da4d92b8ad66d062d3005a",
              "IPY_MODEL_a1db3c826fbe41a29bf1b4cd89df43cf"
            ],
            "layout": "IPY_MODEL_c33e31c4e3b5463594338ff1c98b6480"
          }
        },
        "43d3c3bee6354fcfb3744471ba86c418": {
          "model_module": "@jupyter-widgets/controls",
          "model_name": "HTMLModel",
          "model_module_version": "1.5.0",
          "state": {
            "_dom_classes": [],
            "_model_module": "@jupyter-widgets/controls",
            "_model_module_version": "1.5.0",
            "_model_name": "HTMLModel",
            "_view_count": null,
            "_view_module": "@jupyter-widgets/controls",
            "_view_module_version": "1.5.0",
            "_view_name": "HTMLView",
            "description": "",
            "description_tooltip": null,
            "layout": "IPY_MODEL_380bdbe6093b4506b33c7ac19401e6ab",
            "placeholder": "​",
            "style": "IPY_MODEL_3b9e13fe1b1b4ee1b70dcf3b1f268f0b",
            "value": "Downloading: 100%"
          }
        },
        "46669a5846da4d92b8ad66d062d3005a": {
          "model_module": "@jupyter-widgets/controls",
          "model_name": "FloatProgressModel",
          "model_module_version": "1.5.0",
          "state": {
            "_dom_classes": [],
            "_model_module": "@jupyter-widgets/controls",
            "_model_module_version": "1.5.0",
            "_model_name": "FloatProgressModel",
            "_view_count": null,
            "_view_module": "@jupyter-widgets/controls",
            "_view_module_version": "1.5.0",
            "_view_name": "ProgressView",
            "bar_style": "success",
            "description": "",
            "description_tooltip": null,
            "layout": "IPY_MODEL_e4c7f5bcbc83464aa55a3c8738808dab",
            "max": 1178,
            "min": 0,
            "orientation": "horizontal",
            "style": "IPY_MODEL_3285eaf5c9d045ce9e20841080124b37",
            "value": 1178
          }
        },
        "a1db3c826fbe41a29bf1b4cd89df43cf": {
          "model_module": "@jupyter-widgets/controls",
          "model_name": "HTMLModel",
          "model_module_version": "1.5.0",
          "state": {
            "_dom_classes": [],
            "_model_module": "@jupyter-widgets/controls",
            "_model_module_version": "1.5.0",
            "_model_name": "HTMLModel",
            "_view_count": null,
            "_view_module": "@jupyter-widgets/controls",
            "_view_module_version": "1.5.0",
            "_view_name": "HTMLView",
            "description": "",
            "description_tooltip": null,
            "layout": "IPY_MODEL_3ac13f73dc304922a76056f892578024",
            "placeholder": "​",
            "style": "IPY_MODEL_38f1442e1b4741e48ac88000b6d7e621",
            "value": " 1.15k/1.15k [00:00&lt;00:00, 31.0kB/s]"
          }
        },
        "c33e31c4e3b5463594338ff1c98b6480": {
          "model_module": "@jupyter-widgets/base",
          "model_name": "LayoutModel",
          "model_module_version": "1.2.0",
          "state": {
            "_model_module": "@jupyter-widgets/base",
            "_model_module_version": "1.2.0",
            "_model_name": "LayoutModel",
            "_view_count": null,
            "_view_module": "@jupyter-widgets/base",
            "_view_module_version": "1.2.0",
            "_view_name": "LayoutView",
            "align_content": null,
            "align_items": null,
            "align_self": null,
            "border": null,
            "bottom": null,
            "display": null,
            "flex": null,
            "flex_flow": null,
            "grid_area": null,
            "grid_auto_columns": null,
            "grid_auto_flow": null,
            "grid_auto_rows": null,
            "grid_column": null,
            "grid_gap": null,
            "grid_row": null,
            "grid_template_areas": null,
            "grid_template_columns": null,
            "grid_template_rows": null,
            "height": null,
            "justify_content": null,
            "justify_items": null,
            "left": null,
            "margin": null,
            "max_height": null,
            "max_width": null,
            "min_height": null,
            "min_width": null,
            "object_fit": null,
            "object_position": null,
            "order": null,
            "overflow": null,
            "overflow_x": null,
            "overflow_y": null,
            "padding": null,
            "right": null,
            "top": null,
            "visibility": null,
            "width": null
          }
        },
        "380bdbe6093b4506b33c7ac19401e6ab": {
          "model_module": "@jupyter-widgets/base",
          "model_name": "LayoutModel",
          "model_module_version": "1.2.0",
          "state": {
            "_model_module": "@jupyter-widgets/base",
            "_model_module_version": "1.2.0",
            "_model_name": "LayoutModel",
            "_view_count": null,
            "_view_module": "@jupyter-widgets/base",
            "_view_module_version": "1.2.0",
            "_view_name": "LayoutView",
            "align_content": null,
            "align_items": null,
            "align_self": null,
            "border": null,
            "bottom": null,
            "display": null,
            "flex": null,
            "flex_flow": null,
            "grid_area": null,
            "grid_auto_columns": null,
            "grid_auto_flow": null,
            "grid_auto_rows": null,
            "grid_column": null,
            "grid_gap": null,
            "grid_row": null,
            "grid_template_areas": null,
            "grid_template_columns": null,
            "grid_template_rows": null,
            "height": null,
            "justify_content": null,
            "justify_items": null,
            "left": null,
            "margin": null,
            "max_height": null,
            "max_width": null,
            "min_height": null,
            "min_width": null,
            "object_fit": null,
            "object_position": null,
            "order": null,
            "overflow": null,
            "overflow_x": null,
            "overflow_y": null,
            "padding": null,
            "right": null,
            "top": null,
            "visibility": null,
            "width": null
          }
        },
        "3b9e13fe1b1b4ee1b70dcf3b1f268f0b": {
          "model_module": "@jupyter-widgets/controls",
          "model_name": "DescriptionStyleModel",
          "model_module_version": "1.5.0",
          "state": {
            "_model_module": "@jupyter-widgets/controls",
            "_model_module_version": "1.5.0",
            "_model_name": "DescriptionStyleModel",
            "_view_count": null,
            "_view_module": "@jupyter-widgets/base",
            "_view_module_version": "1.2.0",
            "_view_name": "StyleView",
            "description_width": ""
          }
        },
        "e4c7f5bcbc83464aa55a3c8738808dab": {
          "model_module": "@jupyter-widgets/base",
          "model_name": "LayoutModel",
          "model_module_version": "1.2.0",
          "state": {
            "_model_module": "@jupyter-widgets/base",
            "_model_module_version": "1.2.0",
            "_model_name": "LayoutModel",
            "_view_count": null,
            "_view_module": "@jupyter-widgets/base",
            "_view_module_version": "1.2.0",
            "_view_name": "LayoutView",
            "align_content": null,
            "align_items": null,
            "align_self": null,
            "border": null,
            "bottom": null,
            "display": null,
            "flex": null,
            "flex_flow": null,
            "grid_area": null,
            "grid_auto_columns": null,
            "grid_auto_flow": null,
            "grid_auto_rows": null,
            "grid_column": null,
            "grid_gap": null,
            "grid_row": null,
            "grid_template_areas": null,
            "grid_template_columns": null,
            "grid_template_rows": null,
            "height": null,
            "justify_content": null,
            "justify_items": null,
            "left": null,
            "margin": null,
            "max_height": null,
            "max_width": null,
            "min_height": null,
            "min_width": null,
            "object_fit": null,
            "object_position": null,
            "order": null,
            "overflow": null,
            "overflow_x": null,
            "overflow_y": null,
            "padding": null,
            "right": null,
            "top": null,
            "visibility": null,
            "width": null
          }
        },
        "3285eaf5c9d045ce9e20841080124b37": {
          "model_module": "@jupyter-widgets/controls",
          "model_name": "ProgressStyleModel",
          "model_module_version": "1.5.0",
          "state": {
            "_model_module": "@jupyter-widgets/controls",
            "_model_module_version": "1.5.0",
            "_model_name": "ProgressStyleModel",
            "_view_count": null,
            "_view_module": "@jupyter-widgets/base",
            "_view_module_version": "1.2.0",
            "_view_name": "StyleView",
            "bar_color": null,
            "description_width": ""
          }
        },
        "3ac13f73dc304922a76056f892578024": {
          "model_module": "@jupyter-widgets/base",
          "model_name": "LayoutModel",
          "model_module_version": "1.2.0",
          "state": {
            "_model_module": "@jupyter-widgets/base",
            "_model_module_version": "1.2.0",
            "_model_name": "LayoutModel",
            "_view_count": null,
            "_view_module": "@jupyter-widgets/base",
            "_view_module_version": "1.2.0",
            "_view_name": "LayoutView",
            "align_content": null,
            "align_items": null,
            "align_self": null,
            "border": null,
            "bottom": null,
            "display": null,
            "flex": null,
            "flex_flow": null,
            "grid_area": null,
            "grid_auto_columns": null,
            "grid_auto_flow": null,
            "grid_auto_rows": null,
            "grid_column": null,
            "grid_gap": null,
            "grid_row": null,
            "grid_template_areas": null,
            "grid_template_columns": null,
            "grid_template_rows": null,
            "height": null,
            "justify_content": null,
            "justify_items": null,
            "left": null,
            "margin": null,
            "max_height": null,
            "max_width": null,
            "min_height": null,
            "min_width": null,
            "object_fit": null,
            "object_position": null,
            "order": null,
            "overflow": null,
            "overflow_x": null,
            "overflow_y": null,
            "padding": null,
            "right": null,
            "top": null,
            "visibility": null,
            "width": null
          }
        },
        "38f1442e1b4741e48ac88000b6d7e621": {
          "model_module": "@jupyter-widgets/controls",
          "model_name": "DescriptionStyleModel",
          "model_module_version": "1.5.0",
          "state": {
            "_model_module": "@jupyter-widgets/controls",
            "_model_module_version": "1.5.0",
            "_model_name": "DescriptionStyleModel",
            "_view_count": null,
            "_view_module": "@jupyter-widgets/base",
            "_view_module_version": "1.2.0",
            "_view_name": "StyleView",
            "description_width": ""
          }
        }
      }
    }
  },
  "nbformat": 4,
  "nbformat_minor": 0
}